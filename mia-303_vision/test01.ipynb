{
 "cells": [
  {
   "cell_type": "code",
   "execution_count": 2,
   "id": "bc6a7649",
   "metadata": {},
   "outputs": [
    {
     "name": "stdout",
     "output_type": "stream",
     "text": [
      "Duración: 33.8 segundos\n",
      "Bitrate de video: 3711 kbps\n",
      "Bitrate de audio: 131 kbps\n"
     ]
    },
    {
     "name": "stderr",
     "output_type": "stream",
     "text": [
      "ffmpeg version 6.1.1-3ubuntu5 Copyright (c) 2000-2023 the FFmpeg developers\n",
      "  built with gcc 13 (Ubuntu 13.2.0-23ubuntu3)\n",
      "  configuration: --prefix=/usr --extra-version=3ubuntu5 --toolchain=hardened --libdir=/usr/lib/x86_64-linux-gnu --incdir=/usr/include/x86_64-linux-gnu --arch=amd64 --enable-gpl --disable-stripping --disable-omx --enable-gnutls --enable-libaom --enable-libass --enable-libbs2b --enable-libcaca --enable-libcdio --enable-libcodec2 --enable-libdav1d --enable-libflite --enable-libfontconfig --enable-libfreetype --enable-libfribidi --enable-libglslang --enable-libgme --enable-libgsm --enable-libharfbuzz --enable-libmp3lame --enable-libmysofa --enable-libopenjpeg --enable-libopenmpt --enable-libopus --enable-librubberband --enable-libshine --enable-libsnappy --enable-libsoxr --enable-libspeex --enable-libtheora --enable-libtwolame --enable-libvidstab --enable-libvorbis --enable-libvpx --enable-libwebp --enable-libx265 --enable-libxml2 --enable-libxvid --enable-libzimg --enable-openal --enable-opencl --enable-opengl --disable-sndio --enable-libvpl --disable-libmfx --enable-libdc1394 --enable-libdrm --enable-libiec61883 --enable-chromaprint --enable-frei0r --enable-ladspa --enable-libbluray --enable-libjack --enable-libpulse --enable-librabbitmq --enable-librist --enable-libsrt --enable-libssh --enable-libsvtav1 --enable-libx264 --enable-libzmq --enable-libzvbi --enable-lv2 --enable-sdl2 --enable-libplacebo --enable-librav1e --enable-pocketsphinx --enable-librsvg --enable-libjxl --enable-shared\n",
      "  libavutil      58. 29.100 / 58. 29.100\n",
      "  libavcodec     60. 31.102 / 60. 31.102\n",
      "  libavformat    60. 16.100 / 60. 16.100\n",
      "  libavdevice    60.  3.100 / 60.  3.100\n",
      "  libavfilter     9. 12.100 /  9. 12.100\n",
      "  libswscale      7.  5.100 /  7.  5.100\n",
      "  libswresample   4. 12.100 /  4. 12.100\n",
      "  libpostproc    57.  3.100 / 57.  3.100\n",
      "Input #0, mov,mp4,m4a,3gp,3g2,mj2, from 'video.mp4':\n",
      "  Metadata:\n",
      "    major_brand     : mp42\n",
      "    minor_version   : 0\n",
      "    compatible_brands: mp42mp41\n",
      "    creation_time   : 2025-05-29T22:50:06.000000Z\n",
      "  Duration: 00:00:33.83, start: 0.000000, bitrate: 37440 kb/s\n",
      "  Stream #0:0[0x1](eng): Video: hevc (Main) (hvc1 / 0x31637668), yuv420p(tv, bt709), 1920x1080 [SAR 1:1 DAR 16:9], 37111 kb/s, 59.94 fps, 59.94 tbr, 60k tbn (default)\n",
      "    Metadata:\n",
      "      creation_time   : 2025-05-29T22:50:06.000000Z\n",
      "      handler_name    : ?Mainconcept Video Media Handler\n",
      "      vendor_id       : [0][0][0][0]\n",
      "      encoder         : HEVC Coding\n",
      "  Stream #0:1[0x2](eng): Audio: aac (LC) (mp4a / 0x6134706D), 48000 Hz, stereo, fltp, 317 kb/s (default)\n",
      "    Metadata:\n",
      "      creation_time   : 2025-05-29T22:50:06.000000Z\n",
      "      handler_name    : #Mainconcept MP4 Sound Media Handler\n",
      "      vendor_id       : [0][0][0][0]\n",
      "Stream mapping:\n",
      "  Stream #0:0 -> #0:0 (hevc (native) -> h264 (libx264))\n",
      "  Stream #0:1 -> #0:1 (copy)\n",
      "Press [q] to stop, [?] for help\n",
      "[libx264 @ 0x55aded637540] using SAR=1/1\n",
      "[libx264 @ 0x55aded637540] using cpu capabilities: MMX2 SSE2Fast SSSE3 SSE4.2 AVX FMA3 BMI2 AVX2\n",
      "[libx264 @ 0x55aded637540] profile High, level 4.2, 4:2:0, 8-bit\n",
      "[libx264 @ 0x55aded637540] 264 - core 164 r3108 31e19f9 - H.264/MPEG-4 AVC codec - Copyleft 2003-2023 - http://www.videolan.org/x264.html - options: cabac=1 ref=1 deblock=1:0:0 analyse=0x3:0x113 me=hex subme=2 psy=1 psy_rd=1.00:0.00 mixed_ref=0 me_range=16 chroma_me=1 trellis=0 8x8dct=1 cqm=0 deadzone=21,11 fast_pskip=1 chroma_qp_offset=0 threads=30 lookahead_threads=8 sliced_threads=0 nr=0 decimate=1 interlaced=0 bluray_compat=0 constrained_intra=0 bframes=3 b_pyramid=2 b_adapt=1 b_bias=0 direct=1 weightb=1 open_gop=0 weightp=1 keyint=250 keyint_min=25 scenecut=40 intra_refresh=0 rc_lookahead=10 rc=abr mbtree=1 bitrate=3711 ratetol=1.0 qcomp=0.60 qpmin=0 qpmax=69 qpstep=4 ip_ratio=1.40 aq=1:1.00\n",
      "Output #0, mp4, to 'video_reducido.mp4':\n",
      "  Metadata:\n",
      "    major_brand     : mp42\n",
      "    minor_version   : 0\n",
      "    compatible_brands: mp42mp41\n",
      "    encoder         : Lavf60.16.100\n",
      "  Stream #0:0(eng): Video: h264 (avc1 / 0x31637661), yuv420p(tv, bt709, progressive), 1920x1080 [SAR 1:1 DAR 16:9], q=2-31, 3711 kb/s, 59.94 fps, 60k tbn (default)\n",
      "    Metadata:\n",
      "      creation_time   : 2025-05-29T22:50:06.000000Z\n",
      "      handler_name    : ?Mainconcept Video Media Handler\n",
      "      vendor_id       : [0][0][0][0]\n",
      "      encoder         : Lavc60.31.102 libx264\n",
      "    Side data:\n",
      "      cpb: bitrate max/min/avg: 0/0/3711000 buffer size: 0 vbv_delay: N/A\n",
      "  Stream #0:1(eng): Audio: aac (LC) (mp4a / 0x6134706D), 48000 Hz, stereo, fltp, 128 kb/s (default)\n",
      "    Metadata:\n",
      "      creation_time   : 2025-05-29T22:50:06.000000Z\n",
      "      handler_name    : #Mainconcept MP4 Sound Media Handler\n",
      "      vendor_id       : [0][0][0][0]\n",
      "frame= 1861 fps=216 q=28.0 size=   14080kB time=00:00:31.87 bitrate=3619.0kbits/s speed= 3.7x    \r"
     ]
    },
    {
     "name": "stdout",
     "output_type": "stream",
     "text": [
      "¡Video comprimido a aproximadamente 15.5 MB!\n"
     ]
    },
    {
     "name": "stderr",
     "output_type": "stream",
     "text": [
      "[out#0/mp4 @ 0x55aded5d81c0] video:13011kB audio:1310kB subtitle:0kB other streams:0kB global headers:0kB muxing overhead: 0.376617%\n",
      "frame= 2028 fps=226 q=-1.0 Lsize=   14375kB time=00:00:33.81 bitrate=3482.7kbits/s speed=3.77x    \n",
      "[libx264 @ 0x55aded637540] frame I:18    Avg QP:20.20  size: 99949\n",
      "[libx264 @ 0x55aded637540] frame P:549   Avg QP:22.70  size: 13821\n",
      "[libx264 @ 0x55aded637540] frame B:1461  Avg QP:23.59  size:  2694\n",
      "[libx264 @ 0x55aded637540] consecutive B-frames:  3.3%  1.5%  1.8% 93.5%\n",
      "[libx264 @ 0x55aded637540] mb I  I16..4: 37.0% 37.3% 25.8%\n",
      "[libx264 @ 0x55aded637540] mb P  I16..4:  6.1%  4.8%  0.7%  P16..4: 16.2%  5.5%  2.4%  0.0%  0.0%    skip:64.3%\n",
      "[libx264 @ 0x55aded637540] mb B  I16..4:  0.7%  0.3%  0.0%  B16..8:  3.8%  1.2%  0.2%  direct: 4.1%  skip:89.7%  L0:34.3% L1:50.2% BI:15.5%\n",
      "[libx264 @ 0x55aded637540] final ratefactor: 20.75\n",
      "[libx264 @ 0x55aded637540] 8x8 transform intra:39.2% inter:33.5%\n",
      "[libx264 @ 0x55aded637540] coded y,uvDC,uvAC intra: 30.2% 40.6% 14.8% inter: 2.0% 5.0% 0.1%\n",
      "[libx264 @ 0x55aded637540] i16 v,h,dc,p: 66% 17% 10%  7%\n",
      "[libx264 @ 0x55aded637540] i8 v,h,dc,ddl,ddr,vr,hd,vl,hu: 25% 15% 31%  4%  5%  6%  5%  5%  4%\n",
      "[libx264 @ 0x55aded637540] i4 v,h,dc,ddl,ddr,vr,hd,vl,hu: 35% 11% 12%  7%  7%  9%  6%  8%  5%\n",
      "[libx264 @ 0x55aded637540] i8c dc,h,v,p: 59% 17% 20%  4%\n",
      "[libx264 @ 0x55aded637540] Weighted P-Frames: Y:7.8% UV:7.1%\n",
      "[libx264 @ 0x55aded637540] kb/s:3150.12\n"
     ]
    }
   ],
   "source": [
    "import ffmpeg\n",
    "import subprocess\n",
    "\n",
    "def get_duration(filename):\n",
    "    \"\"\"Devuelve la duración en segundos usando ffprobe.\"\"\"\n",
    "    result = subprocess.run(\n",
    "        ['ffprobe', '-v', 'error', '-show_entries', 'format=duration',\n",
    "         '-of', 'default=noprint_wrappers=1:nokey=1', filename],\n",
    "        stdout=subprocess.PIPE,\n",
    "        stderr=subprocess.STDOUT)\n",
    "    return float(result.stdout)\n",
    "\n",
    "def reduce_video_size(input_video, output_video, target_size_mb):\n",
    "    duration = get_duration(input_video)\n",
    "    # Tamaño deseado en bits\n",
    "    target_size_bits = target_size_mb * 8 * 1024 * 1024\n",
    "    # Reserva un poco para el audio (~128 kbps)\n",
    "    audio_bitrate = 128 * 1024\n",
    "    # Bitrate total objetivo (en bits por segundo)\n",
    "    total_bitrate = int((target_size_bits / duration) - audio_bitrate)\n",
    "    if total_bitrate < 100_000:\n",
    "        raise ValueError(\"El tamaño objetivo es demasiado pequeño para mantener una calidad aceptable.\")\n",
    "\n",
    "    print(f\"Duración: {duration:.1f} segundos\")\n",
    "    print(f\"Bitrate de video: {total_bitrate // 1000} kbps\")\n",
    "    print(f\"Bitrate de audio: {audio_bitrate // 1000} kbps\")\n",
    "\n",
    "    ffmpeg.input(input_video)\\\n",
    "        .output(output_video,\n",
    "                vcodec='libx264',\n",
    "                video_bitrate=total_bitrate,\n",
    "                acodec='copy',\n",
    "                audio_bitrate='128k',\n",
    "                preset='veryfast')\\\n",
    "        .run(overwrite_output=True)\n",
    "\n",
    "    print(f\"¡Video comprimido a aproximadamente {target_size_mb} MB!\")\n",
    "\n",
    "# --- USO ---\n",
    "reduce_video_size('video.mp4', 'video_reducido.mp4', target_size_mb=15.5)\n"
   ]
  }
 ],
 "metadata": {
  "kernelspec": {
   "display_name": ".venv",
   "language": "python",
   "name": "python3"
  },
  "language_info": {
   "codemirror_mode": {
    "name": "ipython",
    "version": 3
   },
   "file_extension": ".py",
   "mimetype": "text/x-python",
   "name": "python",
   "nbconvert_exporter": "python",
   "pygments_lexer": "ipython3",
   "version": "3.12.3"
  }
 },
 "nbformat": 4,
 "nbformat_minor": 5
}
