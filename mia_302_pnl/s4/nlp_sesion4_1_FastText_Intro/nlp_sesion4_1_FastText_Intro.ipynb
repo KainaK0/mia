{
 "cells": [
  {
   "cell_type": "markdown",
   "id": "067f9282-4c82-4d4b-98f9-93b2028b6535",
   "metadata": {
    "tags": []
   },
   "source": [
    "# <span style=\"color:red\"><center>Introducción a FastText</center></span>"
   ]
  },
  {
   "cell_type": "markdown",
   "id": "6dd985de-295f-43a5-84ae-976f47a40f2b",
   "metadata": {},
   "source": [
    "## <span style=\"color:blue\">Contenido</span>"
   ]
  },
  {
   "cell_type": "markdown",
   "id": "48a52b8a-4b57-45b2-92be-3eb2ab1babbd",
   "metadata": {},
   "source": [
    "* [Introducción](#Introducción)\n",
    "* [Instalación](#Instalación)\n",
    "* [Modelo No Supervisado](#Modelo-No-Suervisado)\n",
    "    * [Uso del Modelo (Toy Example)](#Uso-del-Modelo-\\(Toy-Example\\))\n",
    "        * [Jugando con los Parámetros](#Jugando-con-los-Parámetros)\n",
    "        * [Palabras vecinas más cercanas](#Palabras-vecinas-más-cercanas)\n",
    "    * [Uso del Modelo (Wikipedia)](#Uso-del-Modelo-(Wikipedia))\n",
    "        * [Preprocesamiento](#Preprocesamiento)\n",
    "        * [Entrenando el Modelo](#Entrenando-el-Modelo)\n",
    "        * [Palabras más cercanas](#Palabras-más-cercanas)\n",
    "        * [Curiosidades](#Curiosidades)\n",
    "        * [Analogía de Palabras](#Analogía-de-Palabras)\n",
    "* [Modelo Supervisado](#Modelo-Supervisado)\n",
    "    * [Uso del Modelo](#Uso-del-Modelo)\n",
    "    * [Mejorando el Modelo](#Mejorando-el-Modelo)\n",
    "    * [Autotuning de Parámtros](#Autotuning-de-Parámetros)"
   ]
  },
  {
   "cell_type": "markdown",
   "id": "116cd36d-400d-4d95-a4d2-2f75f440b48f",
   "metadata": {},
   "source": [
    "## <span style=\"color:blue\">Introducción</span>"
   ]
  },
  {
   "cell_type": "markdown",
   "id": "7aed1d13-ba1b-4290-b47f-7ccd527a182f",
   "metadata": {},
   "source": [
    "El modelo [FastText](https://fasttext.cc/) fue introducido por primera vez por Facebook en 2016 como una extensión y supuestamente una mejora del modelo vainilla de Word2Vec. \n",
    "\n",
    "Está basado en el artículo original titulado [Enriching Word Vectors with Subword Information](https://arxiv.org/pdf/1607.04606.pdf) de Mikolov et al. que es una lectura excelente para obtener una comprensión profunda de cómo funciona este modelo. En general, FastText es un marco para el aprendizaje de representaciones de palabras y también para realizar una clasificación de texto sólida, rápida y precisa. \n",
    "\n",
    "El marco es de código abierto de Facebook en GitHub y afirma tener lo siguiente.\n",
    "\n",
    "1. Vectores de palabras en inglés de última generación.\n",
    "2. Vectores de palabras para 157 idiomas entrenados en Wikipedia y rastreo.\n",
    "3. Modelos para identificación de idiomas y diversas tareas supervisadas.\n",
    "\n",
    "De acuedo con los autores,  en general, los modelos predictivos como el modelo *Word2Vec* suelen considerar cada palabra como una entidad distinta (por ejemplo, dónde) y generan una incrustación densa para la palabra. \n",
    "\n",
    "Sin embargo, esto representa una seria limitación con los idiomas que tienen un vocabulario masivo y muchas palabras raras que pueden no aparecer mucho en diferentes corpus. El modelo Word2Vec normalmente ignora la estructura morfológica de cada palabra y considera una palabra como una sola entidad. \n",
    "\n",
    "El modelo **FastText** considera cada palabra como una bolsa de n-gramas de caracteres. Esto también se denomina modelo de subpalabras en el documento.\n",
    "\n",
    "\n",
    "Se agregan símbolos de límites especiales <y> al principio y al final de las palabras. Esto  permite distinguir prefijos y sufijos de otras secuencias de caracteres. También incluiyen la propia palabra *w* en el conjunto de sus n-gramas, para aprender una representación de cada palabra (además de su carácter n-gramas). \n",
    "    \n",
    "    \n",
    "Tomando la palabra *where* y n = 3 (tri-gramas) como ejemplo, estará representada por el carácter n-gramas: <wh, whe, her, ere, re> y la secuencia especial <where> que representa la palabra completa . \n",
    "    \n",
    " Tenga en cuenta que la secuencia, correspondiente a la palabra <her> es diferente del trigrama ella de la palabra where.\n",
    "    \n",
    "En la práctica, el artículo recomienda extraer todos los n-gramas para $3\\le n \\le 6$ Este es un enfoque muy simple, y se podrían considerar diferentes conjuntos de n-gramas, por ejemplo, tomando todos los prefijos y sufijos. \n",
    "    \n",
    "Normalmente asociamos una representación vectorial (incrustación) a cada n-grama de una palabra. Por tanto, podemos representar una palabra mediante la suma de las representaciones vectoriales de sus n-gramas o el promedio de la incrustación de estos n-gramas. \n",
    "    \n",
    "Según los autores, debido a este efecto de aprovechar los n-gramas de palabras individuales basadas en sus caracteres, existe una mayor probabilidad de que las palabras raras obtengan una buena representación, ya que sus n-gramas basados en caracteres deben aparecer en otras palabras del corpus.\n",
    "    \n",
    "Vamos a la práctica."
   ]
  },
  {
   "cell_type": "markdown",
   "id": "14794e07-4318-4ec9-b6b3-b66c644699fe",
   "metadata": {},
   "source": [
    "[[Volver al inicio]](#Contenido)"
   ]
  },
  {
   "cell_type": "markdown",
   "id": "debc2c13-e6f0-4eeb-be52-fa1ffd82aeba",
   "metadata": {},
   "source": [
    "## <span style=\"color:blue\">Instalación</span>"
   ]
  },
  {
   "cell_type": "markdown",
   "id": "799b181b-4dac-4c0e-ab23-f94d30d49425",
   "metadata": {},
   "source": [
    "`$ git clone https://github.com/facebookresearch/fastText.git`\n",
    "\n",
    "`$ cd fastText`\n",
    "\n",
    "`$ sudo pip install .`\n",
    "\n",
    "`$ # or :`\n",
    "\n",
    "`$ sudo python setup.py install`\n",
    "\n",
    "o instalar usando estos pasos: https://medium.com/@oleg.tarasov/building-fasttext-python-wrapper-from-source-under-windows-68e693a68cbb"
   ]
  },
  {
   "cell_type": "markdown",
   "id": "ace4727b-3cbe-4032-ba2e-54c3c28c09eb",
   "metadata": {},
   "source": [
    "Si todo va bien, el siguiente comando debería funcionar:"
   ]
  },
  {
   "cell_type": "code",
   "execution_count": null,
   "id": "35245382",
   "metadata": {},
   "outputs": [
    {
     "ename": "",
     "evalue": "",
     "output_type": "error",
     "traceback": [
      "\u001b[1;31mRunning cells with 'Python 3.12.3' requires the ipykernel package.\n",
      "\u001b[1;31m<a href='command:jupyter.createPythonEnvAndSelectController'>Create a Python Environment</a> with the required packages.\n",
      "\u001b[1;31mOr install 'ipykernel' using the command: '/bin/python3 -m pip install ipykernel -U --user --force-reinstall'"
     ]
    }
   ],
   "source": [
    "!pip3 install fasttext-wheel"
   ]
  },
  {
   "cell_type": "code",
   "execution_count": null,
   "id": "6c6ae491-f39c-4961-b113-da6e7f762f3f",
   "metadata": {},
   "outputs": [
    {
     "ename": "",
     "evalue": "",
     "output_type": "error",
     "traceback": [
      "\u001b[1;31mRunning cells with 'Python 3.12.3' requires the ipykernel package.\n",
      "\u001b[1;31mInstall 'ipykernel' into the Python environment. \n",
      "\u001b[1;31mCommand: '/bin/python3 -m pip install ipykernel -U --user --force-reinstall'"
     ]
    }
   ],
   "source": [
    "import fasttext as ft"
   ]
  },
  {
   "cell_type": "code",
   "execution_count": 3,
   "id": "8af209fc-d056-4592-b42d-c048fe45f544",
   "metadata": {},
   "outputs": [
    {
     "name": "stdout",
     "output_type": "stream",
     "text": [
      "Help on module fasttext.FastText in fasttext:\n",
      "\n",
      "NAME\n",
      "    fasttext.FastText\n",
      "\n",
      "DESCRIPTION\n",
      "    # Copyright (c) 2017-present, Facebook, Inc.\n",
      "    # All rights reserved.\n",
      "    #\n",
      "    # This source code is licensed under the MIT license found in the\n",
      "    # LICENSE file in the root directory of this source tree.\n",
      "\n",
      "FUNCTIONS\n",
      "    cbow(*kargs, **kwargs)\n",
      "    \n",
      "    load_model(path)\n",
      "        Load a model given a filepath and return a model object.\n",
      "    \n",
      "    read_args(arg_list, arg_dict, arg_names, default_values)\n",
      "    \n",
      "    skipgram(*kargs, **kwargs)\n",
      "    \n",
      "    supervised(*kargs, **kwargs)\n",
      "    \n",
      "    tokenize(text)\n",
      "        Given a string of text, tokenize it and return a list of tokens\n",
      "    \n",
      "    train_supervised(*kargs, **kwargs)\n",
      "        Train a supervised model and return a model object.\n",
      "        \n",
      "        input must be a filepath. The input text does not need to be tokenized\n",
      "        as per the tokenize function, but it must be preprocessed and encoded\n",
      "        as UTF-8. You might want to consult standard preprocessing scripts such\n",
      "        as tokenizer.perl mentioned here: http://www.statmt.org/wmt07/baseline.html\n",
      "        \n",
      "        The input file must must contain at least one label per line. For an\n",
      "        example consult the example datasets which are part of the fastText\n",
      "        repository such as the dataset pulled by classification-example.sh.\n",
      "    \n",
      "    train_unsupervised(*kargs, **kwargs)\n",
      "        Train an unsupervised model and return a model object.\n",
      "        \n",
      "        input must be a filepath. The input text does not need to be tokenized\n",
      "        as per the tokenize function, but it must be preprocessed and encoded\n",
      "        as UTF-8. You might want to consult standard preprocessing scripts such\n",
      "        as tokenizer.perl mentioned here: http://www.statmt.org/wmt07/baseline.html\n",
      "        \n",
      "        The input field must not contain any labels or use the specified label prefix\n",
      "        unless it is ok for those words to be ignored. For an example consult the\n",
      "        dataset pulled by the example script word-vector-example.sh, which is\n",
      "        part of the fastText repository.\n",
      "\n",
      "DATA\n",
      "    BOW = '<'\n",
      "    EOS = '</s>'\n",
      "    EOW = '>'\n",
      "    absolute_import = _Feature((2, 5, 0, 'alpha', 1), (3, 0, 0, 'alpha', 0...\n",
      "    displayed_errors = {}\n",
      "    division = _Feature((2, 2, 0, 'alpha', 2), (3, 0, 0, 'alpha', 0), 1310...\n",
      "    print_function = _Feature((2, 6, 0, 'alpha', 2), (3, 0, 0, 'alpha', 0)...\n",
      "    unicode_literals = _Feature((2, 6, 0, 'alpha', 2), (3, 0, 0, 'alpha', ...\n",
      "    unsupervised_default = {'autotuneDuration': 300, 'autotuneMetric': 'f1...\n",
      "\n",
      "FILE\n",
      "    c:\\users\\usuario\\anaconda3\\envs\\nlp310\\lib\\site-packages\\fasttext\\fasttext.py\n",
      "\n",
      "\n"
     ]
    }
   ],
   "source": [
    "help(ft.FastText)"
   ]
  },
  {
   "cell_type": "code",
   "execution_count": 4,
   "id": "24a512bd-4a33-4d46-ab5f-d0614584be60",
   "metadata": {},
   "outputs": [
    {
     "data": {
      "text/plain": [
       "['BOW',\n",
       " 'EOS',\n",
       " 'EOW',\n",
       " 'FastText',\n",
       " '__builtins__',\n",
       " '__cached__',\n",
       " '__doc__',\n",
       " '__file__',\n",
       " '__loader__',\n",
       " '__name__',\n",
       " '__package__',\n",
       " '__path__',\n",
       " '__spec__',\n",
       " 'absolute_import',\n",
       " 'cbow',\n",
       " 'division',\n",
       " 'load_model',\n",
       " 'print_function',\n",
       " 'skipgram',\n",
       " 'supervised',\n",
       " 'tokenize',\n",
       " 'train_supervised',\n",
       " 'train_unsupervised',\n",
       " 'unicode_literals']"
      ]
     },
     "execution_count": 4,
     "metadata": {},
     "output_type": "execute_result"
    }
   ],
   "source": [
    "dir(ft)"
   ]
  },
  {
   "cell_type": "markdown",
   "id": "ea770254-4538-4833-b3d5-aacc32289670",
   "metadata": {},
   "source": [
    "Como podemos observar, contamos con dos modelos: **unsupervised** y **supervised**.\n",
    "\n",
    "Veamos cómo funcionan."
   ]
  },
  {
   "cell_type": "code",
   "execution_count": 8,
   "id": "a427a23c",
   "metadata": {},
   "outputs": [],
   "source": [
    "#ft.FastText.eprint = lambda x: None\n",
    "model_es= ft.load_model(\"cc.es.300.bin\")"
   ]
  },
  {
   "cell_type": "raw",
   "id": "21cddea9",
   "metadata": {},
   "source": [
    "dir(model_es)"
   ]
  },
  {
   "cell_type": "code",
   "execution_count": 9,
   "id": "89c1212c",
   "metadata": {},
   "outputs": [
    {
     "data": {
      "text/plain": [
       "[(0.7171677947044373, 'sueños'),\n",
       " (0.7092401385307312, 'sueno'),\n",
       " (0.6959096789360046, 'sueño.El'),\n",
       " (0.6859577298164368, 'sueño.Y'),\n",
       " (0.6825155019760132, 'Sueño'),\n",
       " (0.6815561652183533, 'sueño.La'),\n",
       " (0.6758346557617188, 'sueño.Pero'),\n",
       " (0.6724787950515747, 'sueño.A'),\n",
       " (0.6669973134994507, 'sueño.Es'),\n",
       " (0.6650846600532532, 'sueñoUn')]"
      ]
     },
     "execution_count": 9,
     "metadata": {},
     "output_type": "execute_result"
    }
   ],
   "source": [
    "model_es.get_nearest_neighbors('sueño')"
   ]
  },
  {
   "cell_type": "code",
   "execution_count": 7,
   "id": "c0365812",
   "metadata": {},
   "outputs": [
    {
     "data": {
      "text/plain": [
       "[(0.7178170084953308, 'sentimiendo'),\n",
       " (0.6997774839401245, 'sentimento'),\n",
       " (0.6831148266792297, 'sentiemiento'),\n",
       " (0.678977370262146, 'sentimeinto'),\n",
       " (0.671016275882721, 'resentimiento'),\n",
       " (0.6657986044883728, 'elsentimiento'),\n",
       " (0.654339075088501, 'sentimientos'),\n",
       " (0.6396598219871521, 'Sentimiento'),\n",
       " (0.638056218624115, 'sentimientode'),\n",
       " (0.6268573999404907, 'sentimiento.El')]"
      ]
     },
     "execution_count": 7,
     "metadata": {},
     "output_type": "execute_result"
    }
   ],
   "source": [
    "model_es.get_nearest_neighbors('sentimiento')"
   ]
  },
  {
   "cell_type": "code",
   "execution_count": 10,
   "id": "1e297018",
   "metadata": {},
   "outputs": [
    {
     "data": {
      "text/plain": [
       "[(0.5945168733596802, 'barcelona'),\n",
       " (0.5862203240394592, 'paris'),\n",
       " (0.5770415663719177, 'montpellier'),\n",
       " (0.5740096569061279, 'getafe'),\n",
       " (0.572130024433136, 'bilbao'),\n",
       " (0.5658920407295227, 'lyon'),\n",
       " (0.5628228187561035, 'toulouse'),\n",
       " (0.560162365436554, 'francia.'),\n",
       " (0.5566875338554382, 'parís'),\n",
       " (0.556550145149231, 'lisboa')]"
      ]
     },
     "execution_count": 10,
     "metadata": {},
     "output_type": "execute_result"
    }
   ],
   "source": [
    "model_es.get_analogies(\"madrid\", \"españa\", \"francia\")"
   ]
  },
  {
   "cell_type": "code",
   "execution_count": 11,
   "id": "fd064611",
   "metadata": {},
   "outputs": [
    {
     "data": {
      "text/plain": [
       "[(0.5483848452568054, 'golpeando'),\n",
       " (0.5168072581291199, 'espátula'),\n",
       " (0.5141013264656067, 'golpea'),\n",
       " (0.5017028450965881, 'martillo'),\n",
       " (0.49357181787490845, 'golpeándolo'),\n",
       " (0.49273625016212463, 'golpee'),\n",
       " (0.48724186420440674, 'golpearla'),\n",
       " (0.4864853620529175, 'golpearlo'),\n",
       " (0.48304662108421326, 'golpeara'),\n",
       " (0.48251548409461975, 'varilla')]"
      ]
     },
     "execution_count": 11,
     "metadata": {},
     "output_type": "execute_result"
    }
   ],
   "source": [
    "model_es.get_analogies(\"cuchara\", \"comer\", \"golpear\")"
   ]
  },
  {
   "cell_type": "code",
   "execution_count": 12,
   "id": "c2061603",
   "metadata": {},
   "outputs": [],
   "source": [
    "model_en= ft.load_model(\"cc.en.300.bin\")"
   ]
  },
  {
   "cell_type": "code",
   "execution_count": 5,
   "id": "aa204dff",
   "metadata": {},
   "outputs": [
    {
     "data": {
      "text/plain": [
       "[(0.7098618745803833, 'paris'),\n",
       " (0.6233865022659302, 'france.'),\n",
       " (0.6171808838844299, 'strasbourg'),\n",
       " (0.6088063716888428, 'paris.'),\n",
       " (0.6075001358985901, 'lyon'),\n",
       " (0.5934714674949646, 'avignon'),\n",
       " (0.593320369720459, 'marseille'),\n",
       " (0.5895377397537231, 'barcelona'),\n",
       " (0.5858014225959778, 'belgium'),\n",
       " (0.5839905142784119, 'geneve')]"
      ]
     },
     "execution_count": 5,
     "metadata": {},
     "output_type": "execute_result"
    }
   ],
   "source": [
    "model_en.get_analogies(\"madrid\", \"spain\", \"france\")"
   ]
  },
  {
   "cell_type": "code",
   "execution_count": 13,
   "id": "84a196a9",
   "metadata": {},
   "outputs": [
    {
     "data": {
      "text/plain": [
       "[(0.7454308867454529, 'israel.'),\n",
       " (0.7169222235679626, 'Israel'),\n",
       " (0.6941083669662476, 'israeli'),\n",
       " (0.6480574607849121, 'israelí.'),\n",
       " (0.643038272857666, 'Israel.Y'),\n",
       " (0.6407830715179443, 'hezbollah'),\n",
       " (0.6378243565559387, 'jordania'),\n",
       " (0.6302906274795532, 'Israel.A'),\n",
       " (0.6296384334564209, 'israelis'),\n",
       " (0.6228970885276794, 'israelies')]"
      ]
     },
     "execution_count": 13,
     "metadata": {},
     "output_type": "execute_result"
    }
   ],
   "source": [
    "model_es.get_nearest_neighbors('israel')"
   ]
  },
  {
   "cell_type": "markdown",
   "id": "aba0f416-2aa7-4e89-992d-73a7241c1b48",
   "metadata": {},
   "source": [
    "[[Volver al inicio]](#Contenido)"
   ]
  },
  {
   "cell_type": "markdown",
   "id": "7a0a7033-485e-4466-b954-e0f8303aed4c",
   "metadata": {},
   "source": [
    "## Modelo No Supervisado"
   ]
  },
  {
   "cell_type": "markdown",
   "id": "5977c7fb-b8a6-4a41-817a-5b7c22b5067d",
   "metadata": {},
   "source": [
    "Para este ejemplo de juguete, usemos los poemas de Daniel."
   ]
  },
  {
   "cell_type": "markdown",
   "id": "35a9f3f4-9374-45bb-8658-d09174a549ac",
   "metadata": {},
   "source": [
    "## Uso del Modelo (Toy Example)"
   ]
  },
  {
   "cell_type": "code",
   "execution_count": 12,
   "id": "28ea8200-868e-4886-af1a-33f230aee5d0",
   "metadata": {},
   "outputs": [],
   "source": [
    "model = ft.train_unsupervised('../Datos/Poemas_Todo.txt')"
   ]
  },
  {
   "cell_type": "markdown",
   "id": "593a0f9d-71f7-4c0f-9b7e-cc9c4fe2b378",
   "metadata": {},
   "source": [
    "Veamos qué tiene el modelo por dentro:"
   ]
  },
  {
   "cell_type": "code",
   "execution_count": 13,
   "id": "dad67c80-bdbe-43fb-b3a0-da1b9d0b5007",
   "metadata": {},
   "outputs": [
    {
     "data": {
      "text/plain": [
       "['__class__',\n",
       " '__contains__',\n",
       " '__delattr__',\n",
       " '__dict__',\n",
       " '__dir__',\n",
       " '__doc__',\n",
       " '__eq__',\n",
       " '__format__',\n",
       " '__ge__',\n",
       " '__getattribute__',\n",
       " '__getitem__',\n",
       " '__gt__',\n",
       " '__hash__',\n",
       " '__init__',\n",
       " '__init_subclass__',\n",
       " '__le__',\n",
       " '__lt__',\n",
       " '__module__',\n",
       " '__ne__',\n",
       " '__new__',\n",
       " '__reduce__',\n",
       " '__reduce_ex__',\n",
       " '__repr__',\n",
       " '__setattr__',\n",
       " '__sizeof__',\n",
       " '__str__',\n",
       " '__subclasshook__',\n",
       " '__weakref__',\n",
       " '_labels',\n",
       " '_words',\n",
       " 'bucket',\n",
       " 'dim',\n",
       " 'epoch',\n",
       " 'f',\n",
       " 'get_analogies',\n",
       " 'get_dimension',\n",
       " 'get_input_matrix',\n",
       " 'get_input_vector',\n",
       " 'get_label_id',\n",
       " 'get_labels',\n",
       " 'get_line',\n",
       " 'get_meter',\n",
       " 'get_nearest_neighbors',\n",
       " 'get_output_matrix',\n",
       " 'get_sentence_vector',\n",
       " 'get_subword_id',\n",
       " 'get_subwords',\n",
       " 'get_word_id',\n",
       " 'get_word_vector',\n",
       " 'get_words',\n",
       " 'is_quantized',\n",
       " 'label',\n",
       " 'labels',\n",
       " 'loss',\n",
       " 'lr',\n",
       " 'lrUpdateRate',\n",
       " 'maxn',\n",
       " 'minCount',\n",
       " 'minCountLabel',\n",
       " 'minn',\n",
       " 'neg',\n",
       " 'predict',\n",
       " 'pretrainedVectors',\n",
       " 'quantize',\n",
       " 'save_model',\n",
       " 'set_args',\n",
       " 'set_matrices',\n",
       " 't',\n",
       " 'test',\n",
       " 'test_label',\n",
       " 'thread',\n",
       " 'verbose',\n",
       " 'wordNgrams',\n",
       " 'words',\n",
       " 'ws']"
      ]
     },
     "execution_count": 13,
     "metadata": {},
     "output_type": "execute_result"
    }
   ],
   "source": [
    "dir(model)"
   ]
  },
  {
   "cell_type": "markdown",
   "id": "dd88930c",
   "metadata": {},
   "source": [
    "In fastText, model.words is an attribute that provides a list of all the words (or tokens) that are present in the trained word embedding model."
   ]
  },
  {
   "cell_type": "code",
   "execution_count": 14,
   "id": "1c5dea40-2f7d-46f9-a6f4-8b5e2cafc71d",
   "metadata": {},
   "outputs": [
    {
     "name": "stdout",
     "output_type": "stream",
     "text": [
      "['</s>', 'y', 'de', 'que', 'la', 'el', 'en', 'las', 'con', 'los', 'por', 'un', 'se', 'tu', 'del', 'a', 'una', 'no', 'mi', 'te', 'es', 'me', 'como', 'su', 'mis', 'para', 'sin', 'tus', 'entre', 'porque', 'lo', 'más', 'sus', 'nos', 'noche', 'ese', 'cada', 'pero', 'hasta', 'al', 'todo', 'manos', 'cielo', 'Y', 'ojos', 'cuerpo', 'día', 'sueño', 'ni', 'son', 'ser', 'cuando', 'qué', 'Te', 'o', 'le', 'ya', 'palabras', 'labios', 'Me', 'mujer', 'cosas', 'sobre', 'mundo', 'si', 'cuerpos', 'eres', 'luna', 'esa', 'vida', 'donde', 'piel,', 'toda', 'jamás', 'amor', 'sólo', 'En', 'este', 'sueños', 'siempre', 'hay', 'Es', 'e', 'va', 'Ese', 'lleno', 'rostro', 'tan', 'sueños,', 'nuestra', 'dos', 'pasión', 'he', 'visto', 'quien', 'puedo', 'La', 'mar', 'nubes', 'Yo', 'ha', 'noche,', 'frío', 'deseo', 'gusta', 'imagen', 'He', 'contra', 'cara', 'misma', 'volando', 'formas', 'aire', 'mirando', 'aún', 'entonces', 'veces', 'letras', 'lejos', 'piel', 'hacia', 'dónde', 'éste', 'besos', 'alma', 'brisa', 'dulce', 'ojos,', 'así', 'nuestro', 'tiempo', 'colores', 'apenas', 'música', 'vez', 'ante', 'somos', 'desde', 'El', 'profundo', 'mismo', 'ésta', 'abismo', 'esperar', 'veo', 'tí', 'frase', 'dame', 'mano', 'colores,', 'polvo', 'quiero', 'busco', 'algún', 'fue', 'luces', 'ideas', 'emociones', 'sirve', 'sol', 'Un', 'casi', 'No', 'caricias', 'brazos,', 'seres', 'Déjame', 'luz', 'mientras', 'esperando', 'A', 'ver', 'mí', 'permanente', 'agua', 'suaves', 'lugar', 'sonido', 'bajo', 'Vivo', 'hace', 'yo', 'tí,', 'soy']\n"
     ]
    }
   ],
   "source": [
    "print(model.words)"
   ]
  },
  {
   "cell_type": "code",
   "execution_count": 15,
   "id": "da5a5320-6c21-4f56-9cbe-a5376958174c",
   "metadata": {},
   "outputs": [
    {
     "data": {
      "text/plain": [
       "184"
      ]
     },
     "execution_count": 15,
     "metadata": {},
     "output_type": "execute_result"
    }
   ],
   "source": [
    "len(model.words)"
   ]
  },
  {
   "cell_type": "code",
   "execution_count": 16,
   "id": "e14068e8",
   "metadata": {},
   "outputs": [
    {
     "data": {
      "text/plain": [
       "[(0.7667388916015625, 'mientras'),\n",
       " (0.7591590285301208, 'entre'),\n",
       " (0.759091317653656, 'somos'),\n",
       " (0.7474069595336914, '</s>'),\n",
       " (0.7449639439582825, 'colores'),\n",
       " (0.743857204914093, 'de'),\n",
       " (0.7411065101623535, 'es'),\n",
       " (0.7392478585243225, 'las'),\n",
       " (0.7382482886314392, 'por'),\n",
       " (0.7361416816711426, 'sirve')]"
      ]
     },
     "execution_count": 16,
     "metadata": {},
     "output_type": "execute_result"
    }
   ],
   "source": [
    "model.get_nearest_neighbors('sentimiento')"
   ]
  },
  {
   "cell_type": "code",
   "execution_count": 17,
   "id": "22717788",
   "metadata": {},
   "outputs": [
    {
     "data": {
      "text/plain": [
       "[(0.9564667344093323, 'caricias'),\n",
       " (0.9329507350921631, 'no'),\n",
       " (0.9244406819343567, 'por'),\n",
       " (0.9208260774612427, 'sueños'),\n",
       " (0.9155965447425842, 'sueños,'),\n",
       " (0.9153348803520203, 'de'),\n",
       " (0.9141097664833069, 'noche,'),\n",
       " (0.9124150276184082, 'manos'),\n",
       " (0.9092956781387329, 'noche'),\n",
       " (0.9092336893081665, 'porque')]"
      ]
     },
     "execution_count": 17,
     "metadata": {},
     "output_type": "execute_result"
    }
   ],
   "source": [
    "model.get_nearest_neighbors('caricia')"
   ]
  },
  {
   "cell_type": "code",
   "execution_count": 18,
   "id": "0bd75fcc-d16a-44bb-8113-04e3ae579552",
   "metadata": {},
   "outputs": [
    {
     "data": {
      "text/plain": [
       "array([ 1.8282509e-03,  2.2472753e-03, -1.8691482e-03, -7.4706262e-04,\n",
       "        3.5899787e-03,  2.4872303e-03, -2.0400898e-03, -8.1846118e-04,\n",
       "        3.5643405e-03,  1.9185699e-03, -1.2936767e-03,  9.4974542e-04,\n",
       "       -2.3027223e-03,  1.4906833e-03, -1.2391269e-03,  1.0241555e-03,\n",
       "        1.5017717e-03,  5.0399877e-04,  1.2899849e-03, -4.7158096e-03,\n",
       "        1.3692804e-03,  2.6455361e-03, -6.1784487e-04, -2.4706139e-03,\n",
       "        5.5282458e-04, -4.8401326e-04, -7.0165377e-05, -3.0699319e-03,\n",
       "       -3.5430565e-03,  1.8578744e-03, -3.6896374e-03, -7.3585304e-04,\n",
       "        2.0048295e-03, -2.6315907e-03, -3.2852846e-03, -4.6780589e-03,\n",
       "       -1.2223543e-04,  5.8260030e-05, -8.9832244e-04, -3.0198488e-03,\n",
       "        3.0285101e-03,  2.5896092e-03, -6.8259636e-05,  2.4928255e-03,\n",
       "        1.0723916e-03, -1.0879536e-03,  1.1751676e-03,  7.3944015e-04,\n",
       "       -1.4697779e-03,  1.8038995e-03, -1.3552998e-03,  9.0843771e-04,\n",
       "       -6.3468784e-04,  2.0573421e-03, -2.7762126e-04, -3.4620774e-03,\n",
       "       -3.6119295e-03, -2.6359137e-03,  3.4446870e-03,  3.6547880e-03,\n",
       "        3.9483362e-04, -1.2109283e-04,  4.3151975e-03,  2.8984754e-03,\n",
       "        1.2665881e-03,  1.3138540e-03, -1.3314384e-03,  3.0141219e-03,\n",
       "       -3.5103649e-04,  4.4547085e-04, -2.3316732e-03,  4.6637538e-03,\n",
       "        1.2773247e-03,  1.4056726e-03, -2.0566885e-03, -1.5198826e-04,\n",
       "        5.1742271e-03,  1.7932009e-04,  1.5495959e-03, -1.4257947e-03,\n",
       "       -3.0533280e-04, -5.3434668e-04,  2.5391399e-03,  8.8863028e-04,\n",
       "        1.2950234e-04, -2.2028342e-03,  3.2505512e-03,  2.2090755e-03,\n",
       "       -1.9163261e-03, -5.4891017e-04,  6.2447772e-03,  3.5025363e-03,\n",
       "        5.5050743e-03, -7.1813201e-04,  2.0369671e-03, -3.0697479e-03,\n",
       "        2.6131261e-03,  1.4256715e-03, -1.6554727e-03, -3.8886890e-03],\n",
       "      dtype=float32)"
      ]
     },
     "execution_count": 18,
     "metadata": {},
     "output_type": "execute_result"
    }
   ],
   "source": [
    "caricia_vector = model.get_word_vector(\"caricia\")\n",
    "caricia_vector"
   ]
  },
  {
   "cell_type": "code",
   "execution_count": 19,
   "id": "c07ed896-c93e-4e36-ad25-1f1a82c608ac",
   "metadata": {},
   "outputs": [
    {
     "data": {
      "text/plain": [
       "(100,)"
      ]
     },
     "execution_count": 19,
     "metadata": {},
     "output_type": "execute_result"
    }
   ],
   "source": [
    "caricia_vector.shape"
   ]
  },
  {
   "cell_type": "code",
   "execution_count": 20,
   "id": "23e7dd18-88e8-4270-9fd5-a5156560688b",
   "metadata": {},
   "outputs": [],
   "source": [
    "model.save_model(\"Poemas.bin\")"
   ]
  },
  {
   "cell_type": "code",
   "execution_count": 21,
   "id": "89f7fb4e-0834-4e1f-b024-0f8e9ac9c17c",
   "metadata": {},
   "outputs": [],
   "source": [
    "model = ft.load_model(\"Poemas.bin\")"
   ]
  },
  {
   "cell_type": "markdown",
   "id": "007e969f-e4d4-47fa-b5c6-4fdb0e62a0b4",
   "metadata": {},
   "source": [
    "Por defecto, el modelo entrenado es skipgram, pero también tenemos disponible la arquitectura cbow.\n",
    "\n",
    "![ft](https://fasttext.cc/img/cbo_vs_skipgram.png)\n",
    "\n",
    "Fuente: [FastText, Word Representations](https://fasttext.cc/docs/en/unsupervised-tutorial.html)"
   ]
  },
  {
   "cell_type": "code",
   "execution_count": 22,
   "id": "9b18a727-05e4-489d-94a9-ad10191dbf05",
   "metadata": {},
   "outputs": [],
   "source": [
    "model_cbow = ft.train_unsupervised('../Datos/Poemas_Todo.txt', \"cbow\")"
   ]
  },
  {
   "cell_type": "code",
   "execution_count": 23,
   "id": "883391b5",
   "metadata": {},
   "outputs": [
    {
     "data": {
      "text/plain": [
       "array([ 5.1579083e-04,  9.6458232e-04, -8.2982023e-04, -6.3916121e-04,\n",
       "        2.1096338e-03,  1.0510600e-03, -8.1509049e-04, -8.5797183e-05,\n",
       "        2.4331012e-03,  7.0285663e-04, -7.8027078e-04,  5.7589199e-04,\n",
       "       -9.6834468e-04,  6.7296531e-04, -5.3776999e-04,  1.5007285e-03,\n",
       "        1.1316790e-03, -7.9733302e-04,  9.4857358e-04, -2.5366074e-03,\n",
       "        1.4299041e-03,  1.8834885e-03, -4.5240912e-04, -2.0916890e-03,\n",
       "       -4.0293232e-04, -4.7144195e-04,  5.0089449e-05, -1.9621153e-03,\n",
       "       -1.7945322e-03,  1.0589340e-03, -1.8753993e-03, -8.9990924e-04,\n",
       "        9.0886513e-04, -1.7537239e-03, -1.8921749e-03, -3.0444048e-03,\n",
       "        3.9784083e-04, -4.2600539e-05,  2.9561762e-04, -1.5733851e-03,\n",
       "        1.8627665e-03,  1.0404066e-03, -4.5140550e-04,  6.7754387e-04,\n",
       "        8.4142125e-04,  3.0423456e-04,  8.4430112e-06,  6.5456657e-04,\n",
       "       -1.0573704e-03,  5.7874655e-04, -8.2040537e-04, -4.3728433e-04,\n",
       "       -4.9233095e-05,  1.3580963e-03,  1.8065520e-04, -2.1158038e-03,\n",
       "       -2.2196490e-03, -1.4551055e-03,  1.9092350e-03,  1.8619543e-03,\n",
       "        3.4551282e-04, -6.2640302e-04,  1.8914979e-03,  1.9358832e-03,\n",
       "        3.9073813e-04,  1.3003272e-03, -2.5985349e-04,  2.8711513e-03,\n",
       "       -2.0203742e-04,  2.9343943e-05, -1.3649119e-03,  2.9779107e-03,\n",
       "        3.5730726e-04,  4.2710116e-04, -2.1110622e-03, -2.6668041e-04,\n",
       "        3.0525613e-03,  1.1633274e-03,  1.0684710e-03, -2.4628552e-04,\n",
       "        2.8768458e-04, -5.5446271e-05,  9.9510700e-04,  3.0839432e-04,\n",
       "       -6.7282945e-04, -1.3228810e-03,  2.3632180e-03,  1.9002333e-03,\n",
       "       -5.0417782e-04,  5.4996699e-04,  3.3093593e-03,  1.6055241e-03,\n",
       "        2.6572524e-03, -1.2253699e-04,  7.9989503e-04, -1.0561651e-03,\n",
       "        1.8834668e-03,  1.2494955e-03, -1.6218218e-03, -2.3267665e-03],\n",
       "      dtype=float32)"
      ]
     },
     "execution_count": 23,
     "metadata": {},
     "output_type": "execute_result"
    }
   ],
   "source": [
    "caricia_vector_cbow = model_cbow.get_word_vector(\"caricia\")\n",
    "caricia_vector_cbow"
   ]
  },
  {
   "cell_type": "code",
   "execution_count": 24,
   "id": "e31c5f4e",
   "metadata": {},
   "outputs": [
    {
     "data": {
      "text/plain": [
       "[(0.6235255599021912, 'mientras'),\n",
       " (0.5948073863983154, 'entre'),\n",
       " (0.5928695797920227, 'somos'),\n",
       " (0.5914546251296997, '</s>'),\n",
       " (0.5863041877746582, 'las'),\n",
       " (0.5856991410255432, 'de'),\n",
       " (0.5831426978111267, 'colores'),\n",
       " (0.5735453367233276, 'colores,'),\n",
       " (0.5706779956817627, 'sirve'),\n",
       " (0.5694554448127747, 'esperando')]"
      ]
     },
     "execution_count": 24,
     "metadata": {},
     "output_type": "execute_result"
    }
   ],
   "source": [
    "model_cbow.get_nearest_neighbors('sentimiento')"
   ]
  },
  {
   "cell_type": "markdown",
   "id": "8567ad9d-265c-4547-b8ab-daa9d5fffad2",
   "metadata": {},
   "source": [
    "En palabras de Facebook,\n",
    "\n",
    "***In practice, we observe that skipgram models works better with subword information than cbow.***"
   ]
  },
  {
   "cell_type": "markdown",
   "id": "97e576af-a6f9-4f0e-87bb-65f6ca567e67",
   "metadata": {},
   "source": [
    "[[Volver al inicio]](#Contenido)"
   ]
  },
  {
   "cell_type": "markdown",
   "id": "c5f2fddb-a296-487e-b4f2-979387ca43ed",
   "metadata": {},
   "source": [
    "### Jugando con los Parámetros "
   ]
  },
  {
   "cell_type": "markdown",
   "id": "8f09f0c5-f2cc-4de4-9052-f88541bfa0f0",
   "metadata": {},
   "source": [
    "Dependiendo del problema, puede ser que los parámetros por defecto no sean los más adecuados.\n",
    "\n",
    "Para conocer todos los parámetros de FastText, podemos ingresar [aquí](https://fasttext.cc/docs/en/python-module.html#train_unsupervised-parameters)\n",
    "\n",
    "Por ejemplo, modifiquemos los parámetros **mínimos** y **máximos** de lo n-gramas permitidos, la **dimensión** del vector, las **epochs** y la frecuencia mínima de palabras:"
   ]
  },
  {
   "cell_type": "code",
   "execution_count": 14,
   "id": "ddba46b5-f09c-4a9e-871c-d007359879df",
   "metadata": {},
   "outputs": [],
   "source": [
    "import fasttext as ft"
   ]
  },
  {
   "cell_type": "code",
   "execution_count": 15,
   "id": "172df83d-30c9-4212-98f1-f9ce4d9e7cc2",
   "metadata": {},
   "outputs": [],
   "source": [
    "model_vec = ft.train_unsupervised('../Datos/Poemas_Todo.txt', minCount=2, minn=3, maxn=5, dim=300,pretrainedVectors='cc.es.300.vec')"
   ]
  },
  {
   "cell_type": "markdown",
   "id": "dd52a9ea-2b7a-4ddc-a007-57e8338c8a47",
   "metadata": {},
   "source": [
    "Verifiquemos la longitud de las palabras:"
   ]
  },
  {
   "cell_type": "code",
   "execution_count": 16,
   "id": "dd4f71e5-5220-4283-aae0-176f056a3647",
   "metadata": {},
   "outputs": [
    {
     "data": {
      "text/plain": [
       "(300,)"
      ]
     },
     "execution_count": 16,
     "metadata": {},
     "output_type": "execute_result"
    }
   ],
   "source": [
    "model_vec.get_word_vector(\"sentimiento\").shape"
   ]
  },
  {
   "cell_type": "code",
   "execution_count": 17,
   "id": "febede8d",
   "metadata": {
    "scrolled": true
   },
   "outputs": [
    {
     "data": {
      "text/plain": [
       "[(0.9988006949424744, 'Asentimiento'),\n",
       " (0.9985209703445435, 'asentimiento'),\n",
       " (0.998471736907959, 'disentimiento'),\n",
       " (0.9981051087379456, 'sentimiento.Un'),\n",
       " (0.9976478815078735, 'Resentimiento'),\n",
       " (0.9972191452980042, 'Sentimiento'),\n",
       " (0.9971750974655151, 'sentimiento.'),\n",
       " (0.9969228506088257, '--Sentimiento'),\n",
       " (0.996867835521698, 'Consentimiento'),\n",
       " (0.9967299699783325, 'sentimientode')]"
      ]
     },
     "execution_count": 17,
     "metadata": {},
     "output_type": "execute_result"
    }
   ],
   "source": [
    "model_vec.get_nearest_neighbors('sentimiento')"
   ]
  },
  {
   "cell_type": "markdown",
   "id": "e3ae236b-6b61-48f3-90f6-b38982d5b14d",
   "metadata": {},
   "source": [
    "[[Volver al inicio]](#Contenido)"
   ]
  },
  {
   "cell_type": "markdown",
   "id": "77a92f92-2b66-4adb-87fd-d424558379bf",
   "metadata": {},
   "source": [
    "### Palabras vecinas más cercanas"
   ]
  },
  {
   "cell_type": "markdown",
   "id": "ba27aa9c-16e0-48c6-9cf4-767c0a191323",
   "metadata": {},
   "source": [
    "Como cada palabra en el corpus tiene un vector asociado, podemos obtener palabras cercanas usando la similaridad de coseno:"
   ]
  },
  {
   "cell_type": "markdown",
   "id": "a311905f",
   "metadata": {},
   "source": [
    "Cosine similarity is a measure of similarity between two non-zero vectors in an inner product space, often used in the context of information retrieval and natural language processing. It quantifies the cosine of the angle between the two vectors, which provides a measure of their orientation or similarity, independent of their magnitude (length).\n",
    "\n",
    "The cosine similarity between two vectors, A and B, is calculated as follows:\n",
    "\n",
    "Cosine Similarity (A, B) = (A · B) / (||A|| * ||B||)\n",
    "\n",
    "Where:\n",
    "\n",
    "    A · B represents the dot product of vectors A and B.\n",
    "    ||A|| and ||B|| represent the Euclidean norms (or magnitudes) of vectors A and B, respectively."
   ]
  },
  {
   "cell_type": "markdown",
   "id": "7950c16f",
   "metadata": {},
   "source": [
    "<figure>\n",
    "<center>\n",
    "<img src=\"../Imagenes/cosine_similarity.png\" width=\"400\" height=\"300\" align=\"center\"/>\n",
    "</center>\n",
    "<figcaption>\n",
    "<p style=\"text-align:center\">Cosine Similarity</p>\n",
    "</figcaption>\n",
    "</figure>\n"
   ]
  },
  {
   "cell_type": "code",
   "execution_count": 18,
   "id": "2b11bc88-da13-4066-9d20-6e629c022b46",
   "metadata": {},
   "outputs": [
    {
     "data": {
      "text/plain": [
       "[(0.9957048892974854, 'Ensueño'),\n",
       " (0.9952141046524048, 'sueño.El'),\n",
       " (0.9951835870742798, 'Risueño'),\n",
       " (0.9950355291366577, 'sueñoQue'),\n",
       " (0.9949803352355957, 'sueño.La'),\n",
       " (0.9948410987854004, 'sueño.Un'),\n",
       " (0.9945787191390991, 'sueñoEl'),\n",
       " (0.9944154620170593, 'sueño.En'),\n",
       " (0.9943743944168091, 'sueñoLa'),\n",
       " (0.9942408204078674, 'sueñoSor'),\n",
       " (0.9942172169685364, 'sueño.No'),\n",
       " (0.9939424991607666, 'sueño.Me'),\n",
       " (0.9935823678970337, 'sueñoy'),\n",
       " (0.9934048056602478, 'sueñono'),\n",
       " (0.9931100010871887, 'sueño.Y'),\n",
       " (0.9930814504623413, 'sueño.A'),\n",
       " (0.9930751919746399, 'sueño.-'),\n",
       " (0.992457926273346, 'sueño.'),\n",
       " (0.9921504855155945, 'sueñoo'),\n",
       " (0.9921478629112244, 'sueño-')]"
      ]
     },
     "execution_count": 18,
     "metadata": {},
     "output_type": "execute_result"
    }
   ],
   "source": [
    " model_vec.get_nearest_neighbors('sueño',k=20)"
   ]
  },
  {
   "cell_type": "code",
   "execution_count": 19,
   "id": "cd0f7a80",
   "metadata": {},
   "outputs": [
    {
     "data": {
      "text/plain": [
       "[(0.9981568455696106, 'amorAmor'),\n",
       " (0.9974086880683899, 'Hamor'),\n",
       " (0.9973912835121155, '-amor'),\n",
       " (0.9973028898239136, 'Azamor'),\n",
       " (0.9972866773605347, 'Zamor'),\n",
       " (0.9972608685493469, 'Namor'),\n",
       " (0.9971703886985779, 'Mamor'),\n",
       " (0.9970753788948059, 'Jamor'),\n",
       " (0.9969810843467712, 'Yamor'),\n",
       " (0.9958966970443726, 'Poliamor'),\n",
       " (0.9957086443901062, 'glamor'),\n",
       " (0.9954409599304199, 'Alamor'),\n",
       " (0.9950644373893738, 'Clamor'),\n",
       " (0.9949573874473572, 'Metsamor'),\n",
       " (0.9948468804359436, 'amorPor'),\n",
       " (0.9936582446098328, 'amor.Por'),\n",
       " (0.9928449392318726, 'Vilamor'),\n",
       " (0.9926590323448181, 'Casamor'),\n",
       " (0.9920893311500549, 'amorfo'),\n",
       " (0.9918469786643982, 'amorir')]"
      ]
     },
     "execution_count": 19,
     "metadata": {},
     "output_type": "execute_result"
    }
   ],
   "source": [
    " model_vec.get_nearest_neighbors('amor',k=20)"
   ]
  },
  {
   "cell_type": "markdown",
   "id": "91401eda-3484-4ba6-8c3e-8f382a349943",
   "metadata": {},
   "source": [
    "### Visualización de Embeddings de Palabras"
   ]
  },
  {
   "cell_type": "code",
   "execution_count": 31,
   "id": "b5b603df-f16d-4994-8d32-f90408dae67d",
   "metadata": {},
   "outputs": [
    {
     "data": {
      "image/png": "[encoded data removed]",
      "text/plain": [
       "<Figure size 1800x700 with 1 Axes>"
      ]
     },
     "metadata": {},
     "output_type": "display_data"
    }
   ],
   "source": [
    "from sklearn.decomposition import PCA\n",
    "import numpy as np\n",
    "import matplotlib.pyplot as plt\n",
    "\n",
    "p = model_vec.get_nearest_neighbors('sueño',k=15)\n",
    "similar_words = [x[1] for x in p]\n",
    "wvs = np.array([model.get_word_vector(sw) for sw in similar_words])\n",
    "\n",
    "pca = PCA(n_components=2)\n",
    "P = pca.fit_transform(wvs)\n",
    "labels = similar_words\n",
    "\n",
    "plt.figure(figsize=(18, 7))\n",
    "plt.scatter(P[:, 0], P[:, 1], c='lightgreen', edgecolors='b')\n",
    "plt.title('Visualización con PCA')\n",
    "\n",
    "eps = 0.5e12*np.finfo(float).eps\n",
    "for label, x, y in zip(labels, P[:, 0], P[:, 1]):\n",
    "    plt.annotate(label, xy=(x+eps, y+eps), xytext=(0, 0), textcoords='offset points')"
   ]
  },
  {
   "cell_type": "code",
   "execution_count": 32,
   "id": "466fcaea-5b9f-4d7e-bbca-4b99dc73776d",
   "metadata": {},
   "outputs": [
    {
     "data": {
      "image/png": "[encoded data removed]",
      "text/plain": [
       "<Figure size 1800x700 with 1 Axes>"
      ]
     },
     "metadata": {},
     "output_type": "display_data"
    }
   ],
   "source": [
    "%matplotlib tk\n",
    "%matplotlib inline\n",
    "# visualize embeddings\n",
    "from sklearn.manifold import TSNE\n",
    "\n",
    "p = model_vec.get_nearest_neighbors('sueño',k=15)\n",
    "similar_words = [x[1] for x in p]\n",
    "wvs = np.array([model.get_word_vector(sw) for sw in similar_words])\n",
    "\n",
    "tsne = TSNE(n_components=2, random_state=200, n_iter=5000, perplexity=2,learning_rate='auto',init='pca')\n",
    "P = tsne.fit_transform(wvs)\n",
    "labels = similar_words\n",
    "\n",
    "plt.figure(figsize=(18, 7))\n",
    "plt.scatter(P[:, 0], P[:, 1], c='lightgreen', edgecolors='b')\n",
    "plt.title('Visualización con TSNE')\n",
    "\n",
    "eps = 1e16*np.finfo(float).eps\n",
    "for label, x, y in zip(labels, P[:, 0], P[:, 1]):\n",
    "    plt.annotate(label, xy=(x+eps, y+eps), xytext=(0, 0), textcoords='offset points')"
   ]
  },
  {
   "cell_type": "markdown",
   "id": "a86ae769-7e23-44fd-9265-47c946670a16",
   "metadata": {},
   "source": [
    "### Visualización de Embeddings de Textos"
   ]
  },
  {
   "cell_type": "markdown",
   "id": "9e7a142c",
   "metadata": {},
   "source": [
    " get_sentence_vector: \n",
    " Given a string, get a single vector representation. This function assumes to be given a single line of text. We split words on\n",
    " whitespace (space, newline, tab, vertical tab) and the control characters carriage return, formfeed and the null character."
   ]
  },
  {
   "cell_type": "code",
   "execution_count": 33,
   "id": "e25cf6dc-38e4-421a-b11e-c9cb4f3ab69f",
   "metadata": {},
   "outputs": [
    {
     "data": {
      "image/png": "[encoded data removed]",
      "text/plain": [
       "<Figure size 1800x700 with 1 Axes>"
      ]
     },
     "metadata": {},
     "output_type": "display_data"
    }
   ],
   "source": [
    "textos = ['Esta mañana está muy soleada',\n",
    "         'Miguel jamás ganará',\n",
    "         'Fernando jamás ganará la presidencia',\n",
    "         'No quiero ir a votar',\n",
    "         'Quiero ir a votar',\n",
    "         'Me gusta el sol',\n",
    "         'Aprendizaje Profundo dominará el mundo']\n",
    "\n",
    "wvs = np.array([model_vec.get_sentence_vector(t) for t in textos])\n",
    "\n",
    "pca = PCA(n_components=2)\n",
    "P = pca.fit_transform(wvs)\n",
    "labels = textos\n",
    "\n",
    "plt.figure(figsize=(18, 7))\n",
    "plt.scatter(P[:, 0], P[:, 1], c='red', edgecolors='k')\n",
    "plt.title('Visualización con PCA')\n",
    "\n",
    "eps = 1e11*np.finfo(float).eps\n",
    "for label, x, y in zip(labels, P[:, 0], P[:, 1]):\n",
    "    plt.annotate(label, xy=(x+eps, y+eps), xytext=(0, 0), textcoords='offset points')\n",
    "    "
   ]
  },
  {
   "cell_type": "markdown",
   "id": "39e6b21a",
   "metadata": {},
   "source": [
    "PCA vs T-SNE\n",
    "\n",
    "La principal diferencia es que PCA es un algoritmo lineal, por lo que únicamente encontrará dependencias o relaciones lineales en los datos. De esta forma obviará todo tipo de relación polinomial compleja, mientras que T-SNE si que será capaz de resaltarlas"
   ]
  },
  {
   "cell_type": "code",
   "execution_count": 34,
   "id": "6abf8876-0b6a-4b82-aeec-c0dfef13863c",
   "metadata": {},
   "outputs": [
    {
     "data": {
      "image/png": "[encoded data removed]",
      "text/plain": [
       "<Figure size 1800x700 with 1 Axes>"
      ]
     },
     "metadata": {},
     "output_type": "display_data"
    }
   ],
   "source": [
    "from sklearn.manifold import TSNE\n",
    "\n",
    "textos = ['Esta mañana está muy soleada',\n",
    "         'Miguel jamás ganará',\n",
    "         'Francisco jamás ganará la presidencia',\n",
    "         'No quiero ir a votar',\n",
    "         'Quiero ir a votar',\n",
    "         'Me gusta el sol',\n",
    "         'Aprendizaje Profundo dominará el mundo']\n",
    "\n",
    "wvs = np.array([model_vec.get_sentence_vector(t) for t in textos])\n",
    "\n",
    "tsne = TSNE(n_components=2, random_state=200, n_iter=5000, perplexity=2,learning_rate='auto',init='pca')\n",
    "P = tsne.fit_transform(wvs)\n",
    "labels = textos\n",
    "\n",
    "plt.figure(figsize=(18, 7))\n",
    "plt.scatter(P[:, 0], P[:, 1], c='r', edgecolors='k')\n",
    "plt.title('Visualización con TSNE')\n",
    "\n",
    "eps = 1e16*np.finfo(float).eps\n",
    "for label, x, y in zip(labels, P[:, 0], P[:, 1]):\n",
    "    plt.annotate(label, xy=(x+eps, y+eps), xytext=(0, 0), textcoords='offset points')"
   ]
  },
  {
   "cell_type": "markdown",
   "id": "6f334fe7-c059-4b09-abbe-d5421a656d02",
   "metadata": {},
   "source": [
    "[[Volver al inicio]](#Contenido)"
   ]
  },
  {
   "cell_type": "markdown",
   "id": "a4395285-fa7d-4b82-867a-502d79aeee27",
   "metadata": {},
   "source": [
    "### Usando Modelos Pre-entrados en Español"
   ]
  },
  {
   "cell_type": "code",
   "execution_count": 35,
   "id": "7060793a",
   "metadata": {},
   "outputs": [
    {
     "data": {
      "text/plain": [
       "'cc.en.300.bin'"
      ]
     },
     "execution_count": 35,
     "metadata": {},
     "output_type": "execute_result"
    }
   ],
   "source": [
    "import fasttext.util\n",
    "fasttext.util.download_model('en', if_exists='ignore')  # English\n",
    "#ft = fasttext.load_model('cc.en.300.bin')"
   ]
  },
  {
   "cell_type": "code",
   "execution_count": 36,
   "id": "590b46fd",
   "metadata": {},
   "outputs": [
    {
     "data": {
      "text/plain": [
       "'cc.es.300.bin'"
      ]
     },
     "execution_count": 36,
     "metadata": {},
     "output_type": "execute_result"
    }
   ],
   "source": [
    "import fasttext.util\n",
    "fasttext.util.download_model('es', if_exists='ignore')  # Spanish"
   ]
  },
  {
   "cell_type": "code",
   "execution_count": 37,
   "id": "e348d864-1f03-42c7-a9d4-85951d7a0efd",
   "metadata": {},
   "outputs": [],
   "source": [
    "model_es = ft.load_model('cc.es.300.bin')"
   ]
  },
  {
   "cell_type": "code",
   "execution_count": 38,
   "id": "d1da4237-3d07-4163-8401-e61f4b9d4e7f",
   "metadata": {},
   "outputs": [
    {
     "data": {
      "text/plain": [
       "[(0.7171677947044373, 'sueños'),\n",
       " (0.7092401385307312, 'sueno'),\n",
       " (0.6959096789360046, 'sueño.El'),\n",
       " (0.6859577298164368, 'sueño.Y'),\n",
       " (0.6825155019760132, 'Sueño'),\n",
       " (0.6815561652183533, 'sueño.La'),\n",
       " (0.6758346557617188, 'sueño.Pero'),\n",
       " (0.6724787950515747, 'sueño.A'),\n",
       " (0.6669973134994507, 'sueño.Es'),\n",
       " (0.6650846600532532, 'sueñoUn'),\n",
       " (0.6573185920715332, 'elsueño'),\n",
       " (0.6529608964920044, 'sueño.Un'),\n",
       " (0.6516568064689636, 'sueñ'),\n",
       " (0.6469879746437073, 'sueño.En'),\n",
       " (0.6467815637588501, 'sueñoEn')]"
      ]
     },
     "execution_count": 38,
     "metadata": {},
     "output_type": "execute_result"
    }
   ],
   "source": [
    "# TAKES TIME! DONT RUN IT IN CLASS\n",
    "model_es.get_nearest_neighbors('sueño',k=15)"
   ]
  },
  {
   "cell_type": "code",
   "execution_count": 39,
   "id": "c3592835-98c1-40b1-904e-6eb178d87743",
   "metadata": {},
   "outputs": [
    {
     "data": {
      "image/png": "[encoded data removed]",
      "text/plain": [
       "<Figure size 1800x700 with 1 Axes>"
      ]
     },
     "metadata": {},
     "output_type": "display_data"
    }
   ],
   "source": [
    "textos = ['Esta mañana está muy soleada',\n",
    "         'Miguel jamás ganará',\n",
    "         'Francisco jamás ganará la presidencia',\n",
    "         'No quiero ir a votar',\n",
    "         'Quiero ir a votar',\n",
    "         'Me gusta el sol',\n",
    "         'Aprendizaje Profundo dominará el mundo']\n",
    "\n",
    "wvs = np.array([model_es.get_sentence_vector(t) for t in textos])\n",
    "\n",
    "pca = PCA(n_components=2)\n",
    "P = pca.fit_transform(wvs)\n",
    "labels = textos\n",
    "\n",
    "plt.figure(figsize=(18, 7))\n",
    "plt.scatter(P[:, 0], P[:, 1], c='red', edgecolors='k')\n",
    "plt.title('Visualización con PCA')\n",
    "\n",
    "eps = 1e13*np.finfo(float).eps\n",
    "for label, x, y in zip(labels, P[:, 0], P[:, 1]):\n",
    "    plt.annotate(label, xy=(x+eps, y+eps), xytext=(0, 0), textcoords='offset points')"
   ]
  },
  {
   "cell_type": "markdown",
   "id": "b7b98e4c-812c-4d21-b162-339fbd3db9c3",
   "metadata": {},
   "source": [
    "### Re-entrenando Embedding "
   ]
  },
  {
   "cell_type": "markdown",
   "id": "d0fc70cb-08f4-4177-96d3-655681f86ffc",
   "metadata": {},
   "source": [
    "### <span style=\"color:red\">¡NO CORRER DE MANERA LOCAL A MENOS QUE TENGA SUFICIENTE MEMORIA RAM!</span>"
   ]
  },
  {
   "cell_type": "code",
   "execution_count": 40,
   "id": "30f77aeb-0c4e-48c6-bf43-f978e372a847",
   "metadata": {},
   "outputs": [],
   "source": [
    "#model_transfer_learning_es = ft.train_unsupervised('../Datos/Poemas_Todo.txt', minCount=2, minn=3, maxn=6, dim=300,pretrainedVectors='cc.es.300.vec')"
   ]
  },
  {
   "cell_type": "code",
   "execution_count": 41,
   "id": "36c5a510",
   "metadata": {},
   "outputs": [
    {
     "data": {
      "text/plain": [
       "[(0.9971210360527039, 'amorAmor'),\n",
       " (0.9965686202049255, 'amorPor'),\n",
       " (0.9958484172821045, 'amor.Por'),\n",
       " (0.9946593642234802, 'amooor'),\n",
       " (0.9946556091308594, 'amoooor'),\n",
       " (0.9946513175964355, 'amoor'),\n",
       " (0.9946479201316833, 'amooooor'),\n",
       " (0.9946250319480896, 'amorr'),\n",
       " (0.9933939576148987, 'amHumor'),\n",
       " (0.990982174873352, 'Yamor')]"
      ]
     },
     "execution_count": 41,
     "metadata": {},
     "output_type": "execute_result"
    }
   ],
   "source": [
    "model_vec.get_nearest_neighbors('amor')"
   ]
  },
  {
   "cell_type": "markdown",
   "id": "8bbb5a66-732a-4a31-aed0-4d6ac6f05395",
   "metadata": {},
   "source": [
    "## Uso del Modelo (Wikipedia) "
   ]
  },
  {
   "cell_type": "markdown",
   "id": "c6299f83-7766-4506-a020-523d36690e5d",
   "metadata": {},
   "source": [
    "Install en Terminal de Anaconda: conda install posix \n",
    "\n",
    "(para simular linux)\n",
    "\n",
    "Primero que todo, obtengamos los datos que necesitamos:"
   ]
  },
  {
   "cell_type": "code",
   "execution_count": 42,
   "id": "26470036",
   "metadata": {},
   "outputs": [],
   "source": [
    "#!pip install wget\n"
   ]
  },
  {
   "cell_type": "markdown",
   "id": "027adf83",
   "metadata": {},
   "source": [
    "Descargar enwik9.zip"
   ]
  },
  {
   "cell_type": "code",
   "execution_count": 43,
   "id": "a80955d9",
   "metadata": {},
   "outputs": [],
   "source": [
    "#import wget\n",
    "\n",
    "#url = \"http://mattmahoney.net/dc/enwik9.zip\"\n",
    "#wget.download(url, '../Datos')"
   ]
  },
  {
   "cell_type": "code",
   "execution_count": 44,
   "id": "e2b1fb31-ef67-4b10-83b6-e117e5c24bee",
   "metadata": {},
   "outputs": [],
   "source": [
    "# Corpus Completo\n",
    "#!wget https://dumps.wikimedia.org/enwiki/latest/enwiki-latest-pages-articles.xml.bz2 -o ../Datos/enwiki-latest-pages-articles.xml.bz2\n",
    "# Corpus 1 billón de bytes (1 Giga)\n",
    "#!wget -c http://mattmahoney.net/dc/enwik9.zip -P ../Datos"
   ]
  },
  {
   "cell_type": "code",
   "execution_count": 45,
   "id": "b9da0b03",
   "metadata": {},
   "outputs": [],
   "source": [
    "#!pip install unzip"
   ]
  },
  {
   "cell_type": "code",
   "execution_count": 46,
   "id": "d482c79b",
   "metadata": {},
   "outputs": [
    {
     "data": {
      "text/plain": [
       "[]"
      ]
     },
     "execution_count": 46,
     "metadata": {},
     "output_type": "execute_result"
    }
   ],
   "source": [
    "#import glob\n",
    "#import zipfile\n",
    "\n",
    "#files = glob.glob('../Datos/*.zip')\n",
    "#files\n"
   ]
  },
  {
   "cell_type": "code",
   "execution_count": 47,
   "id": "5d632395",
   "metadata": {},
   "outputs": [],
   "source": [
    "#for file in files:\n",
    "#    print('Unzipping:',file)\n",
    "\n",
    "#    with zipfile.ZipFile(file, 'r') as zip_ref:\n",
    "#        zip_ref.extractall('../Datos')\n"
   ]
  },
  {
   "cell_type": "markdown",
   "id": "da452367-1674-41ee-a651-40da805a7f20",
   "metadata": {},
   "source": [
    "Como el formato viene en `.zip`, descomprimamos el contenido"
   ]
  },
  {
   "cell_type": "code",
   "execution_count": 48,
   "id": "be23243f-98e1-47de-9823-83588e400273",
   "metadata": {},
   "outputs": [],
   "source": [
    "#!unzip ../Datos/enwik9.zip -d ../Datos"
   ]
  },
  {
   "cell_type": "markdown",
   "id": "3bf87ff6-60fa-4f3e-840c-6cd600aa9ef7",
   "metadata": {},
   "source": [
    "Miremos algo de información:"
   ]
  },
  {
   "cell_type": "code",
   "execution_count": 49,
   "id": "4c0162c6-11ea-4583-9bbc-391d4f31cde3",
   "metadata": {},
   "outputs": [
    {
     "name": "stdout",
     "output_type": "stream",
     "text": [
      "<mediawiki xmlns=\"http://www.mediawiki.org/xml/export-0.3/\" xmlns:xsi=\"http://www.w3.org/2001/XMLSchema-instance\" xsi:schemaLocation=\"http://www.mediawiki.org/xml/export-0.3/ http://www.mediawiki.org/xml/export-0.3.xsd\" version=\"0.3\" xml:lang=\"en\">\n",
      "  <siteinfo>\n",
      "    <sitename>Wikipedia</sitename>\n",
      "    <base>http://en.wikipedia.org/wiki/Main_Page</base>\n",
      "    <generator>MediaWiki 1.6alpha</generator>\n",
      "    <case>first-letter</case>\n",
      "      <namespaces>\n",
      "      <namespace key=\"-2\">Media</namespace>\n",
      "      <namespace key=\"-1\">Special</namespace>\n",
      "      <namespace key=\"0\" />\n",
      "      <namespace key=\"1\">Talk</namespace>\n",
      "      <namespace key=\"2\">User</namespace>\n",
      "      <namespace key=\"3\">User talk</namespace>\n",
      "      <namespace key=\"4\">Wikipedia</namespace>\n",
      "      <namespace key=\"5\">Wikipedia talk</namespace>\n",
      "      <namespace key=\"6\">Image</namespace>\n",
      "      <namespace key=\"7\">Image talk</namespace>\n",
      "      <namespace key=\"8\">MediaWiki</namespace>\n",
      "      <namespace key=\"9\">MediaWiki talk</namespace>\n",
      "      <namespace key=\"10\">Template</namespace>\n",
      "      <namespace key=\"11\">Template talk</namespace>\n",
      "      <namespace key=\"12\">Help</namespace>\n",
      "      <namespace key=\"13\">Help talk</namespace>\n",
      "      <namespace key=\"14\">Category</namespace>\n",
      "      <namespace key=\"15\">Category talk</namespace>\n",
      "      <namespace key=\"100\">Portal</namespace>\n",
      "      <namespace key=\"101\">Portal talk</namespace>\n",
      "    </namespaces>\n",
      "  </siteinfo>\n",
      "  <page>\n",
      "    <title>AaA</title>\n",
      "    <id>1</id>\n",
      "    <revision>\n",
      "      <id>32899315</id>\n",
      "      <timestamp>2005-12-27T18:46:47Z</timestamp>\n",
      "      <contributor>\n",
      "        <username>Jsmethers</username>\n",
      "        <id>614213</id>\n",
      "      </contributor>\n",
      "      <text xml:space=\"preserve\">#REDIRECT [[AAA]]</text>\n",
      "    </revision>\n",
      "  </page>\n",
      "  <page>\n",
      "    <title>AlgeriA</title>\n",
      "    <id>5</id>\n",
      "    <revision>\n",
      "      <id>18063769</id>\n",
      "      <timestamp>2005-07-03T11:13:13Z</timestamp>\n",
      "      <contributor>\n",
      "        <username>Docu</username>\n",
      "        <id>8029</id>\n",
      "      </contributor>\n",
      "      <minor />\n",
      "      <comment>addi\n"
     ]
    }
   ],
   "source": [
    "#!head -c 2000 ../Datos/enwik9"
   ]
  },
  {
   "cell_type": "markdown",
   "id": "5094edac-085a-47c2-b367-52b9e9eaf898",
   "metadata": {},
   "source": [
    "Como un archivo raw de Wikipedia contiene toneladas de datos HTML/XML, preprocesaremos la información con el archivo wikifil.pl, escrito por Matt Mahoney y puede ser encontrado el script original en su paǵina personal [aquí](http://mattmahoney.net/).\n",
    "\n",
    "El script asociado funciona usando el lenguaje de programación PERL, y se ejecuta a continuación:"
   ]
  },
  {
   "cell_type": "markdown",
   "id": "f6f65a4c-ea83-46f3-9217-ec0e29654e0e",
   "metadata": {
    "tags": []
   },
   "source": [
    "### Preprocesamiento"
   ]
  },
  {
   "cell_type": "code",
   "execution_count": 50,
   "id": "7a3d7aca",
   "metadata": {},
   "outputs": [],
   "source": [
    "#import regex as re"
   ]
  },
  {
   "cell_type": "code",
   "execution_count": 51,
   "id": "ddfd525d",
   "metadata": {},
   "outputs": [],
   "source": [
    "#text=\"Les tomaron la cara 101     y respiraron. | en su frente,\""
   ]
  },
  {
   "cell_type": "code",
   "execution_count": 52,
   "id": "e4cdf528",
   "metadata": {},
   "outputs": [],
   "source": [
    "#re.sub(r'[^a-z]',text,' ')"
   ]
  },
  {
   "cell_type": "code",
   "execution_count": 53,
   "id": "ac12a08e",
   "metadata": {},
   "outputs": [],
   "source": [
    "#!pip install perl"
   ]
  },
  {
   "cell_type": "code",
   "execution_count": 54,
   "id": "0a1fdc73-71f1-4991-a543-83847c789ef3",
   "metadata": {},
   "outputs": [],
   "source": [
    "#!perl ../Datos/wikifil.pl ../Datos/enwik9 > ../Datos/fil9"
   ]
  },
  {
   "cell_type": "code",
   "execution_count": 55,
   "id": "ce57b24a",
   "metadata": {},
   "outputs": [],
   "source": [
    "#import perl\n",
    "\n",
    "#perl.eval(\"system('perl wikifil.pl enwik9 > fil9')\")"
   ]
  },
  {
   "cell_type": "code",
   "execution_count": 56,
   "id": "745ecc3d",
   "metadata": {},
   "outputs": [
    {
     "name": "stdout",
     "output_type": "stream",
     "text": [
      "From my grandfather Verus I learned good morals and the government of my temper.\n",
      "From the reputation and remembrance of my father, modesty and a manly character.\n",
      "From my mother, piety and beneficence, and abstinence, not only from evil deeds, but even from evil thoughts; and further, simplicity in my way of living, far removed from the habits of the rich.\n",
      "From my great-grandfather, not to have frequented public schools, and to have had good teachers at home, and to know that on such things a man should spend liberally.\n",
      "From my governor, to be neither of the green nor of the blue party at the games in the Circus, nor a partizan either of the Parmularius or the Scutarius at the gladiators' fights; from him too I learned endurance of labour, and to want little, and to work with my own hands, and not to meddle with other people's affairs, and not to be ready to listen to slander.\n",
      "From Diognetus, not to busy myself about trifling things, and not to give credit to what was said by miracle-workers and jugglers about incantations and the driving away of daemons and such things; and not to breed quails for fighting, nor to give myself up passionately to such things; and to endure freedom of speech; and to have become intimate with philosophy; and to have been a hearer, first of Bacchius, then of Tandasis and Marcianus; and to have written dialogues in my youth; and to have desired a plank bed and skin, and whatever else of the kind belongs to the Grecian discipline.\n",
      "From Rusticus I received the impression that my character required improvement and discipline; and from him I learned not to be led astray to sophistic emulation, nor to writing on speculative matters, nor to delivering little hortatory orations, nor to showing myself off as a man who practises much discipline, or does benevolent acts in order to make a display; and to abstain from rhetoric, and poetry, and fine writing; and not to walk about in the house in my outdoor dress, nor to do other things of the k\n"
     ]
    }
   ],
   "source": [
    "!head -c 2000 ../Datos/clean.txt"
   ]
  },
  {
   "cell_type": "markdown",
   "id": "f3b65f69-5e33-4439-8f9c-cf03f525218b",
   "metadata": {},
   "source": [
    "Veamos algo del resultado obtenido:"
   ]
  },
  {
   "cell_type": "code",
   "execution_count": 57,
   "id": "1e7627df-cb50-4e5e-9baf-03866ab32973",
   "metadata": {},
   "outputs": [],
   "source": [
    "#!head -c 2000 ../Datos/fil9"
   ]
  },
  {
   "cell_type": "markdown",
   "id": "bf6e72a8-3a62-4231-954a-c4f6803e0057",
   "metadata": {},
   "source": [
    "[[Volver al inicio]](#Contenido)"
   ]
  },
  {
   "cell_type": "markdown",
   "id": "ac4d4f46-a27e-443a-8c81-aed718cab638",
   "metadata": {
    "tags": []
   },
   "source": [
    "### Entrenando del Modelo"
   ]
  },
  {
   "cell_type": "code",
   "execution_count": 58,
   "id": "a0a7544f-8ea2-4868-b923-be908ee40f18",
   "metadata": {},
   "outputs": [],
   "source": [
    "import fasttext as ft\n",
    "\n",
    "model = ft.train_unsupervised('../Datos/clean.txt')"
   ]
  },
  {
   "cell_type": "markdown",
   "id": "a1a95e90-940a-461f-ac5d-83d82e83f275",
   "metadata": {},
   "source": [
    "[[Volver al inicio]](#Contenido)"
   ]
  },
  {
   "cell_type": "markdown",
   "id": "09a576c6-6d0c-45b9-a4e9-bd078fad6c1a",
   "metadata": {
    "tags": []
   },
   "source": [
    "### Palabras más cercanas"
   ]
  },
  {
   "cell_type": "code",
   "execution_count": 59,
   "id": "cbd8ebef-994f-47ee-a57d-3bb9b9442dbd",
   "metadata": {},
   "outputs": [
    {
     "data": {
      "text/plain": [
       "[(0.9999352097511292, 'further'),\n",
       " (0.9999281764030457, 'rather'),\n",
       " (0.9999221563339233, 'Either'),\n",
       " (0.9999096989631653, 'whether'),\n",
       " (0.999897837638855, 'together'),\n",
       " (0.9998972415924072, 'others.'),\n",
       " (0.9998875260353088, 'altogether'),\n",
       " (0.9998862147331238, 'others,'),\n",
       " (0.9998784065246582, 'Another'),\n",
       " (0.999875545501709, 'Alexander')]"
      ]
     },
     "execution_count": 59,
     "metadata": {},
     "output_type": "execute_result"
    }
   ],
   "source": [
    "model.get_nearest_neighbors('grandfather')"
   ]
  },
  {
   "cell_type": "markdown",
   "id": "1479038e-e720-4157-a99b-a549f5c6f75f",
   "metadata": {},
   "source": [
    "[[Volver al inicio]](#Contenido)"
   ]
  },
  {
   "cell_type": "markdown",
   "id": "5f98a7aa-fe59-4f49-b7a3-e94e9707c695",
   "metadata": {},
   "source": [
    "###  Curiosidades"
   ]
  },
  {
   "cell_type": "code",
   "execution_count": 60,
   "id": "ec0dbdc1-ad47-4fe1-8a19-ba775c45b550",
   "metadata": {},
   "outputs": [
    {
     "data": {
      "text/plain": [
       "[(0.9982141852378845, 'before,'),\n",
       " (0.9981576800346375, 'before'),\n",
       " (0.9981536865234375, 'They'),\n",
       " (0.9981411099433899, 'around'),\n",
       " (0.9981375336647034, 'care'),\n",
       " (0.9981345534324646, 'towards'),\n",
       " (0.9981326460838318, 'daily'),\n",
       " (0.9981279373168945, 'value'),\n",
       " (0.998126745223999, 'times'),\n",
       " (0.9981207847595215, 'To')]"
      ]
     },
     "execution_count": 60,
     "metadata": {},
     "output_type": "execute_result"
    }
   ],
   "source": [
    "model.get_nearest_neighbors('pidgey')"
   ]
  },
  {
   "cell_type": "markdown",
   "id": "6086122b-3842-450f-95b3-5d686e798cc0",
   "metadata": {},
   "source": [
    "[[Volver al inicio]](#Contenido)"
   ]
  },
  {
   "cell_type": "markdown",
   "id": "1e6099ba-392c-49de-bdd7-76b0864a809c",
   "metadata": {},
   "source": [
    "###  Analogía de Palabras"
   ]
  },
  {
   "cell_type": "code",
   "execution_count": 61,
   "id": "7d12bcb4-fa84-4c07-a309-58eedf7d616c",
   "metadata": {},
   "outputs": [
    {
     "data": {
      "text/plain": [
       "[(0.99932861328125, 'intelligence'),\n",
       " (0.9993226528167725, 'mind.'),\n",
       " (0.9993211030960083, 'hindrance'),\n",
       " (0.9993104934692383, 'intelligence.'),\n",
       " (0.9993088245391846, 'intelligent'),\n",
       " (0.999305248260498, 'mind,'),\n",
       " (0.9993047714233398, 'its'),\n",
       " (0.9993026256561279, 'every'),\n",
       " (0.9992952346801758, 'Every'),\n",
       " (0.9992846250534058, 'intellectual')]"
      ]
     },
     "execution_count": 61,
     "metadata": {},
     "output_type": "execute_result"
    }
   ],
   "source": [
    "model.get_analogies(\"berlin\", \"germany\", \"france\")"
   ]
  },
  {
   "cell_type": "markdown",
   "id": "a6aa150c-1678-44fc-b9e1-283efdc34cee",
   "metadata": {},
   "source": [
    "[[Volver al inicio]](#Contenido)"
   ]
  },
  {
   "cell_type": "markdown",
   "id": "c5ac4298-2e20-4dbc-a143-bafaf1dd9577",
   "metadata": {
    "tags": []
   },
   "source": [
    "## Modelo Supervisado"
   ]
  },
  {
   "cell_type": "markdown",
   "id": "71474a8b-701d-495e-82ec-5422c48ad7ec",
   "metadata": {},
   "source": [
    "Para este ejemplo, usaremos el conjunto de datos de preguntas de [the cooking section of Stackexchange](https://cooking.stackexchange.com/):\n",
    "Descagar el archivo cooking.stackexchange.tar.gz e instalarlo en la carpeta /Datos"
   ]
  },
  {
   "cell_type": "code",
   "execution_count": 62,
   "id": "dc311d87-61a1-4642-ba31-51066cf146c5",
   "metadata": {},
   "outputs": [],
   "source": [
    "#!wget https://dl.fbaipublicfiles.com/fasttext/data/cooking.stackexchange.tar.gz && tar xvzf cooking.stackexchange.tar.gz"
   ]
  },
  {
   "cell_type": "code",
   "execution_count": 63,
   "id": "72885fe0",
   "metadata": {},
   "outputs": [],
   "source": [
    "#import wget\n",
    "\n",
    "#url = \"https://dl.fbaipublicfiles.com/fasttext/data/cooking.stackexchange.tar.gz\"\n",
    "#wget.download(url, '../Datos')"
   ]
  },
  {
   "cell_type": "code",
   "execution_count": 64,
   "id": "9f5b31c0",
   "metadata": {},
   "outputs": [],
   "source": [
    "#import tarfile"
   ]
  },
  {
   "cell_type": "code",
   "execution_count": 65,
   "id": "b50481d3",
   "metadata": {},
   "outputs": [],
   "source": [
    "#tf = tarfile.open('../Datos/cooking.stackexchange.tar.gz')"
   ]
  },
  {
   "cell_type": "code",
   "execution_count": 66,
   "id": "f5591108",
   "metadata": {},
   "outputs": [],
   "source": [
    "#tf.extractall(r'../Datos')"
   ]
  },
  {
   "cell_type": "code",
   "execution_count": 67,
   "id": "e2fec219-b87e-4442-82e0-cd0f1a198b28",
   "metadata": {},
   "outputs": [
    {
     "name": "stdout",
     "output_type": "stream",
     "text": [
      "__label__sauce __label__cheese How much does potato starch affect a cheese sauce recipe?\n",
      "__label__food-safety __label__acidity Dangerous pathogens capable of growing in acidic environments\n",
      "__label__cast-iron __label__stove How do I cover up the white spots on my cast iron stove?\n",
      "__label__restaurant Michelin Three Star Restaurant; but if the chef is not there\n",
      "__label__knife-skills __label__dicing Without knife skills, how can I quickly and accurately dice vegetables?\n",
      "__label__storage-method __label__equipment __label__bread What's the purpose of a bread box?\n",
      "__label__baking __label__food-safety __label__substitutions __label__peanuts how to seperate peanut oil from roasted peanuts at home?\n",
      "__label__chocolate American equivalent for British chocolate terms\n",
      "__label__baking __label__oven __label__convection Fan bake vs bake\n",
      "__label__sauce __label__storage-lifetime __label__acidity __label__mayonnaise Regulation and balancing of readymade packed mayonnaise and other sauces\n"
     ]
    }
   ],
   "source": [
    "!head cooking.stackexchange.txt"
   ]
  },
  {
   "cell_type": "markdown",
   "id": "0b1c100b",
   "metadata": {},
   "source": [
    "wc: The output of this command will typically show three numbers:\n",
    "\n",
    "    The number of lines in the file.\n",
    "    The number of words in the file.\n",
    "    The number of characters (including spaces, tabs, and newlines) in the file."
   ]
  },
  {
   "cell_type": "code",
   "execution_count": 68,
   "id": "9a934f5a-4f85-4447-b5d7-4c3246fa0d34",
   "metadata": {},
   "outputs": [
    {
     "name": "stdout",
     "output_type": "stream",
     "text": [
      "  15404  169582 1401900 cooking.stackexchange.txt\n"
     ]
    }
   ],
   "source": [
    "!wc cooking.stackexchange.txt"
   ]
  },
  {
   "cell_type": "code",
   "execution_count": 69,
   "id": "8c5c4763-fd44-4ee9-a0d2-50ee151c89c2",
   "metadata": {},
   "outputs": [],
   "source": [
    "!head -n 12404 cooking.stackexchange.txt > cooking.train"
   ]
  },
  {
   "cell_type": "code",
   "execution_count": 70,
   "id": "dcf4affa-9e81-49a5-a3ae-dfaeaa82ccdf",
   "metadata": {},
   "outputs": [],
   "source": [
    "!tail -n 3000 cooking.stackexchange.txt > cooking.valid"
   ]
  },
  {
   "cell_type": "markdown",
   "id": "d0dfde01-e229-4a6f-91c5-2b05688f36af",
   "metadata": {},
   "source": [
    "[[Volver al inicio]](#Contenido)"
   ]
  },
  {
   "cell_type": "markdown",
   "id": "d65f1891-0752-4934-a12b-539a25fbfe6e",
   "metadata": {},
   "source": [
    "### Uso del Modelo"
   ]
  },
  {
   "cell_type": "code",
   "execution_count": 71,
   "id": "504df596-824c-46ff-892f-3ab07f8c035e",
   "metadata": {},
   "outputs": [],
   "source": [
    "import fasttext as ft"
   ]
  },
  {
   "cell_type": "code",
   "execution_count": 72,
   "id": "d440246d-00a7-4a10-96e8-f2b0b0d353de",
   "metadata": {},
   "outputs": [],
   "source": [
    "model = ft.train_supervised(input=\"cooking.train\")"
   ]
  },
  {
   "cell_type": "markdown",
   "id": "9b034483",
   "metadata": {},
   "source": [
    "array([0.06150715]): This is the probability score associated with the predicted label."
   ]
  },
  {
   "cell_type": "code",
   "execution_count": 73,
   "id": "e8271089-b258-4efb-9f56-83f50f6c99fd",
   "metadata": {},
   "outputs": [
    {
     "data": {
      "text/plain": [
       "(('__label__baking',), array([0.06150715]))"
      ]
     },
     "execution_count": 73,
     "metadata": {},
     "output_type": "execute_result"
    }
   ],
   "source": [
    "model.predict(\"Which baking dish is best to bake a banana bread ?\")"
   ]
  },
  {
   "cell_type": "code",
   "execution_count": 74,
   "id": "3ec03524",
   "metadata": {},
   "outputs": [
    {
     "data": {
      "text/plain": [
       "(('__label__baking', '__label__food-safety'), array([0.06150715, 0.0414247 ]))"
      ]
     },
     "execution_count": 74,
     "metadata": {},
     "output_type": "execute_result"
    }
   ],
   "source": [
    "model.predict(\"Which baking dish is best to bake a banana bread ?\",k=2)"
   ]
  },
  {
   "cell_type": "code",
   "execution_count": 75,
   "id": "84dfcc5e-755a-4e27-8bed-f3ae16fc0eeb",
   "metadata": {},
   "outputs": [
    {
     "data": {
      "text/plain": [
       "(3000, 0.13966666666666666, 0.060400749603575034)"
      ]
     },
     "execution_count": 75,
     "metadata": {},
     "output_type": "execute_result"
    }
   ],
   "source": [
    "model.test(\"cooking.valid\")"
   ]
  },
  {
   "cell_type": "markdown",
   "id": "6a116dc0",
   "metadata": {},
   "source": [
    "k=numero de etiquetas que va a predecir, por defecto es 1."
   ]
  },
  {
   "cell_type": "code",
   "execution_count": 76,
   "id": "9331f154",
   "metadata": {},
   "outputs": [
    {
     "data": {
      "text/plain": [
       "(3000, 0.0662, 0.143145451924463)"
      ]
     },
     "execution_count": 76,
     "metadata": {},
     "output_type": "execute_result"
    }
   ],
   "source": [
    "model.test(\"cooking.valid\", k=5)"
   ]
  },
  {
   "cell_type": "markdown",
   "id": "4837114c-ddba-45ca-b00d-ff195adfad62",
   "metadata": {},
   "source": [
    "[[Volver al inicio]](#Contenido)"
   ]
  },
  {
   "cell_type": "markdown",
   "id": "789784af-a957-48fa-aa1d-ad810ab7a18a",
   "metadata": {
    "tags": []
   },
   "source": [
    "### Mejorando el Modelo "
   ]
  },
  {
   "cell_type": "code",
   "execution_count": 77,
   "id": "75066d8b-9000-407b-b67d-4084702f4696",
   "metadata": {},
   "outputs": [],
   "source": [
    "!cat cooking.stackexchange.txt | sed -e \"s/\\([.\\!?,'/()]\\)/ \\1 /g\" | tr \"[:upper:]\" \"[:lower:]\" > cooking.preprocessed.txt\n",
    "!head -n 12404 cooking.preprocessed.txt > cooking.train\n",
    "!tail -n 3000 cooking.preprocessed.txt > cooking.valid"
   ]
  },
  {
   "cell_type": "code",
   "execution_count": 78,
   "id": "5a06841b-ea77-49c0-adf8-1d84d6e1a966",
   "metadata": {},
   "outputs": [],
   "source": [
    "model = ft.train_supervised(input=\"cooking.train\")"
   ]
  },
  {
   "cell_type": "code",
   "execution_count": 79,
   "id": "1fc38ec2-478f-4fac-8bb3-032ae0f13310",
   "metadata": {},
   "outputs": [
    {
     "data": {
      "text/plain": [
       "(3000, 0.154, 0.06659939455095863)"
      ]
     },
     "execution_count": 79,
     "metadata": {},
     "output_type": "execute_result"
    }
   ],
   "source": [
    "model.test(\"cooking.valid\")"
   ]
  },
  {
   "cell_type": "markdown",
   "id": "2efea151-f77f-468e-817f-bffe57939f31",
   "metadata": {},
   "source": [
    "[[Volver al inicio]](#Contenido)"
   ]
  },
  {
   "cell_type": "markdown",
   "id": "a85cf55c-1748-44f3-8a42-c1215b73bda8",
   "metadata": {},
   "source": [
    "###  Autotuning de Parámetros"
   ]
  },
  {
   "cell_type": "code",
   "execution_count": null,
   "id": "34286ee7-65ab-42fc-b984-967d2187de86",
   "metadata": {},
   "outputs": [],
   "source": [
    "model = ft.train_supervised(input='cooking.train', autotuneValidationFile='cooking.valid')"
   ]
  },
  {
   "cell_type": "code",
   "execution_count": null,
   "id": "88d56132-e967-4858-b769-a26d87b1cdef",
   "metadata": {},
   "outputs": [],
   "source": [
    "model.test(\"cooking.valid\")"
   ]
  },
  {
   "cell_type": "markdown",
   "id": "3d8ddaf7-f2bb-4161-85cc-4d0080248f0c",
   "metadata": {},
   "source": [
    "[[Volver al inicio]](#Contenido)"
   ]
  },
  {
   "cell_type": "markdown",
   "id": "092a515e-0050-4a43-a94b-696c331fd8b2",
   "metadata": {},
   "source": [
    "## <span style=\"color:blue\">Referencias</span> "
   ]
  },
  {
   "cell_type": "markdown",
   "id": "8328e410-0067-4af5-8906-60b1658db2c6",
   "metadata": {},
   "source": [
    "1. P. Bojanowski*, E. Grave*, A. Joulin, T. Mikolov, [Enriching Word Vectors with Subword Information](https://arxiv.org/pdf/1607.04606.pdf)\n",
    "2. A. Joulin, E. Grave, P. Bojanowski, T. Mikolov, [Bag of Tricks for Efficient Text Classification](https://arxiv.org/pdf/1607.01759.pdf)\n",
    "3. A. Joulin, E. Grave, P. Bojanowski, M. Douze, H. Jégou, T. Mikolov, [FastText.zip: Compressing text classification models](https://arxiv.org/pdf/1612.03651.pdf)"
   ]
  },
  {
   "cell_type": "code",
   "execution_count": null,
   "id": "e0551d50",
   "metadata": {},
   "outputs": [],
   "source": []
  },
  {
   "cell_type": "code",
   "execution_count": null,
   "id": "b8b85119",
   "metadata": {},
   "outputs": [],
   "source": []
  },
  {
   "cell_type": "code",
   "execution_count": null,
   "id": "3ad762d1",
   "metadata": {},
   "outputs": [],
   "source": []
  },
  {
   "cell_type": "code",
   "execution_count": null,
   "id": "7ac5f9fb",
   "metadata": {},
   "outputs": [],
   "source": []
  }
 ],
 "metadata": {
  "kernelspec": {
   "display_name": "Python 3",
   "language": "python",
   "name": "python3"
  },
  "language_info": {
   "codemirror_mode": {
    "name": "ipython",
    "version": 3
   },
   "file_extension": ".py",
   "mimetype": "text/x-python",
   "name": "python",
   "nbconvert_exporter": "python",
   "pygments_lexer": "ipython3",
   "version": "3.12.3"
  }
 },
 "nbformat": 4,
 "nbformat_minor": 5
}
