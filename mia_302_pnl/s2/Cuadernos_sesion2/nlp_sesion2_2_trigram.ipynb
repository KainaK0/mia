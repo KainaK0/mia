{
 "cells": [
  {
   "cell_type": "code",
   "execution_count": 1,
   "metadata": {
    "id": "kFgwEZzPA-mr"
   },
   "outputs": [],
   "source": [
    "import nltk"
   ]
  },
  {
   "cell_type": "code",
   "execution_count": 2,
   "metadata": {
    "colab": {
     "base_uri": "https://localhost:8080/"
    },
    "id": "GBjA41RPBBxB",
    "outputId": "c4e6ae61-e43e-42e3-abf5-04b18e56f14e"
   },
   "outputs": [
    {
     "name": "stderr",
     "output_type": "stream",
     "text": [
      "[nltk_data] Downloading package reuters to\n",
      "[nltk_data]     C:\\Users\\Usuario\\AppData\\Roaming\\nltk_data...\n",
      "[nltk_data]   Package reuters is already up-to-date!\n"
     ]
    },
    {
     "data": {
      "text/plain": [
       "True"
      ]
     },
     "execution_count": 2,
     "metadata": {},
     "output_type": "execute_result"
    }
   ],
   "source": [
    "nltk.download('reuters')"
   ]
  },
  {
   "cell_type": "code",
   "execution_count": 3,
   "metadata": {
    "colab": {
     "base_uri": "https://localhost:8080/"
    },
    "id": "4Ig4uFt3BHmZ",
    "outputId": "639bf9da-a8e4-4cc9-f091-63bb33aa6437"
   },
   "outputs": [
    {
     "name": "stderr",
     "output_type": "stream",
     "text": [
      "[nltk_data] Downloading package punkt to\n",
      "[nltk_data]     C:\\Users\\Usuario\\AppData\\Roaming\\nltk_data...\n",
      "[nltk_data]   Package punkt is already up-to-date!\n"
     ]
    },
    {
     "data": {
      "text/plain": [
       "True"
      ]
     },
     "execution_count": 3,
     "metadata": {},
     "output_type": "execute_result"
    }
   ],
   "source": [
    "nltk.download('punkt')"
   ]
  },
  {
   "cell_type": "code",
   "execution_count": 4,
   "metadata": {
    "colab": {
     "base_uri": "https://localhost:8080/"
    },
    "id": "pDinkows8czA",
    "outputId": "23949435-2682-438f-f8ef-0648b81b3ef9"
   },
   "outputs": [
    {
     "name": "stderr",
     "output_type": "stream",
     "text": [
      "unzip:  cannot find or open //nltk_data/corpora/reuters.zip, //nltk_data/corpora/reuters.zip.zip or //nltk_data/corpora/reuters.zip.ZIP.\n"
     ]
    }
   ],
   "source": [
    "#!unzip //nltk_data/corpora/reuters.zip -d /root/nltk_data/corpora\n"
   ]
  },
  {
   "cell_type": "markdown",
   "metadata": {
    "id": "0jN84COfyZI2"
   },
   "source": [
    "Calculate what is the next word based on probabilities"
   ]
  },
  {
   "cell_type": "code",
   "execution_count": 5,
   "metadata": {
    "id": "mysNEdlWAuGz"
   },
   "outputs": [],
   "source": [
    "# code courtesy of https://nlpforhackers.io/language-models/\n",
    "\n",
    "from nltk.corpus import reuters\n",
    "from nltk import bigrams, trigrams\n",
    "from collections import Counter, defaultdict\n",
    "\n",
    "# Create a placeholder for model\n",
    "model = defaultdict(lambda: defaultdict(lambda: 0))\n",
    "\n",
    "# Count frequency of co-occurance  \n",
    "for sentence in reuters.sents():\n",
    "    for w1, w2, w3 in trigrams(sentence, pad_right=True, pad_left=True):\n",
    "        model[(w1, w2)][w3] += 1\n",
    " \n",
    "for w1_w2 in model:\n",
    "    total_count = float(sum(model[w1_w2].values()))\n",
    "    for w3 in model[w1_w2]:\n",
    "        model[w1_w2][w3] /= total_count"
   ]
  },
  {
   "cell_type": "code",
   "execution_count": 6,
   "metadata": {},
   "outputs": [
    {
     "name": "stdout",
     "output_type": "stream",
     "text": [
      "['ASIAN', 'EXPORTERS', 'FEAR', 'DAMAGE', 'FROM', 'U', '.', 'S', '.-', 'JAPAN', 'RIFT', 'Mounting', 'trade', 'friction', 'between', 'the', 'U', '.', 'S', '.', 'And', 'Japan', 'has', 'raised', 'fears', 'among', 'many', 'of', 'Asia', \"'\", 's', 'exporting', 'nations', 'that', 'the', 'row', 'could', 'inflict', 'far', '-', 'reaching', 'economic', 'damage', ',', 'businessmen', 'and', 'officials', 'said', '.']\n",
      "['They', 'told', 'Reuter', 'correspondents', 'in', 'Asian', 'capitals', 'a', 'U', '.', 'S', '.', 'Move', 'against', 'Japan', 'might', 'boost', 'protectionist', 'sentiment', 'in', 'the', 'U', '.', 'S', '.', 'And', 'lead', 'to', 'curbs', 'on', 'American', 'imports', 'of', 'their', 'products', '.']\n",
      "['But', 'some', 'exporters', 'said', 'that', 'while', 'the', 'conflict', 'would', 'hurt', 'them', 'in', 'the', 'long', '-', 'run', ',', 'in', 'the', 'short', '-', 'term', 'Tokyo', \"'\", 's', 'loss', 'might', 'be', 'their', 'gain', '.']\n",
      "['The', 'U', '.', 'S', '.', 'Has', 'said', 'it', 'will', 'impose', '300', 'mln', 'dlrs', 'of', 'tariffs', 'on', 'imports', 'of', 'Japanese', 'electronics', 'goods', 'on', 'April', '17', ',', 'in', 'retaliation', 'for', 'Japan', \"'\", 's', 'alleged', 'failure', 'to', 'stick', 'to', 'a', 'pact', 'not', 'to', 'sell', 'semiconductors', 'on', 'world', 'markets', 'at', 'below', 'cost', '.']\n",
      "['Unofficial', 'Japanese', 'estimates', 'put', 'the', 'impact', 'of', 'the', 'tariffs', 'at', '10', 'billion', 'dlrs', 'and', 'spokesmen', 'for', 'major', 'electronics', 'firms', 'said', 'they', 'would', 'virtually', 'halt', 'exports', 'of', 'products', 'hit', 'by', 'the', 'new', 'taxes', '.']\n",
      "['\"', 'We', 'wouldn', \"'\", 't', 'be', 'able', 'to', 'do', 'business', ',\"', 'said', 'a', 'spokesman', 'for', 'leading', 'Japanese', 'electronics', 'firm', 'Matsushita', 'Electric', 'Industrial', 'Co', 'Ltd', '&', 'lt', ';', 'MC', '.', 'T', '>.']\n",
      "['\"', 'If', 'the', 'tariffs', 'remain', 'in', 'place', 'for', 'any', 'length', 'of', 'time', 'beyond', 'a', 'few', 'months', 'it', 'will', 'mean', 'the', 'complete', 'erosion', 'of', 'exports', '(', 'of', 'goods', 'subject', 'to', 'tariffs', ')', 'to', 'the', 'U', '.', 'S', '.,\"', 'said', 'Tom', 'Murtha', ',', 'a', 'stock', 'analyst', 'at', 'the', 'Tokyo', 'office', 'of', 'broker', '&', 'lt', ';', 'James', 'Capel', 'and', 'Co', '>.']\n",
      "['In', 'Taiwan', ',', 'businessmen', 'and', 'officials', 'are', 'also', 'worried', '.']\n",
      "['\"', 'We', 'are', 'aware', 'of', 'the', 'seriousness', 'of', 'the', 'U', '.', 'S', '.']\n",
      "['Threat', 'against', 'Japan', 'because', 'it', 'serves', 'as', 'a', 'warning', 'to', 'us', ',\"', 'said', 'a', 'senior', 'Taiwanese', 'trade', 'official', 'who', 'asked', 'not', 'to', 'be', 'named', '.']\n"
     ]
    }
   ],
   "source": [
    "i=0\n",
    "for sentence in reuters.sents():\n",
    "    if i<10:\n",
    "        print(sentence)\n",
    "        i +=1\n",
    "        \n",
    "        "
   ]
  },
  {
   "cell_type": "markdown",
   "metadata": {},
   "source": [
    "El dolar subio mucho:\n",
    "NA NA El\n",
    "NA El Dolar\n",
    "El dolar subio\n",
    "dolar subio mucho\n",
    "subio mucho NA\n",
    "mucho NA NA\n",
    "\n",
    "NA NA ->El (100)\n",
    "NA el ->dolar (50)\n",
    "\n",
    "NA NA ->La (80)"
   ]
  },
  {
   "cell_type": "code",
   "execution_count": 7,
   "metadata": {
    "colab": {
     "base_uri": "https://localhost:8080/"
    },
    "id": "JGfNWEFpB0Xo",
    "outputId": "2644dd91-b81a-4e93-b111-462fac4e623a"
   },
   "outputs": [
    {
     "data": {
      "text/plain": [
       "{'public': 0.05555555555555555,\n",
       " 'European': 0.05555555555555555,\n",
       " 'Bank': 0.05555555555555555,\n",
       " 'price': 0.1111111111111111,\n",
       " 'emirate': 0.05555555555555555,\n",
       " 'overseas': 0.05555555555555555,\n",
       " 'newspaper': 0.05555555555555555,\n",
       " 'company': 0.16666666666666666,\n",
       " 'Turkish': 0.05555555555555555,\n",
       " 'increase': 0.05555555555555555,\n",
       " 'options': 0.05555555555555555,\n",
       " 'Higher': 0.05555555555555555,\n",
       " 'pound': 0.05555555555555555,\n",
       " 'Italian': 0.05555555555555555,\n",
       " 'time': 0.05555555555555555}"
      ]
     },
     "execution_count": 7,
     "metadata": {},
     "output_type": "execute_result"
    }
   ],
   "source": [
    "# predict the next word\n",
    "dict(model[\"today\",\"the\"])"
   ]
  },
  {
   "cell_type": "code",
   "execution_count": 8,
   "metadata": {
    "colab": {
     "base_uri": "https://localhost:8080/"
    },
    "id": "jRLU-bJLCHlG",
    "outputId": "7c91b94f-cb6f-42b8-a099-afb3e1bd99e7"
   },
   "outputs": [
    {
     "data": {
      "text/plain": [
       "{\"'\": 0.2452344152498712,\n",
       " 'is': 0.02009273570324575,\n",
       " 'was': 0.0190623390005152,\n",
       " 'said': 0.21947449768160743,\n",
       " 'lost': 0.0030911901081916537,\n",
       " 'reported': 0.018031942297784646,\n",
       " 'to': 0.03554868624420402,\n",
       " 'has': 0.02266872746007213,\n",
       " 'and': 0.01648634724368882,\n",
       " '.': 0.08294693456980938,\n",
       " 'as': 0.004121586810922205,\n",
       " 'of': 0.0015455950540958269,\n",
       " ',': 0.04070066975785677,\n",
       " 'earned': 0.0072127769191138585,\n",
       " 'will': 0.019577537351880475,\n",
       " 'intends': 0.002575991756826378,\n",
       " 'into': 0.0015455950540958269,\n",
       " 'also': 0.0020607934054611026,\n",
       " ',\"': 0.005667181865018032,\n",
       " 'told': 0.0015455950540958269,\n",
       " 'were': 0.0010303967027305513,\n",
       " 'in': 0.006697578567748583,\n",
       " '\"': 0.0015455950540958269,\n",
       " 'had': 0.01751674394641937,\n",
       " 'realised': 0.0005151983513652757,\n",
       " 'by': 0.005151983513652756,\n",
       " 'recovered': 0.0005151983513652757,\n",
       " 'at': 0.005667181865018032,\n",
       " 'hopes': 0.0015455950540958269,\n",
       " 'anticipates': 0.0005151983513652757,\n",
       " 'would': 0.02215352910870685,\n",
       " 'could': 0.0030911901081916537,\n",
       " 'owed': 0.0005151983513652757,\n",
       " 'received': 0.0005151983513652757,\n",
       " 'still': 0.0020607934054611026,\n",
       " 'added': 0.002575991756826378,\n",
       " 'can': 0.0010303967027305513,\n",
       " 'the': 0.0015455950540958269,\n",
       " 'from': 0.002575991756826378,\n",
       " 'asked': 0.0005151983513652757,\n",
       " 'wanted': 0.0010303967027305513,\n",
       " 'for': 0.00824317362184441,\n",
       " 'it': 0.0020607934054611026,\n",
       " 'or': 0.0030911901081916537,\n",
       " 'may': 0.004121586810922205,\n",
       " 'employee': 0.0005151983513652757,\n",
       " 'after': 0.002575991756826378,\n",
       " 'public': 0.0010303967027305513,\n",
       " 'this': 0.0010303967027305513,\n",
       " 'did': 0.0020607934054611026,\n",
       " 'rejected': 0.0010303967027305513,\n",
       " 'on': 0.0015455950540958269,\n",
       " 'that': 0.0030911901081916537,\n",
       " 'if': 0.0010303967027305513,\n",
       " 'option': 0.0005151983513652757,\n",
       " 'following': 0.0010303967027305513,\n",
       " 'through': 0.002575991756826378,\n",
       " 'during': 0.0005151983513652757,\n",
       " 'because': 0.0010303967027305513,\n",
       " 'unless': 0.0005151983513652757,\n",
       " 'estimated': 0.0005151983513652757,\n",
       " 'currently': 0.0015455950540958269,\n",
       " 'normally': 0.0005151983513652757,\n",
       " 'last': 0.0015455950540958269,\n",
       " 'announced': 0.0020607934054611026,\n",
       " './': 0.0005151983513652757,\n",
       " 'does': 0.004121586810922205,\n",
       " 'already': 0.0010303967027305513,\n",
       " 'agreed': 0.0005151983513652757,\n",
       " 'posted': 0.0020607934054611026,\n",
       " 'began': 0.0005151983513652757,\n",
       " 'proposed': 0.0015455950540958269,\n",
       " 'interested': 0.0005151983513652757,\n",
       " 'with': 0.005151983513652756,\n",
       " 'decided': 0.0005151983513652757,\n",
       " 'indicated': 0.0005151983513652757,\n",
       " 'hoped': 0.0010303967027305513,\n",
       " 'explained': 0.0005151983513652757,\n",
       " 'private': 0.0030911901081916537,\n",
       " 'have': 0.0010303967027305513,\n",
       " 'hasn': 0.0005151983513652757,\n",
       " 'withdrew': 0.0005151983513652757,\n",
       " 'expects': 0.005151983513652756,\n",
       " 'paid': 0.0010303967027305513,\n",
       " 'maintained': 0.0005151983513652757,\n",
       " 'spent': 0.0005151983513652757,\n",
       " 'blamed': 0.0005151983513652757,\n",
       " 'retroactively': 0.0005151983513652757,\n",
       " 'purchased': 0.0010303967027305513,\n",
       " 'aimed': 0.0005151983513652757,\n",
       " 'acquired': 0.0015455950540958269,\n",
       " 'should': 0.0030911901081916537,\n",
       " 'might': 0.005151983513652756,\n",
       " 'increasing': 0.0005151983513652757,\n",
       " 'failed': 0.0005151983513652757,\n",
       " 'trading': 0.0005151983513652757,\n",
       " 'recognized': 0.0005151983513652757,\n",
       " 'return': 0.0005151983513652757,\n",
       " 'urged': 0.0005151983513652757,\n",
       " 'financial': 0.0005151983513652757,\n",
       " 'accepted': 0.0005151983513652757,\n",
       " 'involved': 0.0005151983513652757,\n",
       " '-': 0.0005151983513652757,\n",
       " 'described': 0.0005151983513652757,\n",
       " 'held': 0.0005151983513652757,\n",
       " 'objects': 0.0005151983513652757,\n",
       " 'now': 0.0010303967027305513,\n",
       " 'earlier': 0.0005151983513652757,\n",
       " 'decides': 0.0010303967027305513,\n",
       " 'stated': 0.0005151983513652757,\n",
       " 'believes': 0.0005151983513652757,\n",
       " 'initially': 0.0005151983513652757,\n",
       " 'capitalized': 0.0005151983513652757,\n",
       " 'presented': 0.0005151983513652757,\n",
       " 'supports': 0.0010303967027305513,\n",
       " 'prior': 0.0005151983513652757,\n",
       " 'designs': 0.0005151983513652757,\n",
       " 'sees': 0.0005151983513652757,\n",
       " 'expected': 0.0020607934054611026,\n",
       " 'faced': 0.002575991756826378,\n",
       " 'welcomes': 0.0005151983513652757,\n",
       " 'paying': 0.0005151983513652757,\n",
       " 'a': 0.0010303967027305513,\n",
       " 'declined': 0.0005151983513652757,\n",
       " 'so': 0.0005151983513652757,\n",
       " 'hard': 0.0005151983513652757,\n",
       " 'themselves': 0.0005151983513652757,\n",
       " 'but': 0.0005151983513652757,\n",
       " 'shareholders': 0.0005151983513652757,\n",
       " 'cash': 0.0005151983513652757,\n",
       " 'plans': 0.0010303967027305513,\n",
       " 'yesterday': 0.0005151983513652757,\n",
       " 'broke': 0.0005151983513652757,\n",
       " '.\"': 0.0015455950540958269,\n",
       " 'he': 0.0010303967027305513,\n",
       " 'today': 0.0005151983513652757,\n",
       " 'under': 0.0010303967027305513,\n",
       " '25': 0.0005151983513652757,\n",
       " 'wants': 0.0010303967027305513,\n",
       " 'builds': 0.0005151983513652757,\n",
       " 'set': 0.0005151983513652757,\n",
       " 'released': 0.0005151983513652757,\n",
       " 'be': 0.0005151983513652757,\n",
       " 'five': 0.0005151983513652757,\n",
       " 'changed': 0.0010303967027305513,\n",
       " 'controls': 0.0005151983513652757,\n",
       " 'its': 0.0010303967027305513,\n",
       " 'ended': 0.0005151983513652757,\n",
       " 'generated': 0.0005151983513652757,\n",
       " 'maintains': 0.0005151983513652757,\n",
       " 'redeemed': 0.0005151983513652757,\n",
       " 'nearly': 0.0005151983513652757,\n",
       " 'went': 0.0005151983513652757,\n",
       " 'December': 0.0005151983513652757,\n",
       " 'improved': 0.0005151983513652757,\n",
       " 'which': 0.0005151983513652757,\n",
       " 'until': 0.0005151983513652757,\n",
       " 'originally': 0.0005151983513652757,\n",
       " 'opened': 0.0005151983513652757,\n",
       " 'planned': 0.0010303967027305513,\n",
       " 'abandoned': 0.0005151983513652757,\n",
       " 'without': 0.0005151983513652757,\n",
       " 'significant': 0.0005151983513652757,\n",
       " 'charged': 0.0005151983513652757,\n",
       " 'alleged': 0.0005151983513652757,\n",
       " 'profitable': 0.0005151983513652757,\n",
       " 'values': 0.0005151983513652757,\n",
       " 'made': 0.0010303967027305513,\n",
       " 'cooperate': 0.0005151983513652757,\n",
       " 'almost': 0.0005151983513652757,\n",
       " 'never': 0.0005151983513652757,\n",
       " 'operated': 0.0005151983513652757,\n",
       " 'total': 0.0005151983513652757,\n",
       " 'bought': 0.0005151983513652757,\n",
       " 'must': 0.0005151983513652757,\n",
       " 'exports': 0.0005151983513652757,\n",
       " 'aims': 0.0005151983513652757,\n",
       " 'estimates': 0.0005151983513652757,\n",
       " 'chairman': 0.0005151983513652757,\n",
       " 'declared': 0.0005151983513652757,\n",
       " 'recorded': 0.0005151983513652757,\n",
       " 'approximately': 0.0005151983513652757,\n",
       " 'stressed': 0.0005151983513652757,\n",
       " 'noted': 0.0005151983513652757,\n",
       " 'outbid': 0.0005151983513652757,\n",
       " 'look': 0.0005151983513652757,\n",
       " 'transferred': 0.0005151983513652757,\n",
       " 'predicted': 0.0005151983513652757,\n",
       " 'based': 0.0005151983513652757,\n",
       " 'changes': 0.0005151983513652757,\n",
       " 'more': 0.0005151983513652757,\n",
       " 'itself': 0.0005151983513652757,\n",
       " 'called': 0.0010303967027305513,\n",
       " 'cut': 0.0005151983513652757,\n",
       " 'declining': 0.0005151983513652757,\n",
       " 'outlined': 0.0005151983513652757,\n",
       " 'remained': 0.0005151983513652757,\n",
       " 'recovers': 0.0005151983513652757}"
      ]
     },
     "execution_count": 8,
     "metadata": {},
     "output_type": "execute_result"
    }
   ],
   "source": [
    "# predict the next word\n",
    "dict(model[\"the\",\"company\"])"
   ]
  },
  {
   "cell_type": "markdown",
   "metadata": {
    "id": "hrxNZfgFyRTP"
   },
   "source": [
    "Generate Text from previous 2 words"
   ]
  },
  {
   "cell_type": "code",
   "execution_count": 12,
   "metadata": {
    "colab": {
     "base_uri": "https://localhost:8080/"
    },
    "id": "7EY5wV-pCXa3",
    "outputId": "3b1790f2-1eea-4175-a32d-fbbbd732bab9"
   },
   "outputs": [
    {
     "name": "stdout",
     "output_type": "stream",
     "text": [
      "r: 0.35828024697558736\n",
      "the bank tomorrow for the Boersen Zeitung financial daily that a likely takeover target .\n"
     ]
    }
   ],
   "source": [
    "# code courtesy of https://nlpforhackers.io/language-models/\n",
    "\n",
    "import random\n",
    "\n",
    "# starting words\n",
    "text = [\"the\", \"bank\"]\n",
    "sentence_finished = False\n",
    "\n",
    "\n",
    " \n",
    "while not sentence_finished:\n",
    "  # select a random probability threshold  \n",
    "  r = random.random()\n",
    "  accumulator = .0\n",
    "\n",
    "  for word in model[tuple(text[-2:])].keys():\n",
    "      accumulator += model[tuple(text[-2:])][word]\n",
    "      # select words that are above the probability threshold\n",
    "      if accumulator >= r:\n",
    "          text.append(word)\n",
    "          break\n",
    "\n",
    "  if text[-2:] == [None, None]:\n",
    "      sentence_finished = True\n",
    "print('r:',r)\n",
    "print (' '.join([t for t in text if t]))"
   ]
  },
  {
   "cell_type": "code",
   "execution_count": null,
   "metadata": {},
   "outputs": [],
   "source": []
  },
  {
   "cell_type": "code",
   "execution_count": null,
   "metadata": {},
   "outputs": [],
   "source": []
  }
 ],
 "metadata": {
  "colab": {
   "name": "trigram_nltk.ipynb",
   "provenance": []
  },
  "kernelspec": {
   "display_name": "Python 3 (ipykernel)",
   "language": "python",
   "name": "python3"
  },
  "language_info": {
   "codemirror_mode": {
    "name": "ipython",
    "version": 3
   },
   "file_extension": ".py",
   "mimetype": "text/x-python",
   "name": "python",
   "nbconvert_exporter": "python",
   "pygments_lexer": "ipython3",
   "version": "3.11.9"
  }
 },
 "nbformat": 4,
 "nbformat_minor": 4
}
