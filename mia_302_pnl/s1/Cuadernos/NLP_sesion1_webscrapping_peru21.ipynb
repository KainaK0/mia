{
 "cells": [
  {
   "cell_type": "markdown",
   "id": "e9aa4184",
   "metadata": {},
   "source": [
    "<span style=\"color:red\"><center>Web Scraping con Selenium</center></span>\n",
    "\n",
    " <figure>\n",
    " <center>\n",
    " <img src=\"https://sg.com.mx/sites/default/files/styles/570x500/public/images/selenium-logo.png?itok=ulUIFNXO\" width=\"200\" height=\"200\" align=\"center\" /> \n",
    " </center>\n",
    " </figure>\n",
    " \n",
    "<span style=\"color:blue\">Contenido</span>\n",
    "\n",
    "* [¿Qué es Selenium?](#¿Qué-es-Selenium?)\n",
    "* [Partes Básicas de Selenium](#Partes-Básicas-de-Selenium)\n",
    "* [STOP](#STOP)\n",
    "* [Lidiar con Captchas](#Lidiar-con-Captchas)\n",
    "* [Obteniendo información superficial](#Obteniendo-información-superficial)\n",
    "* [Obteniendo información detallada](#Obteniendo-información-detallada)\n",
    "* [Obteniendo documentos](#Obteniendo-documentos)\n",
    "* [iFrames](#iFrames)\n",
    "* [Organizando información](#Organizando-información)\n",
    "* [Utilizando IA para extraer información](#Utilizando-IA-para-extraer-información)\n",
    "\n",
    "<span style=\"color:blue\">¿Qué es Selenium?</span> \n",
    "\n",
    "<span style=\"color:blue\">Partes Básicas de Selenium</span> \n",
    "Para comenzar a usar la API de Selenium para Python, se sugiere seguir los pasos en [Selenium-Python](https://selenium-python.readthedocs.io/installation.html#drivers).\n",
    " \n",
    "**No olvidar que para que esto funcione, se debe instalar el Driver adecuado, dependiendo del Browser a utilizar.**"
   ]
  },
  {
   "cell_type": "code",
   "execution_count": 3,
   "id": "5a90c60b",
   "metadata": {},
   "outputs": [
    {
     "name": "stdout",
     "output_type": "stream",
     "text": [
      "Requirement already satisfied: selenium in /home/kainak0_pc/gitProjects/mia/mia_302_pnl/.venv/lib/python3.12/site-packages (4.32.0)\n",
      "Requirement already satisfied: urllib3<3,>=1.26 in /home/kainak0_pc/gitProjects/mia/mia_302_pnl/.venv/lib/python3.12/site-packages (from urllib3[socks]<3,>=1.26->selenium) (2.4.0)\n",
      "Requirement already satisfied: trio~=0.17 in /home/kainak0_pc/gitProjects/mia/mia_302_pnl/.venv/lib/python3.12/site-packages (from selenium) (0.30.0)\n",
      "Requirement already satisfied: trio-websocket~=0.9 in /home/kainak0_pc/gitProjects/mia/mia_302_pnl/.venv/lib/python3.12/site-packages (from selenium) (0.12.2)\n",
      "Requirement already satisfied: certifi>=2021.10.8 in /home/kainak0_pc/gitProjects/mia/mia_302_pnl/.venv/lib/python3.12/site-packages (from selenium) (2025.4.26)\n",
      "Requirement already satisfied: typing_extensions~=4.9 in /home/kainak0_pc/gitProjects/mia/mia_302_pnl/.venv/lib/python3.12/site-packages (from selenium) (4.13.2)\n",
      "Requirement already satisfied: websocket-client~=1.8 in /home/kainak0_pc/gitProjects/mia/mia_302_pnl/.venv/lib/python3.12/site-packages (from selenium) (1.8.0)\n",
      "Requirement already satisfied: attrs>=23.2.0 in /home/kainak0_pc/gitProjects/mia/mia_302_pnl/.venv/lib/python3.12/site-packages (from trio~=0.17->selenium) (25.3.0)\n",
      "Requirement already satisfied: sortedcontainers in /home/kainak0_pc/gitProjects/mia/mia_302_pnl/.venv/lib/python3.12/site-packages (from trio~=0.17->selenium) (2.4.0)\n",
      "Requirement already satisfied: idna in /home/kainak0_pc/gitProjects/mia/mia_302_pnl/.venv/lib/python3.12/site-packages (from trio~=0.17->selenium) (3.10)\n",
      "Requirement already satisfied: outcome in /home/kainak0_pc/gitProjects/mia/mia_302_pnl/.venv/lib/python3.12/site-packages (from trio~=0.17->selenium) (1.3.0.post0)\n",
      "Requirement already satisfied: sniffio>=1.3.0 in /home/kainak0_pc/gitProjects/mia/mia_302_pnl/.venv/lib/python3.12/site-packages (from trio~=0.17->selenium) (1.3.1)\n",
      "Requirement already satisfied: wsproto>=0.14 in /home/kainak0_pc/gitProjects/mia/mia_302_pnl/.venv/lib/python3.12/site-packages (from trio-websocket~=0.9->selenium) (1.2.0)\n",
      "Requirement already satisfied: pysocks!=1.5.7,<2.0,>=1.5.6 in /home/kainak0_pc/gitProjects/mia/mia_302_pnl/.venv/lib/python3.12/site-packages (from urllib3[socks]<3,>=1.26->selenium) (1.7.1)\n",
      "Requirement already satisfied: h11<1,>=0.9.0 in /home/kainak0_pc/gitProjects/mia/mia_302_pnl/.venv/lib/python3.12/site-packages (from wsproto>=0.14->trio-websocket~=0.9->selenium) (0.16.0)\n",
      "Requirement already satisfied: beautifulsoup4 in /home/kainak0_pc/gitProjects/mia/mia_302_pnl/.venv/lib/python3.12/site-packages (4.13.4)\n",
      "Requirement already satisfied: soupsieve>1.2 in /home/kainak0_pc/gitProjects/mia/mia_302_pnl/.venv/lib/python3.12/site-packages (from beautifulsoup4) (2.7)\n",
      "Requirement already satisfied: typing-extensions>=4.0.0 in /home/kainak0_pc/gitProjects/mia/mia_302_pnl/.venv/lib/python3.12/site-packages (from beautifulsoup4) (4.13.2)\n",
      "Requirement already satisfied: webdriver-manager in /home/kainak0_pc/gitProjects/mia/mia_302_pnl/.venv/lib/python3.12/site-packages (4.0.2)\n",
      "Requirement already satisfied: requests in /home/kainak0_pc/gitProjects/mia/mia_302_pnl/.venv/lib/python3.12/site-packages (from webdriver-manager) (2.32.3)\n",
      "Requirement already satisfied: python-dotenv in /home/kainak0_pc/gitProjects/mia/mia_302_pnl/.venv/lib/python3.12/site-packages (from webdriver-manager) (1.1.0)\n",
      "Requirement already satisfied: packaging in /home/kainak0_pc/gitProjects/mia/mia_302_pnl/.venv/lib/python3.12/site-packages (from webdriver-manager) (25.0)\n",
      "Requirement already satisfied: charset-normalizer<4,>=2 in /home/kainak0_pc/gitProjects/mia/mia_302_pnl/.venv/lib/python3.12/site-packages (from requests->webdriver-manager) (3.4.2)\n",
      "Requirement already satisfied: idna<4,>=2.5 in /home/kainak0_pc/gitProjects/mia/mia_302_pnl/.venv/lib/python3.12/site-packages (from requests->webdriver-manager) (3.10)\n",
      "Requirement already satisfied: urllib3<3,>=1.21.1 in /home/kainak0_pc/gitProjects/mia/mia_302_pnl/.venv/lib/python3.12/site-packages (from requests->webdriver-manager) (2.4.0)\n",
      "Requirement already satisfied: certifi>=2017.4.17 in /home/kainak0_pc/gitProjects/mia/mia_302_pnl/.venv/lib/python3.12/site-packages (from requests->webdriver-manager) (2025.4.26)\n",
      "Requirement already satisfied: html2text in /home/kainak0_pc/gitProjects/mia/mia_302_pnl/.venv/lib/python3.12/site-packages (2025.4.15)\n"
     ]
    }
   ],
   "source": [
    "!pip3 install selenium\n",
    "!pip3 install beautifulsoup4\n",
    "!pip3 install webdriver-manager\n",
    "!pip3 install html2text"
   ]
  },
  {
   "cell_type": "code",
   "execution_count": 8,
   "id": "05102c5b",
   "metadata": {},
   "outputs": [
    {
     "name": "stdout",
     "output_type": "stream",
     "text": [
      "https://peru21.pe/archivo/todas/2025-05-19/\n"
     ]
    },
    {
     "ename": "ReadTimeoutError",
     "evalue": "HTTPConnectionPool(host='localhost', port=46525): Read timed out. (read timeout=120)",
     "output_type": "error",
     "traceback": [
      "\u001b[31m---------------------------------------------------------------------------\u001b[39m",
      "\u001b[31mTimeoutError\u001b[39m                              Traceback (most recent call last)",
      "\u001b[36mFile \u001b[39m\u001b[32m~/gitProjects/mia/mia_302_pnl/.venv/lib/python3.12/site-packages/urllib3/connectionpool.py:534\u001b[39m, in \u001b[36mHTTPConnectionPool._make_request\u001b[39m\u001b[34m(self, conn, method, url, body, headers, retries, timeout, chunked, response_conn, preload_content, decode_content, enforce_content_length)\u001b[39m\n\u001b[32m    533\u001b[39m \u001b[38;5;28;01mtry\u001b[39;00m:\n\u001b[32m--> \u001b[39m\u001b[32m534\u001b[39m     response = \u001b[43mconn\u001b[49m\u001b[43m.\u001b[49m\u001b[43mgetresponse\u001b[49m\u001b[43m(\u001b[49m\u001b[43m)\u001b[49m\n\u001b[32m    535\u001b[39m \u001b[38;5;28;01mexcept\u001b[39;00m (BaseSSLError, \u001b[38;5;167;01mOSError\u001b[39;00m) \u001b[38;5;28;01mas\u001b[39;00m e:\n",
      "\u001b[36mFile \u001b[39m\u001b[32m~/gitProjects/mia/mia_302_pnl/.venv/lib/python3.12/site-packages/urllib3/connection.py:516\u001b[39m, in \u001b[36mHTTPConnection.getresponse\u001b[39m\u001b[34m(self)\u001b[39m\n\u001b[32m    515\u001b[39m \u001b[38;5;66;03m# Get the response from http.client.HTTPConnection\u001b[39;00m\n\u001b[32m--> \u001b[39m\u001b[32m516\u001b[39m httplib_response = \u001b[38;5;28;43msuper\u001b[39;49m\u001b[43m(\u001b[49m\u001b[43m)\u001b[49m\u001b[43m.\u001b[49m\u001b[43mgetresponse\u001b[49m\u001b[43m(\u001b[49m\u001b[43m)\u001b[49m\n\u001b[32m    518\u001b[39m \u001b[38;5;28;01mtry\u001b[39;00m:\n",
      "\u001b[36mFile \u001b[39m\u001b[32m/usr/lib/python3.12/http/client.py:1428\u001b[39m, in \u001b[36mHTTPConnection.getresponse\u001b[39m\u001b[34m(self)\u001b[39m\n\u001b[32m   1427\u001b[39m \u001b[38;5;28;01mtry\u001b[39;00m:\n\u001b[32m-> \u001b[39m\u001b[32m1428\u001b[39m     \u001b[43mresponse\u001b[49m\u001b[43m.\u001b[49m\u001b[43mbegin\u001b[49m\u001b[43m(\u001b[49m\u001b[43m)\u001b[49m\n\u001b[32m   1429\u001b[39m \u001b[38;5;28;01mexcept\u001b[39;00m \u001b[38;5;167;01mConnectionError\u001b[39;00m:\n",
      "\u001b[36mFile \u001b[39m\u001b[32m/usr/lib/python3.12/http/client.py:331\u001b[39m, in \u001b[36mHTTPResponse.begin\u001b[39m\u001b[34m(self)\u001b[39m\n\u001b[32m    330\u001b[39m \u001b[38;5;28;01mwhile\u001b[39;00m \u001b[38;5;28;01mTrue\u001b[39;00m:\n\u001b[32m--> \u001b[39m\u001b[32m331\u001b[39m     version, status, reason = \u001b[38;5;28;43mself\u001b[39;49m\u001b[43m.\u001b[49m\u001b[43m_read_status\u001b[49m\u001b[43m(\u001b[49m\u001b[43m)\u001b[49m\n\u001b[32m    332\u001b[39m     \u001b[38;5;28;01mif\u001b[39;00m status != CONTINUE:\n",
      "\u001b[36mFile \u001b[39m\u001b[32m/usr/lib/python3.12/http/client.py:292\u001b[39m, in \u001b[36mHTTPResponse._read_status\u001b[39m\u001b[34m(self)\u001b[39m\n\u001b[32m    291\u001b[39m \u001b[38;5;28;01mdef\u001b[39;00m\u001b[38;5;250m \u001b[39m\u001b[34m_read_status\u001b[39m(\u001b[38;5;28mself\u001b[39m):\n\u001b[32m--> \u001b[39m\u001b[32m292\u001b[39m     line = \u001b[38;5;28mstr\u001b[39m(\u001b[38;5;28;43mself\u001b[39;49m\u001b[43m.\u001b[49m\u001b[43mfp\u001b[49m\u001b[43m.\u001b[49m\u001b[43mreadline\u001b[49m\u001b[43m(\u001b[49m\u001b[43m_MAXLINE\u001b[49m\u001b[43m \u001b[49m\u001b[43m+\u001b[49m\u001b[43m \u001b[49m\u001b[32;43m1\u001b[39;49m\u001b[43m)\u001b[49m, \u001b[33m\"\u001b[39m\u001b[33miso-8859-1\u001b[39m\u001b[33m\"\u001b[39m)\n\u001b[32m    293\u001b[39m     \u001b[38;5;28;01mif\u001b[39;00m \u001b[38;5;28mlen\u001b[39m(line) > _MAXLINE:\n",
      "\u001b[36mFile \u001b[39m\u001b[32m/usr/lib/python3.12/socket.py:707\u001b[39m, in \u001b[36mSocketIO.readinto\u001b[39m\u001b[34m(self, b)\u001b[39m\n\u001b[32m    706\u001b[39m \u001b[38;5;28;01mtry\u001b[39;00m:\n\u001b[32m--> \u001b[39m\u001b[32m707\u001b[39m     \u001b[38;5;28;01mreturn\u001b[39;00m \u001b[38;5;28;43mself\u001b[39;49m\u001b[43m.\u001b[49m\u001b[43m_sock\u001b[49m\u001b[43m.\u001b[49m\u001b[43mrecv_into\u001b[49m\u001b[43m(\u001b[49m\u001b[43mb\u001b[49m\u001b[43m)\u001b[49m\n\u001b[32m    708\u001b[39m \u001b[38;5;28;01mexcept\u001b[39;00m timeout:\n",
      "\u001b[31mTimeoutError\u001b[39m: timed out",
      "\nThe above exception was the direct cause of the following exception:\n",
      "\u001b[31mReadTimeoutError\u001b[39m                          Traceback (most recent call last)",
      "\u001b[36mCell\u001b[39m\u001b[36m \u001b[39m\u001b[32mIn[8]\u001b[39m\u001b[32m, line 20\u001b[39m\n\u001b[32m     17\u001b[39m url = \u001b[33m\"\u001b[39m\u001b[33mhttps://peru21.pe/archivo/todas/\u001b[39m\u001b[33m\"\u001b[39m + formatted_date + \u001b[33m\"\u001b[39m\u001b[33m/\u001b[39m\u001b[33m\"\u001b[39m\n\u001b[32m     19\u001b[39m \u001b[38;5;28mprint\u001b[39m(url)\n\u001b[32m---> \u001b[39m\u001b[32m20\u001b[39m \u001b[43mdriver\u001b[49m\u001b[43m.\u001b[49m\u001b[43mget\u001b[49m\u001b[43m(\u001b[49m\u001b[43murl\u001b[49m\u001b[43m)\u001b[49m\n",
      "\u001b[36mFile \u001b[39m\u001b[32m~/gitProjects/mia/mia_302_pnl/.venv/lib/python3.12/site-packages/selenium/webdriver/remote/webdriver.py:473\u001b[39m, in \u001b[36mWebDriver.get\u001b[39m\u001b[34m(self, url)\u001b[39m\n\u001b[32m    455\u001b[39m \u001b[38;5;28;01mdef\u001b[39;00m\u001b[38;5;250m \u001b[39m\u001b[34mget\u001b[39m(\u001b[38;5;28mself\u001b[39m, url: \u001b[38;5;28mstr\u001b[39m) -> \u001b[38;5;28;01mNone\u001b[39;00m:\n\u001b[32m    456\u001b[39m \u001b[38;5;250m    \u001b[39m\u001b[33;03m\"\"\"Navigate the browser to the specified URL in the current window or\u001b[39;00m\n\u001b[32m    457\u001b[39m \u001b[33;03m    tab.\u001b[39;00m\n\u001b[32m    458\u001b[39m \n\u001b[32m   (...)\u001b[39m\u001b[32m    471\u001b[39m \u001b[33;03m    >>> driver.get(\"https://example.com\")\u001b[39;00m\n\u001b[32m    472\u001b[39m \u001b[33;03m    \"\"\"\u001b[39;00m\n\u001b[32m--> \u001b[39m\u001b[32m473\u001b[39m     \u001b[38;5;28;43mself\u001b[39;49m\u001b[43m.\u001b[49m\u001b[43mexecute\u001b[49m\u001b[43m(\u001b[49m\u001b[43mCommand\u001b[49m\u001b[43m.\u001b[49m\u001b[43mGET\u001b[49m\u001b[43m,\u001b[49m\u001b[43m \u001b[49m\u001b[43m{\u001b[49m\u001b[33;43m\"\u001b[39;49m\u001b[33;43murl\u001b[39;49m\u001b[33;43m\"\u001b[39;49m\u001b[43m:\u001b[49m\u001b[43m \u001b[49m\u001b[43murl\u001b[49m\u001b[43m}\u001b[49m\u001b[43m)\u001b[49m\n",
      "\u001b[36mFile \u001b[39m\u001b[32m~/gitProjects/mia/mia_302_pnl/.venv/lib/python3.12/site-packages/selenium/webdriver/remote/webdriver.py:446\u001b[39m, in \u001b[36mWebDriver.execute\u001b[39m\u001b[34m(self, driver_command, params)\u001b[39m\n\u001b[32m    443\u001b[39m     \u001b[38;5;28;01melif\u001b[39;00m \u001b[33m\"\u001b[39m\u001b[33msessionId\u001b[39m\u001b[33m\"\u001b[39m \u001b[38;5;129;01mnot\u001b[39;00m \u001b[38;5;129;01min\u001b[39;00m params:\n\u001b[32m    444\u001b[39m         params[\u001b[33m\"\u001b[39m\u001b[33msessionId\u001b[39m\u001b[33m\"\u001b[39m] = \u001b[38;5;28mself\u001b[39m.session_id\n\u001b[32m--> \u001b[39m\u001b[32m446\u001b[39m response = \u001b[38;5;28;43mself\u001b[39;49m\u001b[43m.\u001b[49m\u001b[43mcommand_executor\u001b[49m\u001b[43m.\u001b[49m\u001b[43mexecute\u001b[49m\u001b[43m(\u001b[49m\u001b[43mdriver_command\u001b[49m\u001b[43m,\u001b[49m\u001b[43m \u001b[49m\u001b[43mparams\u001b[49m\u001b[43m)\u001b[49m\n\u001b[32m    447\u001b[39m \u001b[38;5;28;01mif\u001b[39;00m response:\n\u001b[32m    448\u001b[39m     \u001b[38;5;28mself\u001b[39m.error_handler.check_response(response)\n",
      "\u001b[36mFile \u001b[39m\u001b[32m~/gitProjects/mia/mia_302_pnl/.venv/lib/python3.12/site-packages/selenium/webdriver/remote/remote_connection.py:404\u001b[39m, in \u001b[36mRemoteConnection.execute\u001b[39m\u001b[34m(self, command, params)\u001b[39m\n\u001b[32m    402\u001b[39m trimmed = \u001b[38;5;28mself\u001b[39m._trim_large_entries(params)\n\u001b[32m    403\u001b[39m LOGGER.debug(\u001b[33m\"\u001b[39m\u001b[38;5;132;01m%s\u001b[39;00m\u001b[33m \u001b[39m\u001b[38;5;132;01m%s\u001b[39;00m\u001b[33m \u001b[39m\u001b[38;5;132;01m%s\u001b[39;00m\u001b[33m\"\u001b[39m, command_info[\u001b[32m0\u001b[39m], url, \u001b[38;5;28mstr\u001b[39m(trimmed))\n\u001b[32m--> \u001b[39m\u001b[32m404\u001b[39m \u001b[38;5;28;01mreturn\u001b[39;00m \u001b[38;5;28;43mself\u001b[39;49m\u001b[43m.\u001b[49m\u001b[43m_request\u001b[49m\u001b[43m(\u001b[49m\u001b[43mcommand_info\u001b[49m\u001b[43m[\u001b[49m\u001b[32;43m0\u001b[39;49m\u001b[43m]\u001b[49m\u001b[43m,\u001b[49m\u001b[43m \u001b[49m\u001b[43murl\u001b[49m\u001b[43m,\u001b[49m\u001b[43m \u001b[49m\u001b[43mbody\u001b[49m\u001b[43m=\u001b[49m\u001b[43mdata\u001b[49m\u001b[43m)\u001b[49m\n",
      "\u001b[36mFile \u001b[39m\u001b[32m~/gitProjects/mia/mia_302_pnl/.venv/lib/python3.12/site-packages/selenium/webdriver/remote/remote_connection.py:428\u001b[39m, in \u001b[36mRemoteConnection._request\u001b[39m\u001b[34m(self, method, url, body)\u001b[39m\n\u001b[32m    425\u001b[39m     body = \u001b[38;5;28;01mNone\u001b[39;00m\n\u001b[32m    427\u001b[39m \u001b[38;5;28;01mif\u001b[39;00m \u001b[38;5;28mself\u001b[39m._client_config.keep_alive:\n\u001b[32m--> \u001b[39m\u001b[32m428\u001b[39m     response = \u001b[38;5;28;43mself\u001b[39;49m\u001b[43m.\u001b[49m\u001b[43m_conn\u001b[49m\u001b[43m.\u001b[49m\u001b[43mrequest\u001b[49m\u001b[43m(\u001b[49m\u001b[43mmethod\u001b[49m\u001b[43m,\u001b[49m\u001b[43m \u001b[49m\u001b[43murl\u001b[49m\u001b[43m,\u001b[49m\u001b[43m \u001b[49m\u001b[43mbody\u001b[49m\u001b[43m=\u001b[49m\u001b[43mbody\u001b[49m\u001b[43m,\u001b[49m\u001b[43m \u001b[49m\u001b[43mheaders\u001b[49m\u001b[43m=\u001b[49m\u001b[43mheaders\u001b[49m\u001b[43m,\u001b[49m\u001b[43m \u001b[49m\u001b[43mtimeout\u001b[49m\u001b[43m=\u001b[49m\u001b[38;5;28;43mself\u001b[39;49m\u001b[43m.\u001b[49m\u001b[43m_client_config\u001b[49m\u001b[43m.\u001b[49m\u001b[43mtimeout\u001b[49m\u001b[43m)\u001b[49m\n\u001b[32m    429\u001b[39m     statuscode = response.status\n\u001b[32m    430\u001b[39m \u001b[38;5;28;01melse\u001b[39;00m:\n",
      "\u001b[36mFile \u001b[39m\u001b[32m~/gitProjects/mia/mia_302_pnl/.venv/lib/python3.12/site-packages/urllib3/_request_methods.py:143\u001b[39m, in \u001b[36mRequestMethods.request\u001b[39m\u001b[34m(self, method, url, body, fields, headers, json, **urlopen_kw)\u001b[39m\n\u001b[32m    135\u001b[39m     \u001b[38;5;28;01mreturn\u001b[39;00m \u001b[38;5;28mself\u001b[39m.request_encode_url(\n\u001b[32m    136\u001b[39m         method,\n\u001b[32m    137\u001b[39m         url,\n\u001b[32m   (...)\u001b[39m\u001b[32m    140\u001b[39m         **urlopen_kw,\n\u001b[32m    141\u001b[39m     )\n\u001b[32m    142\u001b[39m \u001b[38;5;28;01melse\u001b[39;00m:\n\u001b[32m--> \u001b[39m\u001b[32m143\u001b[39m     \u001b[38;5;28;01mreturn\u001b[39;00m \u001b[38;5;28;43mself\u001b[39;49m\u001b[43m.\u001b[49m\u001b[43mrequest_encode_body\u001b[49m\u001b[43m(\u001b[49m\n\u001b[32m    144\u001b[39m \u001b[43m        \u001b[49m\u001b[43mmethod\u001b[49m\u001b[43m,\u001b[49m\u001b[43m \u001b[49m\u001b[43murl\u001b[49m\u001b[43m,\u001b[49m\u001b[43m \u001b[49m\u001b[43mfields\u001b[49m\u001b[43m=\u001b[49m\u001b[43mfields\u001b[49m\u001b[43m,\u001b[49m\u001b[43m \u001b[49m\u001b[43mheaders\u001b[49m\u001b[43m=\u001b[49m\u001b[43mheaders\u001b[49m\u001b[43m,\u001b[49m\u001b[43m \u001b[49m\u001b[43m*\u001b[49m\u001b[43m*\u001b[49m\u001b[43murlopen_kw\u001b[49m\n\u001b[32m    145\u001b[39m \u001b[43m    \u001b[49m\u001b[43m)\u001b[49m\n",
      "\u001b[36mFile \u001b[39m\u001b[32m~/gitProjects/mia/mia_302_pnl/.venv/lib/python3.12/site-packages/urllib3/_request_methods.py:278\u001b[39m, in \u001b[36mRequestMethods.request_encode_body\u001b[39m\u001b[34m(self, method, url, fields, headers, encode_multipart, multipart_boundary, **urlopen_kw)\u001b[39m\n\u001b[32m    274\u001b[39m     extra_kw[\u001b[33m\"\u001b[39m\u001b[33mheaders\u001b[39m\u001b[33m\"\u001b[39m].setdefault(\u001b[33m\"\u001b[39m\u001b[33mContent-Type\u001b[39m\u001b[33m\"\u001b[39m, content_type)\n\u001b[32m    276\u001b[39m extra_kw.update(urlopen_kw)\n\u001b[32m--> \u001b[39m\u001b[32m278\u001b[39m \u001b[38;5;28;01mreturn\u001b[39;00m \u001b[38;5;28;43mself\u001b[39;49m\u001b[43m.\u001b[49m\u001b[43murlopen\u001b[49m\u001b[43m(\u001b[49m\u001b[43mmethod\u001b[49m\u001b[43m,\u001b[49m\u001b[43m \u001b[49m\u001b[43murl\u001b[49m\u001b[43m,\u001b[49m\u001b[43m \u001b[49m\u001b[43m*\u001b[49m\u001b[43m*\u001b[49m\u001b[43mextra_kw\u001b[49m\u001b[43m)\u001b[49m\n",
      "\u001b[36mFile \u001b[39m\u001b[32m~/gitProjects/mia/mia_302_pnl/.venv/lib/python3.12/site-packages/urllib3/poolmanager.py:443\u001b[39m, in \u001b[36mPoolManager.urlopen\u001b[39m\u001b[34m(self, method, url, redirect, **kw)\u001b[39m\n\u001b[32m    441\u001b[39m     response = conn.urlopen(method, url, **kw)\n\u001b[32m    442\u001b[39m \u001b[38;5;28;01melse\u001b[39;00m:\n\u001b[32m--> \u001b[39m\u001b[32m443\u001b[39m     response = \u001b[43mconn\u001b[49m\u001b[43m.\u001b[49m\u001b[43murlopen\u001b[49m\u001b[43m(\u001b[49m\u001b[43mmethod\u001b[49m\u001b[43m,\u001b[49m\u001b[43m \u001b[49m\u001b[43mu\u001b[49m\u001b[43m.\u001b[49m\u001b[43mrequest_uri\u001b[49m\u001b[43m,\u001b[49m\u001b[43m \u001b[49m\u001b[43m*\u001b[49m\u001b[43m*\u001b[49m\u001b[43mkw\u001b[49m\u001b[43m)\u001b[49m\n\u001b[32m    445\u001b[39m redirect_location = redirect \u001b[38;5;129;01mand\u001b[39;00m response.get_redirect_location()\n\u001b[32m    446\u001b[39m \u001b[38;5;28;01mif\u001b[39;00m \u001b[38;5;129;01mnot\u001b[39;00m redirect_location:\n",
      "\u001b[36mFile \u001b[39m\u001b[32m~/gitProjects/mia/mia_302_pnl/.venv/lib/python3.12/site-packages/urllib3/connectionpool.py:841\u001b[39m, in \u001b[36mHTTPConnectionPool.urlopen\u001b[39m\u001b[34m(self, method, url, body, headers, retries, redirect, assert_same_host, timeout, pool_timeout, release_conn, chunked, body_pos, preload_content, decode_content, **response_kw)\u001b[39m\n\u001b[32m    838\u001b[39m \u001b[38;5;28;01melif\u001b[39;00m \u001b[38;5;28misinstance\u001b[39m(new_e, (\u001b[38;5;167;01mOSError\u001b[39;00m, HTTPException)):\n\u001b[32m    839\u001b[39m     new_e = ProtocolError(\u001b[33m\"\u001b[39m\u001b[33mConnection aborted.\u001b[39m\u001b[33m\"\u001b[39m, new_e)\n\u001b[32m--> \u001b[39m\u001b[32m841\u001b[39m retries = \u001b[43mretries\u001b[49m\u001b[43m.\u001b[49m\u001b[43mincrement\u001b[49m\u001b[43m(\u001b[49m\n\u001b[32m    842\u001b[39m \u001b[43m    \u001b[49m\u001b[43mmethod\u001b[49m\u001b[43m,\u001b[49m\u001b[43m \u001b[49m\u001b[43murl\u001b[49m\u001b[43m,\u001b[49m\u001b[43m \u001b[49m\u001b[43merror\u001b[49m\u001b[43m=\u001b[49m\u001b[43mnew_e\u001b[49m\u001b[43m,\u001b[49m\u001b[43m \u001b[49m\u001b[43m_pool\u001b[49m\u001b[43m=\u001b[49m\u001b[38;5;28;43mself\u001b[39;49m\u001b[43m,\u001b[49m\u001b[43m \u001b[49m\u001b[43m_stacktrace\u001b[49m\u001b[43m=\u001b[49m\u001b[43msys\u001b[49m\u001b[43m.\u001b[49m\u001b[43mexc_info\u001b[49m\u001b[43m(\u001b[49m\u001b[43m)\u001b[49m\u001b[43m[\u001b[49m\u001b[32;43m2\u001b[39;49m\u001b[43m]\u001b[49m\n\u001b[32m    843\u001b[39m \u001b[43m\u001b[49m\u001b[43m)\u001b[49m\n\u001b[32m    844\u001b[39m retries.sleep()\n\u001b[32m    846\u001b[39m \u001b[38;5;66;03m# Keep track of the error for the retry warning.\u001b[39;00m\n",
      "\u001b[36mFile \u001b[39m\u001b[32m~/gitProjects/mia/mia_302_pnl/.venv/lib/python3.12/site-packages/urllib3/util/retry.py:474\u001b[39m, in \u001b[36mRetry.increment\u001b[39m\u001b[34m(self, method, url, response, error, _pool, _stacktrace)\u001b[39m\n\u001b[32m    471\u001b[39m \u001b[38;5;28;01melif\u001b[39;00m error \u001b[38;5;129;01mand\u001b[39;00m \u001b[38;5;28mself\u001b[39m._is_read_error(error):\n\u001b[32m    472\u001b[39m     \u001b[38;5;66;03m# Read retry?\u001b[39;00m\n\u001b[32m    473\u001b[39m     \u001b[38;5;28;01mif\u001b[39;00m read \u001b[38;5;129;01mis\u001b[39;00m \u001b[38;5;28;01mFalse\u001b[39;00m \u001b[38;5;129;01mor\u001b[39;00m method \u001b[38;5;129;01mis\u001b[39;00m \u001b[38;5;28;01mNone\u001b[39;00m \u001b[38;5;129;01mor\u001b[39;00m \u001b[38;5;129;01mnot\u001b[39;00m \u001b[38;5;28mself\u001b[39m._is_method_retryable(method):\n\u001b[32m--> \u001b[39m\u001b[32m474\u001b[39m         \u001b[38;5;28;01mraise\u001b[39;00m \u001b[43mreraise\u001b[49m\u001b[43m(\u001b[49m\u001b[38;5;28;43mtype\u001b[39;49m\u001b[43m(\u001b[49m\u001b[43merror\u001b[49m\u001b[43m)\u001b[49m\u001b[43m,\u001b[49m\u001b[43m \u001b[49m\u001b[43merror\u001b[49m\u001b[43m,\u001b[49m\u001b[43m \u001b[49m\u001b[43m_stacktrace\u001b[49m\u001b[43m)\u001b[49m\n\u001b[32m    475\u001b[39m     \u001b[38;5;28;01melif\u001b[39;00m read \u001b[38;5;129;01mis\u001b[39;00m \u001b[38;5;129;01mnot\u001b[39;00m \u001b[38;5;28;01mNone\u001b[39;00m:\n\u001b[32m    476\u001b[39m         read -= \u001b[32m1\u001b[39m\n",
      "\u001b[36mFile \u001b[39m\u001b[32m~/gitProjects/mia/mia_302_pnl/.venv/lib/python3.12/site-packages/urllib3/util/util.py:39\u001b[39m, in \u001b[36mreraise\u001b[39m\u001b[34m(tp, value, tb)\u001b[39m\n\u001b[32m     37\u001b[39m     \u001b[38;5;28;01mif\u001b[39;00m value.__traceback__ \u001b[38;5;129;01mis\u001b[39;00m \u001b[38;5;129;01mnot\u001b[39;00m tb:\n\u001b[32m     38\u001b[39m         \u001b[38;5;28;01mraise\u001b[39;00m value.with_traceback(tb)\n\u001b[32m---> \u001b[39m\u001b[32m39\u001b[39m     \u001b[38;5;28;01mraise\u001b[39;00m value\n\u001b[32m     40\u001b[39m \u001b[38;5;28;01mfinally\u001b[39;00m:\n\u001b[32m     41\u001b[39m     value = \u001b[38;5;28;01mNone\u001b[39;00m  \u001b[38;5;66;03m# type: ignore[assignment]\u001b[39;00m\n",
      "\u001b[36mFile \u001b[39m\u001b[32m~/gitProjects/mia/mia_302_pnl/.venv/lib/python3.12/site-packages/urllib3/connectionpool.py:787\u001b[39m, in \u001b[36mHTTPConnectionPool.urlopen\u001b[39m\u001b[34m(self, method, url, body, headers, retries, redirect, assert_same_host, timeout, pool_timeout, release_conn, chunked, body_pos, preload_content, decode_content, **response_kw)\u001b[39m\n\u001b[32m    784\u001b[39m response_conn = conn \u001b[38;5;28;01mif\u001b[39;00m \u001b[38;5;129;01mnot\u001b[39;00m release_conn \u001b[38;5;28;01melse\u001b[39;00m \u001b[38;5;28;01mNone\u001b[39;00m\n\u001b[32m    786\u001b[39m \u001b[38;5;66;03m# Make the request on the HTTPConnection object\u001b[39;00m\n\u001b[32m--> \u001b[39m\u001b[32m787\u001b[39m response = \u001b[38;5;28;43mself\u001b[39;49m\u001b[43m.\u001b[49m\u001b[43m_make_request\u001b[49m\u001b[43m(\u001b[49m\n\u001b[32m    788\u001b[39m \u001b[43m    \u001b[49m\u001b[43mconn\u001b[49m\u001b[43m,\u001b[49m\n\u001b[32m    789\u001b[39m \u001b[43m    \u001b[49m\u001b[43mmethod\u001b[49m\u001b[43m,\u001b[49m\n\u001b[32m    790\u001b[39m \u001b[43m    \u001b[49m\u001b[43murl\u001b[49m\u001b[43m,\u001b[49m\n\u001b[32m    791\u001b[39m \u001b[43m    \u001b[49m\u001b[43mtimeout\u001b[49m\u001b[43m=\u001b[49m\u001b[43mtimeout_obj\u001b[49m\u001b[43m,\u001b[49m\n\u001b[32m    792\u001b[39m \u001b[43m    \u001b[49m\u001b[43mbody\u001b[49m\u001b[43m=\u001b[49m\u001b[43mbody\u001b[49m\u001b[43m,\u001b[49m\n\u001b[32m    793\u001b[39m \u001b[43m    \u001b[49m\u001b[43mheaders\u001b[49m\u001b[43m=\u001b[49m\u001b[43mheaders\u001b[49m\u001b[43m,\u001b[49m\n\u001b[32m    794\u001b[39m \u001b[43m    \u001b[49m\u001b[43mchunked\u001b[49m\u001b[43m=\u001b[49m\u001b[43mchunked\u001b[49m\u001b[43m,\u001b[49m\n\u001b[32m    795\u001b[39m \u001b[43m    \u001b[49m\u001b[43mretries\u001b[49m\u001b[43m=\u001b[49m\u001b[43mretries\u001b[49m\u001b[43m,\u001b[49m\n\u001b[32m    796\u001b[39m \u001b[43m    \u001b[49m\u001b[43mresponse_conn\u001b[49m\u001b[43m=\u001b[49m\u001b[43mresponse_conn\u001b[49m\u001b[43m,\u001b[49m\n\u001b[32m    797\u001b[39m \u001b[43m    \u001b[49m\u001b[43mpreload_content\u001b[49m\u001b[43m=\u001b[49m\u001b[43mpreload_content\u001b[49m\u001b[43m,\u001b[49m\n\u001b[32m    798\u001b[39m \u001b[43m    \u001b[49m\u001b[43mdecode_content\u001b[49m\u001b[43m=\u001b[49m\u001b[43mdecode_content\u001b[49m\u001b[43m,\u001b[49m\n\u001b[32m    799\u001b[39m \u001b[43m    \u001b[49m\u001b[43m*\u001b[49m\u001b[43m*\u001b[49m\u001b[43mresponse_kw\u001b[49m\u001b[43m,\u001b[49m\n\u001b[32m    800\u001b[39m \u001b[43m\u001b[49m\u001b[43m)\u001b[49m\n\u001b[32m    802\u001b[39m \u001b[38;5;66;03m# Everything went great!\u001b[39;00m\n\u001b[32m    803\u001b[39m clean_exit = \u001b[38;5;28;01mTrue\u001b[39;00m\n",
      "\u001b[36mFile \u001b[39m\u001b[32m~/gitProjects/mia/mia_302_pnl/.venv/lib/python3.12/site-packages/urllib3/connectionpool.py:536\u001b[39m, in \u001b[36mHTTPConnectionPool._make_request\u001b[39m\u001b[34m(self, conn, method, url, body, headers, retries, timeout, chunked, response_conn, preload_content, decode_content, enforce_content_length)\u001b[39m\n\u001b[32m    534\u001b[39m     response = conn.getresponse()\n\u001b[32m    535\u001b[39m \u001b[38;5;28;01mexcept\u001b[39;00m (BaseSSLError, \u001b[38;5;167;01mOSError\u001b[39;00m) \u001b[38;5;28;01mas\u001b[39;00m e:\n\u001b[32m--> \u001b[39m\u001b[32m536\u001b[39m     \u001b[38;5;28;43mself\u001b[39;49m\u001b[43m.\u001b[49m\u001b[43m_raise_timeout\u001b[49m\u001b[43m(\u001b[49m\u001b[43merr\u001b[49m\u001b[43m=\u001b[49m\u001b[43me\u001b[49m\u001b[43m,\u001b[49m\u001b[43m \u001b[49m\u001b[43murl\u001b[49m\u001b[43m=\u001b[49m\u001b[43murl\u001b[49m\u001b[43m,\u001b[49m\u001b[43m \u001b[49m\u001b[43mtimeout_value\u001b[49m\u001b[43m=\u001b[49m\u001b[43mread_timeout\u001b[49m\u001b[43m)\u001b[49m\n\u001b[32m    537\u001b[39m     \u001b[38;5;28;01mraise\u001b[39;00m\n\u001b[32m    539\u001b[39m \u001b[38;5;66;03m# Set properties that are used by the pooling layer.\u001b[39;00m\n",
      "\u001b[36mFile \u001b[39m\u001b[32m~/gitProjects/mia/mia_302_pnl/.venv/lib/python3.12/site-packages/urllib3/connectionpool.py:367\u001b[39m, in \u001b[36mHTTPConnectionPool._raise_timeout\u001b[39m\u001b[34m(self, err, url, timeout_value)\u001b[39m\n\u001b[32m    364\u001b[39m \u001b[38;5;250m\u001b[39m\u001b[33;03m\"\"\"Is the error actually a timeout? Will raise a ReadTimeout or pass\"\"\"\u001b[39;00m\n\u001b[32m    366\u001b[39m \u001b[38;5;28;01mif\u001b[39;00m \u001b[38;5;28misinstance\u001b[39m(err, SocketTimeout):\n\u001b[32m--> \u001b[39m\u001b[32m367\u001b[39m     \u001b[38;5;28;01mraise\u001b[39;00m ReadTimeoutError(\n\u001b[32m    368\u001b[39m         \u001b[38;5;28mself\u001b[39m, url, \u001b[33mf\u001b[39m\u001b[33m\"\u001b[39m\u001b[33mRead timed out. (read timeout=\u001b[39m\u001b[38;5;132;01m{\u001b[39;00mtimeout_value\u001b[38;5;132;01m}\u001b[39;00m\u001b[33m)\u001b[39m\u001b[33m\"\u001b[39m\n\u001b[32m    369\u001b[39m     ) \u001b[38;5;28;01mfrom\u001b[39;00m\u001b[38;5;250m \u001b[39m\u001b[34;01merr\u001b[39;00m\n\u001b[32m    371\u001b[39m \u001b[38;5;66;03m# See the above comment about EAGAIN in Python 3.\u001b[39;00m\n\u001b[32m    372\u001b[39m \u001b[38;5;28;01mif\u001b[39;00m \u001b[38;5;28mhasattr\u001b[39m(err, \u001b[33m\"\u001b[39m\u001b[33merrno\u001b[39m\u001b[33m\"\u001b[39m) \u001b[38;5;129;01mand\u001b[39;00m err.errno \u001b[38;5;129;01min\u001b[39;00m _blocking_errnos:\n",
      "\u001b[31mReadTimeoutError\u001b[39m: HTTPConnectionPool(host='localhost', port=46525): Read timed out. (read timeout=120)"
     ]
    }
   ],
   "source": [
    "from selenium import webdriver\n",
    "from selenium.webdriver.chrome.service import Service\n",
    "\n",
    "service = Service()\n",
    "options = webdriver.ChromeOptions()\n",
    "driver = webdriver.Chrome(service=service, options=options)\n",
    "\n",
    "import datetime\n",
    "\n",
    "# Obtenemos la fecha actual\n",
    "current_date = datetime.date.today()\n",
    "\n",
    "# Formateamos la fecha en el formato que quieres\n",
    "formatted_date = current_date.strftime(\"%Y-%m-%d\")\n",
    "\n",
    "# Ponemos la fecha en la URL y la almacenamos en una variable\n",
    "url = \"https://peru21.pe/archivo/todas/\" + formatted_date + \"/\"\n",
    "\n",
    "print(url)\n",
    "driver.get(url)"
   ]
  },
  {
   "cell_type": "code",
   "execution_count": null,
   "id": "35649d76",
   "metadata": {},
   "outputs": [
    {
     "ename": "NoSuchWindowException",
     "evalue": "Message: no such window: target window already closed\nfrom unknown error: web view not found\n  (Session info: chrome=136.0.7103.92)\nStacktrace:\n#0 0x563d17f4a92a <unknown>\n#1 0x563d17a0c770 <unknown>\n#2 0x563d179e21a0 <unknown>\n#3 0x563d17a8ac48 <unknown>\n#4 0x563d17aa7b0c <unknown>\n#5 0x563d17a824b3 <unknown>\n#6 0x563d17a4f30a <unknown>\n#7 0x563d17a4ff71 <unknown>\n#8 0x563d17f129bf <unknown>\n#9 0x563d17f16a92 <unknown>\n#10 0x563d17ef9b32 <unknown>\n#11 0x563d17f1723e <unknown>\n#12 0x563d17ee0c6e <unknown>\n#13 0x563d17f39af8 <unknown>\n#14 0x563d17f39d04 <unknown>\n#15 0x563d17f49568 <unknown>\n#16 0x7f6116f5dac3 <unknown>\n",
     "output_type": "error",
     "traceback": [
      "\u001b[31m---------------------------------------------------------------------------\u001b[39m",
      "\u001b[31mNoSuchWindowException\u001b[39m                     Traceback (most recent call last)",
      "\u001b[36mCell\u001b[39m\u001b[36m \u001b[39m\u001b[32mIn[7]\u001b[39m\u001b[32m, line 1\u001b[39m\n\u001b[32m----> \u001b[39m\u001b[32m1\u001b[39m \u001b[43mdriver\u001b[49m\u001b[43m.\u001b[49m\u001b[43mget\u001b[49m\u001b[43m(\u001b[49m\u001b[43murl\u001b[49m\u001b[43m)\u001b[49m\n",
      "\u001b[36mFile \u001b[39m\u001b[32m~/gitProjects/mia/mia_302_pnl/.venv/lib/python3.12/site-packages/selenium/webdriver/remote/webdriver.py:473\u001b[39m, in \u001b[36mWebDriver.get\u001b[39m\u001b[34m(self, url)\u001b[39m\n\u001b[32m    455\u001b[39m \u001b[38;5;28;01mdef\u001b[39;00m\u001b[38;5;250m \u001b[39m\u001b[34mget\u001b[39m(\u001b[38;5;28mself\u001b[39m, url: \u001b[38;5;28mstr\u001b[39m) -> \u001b[38;5;28;01mNone\u001b[39;00m:\n\u001b[32m    456\u001b[39m \u001b[38;5;250m    \u001b[39m\u001b[33;03m\"\"\"Navigate the browser to the specified URL in the current window or\u001b[39;00m\n\u001b[32m    457\u001b[39m \u001b[33;03m    tab.\u001b[39;00m\n\u001b[32m    458\u001b[39m \n\u001b[32m   (...)\u001b[39m\u001b[32m    471\u001b[39m \u001b[33;03m    >>> driver.get(\"https://example.com\")\u001b[39;00m\n\u001b[32m    472\u001b[39m \u001b[33;03m    \"\"\"\u001b[39;00m\n\u001b[32m--> \u001b[39m\u001b[32m473\u001b[39m     \u001b[38;5;28;43mself\u001b[39;49m\u001b[43m.\u001b[49m\u001b[43mexecute\u001b[49m\u001b[43m(\u001b[49m\u001b[43mCommand\u001b[49m\u001b[43m.\u001b[49m\u001b[43mGET\u001b[49m\u001b[43m,\u001b[49m\u001b[43m \u001b[49m\u001b[43m{\u001b[49m\u001b[33;43m\"\u001b[39;49m\u001b[33;43murl\u001b[39;49m\u001b[33;43m\"\u001b[39;49m\u001b[43m:\u001b[49m\u001b[43m \u001b[49m\u001b[43murl\u001b[49m\u001b[43m}\u001b[49m\u001b[43m)\u001b[49m\n",
      "\u001b[36mFile \u001b[39m\u001b[32m~/gitProjects/mia/mia_302_pnl/.venv/lib/python3.12/site-packages/selenium/webdriver/remote/webdriver.py:448\u001b[39m, in \u001b[36mWebDriver.execute\u001b[39m\u001b[34m(self, driver_command, params)\u001b[39m\n\u001b[32m    446\u001b[39m response = \u001b[38;5;28mself\u001b[39m.command_executor.execute(driver_command, params)\n\u001b[32m    447\u001b[39m \u001b[38;5;28;01mif\u001b[39;00m response:\n\u001b[32m--> \u001b[39m\u001b[32m448\u001b[39m     \u001b[38;5;28;43mself\u001b[39;49m\u001b[43m.\u001b[49m\u001b[43merror_handler\u001b[49m\u001b[43m.\u001b[49m\u001b[43mcheck_response\u001b[49m\u001b[43m(\u001b[49m\u001b[43mresponse\u001b[49m\u001b[43m)\u001b[49m\n\u001b[32m    449\u001b[39m     response[\u001b[33m\"\u001b[39m\u001b[33mvalue\u001b[39m\u001b[33m\"\u001b[39m] = \u001b[38;5;28mself\u001b[39m._unwrap_value(response.get(\u001b[33m\"\u001b[39m\u001b[33mvalue\u001b[39m\u001b[33m\"\u001b[39m, \u001b[38;5;28;01mNone\u001b[39;00m))\n\u001b[32m    450\u001b[39m     \u001b[38;5;28;01mreturn\u001b[39;00m response\n",
      "\u001b[36mFile \u001b[39m\u001b[32m~/gitProjects/mia/mia_302_pnl/.venv/lib/python3.12/site-packages/selenium/webdriver/remote/errorhandler.py:232\u001b[39m, in \u001b[36mErrorHandler.check_response\u001b[39m\u001b[34m(self, response)\u001b[39m\n\u001b[32m    230\u001b[39m         alert_text = value[\u001b[33m\"\u001b[39m\u001b[33malert\u001b[39m\u001b[33m\"\u001b[39m].get(\u001b[33m\"\u001b[39m\u001b[33mtext\u001b[39m\u001b[33m\"\u001b[39m)\n\u001b[32m    231\u001b[39m     \u001b[38;5;28;01mraise\u001b[39;00m exception_class(message, screen, stacktrace, alert_text)  \u001b[38;5;66;03m# type: ignore[call-arg]  # mypy is not smart enough here\u001b[39;00m\n\u001b[32m--> \u001b[39m\u001b[32m232\u001b[39m \u001b[38;5;28;01mraise\u001b[39;00m exception_class(message, screen, stacktrace)\n",
      "\u001b[31mNoSuchWindowException\u001b[39m: Message: no such window: target window already closed\nfrom unknown error: web view not found\n  (Session info: chrome=136.0.7103.92)\nStacktrace:\n#0 0x563d17f4a92a <unknown>\n#1 0x563d17a0c770 <unknown>\n#2 0x563d179e21a0 <unknown>\n#3 0x563d17a8ac48 <unknown>\n#4 0x563d17aa7b0c <unknown>\n#5 0x563d17a824b3 <unknown>\n#6 0x563d17a4f30a <unknown>\n#7 0x563d17a4ff71 <unknown>\n#8 0x563d17f129bf <unknown>\n#9 0x563d17f16a92 <unknown>\n#10 0x563d17ef9b32 <unknown>\n#11 0x563d17f1723e <unknown>\n#12 0x563d17ee0c6e <unknown>\n#13 0x563d17f39af8 <unknown>\n#14 0x563d17f39d04 <unknown>\n#15 0x563d17f49568 <unknown>\n#16 0x7f6116f5dac3 <unknown>\n"
     ]
    }
   ],
   "source": [
    "driver.get(url)"
   ]
  },
  {
   "cell_type": "code",
   "execution_count": 2,
   "id": "31152f62",
   "metadata": {},
   "outputs": [],
   "source": [
    "# se utiliza para obtener el código fuente HTML de la página web actual \n",
    "html = driver.page_source"
   ]
  },
  {
   "cell_type": "code",
   "execution_count": 3,
   "id": "9234d030",
   "metadata": {},
   "outputs": [
    {
     "name": "stdout",
     "output_type": "stream",
     "text": [
      "['__add__', '__class__', '__contains__', '__delattr__', '__dir__', '__doc__', '__eq__', '__format__', '__ge__', '__getattribute__', '__getitem__', '__getnewargs__', '__gt__', '__hash__', '__init__', '__init_subclass__', '__iter__', '__le__', '__len__', '__lt__', '__mod__', '__mul__', '__ne__', '__new__', '__reduce__', '__reduce_ex__', '__repr__', '__rmod__', '__rmul__', '__setattr__', '__sizeof__', '__str__', '__subclasshook__', 'capitalize', 'casefold', 'center', 'count', 'encode', 'endswith', 'expandtabs', 'find', 'format', 'format_map', 'index', 'isalnum', 'isalpha', 'isascii', 'isdecimal', 'isdigit', 'isidentifier', 'islower', 'isnumeric', 'isprintable', 'isspace', 'istitle', 'isupper', 'join', 'ljust', 'lower', 'lstrip', 'maketrans', 'partition', 'removeprefix', 'removesuffix', 'replace', 'rfind', 'rindex', 'rjust', 'rpartition', 'rsplit', 'rstrip', 'split', 'splitlines', 'startswith', 'strip', 'swapcase', 'title', 'translate', 'upper', 'zfill']\n"
     ]
    }
   ],
   "source": [
    "#  es utilizada para imprimir una lista de los atributos y métodos disponibles en el objeto html\n",
    "print(dir(html))"
   ]
  },
  {
   "cell_type": "code",
   "execution_count": 4,
   "id": "9c64e863",
   "metadata": {},
   "outputs": [],
   "source": [
    "#!pip install html2text\n",
    "from bs4 import BeautifulSoup\n",
    "from html2text import html2text\n",
    "import re\n"
   ]
  },
  {
   "cell_type": "code",
   "execution_count": 5,
   "id": "69d13f43",
   "metadata": {},
   "outputs": [
    {
     "ename": "NameError",
     "evalue": "name 'driver' is not defined",
     "output_type": "error",
     "traceback": [
      "\u001b[31m---------------------------------------------------------------------------\u001b[39m",
      "\u001b[31mNameError\u001b[39m                                 Traceback (most recent call last)",
      "\u001b[36mCell\u001b[39m\u001b[36m \u001b[39m\u001b[32mIn[5]\u001b[39m\u001b[32m, line 2\u001b[39m\n\u001b[32m      1\u001b[39m \u001b[38;5;66;03m# Para obtener la información principal en aquel momento, podemos utilizar Beautiful Soup y expresiones regulares\u001b[39;00m\n\u001b[32m----> \u001b[39m\u001b[32m2\u001b[39m soup = BeautifulSoup(\u001b[43mdriver\u001b[49m.page_source, \u001b[33m'\u001b[39m\u001b[33mhtml.parser\u001b[39m\u001b[33m'\u001b[39m)\n",
      "\u001b[31mNameError\u001b[39m: name 'driver' is not defined"
     ]
    }
   ],
   "source": [
    "# Para obtener la información principal en aquel momento, podemos utilizar Beautiful Soup y expresiones regulares\n",
    "soup = BeautifulSoup(driver.page_source, 'html.parser')"
   ]
  },
  {
   "cell_type": "code",
   "execution_count": 6,
   "id": "aded4e30",
   "metadata": {},
   "outputs": [
    {
     "ename": "NameError",
     "evalue": "name 'soup' is not defined",
     "output_type": "error",
     "traceback": [
      "\u001b[31m---------------------------------------------------------------------------\u001b[39m",
      "\u001b[31mNameError\u001b[39m                                 Traceback (most recent call last)",
      "\u001b[36mCell\u001b[39m\u001b[36m \u001b[39m\u001b[32mIn[6]\u001b[39m\u001b[32m, line 6\u001b[39m\n\u001b[32m      1\u001b[39m \u001b[38;5;66;03m# **Note que para realizar este proceso, debemos entender la estructura de la página web.**\u001b[39;00m\n\u001b[32m      2\u001b[39m \u001b[38;5;66;03m#    soup es un objeto BeautifulSoup que se crea previamente para analizar el código fuente HTML de una página web.\u001b[39;00m\n\u001b[32m      3\u001b[39m \u001b[38;5;66;03m#    find_all() es un método de BeautifulSoup que busca todos los elementos HTML que coinciden con ciertos criterios.\u001b[39;00m\n\u001b[32m      4\u001b[39m \u001b[38;5;66;03m#    'a' especifica que estamos buscando elementos a (enlaces).\u001b[39;00m\n\u001b[32m      5\u001b[39m \u001b[38;5;66;03m#    {'class': re.compile(f'story-item__title block*')} es un diccionario de atributos que se utilizan como filtros. En este caso, estamos buscando elementos a que tengan un atributo class que cumpla con un patrón específico definido por una expresión regular.\u001b[39;00m\n\u001b[32m----> \u001b[39m\u001b[32m6\u001b[39m TITULOS = \u001b[38;5;28mlen\u001b[39m(\u001b[43msoup\u001b[49m.find_all(\u001b[33m'\u001b[39m\u001b[33ma\u001b[39m\u001b[33m'\u001b[39m,{\u001b[33m'\u001b[39m\u001b[33mclass\u001b[39m\u001b[33m'\u001b[39m:re.compile(\u001b[33mf\u001b[39m\u001b[33m'\u001b[39m\u001b[33mstory-item__title block*\u001b[39m\u001b[33m'\u001b[39m)}))\n\u001b[32m      7\u001b[39m \u001b[38;5;28mprint\u001b[39m(\u001b[33m\"\u001b[39m\u001b[33mNOTICIAS:\u001b[39m\u001b[33m\"\u001b[39m, TITULOS)\n",
      "\u001b[31mNameError\u001b[39m: name 'soup' is not defined"
     ]
    }
   ],
   "source": [
    "# **Note que para realizar este proceso, debemos entender la estructura de la página web.**\n",
    "#    soup es un objeto BeautifulSoup que se crea previamente para analizar el código fuente HTML de una página web.\n",
    "#    find_all() es un método de BeautifulSoup que busca todos los elementos HTML que coinciden con ciertos criterios.\n",
    "#    'a' especifica que estamos buscando elementos a (enlaces).\n",
    "#    {'class': re.compile(f'story-item__title block*')} es un diccionario de atributos que se utilizan como filtros. En este caso, estamos buscando elementos a que tengan un atributo class que cumpla con un patrón específico definido por una expresión regular.\n",
    "TITULOS = len(soup.find_all('a',{'class':re.compile(f'story-item__title block*')}))\n",
    "print(\"NOTICIAS:\", TITULOS)"
   ]
  },
  {
   "cell_type": "code",
   "execution_count": 7,
   "id": "d01380b8",
   "metadata": {},
   "outputs": [
    {
     "name": "stdout",
     "output_type": "stream",
     "text": [
      "<a class=\"story-item__title block overflow-hidden primary-font line-h-xs mt-10\" href=\"/cultura/mayella-lloclla-los-suenos-poco-a-poco-se-pueden-cumplir-entrevista-la-decision-de-amelia-pelicula-peruana-estreno-cineplanet-francisco-lombardi-gustavo-bueno-actriz-noticia/\" itemprop=\"url\">Mayella Lloclla: “Los sueños poco a poco se pueden cumplir” [ENTREVISTA]    </a>\n",
      "\n",
      "<a class=\"story-item__title block overflow-hidden primary-font line-h-xs mt-10\" href=\"/espectaculos/local/deysi-araujo-chanca-a-la-casa-de-magaly-mucho-abuelito-han-puesto-shirley-cherres-ya-caduco-que-dijo-deysi-sobre-chibolin-y-alfredo-benavides-noticia/\" itemprop=\"url\">Deysi Araujo critica a ‘La Casa de Magaly’: “Mucho abuelito han puesto”</a>\n",
      "\n",
      "<a class=\"story-item__title block overflow-hidden primary-font line-h-xs mt-10\" href=\"/politica/lo-ultimo-condenan-al-exfiscal-abel-concha-calla-a-mas-de-9-anos-de-prision-por-trafico-de-influencias-abel-concha-calla-reparacion-civil-prision-lambayeque-chiclayo-poder-judicial-ministerio-publico-corte-suprema-david-cornejo-los-temerarios-del-crimen-noticia/\" itemprop=\"url\">Condenan al exfiscal Abel Concha Calla a 9 años de prisión por tráfico de influencias </a>\n",
      "\n",
      "<a class=\"story-item__title block overflow-hidden primary-font line-h-xs mt-10\" href=\"/economia/sunat-sostiene-nueva-reunion-con-gremios-para-mejorar-el-cumplimiento-tributario-noticia/\" itemprop=\"url\">Sunat sostiene nueva reunión con gremios para mejorar el cumplimiento tributario</a>\n",
      "\n",
      "<a class=\"story-item__title block overflow-hidden primary-font line-h-xs mt-10\" href=\"/lima/lo-ultimo-gore-callao-abren-investigacion-por-financiamiento-de-web-para-promocionar-a-gobernador-ciro-castillo-ministerio-publico-noticia/\" itemprop=\"url\">GORE Callao: Abren investigación por financiamiento de web para promocionar a gobernador Ciro Castillo</a>\n",
      "\n",
      "<a class=\"story-item__title block overflow-hidden primary-font line-h-xs mt-10\" href=\"/cheka/papa-en-apuros-llegara-a-los-hogares-peruanos-lanzan-nueva-novela-que-tiene-la-participacion-de-la-marina-estreno-novela-familiar-actores-peruanos-papa-en-apuros-capitan-de-fragata-de-la-marina-como-participa-la-marina-en-papa-en-apuros-de-que-trata-la-novela-papa-en-apuros-quienes-conforman-el-elenco-de-papa-en-apuros-noticia/\" itemprop=\"url\">‘Papá en Apuros’ llegará a los hogares peruanos: Lanzan nueva novela que tiene la participación de la Marina</a>\n",
      "\n",
      "<a class=\"story-item__title block overflow-hidden primary-font line-h-xs mt-10\" href=\"/lima/policiales/los-olivos-banda-de-delincuentes-desata-balacera-tras-ser-captados-robando-un-edificio-calle-9-cerca-al-parque-siglo-xxi-cuatro-hombres-y-una-mujer-intentan-vaciar-departamento-noticia/\" itemprop=\"url\">Los Olivos: Banda de delincuentes desata balacera tras ser captada robando un edificio</a>\n",
      "\n",
      "<a class=\"story-item__title block overflow-hidden primary-font line-h-xs mt-10\" href=\"/espectaculos/maju-mantilla-nunca-se-habria-separado-de-gustavo-salcedo-y-ahora-el-entrena-en-casa-maju-mantilla-espectaculos-gustavo-salcedo-farandula-magaly-medina-magaly-tv-la-firme-noticia/\" itemprop=\"url\">Maju Mantilla: Nunca se habría separado de Gustavo Salcedo y ahora él entrena en casa</a>\n",
      "\n",
      "<a class=\"story-item__title block overflow-hidden primary-font line-h-xs mt-10\" href=\"/mundo/victor-jara-chile-militar-se-quita-la-vida-para-no-ir-a-la-carcel-tras-sentencia-por-crimen-de-cantautor-chileno-hernan-chacon-soto-salvador-allende-noticia/\" itemprop=\"url\">Militar se quita la vida para no ir a la cárcel tras sentencia por crimen de Víctor Jara</a>\n",
      "\n",
      "<a class=\"story-item__title block overflow-hidden primary-font line-h-xs mt-10\" href=\"/lima/policiales/vmt-roban-mascota-a-familia-en-la-puerta-de-su-casa-morita-villa-maria-del-triunfo-mototaxi-sujetos-armados-perrita-esterilizada-y-delicada-de-salud-noticia/\" itemprop=\"url\">VMT: Roban mascota a familia en la puerta de su casa</a>\n",
      "\n",
      "<a class=\"story-item__title block overflow-hidden primary-font line-h-xs mt-10\" href=\"/espectaculos/local/el-gran-chef-famosos-mayra-goni-y-armando-machuca-pasan-a-noche-de-sentencia-leslie-stewart-mariella-zanetti-homenaje-a-la-ciudad-heroica-de-tacna-noticia/\" itemprop=\"url\">‘El Gran Chef: Famosos’: Mayra Goñi y Armando Machuca quedaron sentenciados</a>\n",
      "\n",
      "<a class=\"story-item__title block overflow-hidden primary-font line-h-xs mt-10\" href=\"/lima/policiales/vmt-sicario-disparo-a-su-complice-cuando-iban-a-amenazar-a-una-comerciante-villa-maria-del-triunfo-jiron-9-de-agosto-copiloto-dispara-contra-el-conductor-noticia/\" itemprop=\"url\">VMT: Sicario disparó a su cómplice cuando iban a amenazar a una comerciante</a>\n",
      "\n",
      "<a class=\"story-item__title block overflow-hidden primary-font line-h-xs mt-10\" href=\"/espectaculos/nicola-porcella-debuta-como-conductor-en-tv-mexicana-conoce-que-programa-cumplio-su-sueno-espacio-matutino-de-las-estrellas-aeropuerto-de-la-ciudad-de-mexico-noticia/\" itemprop=\"url\">Nicola Porcella debuta como conductor de programa mexicano ‘Hoy’: “Ya no soy el más odiado” </a>\n",
      "\n",
      "<a class=\"story-item__title block overflow-hidden primary-font line-h-xs mt-10\" href=\"/politica/el-matrimonio-olvidado-el-dia-en-que-bermejo-y-su-ahora-delator-estuvieron-juntos-guillermo-bermejo-yul-valdivia-asesor-los-operadores-de-la-reconstruccion-noticia/\" itemprop=\"url\">El matrimonio olvidado: el día en que Bermejo y su ahora delator estuvieron juntos</a>\n",
      "\n",
      "<a class=\"story-item__title block overflow-hidden primary-font line-h-xs mt-10\" href=\"/espectaculos/local/genesis-acusa-a-mujer-de-intentar-romper-su-relacion-mostro-actitudes-que-considero-una-falta-de-respeto-kike-marquez-genesis-tapia-exchica-reality-divorcio-infidelidad-abogada-conducta-deshonrosa-falta-de-respeto-noticia/\" itemprop=\"url\">Génesis acusa a mujer de intentar romper su relación: “mostró actitudes que considero una falta de respeto”</a>\n",
      "\n",
      "<a class=\"story-item__title block overflow-hidden primary-font line-h-xs mt-10\" href=\"/peru/orlando-zagazeta-el-hombre-mono-peruano-que-vive-en-la-selva-y-dedica-su-vida-a-salvar-animales-del-trafico-ilegal-orlando-zagazeta-riege-flora-y-fauna-selva-peruana-lima-trafico-ilegal-animales-silvestres-personaje-del-bicentenario-san-martin-noticia/\" itemprop=\"url\">Orlando Zagazeta: El peruano que vive en la selva y dedica su vida a salvar animales del tráfico ilegal</a>\n",
      "\n",
      "<a class=\"story-item__title block overflow-hidden primary-font line-h-xs mt-10\" href=\"/peru/monkey-man-se-estrena-documental-sobre-el-peruano-que-reinserta-monos-sobrevivientes-del-trafico-animal-documental-monkey-man-trafico-animal-cinta-peruana-noticia/\" itemprop=\"url\">Monkey Man: se estrena documental sobre el  peruano que reinserta monos sobrevivientes del tráfico animal</a>\n",
      "\n",
      "<a class=\"story-item__title block overflow-hidden primary-font line-h-xs mt-10\" href=\"/opinion/opinion-aldo-mariategui-cine-malo-y-de-mala-leche-aldo-mariategui-paco-yunque-ii-opinion-lombardi-noticia/\" itemprop=\"url\">[OPINIÓN] Aldo Mariátegui: “Cine malo y de mala leche”</a>\n",
      "\n",
      "<a class=\"story-item__title block overflow-hidden primary-font line-h-xs mt-10\" href=\"/opinion/opinion-richard-arce-la-agenda-pendiente-de-la-cvr-ciencias-sociales-sendero-luminoso-mrta-cvr-noticia/\" itemprop=\"url\">[OPINIÓN] Richard Arce: “La agenda pendiente de la CVR”</a>\n",
      "\n",
      "<a class=\"story-item__title block overflow-hidden primary-font line-h-xs mt-10\" href=\"/lima/vecinos-de-chaclacayo-acusan-a-delincuentes-de-envenenar-a-perros-de-la-zona-para-cometer-delitos-perritos-envenenados-chaclacayo-delincuentes-veneno-perritos-salud-municipalidad-de-chaclacayo-noticia/\" itemprop=\"url\">Vecinos de Chaclacayo acusan a delincuentes de envenenar a perros de la zona para cometer delitos</a>\n",
      "\n",
      "<a class=\"story-item__title block overflow-hidden primary-font line-h-xs mt-10\" href=\"/deportes/futbol-peruano/angelo-campos-fiscalia-presentara-una-queja-por-caso-del-arquero-de-alianza-lima-noticia/\" itemprop=\"url\">Fiscalía presentará una queja por caso de Ángelo Campos</a>\n",
      "\n",
      "<a class=\"story-item__title block overflow-hidden primary-font line-h-xs mt-10\" href=\"/espectaculos/leysi-suarez-revela-su-triste-diagnostico-tengo-una-hemorragia-en-una-cuerda-vocal-diagnostico-enfermedad-salud-leysi-suarez-espectaculos-infidelidad-partida-de-su-papa-noticia/\" itemprop=\"url\">Leysi Suárez revela triste diagnóstico: “Tengo una hemorragia en una cuerda vocal”</a>\n",
      "\n",
      "<a class=\"story-item__title block overflow-hidden primary-font line-h-xs mt-10\" href=\"/peru/increible-hallan-la-tumba-del-sacerdote-de-pacopampa-de-hace-3-mil-anos-en-cajamarca-sacerdote-de-pacopampa-cajamarca-chota-ministerio-de-cultura-arqueologos-japoneses-y-peruanos-noticia/\" itemprop=\"url\">Cajamarca en los ojos del mundo: Hallan tumba del ‘Sacerdote de Pacopampa’ de hace 3 mil años</a>\n",
      "\n",
      "<a class=\"story-item__title block overflow-hidden primary-font line-h-xs mt-10\" href=\"/politica/alberto-otarola-premier-se-presenta-en-el-congreso-para-sustentar-pedido-de-facultades-legislativas-dina-boluarte-noticia/\" itemprop=\"url\">Premier se presenta en el Congreso para sustentar pedido de facultades legislativas</a>\n",
      "\n",
      "<a class=\"story-item__title block overflow-hidden primary-font line-h-xs mt-10\" href=\"/espectaculos/carlos-cacho-se-niega-a-llamar-ella-a-la-uchulu-que-dice-en-su-dni-uchulu-espectaculos-carlos-cacho-dni-andres-hurtado-la-casa-de-magaly-noticia/\" itemprop=\"url\">Carlos Cacho y Andrés Hurtado se niegan a llamar “ella” a la Uchulú: “¿Qué dice en su DNI?” </a>\n",
      "\n"
     ]
    }
   ],
   "source": [
    "NOTICIAS_html = soup.find_all('a',{'class':re.compile(f'story-item__title block*')})\n",
    "for ITEM in NOTICIAS_html :\n",
    "    print(ITEM, end='\\n\\n')"
   ]
  },
  {
   "cell_type": "code",
   "execution_count": 8,
   "id": "c5196087",
   "metadata": {},
   "outputs": [
    {
     "data": {
      "text/plain": [
       "['[Mayella Lloclla: “Los sueños poco a poco se pueden cumplir” [ENTREVISTA]\\n](/cultura/mayella-lloclla-los-suenos-poco-a-poco-se-pueden-cumplir-\\nentrevista-la-decision-de-amelia-pelicula-peruana-estreno-cineplanet-\\nfrancisco-lombardi-gustavo-bueno-actriz-noticia/)\\n\\n',\n",
       " '[Deysi Araujo critica a ‘La Casa de Magaly’: “Mucho abuelito han\\npuesto”](/espectaculos/local/deysi-araujo-chanca-a-la-casa-de-magaly-mucho-\\nabuelito-han-puesto-shirley-cherres-ya-caduco-que-dijo-deysi-sobre-chibolin-y-\\nalfredo-benavides-noticia/)\\n\\n',\n",
       " '[Condenan al exfiscal Abel Concha Calla a 9 años de prisión por tráfico de\\ninfluencias ](/politica/lo-ultimo-condenan-al-exfiscal-abel-concha-calla-a-\\nmas-de-9-anos-de-prision-por-trafico-de-influencias-abel-concha-calla-\\nreparacion-civil-prision-lambayeque-chiclayo-poder-judicial-ministerio-\\npublico-corte-suprema-david-cornejo-los-temerarios-del-crimen-noticia/)\\n\\n',\n",
       " '[Sunat sostiene nueva reunión con gremios para mejorar el cumplimiento\\ntributario](/economia/sunat-sostiene-nueva-reunion-con-gremios-para-mejorar-\\nel-cumplimiento-tributario-noticia/)\\n\\n',\n",
       " '[GORE Callao: Abren investigación por financiamiento de web para promocionar a\\ngobernador Ciro Castillo](/lima/lo-ultimo-gore-callao-abren-investigacion-por-\\nfinanciamiento-de-web-para-promocionar-a-gobernador-ciro-castillo-ministerio-\\npublico-noticia/)\\n\\n',\n",
       " '[‘Papá en Apuros’ llegará a los hogares peruanos: Lanzan nueva novela que\\ntiene la participación de la Marina](/cheka/papa-en-apuros-llegara-a-los-\\nhogares-peruanos-lanzan-nueva-novela-que-tiene-la-participacion-de-la-marina-\\nestreno-novela-familiar-actores-peruanos-papa-en-apuros-capitan-de-fragata-de-\\nla-marina-como-participa-la-marina-en-papa-en-apuros-de-que-trata-la-novela-\\npapa-en-apuros-quienes-conforman-el-elenco-de-papa-en-apuros-noticia/)\\n\\n',\n",
       " '[Los Olivos: Banda de delincuentes desata balacera tras ser captada robando un\\nedificio](/lima/policiales/los-olivos-banda-de-delincuentes-desata-balacera-\\ntras-ser-captados-robando-un-edificio-calle-9-cerca-al-parque-siglo-xxi-\\ncuatro-hombres-y-una-mujer-intentan-vaciar-departamento-noticia/)\\n\\n',\n",
       " '[Maju Mantilla: Nunca se habría separado de Gustavo Salcedo y ahora él entrena\\nen casa](/espectaculos/maju-mantilla-nunca-se-habria-separado-de-gustavo-\\nsalcedo-y-ahora-el-entrena-en-casa-maju-mantilla-espectaculos-gustavo-salcedo-\\nfarandula-magaly-medina-magaly-tv-la-firme-noticia/)\\n\\n',\n",
       " '[Militar se quita la vida para no ir a la cárcel tras sentencia por crimen de\\nVíctor Jara](/mundo/victor-jara-chile-militar-se-quita-la-vida-para-no-ir-a-\\nla-carcel-tras-sentencia-por-crimen-de-cantautor-chileno-hernan-chacon-soto-\\nsalvador-allende-noticia/)\\n\\n',\n",
       " '[VMT: Roban mascota a familia en la puerta de su casa](/lima/policiales/vmt-\\nroban-mascota-a-familia-en-la-puerta-de-su-casa-morita-villa-maria-del-\\ntriunfo-mototaxi-sujetos-armados-perrita-esterilizada-y-delicada-de-salud-\\nnoticia/)\\n\\n',\n",
       " '[‘El Gran Chef: Famosos’: Mayra Goñi y Armando Machuca quedaron\\nsentenciados](/espectaculos/local/el-gran-chef-famosos-mayra-goni-y-armando-\\nmachuca-pasan-a-noche-de-sentencia-leslie-stewart-mariella-zanetti-homenaje-a-\\nla-ciudad-heroica-de-tacna-noticia/)\\n\\n',\n",
       " '[VMT: Sicario disparó a su cómplice cuando iban a amenazar a una\\ncomerciante](/lima/policiales/vmt-sicario-disparo-a-su-complice-cuando-iban-a-\\namenazar-a-una-comerciante-villa-maria-del-triunfo-jiron-9-de-agosto-copiloto-\\ndispara-contra-el-conductor-noticia/)\\n\\n',\n",
       " '[Nicola Porcella debuta como conductor de programa mexicano ‘Hoy’: “Ya no soy\\nel más odiado” ](/espectaculos/nicola-porcella-debuta-como-conductor-en-tv-\\nmexicana-conoce-que-programa-cumplio-su-sueno-espacio-matutino-de-las-\\nestrellas-aeropuerto-de-la-ciudad-de-mexico-noticia/)\\n\\n',\n",
       " '[El matrimonio olvidado: el día en que Bermejo y su ahora delator estuvieron\\njuntos](/politica/el-matrimonio-olvidado-el-dia-en-que-bermejo-y-su-ahora-\\ndelator-estuvieron-juntos-guillermo-bermejo-yul-valdivia-asesor-los-\\noperadores-de-la-reconstruccion-noticia/)\\n\\n',\n",
       " '[Génesis acusa a mujer de intentar romper su relación: “mostró actitudes que\\nconsidero una falta de respeto”](/espectaculos/local/genesis-acusa-a-mujer-de-\\nintentar-romper-su-relacion-mostro-actitudes-que-considero-una-falta-de-\\nrespeto-kike-marquez-genesis-tapia-exchica-reality-divorcio-infidelidad-\\nabogada-conducta-deshonrosa-falta-de-respeto-noticia/)\\n\\n',\n",
       " '[Orlando Zagazeta: El peruano que vive en la selva y dedica su vida a salvar\\nanimales del tráfico ilegal](/peru/orlando-zagazeta-el-hombre-mono-peruano-\\nque-vive-en-la-selva-y-dedica-su-vida-a-salvar-animales-del-trafico-ilegal-\\norlando-zagazeta-riege-flora-y-fauna-selva-peruana-lima-trafico-ilegal-\\nanimales-silvestres-personaje-del-bicentenario-san-martin-noticia/)\\n\\n',\n",
       " '[Monkey Man: se estrena documental sobre el peruano que reinserta monos\\nsobrevivientes del tráfico animal](/peru/monkey-man-se-estrena-documental-\\nsobre-el-peruano-que-reinserta-monos-sobrevivientes-del-trafico-animal-\\ndocumental-monkey-man-trafico-animal-cinta-peruana-noticia/)\\n\\n',\n",
       " '[[OPINIÓN] Aldo Mariátegui: “Cine malo y de mala leche”](/opinion/opinion-\\naldo-mariategui-cine-malo-y-de-mala-leche-aldo-mariategui-paco-yunque-ii-\\nopinion-lombardi-noticia/)\\n\\n',\n",
       " '[[OPINIÓN] Richard Arce: “La agenda pendiente de la CVR”](/opinion/opinion-\\nrichard-arce-la-agenda-pendiente-de-la-cvr-ciencias-sociales-sendero-luminoso-\\nmrta-cvr-noticia/)\\n\\n',\n",
       " '[Vecinos de Chaclacayo acusan a delincuentes de envenenar a perros de la zona\\npara cometer delitos](/lima/vecinos-de-chaclacayo-acusan-a-delincuentes-de-\\nenvenenar-a-perros-de-la-zona-para-cometer-delitos-perritos-envenenados-\\nchaclacayo-delincuentes-veneno-perritos-salud-municipalidad-de-chaclacayo-\\nnoticia/)\\n\\n',\n",
       " '[Fiscalía presentará una queja por caso de Ángelo Campos](/deportes/futbol-\\nperuano/angelo-campos-fiscalia-presentara-una-queja-por-caso-del-arquero-de-\\nalianza-lima-noticia/)\\n\\n',\n",
       " '[Leysi Suárez revela triste diagnóstico: “Tengo una hemorragia en una cuerda\\nvocal”](/espectaculos/leysi-suarez-revela-su-triste-diagnostico-tengo-una-\\nhemorragia-en-una-cuerda-vocal-diagnostico-enfermedad-salud-leysi-suarez-\\nespectaculos-infidelidad-partida-de-su-papa-noticia/)\\n\\n',\n",
       " '[Cajamarca en los ojos del mundo: Hallan tumba del ‘Sacerdote de Pacopampa’ de\\nhace 3 mil años](/peru/increible-hallan-la-tumba-del-sacerdote-de-pacopampa-\\nde-hace-3-mil-anos-en-cajamarca-sacerdote-de-pacopampa-cajamarca-chota-\\nministerio-de-cultura-arqueologos-japoneses-y-peruanos-noticia/)\\n\\n',\n",
       " '[Premier se presenta en el Congreso para sustentar pedido de facultades\\nlegislativas](/politica/alberto-otarola-premier-se-presenta-en-el-congreso-\\npara-sustentar-pedido-de-facultades-legislativas-dina-boluarte-noticia/)\\n\\n',\n",
       " '[Carlos Cacho y Andrés Hurtado se niegan a llamar “ella” a la Uchulú: “¿Qué\\ndice en su DNI?” ](/espectaculos/carlos-cacho-se-niega-a-llamar-ella-a-la-\\nuchulu-que-dice-en-su-dni-uchulu-espectaculos-carlos-cacho-dni-andres-hurtado-\\nla-casa-de-magaly-noticia/)\\n\\n']"
      ]
     },
     "execution_count": 8,
     "metadata": {},
     "output_type": "execute_result"
    }
   ],
   "source": [
    "[html2text(str(noticia_html)) for noticia_html in NOTICIAS_html]"
   ]
  },
  {
   "cell_type": "code",
   "execution_count": null,
   "id": "6a06bc39",
   "metadata": {},
   "outputs": [],
   "source": []
  }
 ],
 "metadata": {
  "kernelspec": {
   "display_name": ".venv",
   "language": "python",
   "name": "python3"
  },
  "language_info": {
   "codemirror_mode": {
    "name": "ipython",
    "version": 3
   },
   "file_extension": ".py",
   "mimetype": "text/x-python",
   "name": "python",
   "nbconvert_exporter": "python",
   "pygments_lexer": "ipython3",
   "version": "3.12.3"
  }
 },
 "nbformat": 4,
 "nbformat_minor": 5
}
