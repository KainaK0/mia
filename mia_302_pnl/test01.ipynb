{
 "cells": [
  {
   "cell_type": "code",
   "execution_count": null,
   "id": "380c9022",
   "metadata": {},
   "outputs": [],
   "source": [
    "# !pip install Pillow\n"
   ]
  },
  {
   "cell_type": "code",
   "execution_count": 8,
   "id": "1842d89e",
   "metadata": {},
   "outputs": [],
   "source": [
    "from PIL import Image\n",
    "import os\n",
    "\n",
    "def comprimir_imagen(ruta_entrada, ruta_salida, calidad=95, max_ancho=None, max_alto=None, formato='JPEG'):\n",
    "    \"\"\"\n",
    "    Comprime una imagen reduciendo su calidad y/o tamaño.\n",
    "    \n",
    "    :param ruta_entrada: Ruta de la imagen original\n",
    "    :param ruta_salida: Ruta donde se guardará la imagen comprimida\n",
    "    :param calidad: Calidad de salida (1-100), donde 100 es la máxima\n",
    "    :param max_ancho: Ancho máximo (opcional)\n",
    "    :param max_alto: Alto máximo (opcional)\n",
    "    :param formato: Formato de salida (por ejemplo: 'JPEG', 'WEBP')\n",
    "    \"\"\"\n",
    "    img = Image.open(ruta_entrada)\n",
    "\n",
    "    # Redimensionar si se especifica tamaño máximo\n",
    "    if max_ancho or max_alto:\n",
    "        img.thumbnail((max_ancho or img.width, max_alto or img.height))\n",
    "\n",
    "    # Convertir a RGB si es necesario (por ejemplo para JPEG)\n",
    "    if formato.upper() in ['JPEG', 'WEBP'] and img.mode in (\"RGBA\", \"P\"):\n",
    "        img = img.convert(\"RGB\")\n",
    "\n",
    "    img.save(ruta_salida, formato=format, quality=calidad, optimize=True)\n",
    "\n",
    "# Ejemplo de uso\n",
    "comprimir_imagen(\n",
    "    ruta_entrada=r\"_DSC3600.jpg\",\n",
    "    ruta_salida=r\"_DSC3600_2.jpg\",\n",
    "    calidad=90,\n",
    "    max_ancho=1200,\n",
    "    max_alto=1200,\n",
    "    formato='JPEG'  # O 'WEBP' si quieres aún más compresión\n",
    ")\n"
   ]
  },
  {
   "cell_type": "code",
   "execution_count": 9,
   "id": "ad26a1bc",
   "metadata": {},
   "outputs": [],
   "source": [
    "from PIL import Image\n",
    "import os\n",
    "\n",
    "def reducir_peso_sin_perder_calidad(ruta_entrada, ruta_salida, formato='JPEG'):\n",
    "    \"\"\"\n",
    "    Reduce el peso de una imagen sin pérdida perceptible de calidad.\n",
    "    Guarda en formato JPEG o WEBP con alta calidad y optimización.\n",
    "    \"\"\"\n",
    "    img = Image.open(ruta_entrada)\n",
    "\n",
    "    # Convertir a RGB si es necesario (JPEG/WEBP no soportan transparencias)\n",
    "    if formato.upper() in ['JPEG', 'WEBP'] and img.mode in (\"RGBA\", \"P\"):\n",
    "        img = img.convert(\"RGB\")\n",
    "\n",
    "    # Guardar imagen optimizada con calidad alta\n",
    "    img.save(\n",
    "        ruta_salida,\n",
    "        format=formato,\n",
    "        quality=90,          # calidad alta pero con compresión\n",
    "        optimize=True,\n",
    "        progressive=True     # mejora la carga en web (para JPEG)\n",
    "    )\n",
    "\n",
    "# Ejemplo de uso\n",
    "reducir_peso_sin_perder_calidad(\n",
    "    ruta_entrada=r\"_DSC3600.jpg\",\n",
    "    ruta_salida=r\"_DSC3600_3.jpg\",  # o .webp si prefieres más compresión\n",
    "    formato='JPEG'\n",
    ")\n"
   ]
  }
 ],
 "metadata": {
  "kernelspec": {
   "display_name": ".venv",
   "language": "python",
   "name": "python3"
  },
  "language_info": {
   "codemirror_mode": {
    "name": "ipython",
    "version": 3
   },
   "file_extension": ".py",
   "mimetype": "text/x-python",
   "name": "python",
   "nbconvert_exporter": "python",
   "pygments_lexer": "ipython3",
   "version": "3.12.3"
  }
 },
 "nbformat": 4,
 "nbformat_minor": 5
}
