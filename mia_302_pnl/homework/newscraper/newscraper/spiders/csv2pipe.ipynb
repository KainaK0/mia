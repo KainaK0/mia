{
 "cells": [
  {
   "cell_type": "code",
   "execution_count": 1,
   "id": "3f42ec3e",
   "metadata": {},
   "outputs": [],
   "source": [
    "import pandas as pd"
   ]
  },
  {
   "cell_type": "code",
   "execution_count": 4,
   "id": "6abfe47b",
   "metadata": {},
   "outputs": [],
   "source": [
    "news = pd.read_csv('peru21news.csv')"
   ]
  },
  {
   "cell_type": "code",
   "execution_count": null,
   "id": "2435bc67",
   "metadata": {},
   "outputs": [],
   "source": [
    "news.to_csv('peru21news2.csv', sep = '|', encoding = 'utf-8')"
   ]
  },
  {
   "cell_type": "code",
   "execution_count": null,
   "id": "c9036b6c",
   "metadata": {},
   "outputs": [],
   "source": []
  }
 ],
 "metadata": {
  "kernelspec": {
   "display_name": ".venv",
   "language": "python",
   "name": "python3"
  },
  "language_info": {
   "codemirror_mode": {
    "name": "ipython",
    "version": 3
   },
   "file_extension": ".py",
   "mimetype": "text/x-python",
   "name": "python",
   "nbconvert_exporter": "python",
   "pygments_lexer": "ipython3",
   "version": "3.12.3"
  }
 },
 "nbformat": 4,
 "nbformat_minor": 5
}
