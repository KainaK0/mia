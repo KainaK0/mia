{
 "cells": [
  {
   "cell_type": "code",
   "execution_count": 15,
   "id": "3f42ec3e",
   "metadata": {},
   "outputs": [],
   "source": [
    "import pandas as pd"
   ]
  },
  {
   "cell_type": "code",
   "execution_count": 16,
   "id": "6abfe47b",
   "metadata": {},
   "outputs": [],
   "source": [
    "news = pd.read_csv('gestionnews4.csv')"
   ]
  },
  {
   "cell_type": "code",
   "execution_count": 17,
   "id": "2435bc67",
   "metadata": {},
   "outputs": [],
   "source": [
    "news.to_csv('gestionnews4_.csv', sep = '|', encoding = 'utf-8')"
   ]
  },
  {
   "cell_type": "code",
   "execution_count": 11,
   "id": "c9036b6c",
   "metadata": {},
   "outputs": [],
   "source": [
    "list__ = ['', 'hola', ' ']"
   ]
  },
  {
   "cell_type": "code",
   "execution_count": 14,
   "id": "c25a3477",
   "metadata": {},
   "outputs": [
    {
     "data": {
      "text/plain": [
       "['hola']"
      ]
     },
     "execution_count": 14,
     "metadata": {},
     "output_type": "execute_result"
    }
   ],
   "source": [
    "lis01 = [ item for item in list__ if item.strip() != \"\"]\n",
    "lis01"
   ]
  },
  {
   "cell_type": "code",
   "execution_count": 9,
   "id": "c727a035",
   "metadata": {},
   "outputs": [
    {
     "data": {
      "text/plain": [
       "\"[1, 'hola', 2]\""
      ]
     },
     "execution_count": 9,
     "metadata": {},
     "output_type": "execute_result"
    }
   ],
   "source": [
    "str(list__)"
   ]
  }
 ],
 "metadata": {
  "kernelspec": {
   "display_name": ".venv",
   "language": "python",
   "name": "python3"
  },
  "language_info": {
   "codemirror_mode": {
    "name": "ipython",
    "version": 3
   },
   "file_extension": ".py",
   "mimetype": "text/x-python",
   "name": "python",
   "nbconvert_exporter": "python",
   "pygments_lexer": "ipython3",
   "version": "3.12.3"
  }
 },
 "nbformat": 4,
 "nbformat_minor": 5
}
