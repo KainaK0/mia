{
 "cells": [
  {
   "cell_type": "code",
   "execution_count": 184,
   "metadata": {},
   "outputs": [],
   "source": [
    "import pandas as pd \n",
    "import numpy as np  \n",
    "\n",
    "import seaborn as sns \n",
    "import matplotlib.pyplot as plt  \n",
    "from sklearn.preprocessing import LabelEncoder\n",
    "from sklearn.preprocessing import OneHotEncoder\n",
    "%matplotlib inline "
   ]
  },
  {
   "cell_type": "code",
   "execution_count": 185,
   "metadata": {},
   "outputs": [],
   "source": [
    "# data https://www.datosabiertos.gob.pe/dataset/fallecidos-hospitalizados-y-vacunados-por-covid-19"
   ]
  },
  {
   "cell_type": "code",
   "execution_count": 186,
   "metadata": {},
   "outputs": [],
   "source": [
    "df = pd.read_csv('TB_FALLECIDO_HOSP_VAC.csv', sep = ';')"
   ]
  },
  {
   "cell_type": "code",
   "execution_count": 187,
   "metadata": {},
   "outputs": [],
   "source": [
    "# df.to_csv('TB_FALLECIDO_HOSP_VAC_.csv', sep = ',', index = False)"
   ]
  },
  {
   "cell_type": "code",
   "execution_count": 188,
   "metadata": {},
   "outputs": [
    {
     "data": {
      "text/html": [
       "<div>\n",
       "<style scoped>\n",
       "    .dataframe tbody tr th:only-of-type {\n",
       "        vertical-align: middle;\n",
       "    }\n",
       "\n",
       "    .dataframe tbody tr th {\n",
       "        vertical-align: top;\n",
       "    }\n",
       "\n",
       "    .dataframe thead th {\n",
       "        text-align: right;\n",
       "    }\n",
       "</style>\n",
       "<table border=\"1\" class=\"dataframe\">\n",
       "  <thead>\n",
       "    <tr style=\"text-align: right;\">\n",
       "      <th></th>\n",
       "      <th>id_persona</th>\n",
       "      <th>fecha_fallecimiento</th>\n",
       "      <th>edad</th>\n",
       "      <th>sexo</th>\n",
       "      <th>criterio_fallecido</th>\n",
       "      <th>ubigeo_cdc</th>\n",
       "      <th>dpt_cdc</th>\n",
       "      <th>prov_cdc</th>\n",
       "      <th>dist_cdc</th>\n",
       "      <th>cdc_positividad</th>\n",
       "      <th>...</th>\n",
       "      <th>fabricante_dosis3</th>\n",
       "      <th>clasificacion_vacuna4</th>\n",
       "      <th>fecha_dosis4</th>\n",
       "      <th>fabricante_dosis4</th>\n",
       "      <th>clasificacion_vacuna5</th>\n",
       "      <th>fecha_dosis5</th>\n",
       "      <th>fabricante_dosis5</th>\n",
       "      <th>clasificacion_vacuna6</th>\n",
       "      <th>fecha_dosis6</th>\n",
       "      <th>fabricante_dosis6</th>\n",
       "    </tr>\n",
       "  </thead>\n",
       "  <tbody>\n",
       "    <tr>\n",
       "      <th>0</th>\n",
       "      <td>4176017</td>\n",
       "      <td>21/01/2022</td>\n",
       "      <td>75</td>\n",
       "      <td>M</td>\n",
       "      <td>Criterio SINADEF</td>\n",
       "      <td>150142</td>\n",
       "      <td>LIMA</td>\n",
       "      <td>LIMA</td>\n",
       "      <td>VILLA EL SALVADOR</td>\n",
       "      <td>0</td>\n",
       "      <td>...</td>\n",
       "      <td>NaN</td>\n",
       "      <td>NaN</td>\n",
       "      <td>NaN</td>\n",
       "      <td>NaN</td>\n",
       "      <td>NaN</td>\n",
       "      <td>NaN</td>\n",
       "      <td>NaN</td>\n",
       "      <td>NaN</td>\n",
       "      <td>NaN</td>\n",
       "      <td>NaN</td>\n",
       "    </tr>\n",
       "    <tr>\n",
       "      <th>1</th>\n",
       "      <td>23086642</td>\n",
       "      <td>26/04/2021</td>\n",
       "      <td>53</td>\n",
       "      <td>F</td>\n",
       "      <td>Criterio virológico</td>\n",
       "      <td>21806</td>\n",
       "      <td>ANCASH</td>\n",
       "      <td>SANTA</td>\n",
       "      <td>NEPEÑA</td>\n",
       "      <td>0</td>\n",
       "      <td>...</td>\n",
       "      <td>NaN</td>\n",
       "      <td>NaN</td>\n",
       "      <td>NaN</td>\n",
       "      <td>NaN</td>\n",
       "      <td>NaN</td>\n",
       "      <td>NaN</td>\n",
       "      <td>NaN</td>\n",
       "      <td>NaN</td>\n",
       "      <td>NaN</td>\n",
       "      <td>NaN</td>\n",
       "    </tr>\n",
       "    <tr>\n",
       "      <th>2</th>\n",
       "      <td>13178121</td>\n",
       "      <td>14/03/2021</td>\n",
       "      <td>52</td>\n",
       "      <td>F</td>\n",
       "      <td>Criterio virológico</td>\n",
       "      <td>150142</td>\n",
       "      <td>LIMA</td>\n",
       "      <td>LIMA</td>\n",
       "      <td>VILLA EL SALVADOR</td>\n",
       "      <td>0</td>\n",
       "      <td>...</td>\n",
       "      <td>NaN</td>\n",
       "      <td>NaN</td>\n",
       "      <td>NaN</td>\n",
       "      <td>NaN</td>\n",
       "      <td>NaN</td>\n",
       "      <td>NaN</td>\n",
       "      <td>NaN</td>\n",
       "      <td>NaN</td>\n",
       "      <td>NaN</td>\n",
       "      <td>NaN</td>\n",
       "    </tr>\n",
       "    <tr>\n",
       "      <th>3</th>\n",
       "      <td>17662628</td>\n",
       "      <td>24/03/2021</td>\n",
       "      <td>52</td>\n",
       "      <td>F</td>\n",
       "      <td>Criterio virológico</td>\n",
       "      <td>150142</td>\n",
       "      <td>LIMA</td>\n",
       "      <td>LIMA</td>\n",
       "      <td>VILLA EL SALVADOR</td>\n",
       "      <td>0</td>\n",
       "      <td>...</td>\n",
       "      <td>NaN</td>\n",
       "      <td>NaN</td>\n",
       "      <td>NaN</td>\n",
       "      <td>NaN</td>\n",
       "      <td>NaN</td>\n",
       "      <td>NaN</td>\n",
       "      <td>NaN</td>\n",
       "      <td>NaN</td>\n",
       "      <td>NaN</td>\n",
       "      <td>NaN</td>\n",
       "    </tr>\n",
       "    <tr>\n",
       "      <th>4</th>\n",
       "      <td>1309244</td>\n",
       "      <td>9/05/2021</td>\n",
       "      <td>76</td>\n",
       "      <td>F</td>\n",
       "      <td>Criterio virológico</td>\n",
       "      <td>150124</td>\n",
       "      <td>LIMA</td>\n",
       "      <td>LIMA</td>\n",
       "      <td>PUCUSANA</td>\n",
       "      <td>0</td>\n",
       "      <td>...</td>\n",
       "      <td>NaN</td>\n",
       "      <td>NaN</td>\n",
       "      <td>NaN</td>\n",
       "      <td>NaN</td>\n",
       "      <td>NaN</td>\n",
       "      <td>NaN</td>\n",
       "      <td>NaN</td>\n",
       "      <td>NaN</td>\n",
       "      <td>NaN</td>\n",
       "      <td>NaN</td>\n",
       "    </tr>\n",
       "  </tbody>\n",
       "</table>\n",
       "<p>5 rows × 46 columns</p>\n",
       "</div>"
      ],
      "text/plain": [
       "   id_persona fecha_fallecimiento  edad sexo   criterio_fallecido  ubigeo_cdc  \\\n",
       "0     4176017          21/01/2022    75    M     Criterio SINADEF      150142   \n",
       "1    23086642          26/04/2021    53    F  Criterio virológico       21806   \n",
       "2    13178121          14/03/2021    52    F  Criterio virológico      150142   \n",
       "3    17662628          24/03/2021    52    F  Criterio virológico      150142   \n",
       "4     1309244           9/05/2021    76    F  Criterio virológico      150124   \n",
       "\n",
       "  dpt_cdc prov_cdc           dist_cdc  cdc_positividad  ...  \\\n",
       "0    LIMA     LIMA  VILLA EL SALVADOR                0  ...   \n",
       "1  ANCASH    SANTA             NEPEÑA                0  ...   \n",
       "2    LIMA     LIMA  VILLA EL SALVADOR                0  ...   \n",
       "3    LIMA     LIMA  VILLA EL SALVADOR                0  ...   \n",
       "4    LIMA     LIMA           PUCUSANA                0  ...   \n",
       "\n",
       "   fabricante_dosis3  clasificacion_vacuna4  fecha_dosis4  fabricante_dosis4  \\\n",
       "0                NaN                    NaN           NaN                NaN   \n",
       "1                NaN                    NaN           NaN                NaN   \n",
       "2                NaN                    NaN           NaN                NaN   \n",
       "3                NaN                    NaN           NaN                NaN   \n",
       "4                NaN                    NaN           NaN                NaN   \n",
       "\n",
       "  clasificacion_vacuna5 fecha_dosis5 fabricante_dosis5 clasificacion_vacuna6  \\\n",
       "0                   NaN          NaN               NaN                   NaN   \n",
       "1                   NaN          NaN               NaN                   NaN   \n",
       "2                   NaN          NaN               NaN                   NaN   \n",
       "3                   NaN          NaN               NaN                   NaN   \n",
       "4                   NaN          NaN               NaN                   NaN   \n",
       "\n",
       "   fecha_dosis6 fabricante_dosis6  \n",
       "0           NaN               NaN  \n",
       "1           NaN               NaN  \n",
       "2           NaN               NaN  \n",
       "3           NaN               NaN  \n",
       "4           NaN               NaN  \n",
       "\n",
       "[5 rows x 46 columns]"
      ]
     },
     "execution_count": 188,
     "metadata": {},
     "output_type": "execute_result"
    }
   ],
   "source": [
    "df.head()"
   ]
  },
  {
   "cell_type": "code",
   "execution_count": 189,
   "metadata": {},
   "outputs": [
    {
     "data": {
      "text/plain": [
       "Index(['id_persona', 'fecha_fallecimiento', 'edad', 'sexo',\n",
       "       'criterio_fallecido', 'ubigeo_cdc', 'dpt_cdc', 'prov_cdc', 'dist_cdc',\n",
       "       'cdc_positividad', 'fecha_dosis1', 'fecha_dosis2', 'flag_hospitalizado',\n",
       "       'eess_renaes', 'eess_diresa', 'eess_red', 'eess_nombre',\n",
       "       'fecha_ingreso_hosp', 'flag_uci', 'fecha_ingreso_uci',\n",
       "       'fecha_ingreso_ucin', 'con_oxigeno', 'con_ventilacion',\n",
       "       'fecha_segumiento_hosp_ultimo', 'evolucion_hosp_ultimo',\n",
       "       'ubigeo_inei_domicilio', 'dep_domicilio', 'prov_domicilio',\n",
       "       'dist_domicilio', 'flag_vacuna', 'clasificacion_vacuna1',\n",
       "       'fabricante_dosis1', 'clasificacion_vacuna2', 'fabricante_dosis2',\n",
       "       'clasificacion_vacuna3', 'fecha_dosis3', 'fabricante_dosis3',\n",
       "       'clasificacion_vacuna4', 'fecha_dosis4', 'fabricante_dosis4',\n",
       "       'clasificacion_vacuna5', 'fecha_dosis5', 'fabricante_dosis5',\n",
       "       'clasificacion_vacuna6', 'fecha_dosis6', 'fabricante_dosis6'],\n",
       "      dtype='object')"
      ]
     },
     "execution_count": 189,
     "metadata": {},
     "output_type": "execute_result"
    }
   ],
   "source": [
    "df.columns"
   ]
  },
  {
   "cell_type": "code",
   "execution_count": 190,
   "metadata": {},
   "outputs": [],
   "source": [
    "id_customer = df['id_persona']\n",
    "label = df['flag_uci']"
   ]
  },
  {
   "cell_type": "code",
   "execution_count": 191,
   "metadata": {},
   "outputs": [
    {
     "name": "stdout",
     "output_type": "stream",
     "text": [
      "Total No. Of uci :-  4845\n",
      "Total No. Of no uci :-  119583\n"
     ]
    },
    {
     "data": {
      "image/png": "[encoded data removed]",
      "text/plain": [
       "<Figure size 640x480 with 1 Axes>"
      ]
     },
     "metadata": {},
     "output_type": "display_data"
    }
   ],
   "source": [
    "# seeing the distribution of classes, this will help us to identify which types \n",
    "\n",
    "len_no_uci = len(df['flag_uci'][df.flag_uci == 0])\n",
    "len_uci = len(df['flag_uci'][df.flag_uci == 1])\n",
    "\n",
    "arr = np.array([len_uci , len_no_uci]) \n",
    "labels = ['UCI', 'NO UCI'] \n",
    "print(\"Total No. Of uci :- \", len_uci)\n",
    "print(\"Total No. Of no uci :- \", len_no_uci)\n",
    "\n",
    "plt.pie(arr, labels=labels, explode = [0.2,0.0] , shadow=True) \n",
    "plt.show() \n"
   ]
  },
  {
   "cell_type": "code",
   "execution_count": 192,
   "metadata": {},
   "outputs": [
    {
     "data": {
      "text/html": [
       "<div>\n",
       "<style scoped>\n",
       "    .dataframe tbody tr th:only-of-type {\n",
       "        vertical-align: middle;\n",
       "    }\n",
       "\n",
       "    .dataframe tbody tr th {\n",
       "        vertical-align: top;\n",
       "    }\n",
       "\n",
       "    .dataframe thead th {\n",
       "        text-align: right;\n",
       "    }\n",
       "</style>\n",
       "<table border=\"1\" class=\"dataframe\">\n",
       "  <thead>\n",
       "    <tr style=\"text-align: right;\">\n",
       "      <th></th>\n",
       "      <th>id_persona</th>\n",
       "      <th>edad</th>\n",
       "      <th>ubigeo_cdc</th>\n",
       "      <th>cdc_positividad</th>\n",
       "      <th>fecha_dosis1</th>\n",
       "      <th>fecha_dosis2</th>\n",
       "      <th>flag_hospitalizado</th>\n",
       "      <th>eess_renaes</th>\n",
       "      <th>flag_uci</th>\n",
       "      <th>con_oxigeno</th>\n",
       "      <th>...</th>\n",
       "      <th>fabricante_dosis3</th>\n",
       "      <th>clasificacion_vacuna4</th>\n",
       "      <th>fecha_dosis4</th>\n",
       "      <th>fabricante_dosis4</th>\n",
       "      <th>clasificacion_vacuna5</th>\n",
       "      <th>fecha_dosis5</th>\n",
       "      <th>fabricante_dosis5</th>\n",
       "      <th>clasificacion_vacuna6</th>\n",
       "      <th>fecha_dosis6</th>\n",
       "      <th>fabricante_dosis6</th>\n",
       "    </tr>\n",
       "  </thead>\n",
       "  <tbody>\n",
       "    <tr>\n",
       "      <th>count</th>\n",
       "      <td>1.244280e+05</td>\n",
       "      <td>124428.000000</td>\n",
       "      <td>124428.000000</td>\n",
       "      <td>124428.000000</td>\n",
       "      <td>0.0</td>\n",
       "      <td>0.0</td>\n",
       "      <td>124428.000000</td>\n",
       "      <td>124428.000000</td>\n",
       "      <td>124428.000000</td>\n",
       "      <td>124428.000000</td>\n",
       "      <td>...</td>\n",
       "      <td>0.0</td>\n",
       "      <td>0.0</td>\n",
       "      <td>0.0</td>\n",
       "      <td>0.0</td>\n",
       "      <td>0.0</td>\n",
       "      <td>0.0</td>\n",
       "      <td>0.0</td>\n",
       "      <td>0.0</td>\n",
       "      <td>0.0</td>\n",
       "      <td>0.0</td>\n",
       "    </tr>\n",
       "    <tr>\n",
       "      <th>mean</th>\n",
       "      <td>1.761061e+07</td>\n",
       "      <td>66.403727</td>\n",
       "      <td>131987.664842</td>\n",
       "      <td>0.001816</td>\n",
       "      <td>NaN</td>\n",
       "      <td>NaN</td>\n",
       "      <td>0.188270</td>\n",
       "      <td>1177.938253</td>\n",
       "      <td>0.038938</td>\n",
       "      <td>0.171754</td>\n",
       "      <td>...</td>\n",
       "      <td>NaN</td>\n",
       "      <td>NaN</td>\n",
       "      <td>NaN</td>\n",
       "      <td>NaN</td>\n",
       "      <td>NaN</td>\n",
       "      <td>NaN</td>\n",
       "      <td>NaN</td>\n",
       "      <td>NaN</td>\n",
       "      <td>NaN</td>\n",
       "      <td>NaN</td>\n",
       "    </tr>\n",
       "    <tr>\n",
       "      <th>std</th>\n",
       "      <td>1.399664e+07</td>\n",
       "      <td>16.066782</td>\n",
       "      <td>51903.854780</td>\n",
       "      <td>0.042580</td>\n",
       "      <td>NaN</td>\n",
       "      <td>NaN</td>\n",
       "      <td>0.390929</td>\n",
       "      <td>3657.632815</td>\n",
       "      <td>0.193448</td>\n",
       "      <td>0.377168</td>\n",
       "      <td>...</td>\n",
       "      <td>NaN</td>\n",
       "      <td>NaN</td>\n",
       "      <td>NaN</td>\n",
       "      <td>NaN</td>\n",
       "      <td>NaN</td>\n",
       "      <td>NaN</td>\n",
       "      <td>NaN</td>\n",
       "      <td>NaN</td>\n",
       "      <td>NaN</td>\n",
       "      <td>NaN</td>\n",
       "    </tr>\n",
       "    <tr>\n",
       "      <th>min</th>\n",
       "      <td>1.200000e+01</td>\n",
       "      <td>0.000000</td>\n",
       "      <td>10101.000000</td>\n",
       "      <td>0.000000</td>\n",
       "      <td>NaN</td>\n",
       "      <td>NaN</td>\n",
       "      <td>0.000000</td>\n",
       "      <td>0.000000</td>\n",
       "      <td>0.000000</td>\n",
       "      <td>0.000000</td>\n",
       "      <td>...</td>\n",
       "      <td>NaN</td>\n",
       "      <td>NaN</td>\n",
       "      <td>NaN</td>\n",
       "      <td>NaN</td>\n",
       "      <td>NaN</td>\n",
       "      <td>NaN</td>\n",
       "      <td>NaN</td>\n",
       "      <td>NaN</td>\n",
       "      <td>NaN</td>\n",
       "      <td>NaN</td>\n",
       "    </tr>\n",
       "    <tr>\n",
       "      <th>25%</th>\n",
       "      <td>4.218078e+06</td>\n",
       "      <td>57.000000</td>\n",
       "      <td>110102.000000</td>\n",
       "      <td>0.000000</td>\n",
       "      <td>NaN</td>\n",
       "      <td>NaN</td>\n",
       "      <td>0.000000</td>\n",
       "      <td>0.000000</td>\n",
       "      <td>0.000000</td>\n",
       "      <td>0.000000</td>\n",
       "      <td>...</td>\n",
       "      <td>NaN</td>\n",
       "      <td>NaN</td>\n",
       "      <td>NaN</td>\n",
       "      <td>NaN</td>\n",
       "      <td>NaN</td>\n",
       "      <td>NaN</td>\n",
       "      <td>NaN</td>\n",
       "      <td>NaN</td>\n",
       "      <td>NaN</td>\n",
       "      <td>NaN</td>\n",
       "    </tr>\n",
       "    <tr>\n",
       "      <th>50%</th>\n",
       "      <td>1.362256e+07</td>\n",
       "      <td>68.000000</td>\n",
       "      <td>150108.000000</td>\n",
       "      <td>0.000000</td>\n",
       "      <td>NaN</td>\n",
       "      <td>NaN</td>\n",
       "      <td>0.000000</td>\n",
       "      <td>0.000000</td>\n",
       "      <td>0.000000</td>\n",
       "      <td>0.000000</td>\n",
       "      <td>...</td>\n",
       "      <td>NaN</td>\n",
       "      <td>NaN</td>\n",
       "      <td>NaN</td>\n",
       "      <td>NaN</td>\n",
       "      <td>NaN</td>\n",
       "      <td>NaN</td>\n",
       "      <td>NaN</td>\n",
       "      <td>NaN</td>\n",
       "      <td>NaN</td>\n",
       "      <td>NaN</td>\n",
       "    </tr>\n",
       "    <tr>\n",
       "      <th>75%</th>\n",
       "      <td>3.621388e+07</td>\n",
       "      <td>78.000000</td>\n",
       "      <td>150137.000000</td>\n",
       "      <td>0.000000</td>\n",
       "      <td>NaN</td>\n",
       "      <td>NaN</td>\n",
       "      <td>0.000000</td>\n",
       "      <td>0.000000</td>\n",
       "      <td>0.000000</td>\n",
       "      <td>0.000000</td>\n",
       "      <td>...</td>\n",
       "      <td>NaN</td>\n",
       "      <td>NaN</td>\n",
       "      <td>NaN</td>\n",
       "      <td>NaN</td>\n",
       "      <td>NaN</td>\n",
       "      <td>NaN</td>\n",
       "      <td>NaN</td>\n",
       "      <td>NaN</td>\n",
       "      <td>NaN</td>\n",
       "      <td>NaN</td>\n",
       "    </tr>\n",
       "    <tr>\n",
       "      <th>max</th>\n",
       "      <td>4.200498e+07</td>\n",
       "      <td>113.000000</td>\n",
       "      <td>250401.000000</td>\n",
       "      <td>1.000000</td>\n",
       "      <td>NaN</td>\n",
       "      <td>NaN</td>\n",
       "      <td>1.000000</td>\n",
       "      <td>28025.000000</td>\n",
       "      <td>1.000000</td>\n",
       "      <td>1.000000</td>\n",
       "      <td>...</td>\n",
       "      <td>NaN</td>\n",
       "      <td>NaN</td>\n",
       "      <td>NaN</td>\n",
       "      <td>NaN</td>\n",
       "      <td>NaN</td>\n",
       "      <td>NaN</td>\n",
       "      <td>NaN</td>\n",
       "      <td>NaN</td>\n",
       "      <td>NaN</td>\n",
       "      <td>NaN</td>\n",
       "    </tr>\n",
       "  </tbody>\n",
       "</table>\n",
       "<p>8 rows × 29 columns</p>\n",
       "</div>"
      ],
      "text/plain": [
       "         id_persona           edad     ubigeo_cdc  cdc_positividad  \\\n",
       "count  1.244280e+05  124428.000000  124428.000000    124428.000000   \n",
       "mean   1.761061e+07      66.403727  131987.664842         0.001816   \n",
       "std    1.399664e+07      16.066782   51903.854780         0.042580   \n",
       "min    1.200000e+01       0.000000   10101.000000         0.000000   \n",
       "25%    4.218078e+06      57.000000  110102.000000         0.000000   \n",
       "50%    1.362256e+07      68.000000  150108.000000         0.000000   \n",
       "75%    3.621388e+07      78.000000  150137.000000         0.000000   \n",
       "max    4.200498e+07     113.000000  250401.000000         1.000000   \n",
       "\n",
       "       fecha_dosis1  fecha_dosis2  flag_hospitalizado    eess_renaes  \\\n",
       "count           0.0           0.0       124428.000000  124428.000000   \n",
       "mean            NaN           NaN            0.188270    1177.938253   \n",
       "std             NaN           NaN            0.390929    3657.632815   \n",
       "min             NaN           NaN            0.000000       0.000000   \n",
       "25%             NaN           NaN            0.000000       0.000000   \n",
       "50%             NaN           NaN            0.000000       0.000000   \n",
       "75%             NaN           NaN            0.000000       0.000000   \n",
       "max             NaN           NaN            1.000000   28025.000000   \n",
       "\n",
       "            flag_uci    con_oxigeno  ...  fabricante_dosis3  \\\n",
       "count  124428.000000  124428.000000  ...                0.0   \n",
       "mean        0.038938       0.171754  ...                NaN   \n",
       "std         0.193448       0.377168  ...                NaN   \n",
       "min         0.000000       0.000000  ...                NaN   \n",
       "25%         0.000000       0.000000  ...                NaN   \n",
       "50%         0.000000       0.000000  ...                NaN   \n",
       "75%         0.000000       0.000000  ...                NaN   \n",
       "max         1.000000       1.000000  ...                NaN   \n",
       "\n",
       "       clasificacion_vacuna4  fecha_dosis4  fabricante_dosis4  \\\n",
       "count                    0.0           0.0                0.0   \n",
       "mean                     NaN           NaN                NaN   \n",
       "std                      NaN           NaN                NaN   \n",
       "min                      NaN           NaN                NaN   \n",
       "25%                      NaN           NaN                NaN   \n",
       "50%                      NaN           NaN                NaN   \n",
       "75%                      NaN           NaN                NaN   \n",
       "max                      NaN           NaN                NaN   \n",
       "\n",
       "       clasificacion_vacuna5  fecha_dosis5  fabricante_dosis5  \\\n",
       "count                    0.0           0.0                0.0   \n",
       "mean                     NaN           NaN                NaN   \n",
       "std                      NaN           NaN                NaN   \n",
       "min                      NaN           NaN                NaN   \n",
       "25%                      NaN           NaN                NaN   \n",
       "50%                      NaN           NaN                NaN   \n",
       "75%                      NaN           NaN                NaN   \n",
       "max                      NaN           NaN                NaN   \n",
       "\n",
       "       clasificacion_vacuna6  fecha_dosis6  fabricante_dosis6  \n",
       "count                    0.0           0.0                0.0  \n",
       "mean                     NaN           NaN                NaN  \n",
       "std                      NaN           NaN                NaN  \n",
       "min                      NaN           NaN                NaN  \n",
       "25%                      NaN           NaN                NaN  \n",
       "50%                      NaN           NaN                NaN  \n",
       "75%                      NaN           NaN                NaN  \n",
       "max                      NaN           NaN                NaN  \n",
       "\n",
       "[8 rows x 29 columns]"
      ]
     },
     "execution_count": 192,
     "metadata": {},
     "output_type": "execute_result"
    }
   ],
   "source": [
    "df.describe()"
   ]
  },
  {
   "cell_type": "code",
   "execution_count": 193,
   "metadata": {},
   "outputs": [
    {
     "name": "stdout",
     "output_type": "stream",
     "text": [
      "No. of Null Values:-\n"
     ]
    },
    {
     "data": {
      "text/plain": [
       "id_persona                           0\n",
       "fecha_fallecimiento                  0\n",
       "edad                                 0\n",
       "sexo                                 0\n",
       "criterio_fallecido                   0\n",
       "ubigeo_cdc                           0\n",
       "dpt_cdc                              0\n",
       "prov_cdc                             0\n",
       "dist_cdc                             0\n",
       "cdc_positividad                      0\n",
       "fecha_dosis1                    124428\n",
       "fecha_dosis2                    124428\n",
       "flag_hospitalizado                   0\n",
       "eess_renaes                          0\n",
       "eess_diresa                     101002\n",
       "eess_red                        101002\n",
       "eess_nombre                     101002\n",
       "fecha_ingreso_hosp              101002\n",
       "flag_uci                             0\n",
       "fecha_ingreso_uci               120631\n",
       "fecha_ingreso_ucin              122896\n",
       "con_oxigeno                          0\n",
       "con_ventilacion                      0\n",
       "fecha_segumiento_hosp_ultimo    101002\n",
       "evolucion_hosp_ultimo           101136\n",
       "ubigeo_inei_domicilio            35623\n",
       "dep_domicilio                    35623\n",
       "prov_domicilio                   35623\n",
       "dist_domicilio                   35623\n",
       "flag_vacuna                          0\n",
       "clasificacion_vacuna1           124428\n",
       "fabricante_dosis1               124428\n",
       "clasificacion_vacuna2           124428\n",
       "fabricante_dosis2               124428\n",
       "clasificacion_vacuna3           124428\n",
       "fecha_dosis3                    124428\n",
       "fabricante_dosis3               124428\n",
       "clasificacion_vacuna4           124428\n",
       "fecha_dosis4                    124428\n",
       "fabricante_dosis4               124428\n",
       "clasificacion_vacuna5           124428\n",
       "fecha_dosis5                    124428\n",
       "fabricante_dosis5               124428\n",
       "clasificacion_vacuna6           124428\n",
       "fecha_dosis6                    124428\n",
       "fabricante_dosis6               124428\n",
       "dtype: int64"
      ]
     },
     "execution_count": 193,
     "metadata": {},
     "output_type": "execute_result"
    }
   ],
   "source": [
    "print(f\"No. of Null Values:-\" ) \n",
    "df.isnull().sum() "
   ]
  },
  {
   "cell_type": "code",
   "execution_count": 194,
   "metadata": {},
   "outputs": [],
   "source": [
    "df.drop(columns=df.loc[:,df.isnull().sum() == 124428].columns,axis=1, inplace= True)"
   ]
  },
  {
   "cell_type": "code",
   "execution_count": 195,
   "metadata": {},
   "outputs": [
    {
     "name": "stdout",
     "output_type": "stream",
     "text": [
      "No. of Null Values:-\n"
     ]
    },
    {
     "data": {
      "text/plain": [
       "id_persona                           0\n",
       "fecha_fallecimiento                  0\n",
       "edad                                 0\n",
       "sexo                                 0\n",
       "criterio_fallecido                   0\n",
       "ubigeo_cdc                           0\n",
       "dpt_cdc                              0\n",
       "prov_cdc                             0\n",
       "dist_cdc                             0\n",
       "cdc_positividad                      0\n",
       "flag_hospitalizado                   0\n",
       "eess_renaes                          0\n",
       "eess_diresa                     101002\n",
       "eess_red                        101002\n",
       "eess_nombre                     101002\n",
       "fecha_ingreso_hosp              101002\n",
       "flag_uci                             0\n",
       "fecha_ingreso_uci               120631\n",
       "fecha_ingreso_ucin              122896\n",
       "con_oxigeno                          0\n",
       "con_ventilacion                      0\n",
       "fecha_segumiento_hosp_ultimo    101002\n",
       "evolucion_hosp_ultimo           101136\n",
       "ubigeo_inei_domicilio            35623\n",
       "dep_domicilio                    35623\n",
       "prov_domicilio                   35623\n",
       "dist_domicilio                   35623\n",
       "flag_vacuna                          0\n",
       "dtype: int64"
      ]
     },
     "execution_count": 195,
     "metadata": {},
     "output_type": "execute_result"
    }
   ],
   "source": [
    "print(f\"No. of Null Values:-\" ) \n",
    "df.isnull().sum() "
   ]
  },
  {
   "cell_type": "code",
   "execution_count": 196,
   "metadata": {},
   "outputs": [
    {
     "data": {
      "text/plain": [
       "id_persona                        int64\n",
       "fecha_fallecimiento              object\n",
       "edad                              int64\n",
       "sexo                             object\n",
       "criterio_fallecido               object\n",
       "ubigeo_cdc                        int64\n",
       "dpt_cdc                          object\n",
       "prov_cdc                         object\n",
       "dist_cdc                         object\n",
       "cdc_positividad                   int64\n",
       "flag_hospitalizado                int64\n",
       "eess_renaes                       int64\n",
       "eess_diresa                      object\n",
       "eess_red                         object\n",
       "eess_nombre                      object\n",
       "fecha_ingreso_hosp               object\n",
       "flag_uci                          int64\n",
       "fecha_ingreso_uci                object\n",
       "fecha_ingreso_ucin               object\n",
       "con_oxigeno                       int64\n",
       "con_ventilacion                   int64\n",
       "fecha_segumiento_hosp_ultimo     object\n",
       "evolucion_hosp_ultimo            object\n",
       "ubigeo_inei_domicilio           float64\n",
       "dep_domicilio                    object\n",
       "prov_domicilio                   object\n",
       "dist_domicilio                   object\n",
       "flag_vacuna                       int64\n",
       "dtype: object"
      ]
     },
     "execution_count": 196,
     "metadata": {},
     "output_type": "execute_result"
    }
   ],
   "source": [
    "df.dtypes"
   ]
  },
  {
   "cell_type": "code",
   "execution_count": 197,
   "metadata": {},
   "outputs": [],
   "source": [
    "df.drop(columns=['id_persona','dpt_cdc','prov_cdc','dist_cdc','eess_diresa','eess_red','eess_nombre','dep_domicilio','prov_domicilio','dist_domicilio','con_ventilacion','con_oxigeno'],axis=1, inplace= True)"
   ]
  },
  {
   "cell_type": "code",
   "execution_count": 198,
   "metadata": {},
   "outputs": [
    {
     "data": {
      "text/plain": [
       "fecha_fallecimiento                  0\n",
       "edad                                 0\n",
       "sexo                                 0\n",
       "criterio_fallecido                   0\n",
       "ubigeo_cdc                           0\n",
       "cdc_positividad                      0\n",
       "flag_hospitalizado                   0\n",
       "eess_renaes                          0\n",
       "fecha_ingreso_hosp              101002\n",
       "flag_uci                             0\n",
       "fecha_ingreso_uci               120631\n",
       "fecha_ingreso_ucin              122896\n",
       "fecha_segumiento_hosp_ultimo    101002\n",
       "evolucion_hosp_ultimo           101136\n",
       "ubigeo_inei_domicilio            35623\n",
       "flag_vacuna                          0\n",
       "dtype: int64"
      ]
     },
     "execution_count": 198,
     "metadata": {},
     "output_type": "execute_result"
    }
   ],
   "source": [
    "df.isnull().sum()"
   ]
  },
  {
   "cell_type": "code",
   "execution_count": 199,
   "metadata": {},
   "outputs": [],
   "source": [
    "df['fecha_fallecimiento'] = pd.to_datetime(df['fecha_fallecimiento'], format='%d/%m/%Y')\n",
    "df['fecha_ingreso_uci'] = pd.to_datetime(df['fecha_ingreso_uci'], format='%d/%m/%Y')\n",
    "df['fecha_ingreso_ucin'] = pd.to_datetime(df['fecha_ingreso_ucin'], format='%d/%m/%Y')\n",
    "df['fecha_ingreso_hosp'] = pd.to_datetime(df['fecha_ingreso_hosp'], format='%d/%m/%Y')\n",
    "df['fecha_segumiento_hosp_ultimo'] = pd.to_datetime(df['fecha_segumiento_hosp_ultimo'], format='%d/%m/%Y')"
   ]
  },
  {
   "cell_type": "code",
   "execution_count": 200,
   "metadata": {},
   "outputs": [
    {
     "data": {
      "text/plain": [
       "fecha_fallecimiento             datetime64[ns]\n",
       "edad                                     int64\n",
       "sexo                                    object\n",
       "criterio_fallecido                      object\n",
       "ubigeo_cdc                               int64\n",
       "cdc_positividad                          int64\n",
       "flag_hospitalizado                       int64\n",
       "eess_renaes                              int64\n",
       "fecha_ingreso_hosp              datetime64[ns]\n",
       "flag_uci                                 int64\n",
       "fecha_ingreso_uci               datetime64[ns]\n",
       "fecha_ingreso_ucin              datetime64[ns]\n",
       "fecha_segumiento_hosp_ultimo    datetime64[ns]\n",
       "evolucion_hosp_ultimo                   object\n",
       "ubigeo_inei_domicilio                  float64\n",
       "flag_vacuna                              int64\n",
       "dtype: object"
      ]
     },
     "execution_count": 200,
     "metadata": {},
     "output_type": "execute_result"
    }
   ],
   "source": [
    "df.dtypes"
   ]
  },
  {
   "cell_type": "code",
   "execution_count": 201,
   "metadata": {},
   "outputs": [
    {
     "data": {
      "text/html": [
       "<div>\n",
       "<style scoped>\n",
       "    .dataframe tbody tr th:only-of-type {\n",
       "        vertical-align: middle;\n",
       "    }\n",
       "\n",
       "    .dataframe tbody tr th {\n",
       "        vertical-align: top;\n",
       "    }\n",
       "\n",
       "    .dataframe thead th {\n",
       "        text-align: right;\n",
       "    }\n",
       "</style>\n",
       "<table border=\"1\" class=\"dataframe\">\n",
       "  <thead>\n",
       "    <tr style=\"text-align: right;\">\n",
       "      <th></th>\n",
       "      <th>fecha_fallecimiento</th>\n",
       "      <th>criterio_fallecido</th>\n",
       "      <th>fecha_ingreso_uci</th>\n",
       "      <th>fecha_ingreso_ucin</th>\n",
       "      <th>fecha_ingreso_hosp</th>\n",
       "      <th>fecha_segumiento_hosp_ultimo</th>\n",
       "      <th>evolucion_hosp_ultimo</th>\n",
       "    </tr>\n",
       "  </thead>\n",
       "  <tbody>\n",
       "    <tr>\n",
       "      <th>998</th>\n",
       "      <td>2021-09-29</td>\n",
       "      <td>Criterio SINADEF</td>\n",
       "      <td>NaT</td>\n",
       "      <td>NaT</td>\n",
       "      <td>2021-09-30</td>\n",
       "      <td>2021-09-30</td>\n",
       "      <td>defuncion</td>\n",
       "    </tr>\n",
       "    <tr>\n",
       "      <th>1014</th>\n",
       "      <td>2021-04-04</td>\n",
       "      <td>Criterio virológico</td>\n",
       "      <td>NaT</td>\n",
       "      <td>NaT</td>\n",
       "      <td>2021-04-05</td>\n",
       "      <td>2021-04-06</td>\n",
       "      <td>alta</td>\n",
       "    </tr>\n",
       "    <tr>\n",
       "      <th>3086</th>\n",
       "      <td>2021-02-13</td>\n",
       "      <td>Criterio investigación Epidemiológica</td>\n",
       "      <td>NaT</td>\n",
       "      <td>NaT</td>\n",
       "      <td>2021-02-18</td>\n",
       "      <td>2021-02-19</td>\n",
       "      <td>defuncion</td>\n",
       "    </tr>\n",
       "    <tr>\n",
       "      <th>3206</th>\n",
       "      <td>2021-02-03</td>\n",
       "      <td>Criterio SINADEF</td>\n",
       "      <td>NaT</td>\n",
       "      <td>NaT</td>\n",
       "      <td>2021-02-04</td>\n",
       "      <td>2021-02-04</td>\n",
       "      <td>defuncion</td>\n",
       "    </tr>\n",
       "    <tr>\n",
       "      <th>4071</th>\n",
       "      <td>2022-07-25</td>\n",
       "      <td>Criterio SINADEF</td>\n",
       "      <td>NaT</td>\n",
       "      <td>NaT</td>\n",
       "      <td>2022-07-26</td>\n",
       "      <td>2022-07-26</td>\n",
       "      <td>desfavorable</td>\n",
       "    </tr>\n",
       "    <tr>\n",
       "      <th>...</th>\n",
       "      <td>...</td>\n",
       "      <td>...</td>\n",
       "      <td>...</td>\n",
       "      <td>...</td>\n",
       "      <td>...</td>\n",
       "      <td>...</td>\n",
       "      <td>...</td>\n",
       "    </tr>\n",
       "    <tr>\n",
       "      <th>116185</th>\n",
       "      <td>2021-01-06</td>\n",
       "      <td>Criterio SINADEF</td>\n",
       "      <td>NaT</td>\n",
       "      <td>NaT</td>\n",
       "      <td>2021-02-06</td>\n",
       "      <td>2021-02-06</td>\n",
       "      <td>defuncion</td>\n",
       "    </tr>\n",
       "    <tr>\n",
       "      <th>116951</th>\n",
       "      <td>2022-01-06</td>\n",
       "      <td>Criterio SINADEF</td>\n",
       "      <td>NaT</td>\n",
       "      <td>NaT</td>\n",
       "      <td>2022-01-07</td>\n",
       "      <td>2022-01-07</td>\n",
       "      <td>defuncion</td>\n",
       "    </tr>\n",
       "    <tr>\n",
       "      <th>117358</th>\n",
       "      <td>2021-06-17</td>\n",
       "      <td>Criterio virológico</td>\n",
       "      <td>NaT</td>\n",
       "      <td>2021-07-03</td>\n",
       "      <td>2021-06-29</td>\n",
       "      <td>2021-07-17</td>\n",
       "      <td>defuncion</td>\n",
       "    </tr>\n",
       "    <tr>\n",
       "      <th>118214</th>\n",
       "      <td>2022-02-07</td>\n",
       "      <td>Criterio SINADEF</td>\n",
       "      <td>NaT</td>\n",
       "      <td>NaT</td>\n",
       "      <td>2022-02-09</td>\n",
       "      <td>2022-02-09</td>\n",
       "      <td>defuncion</td>\n",
       "    </tr>\n",
       "    <tr>\n",
       "      <th>121201</th>\n",
       "      <td>2022-02-03</td>\n",
       "      <td>Criterio virológico</td>\n",
       "      <td>NaT</td>\n",
       "      <td>NaT</td>\n",
       "      <td>2022-02-09</td>\n",
       "      <td>2022-02-09</td>\n",
       "      <td>defuncion</td>\n",
       "    </tr>\n",
       "  </tbody>\n",
       "</table>\n",
       "<p>93 rows × 7 columns</p>\n",
       "</div>"
      ],
      "text/plain": [
       "       fecha_fallecimiento                     criterio_fallecido  \\\n",
       "998             2021-09-29                       Criterio SINADEF   \n",
       "1014            2021-04-04                    Criterio virológico   \n",
       "3086            2021-02-13  Criterio investigación Epidemiológica   \n",
       "3206            2021-02-03                       Criterio SINADEF   \n",
       "4071            2022-07-25                       Criterio SINADEF   \n",
       "...                    ...                                    ...   \n",
       "116185          2021-01-06                       Criterio SINADEF   \n",
       "116951          2022-01-06                       Criterio SINADEF   \n",
       "117358          2021-06-17                    Criterio virológico   \n",
       "118214          2022-02-07                       Criterio SINADEF   \n",
       "121201          2022-02-03                    Criterio virológico   \n",
       "\n",
       "       fecha_ingreso_uci fecha_ingreso_ucin fecha_ingreso_hosp  \\\n",
       "998                  NaT                NaT         2021-09-30   \n",
       "1014                 NaT                NaT         2021-04-05   \n",
       "3086                 NaT                NaT         2021-02-18   \n",
       "3206                 NaT                NaT         2021-02-04   \n",
       "4071                 NaT                NaT         2022-07-26   \n",
       "...                  ...                ...                ...   \n",
       "116185               NaT                NaT         2021-02-06   \n",
       "116951               NaT                NaT         2022-01-07   \n",
       "117358               NaT         2021-07-03         2021-06-29   \n",
       "118214               NaT                NaT         2022-02-09   \n",
       "121201               NaT                NaT         2022-02-09   \n",
       "\n",
       "       fecha_segumiento_hosp_ultimo evolucion_hosp_ultimo  \n",
       "998                      2021-09-30             defuncion  \n",
       "1014                     2021-04-06                  alta  \n",
       "3086                     2021-02-19             defuncion  \n",
       "3206                     2021-02-04             defuncion  \n",
       "4071                     2022-07-26          desfavorable  \n",
       "...                             ...                   ...  \n",
       "116185                   2021-02-06             defuncion  \n",
       "116951                   2022-01-07             defuncion  \n",
       "117358                   2021-07-17             defuncion  \n",
       "118214                   2022-02-09             defuncion  \n",
       "121201                   2022-02-09             defuncion  \n",
       "\n",
       "[93 rows x 7 columns]"
      ]
     },
     "execution_count": 201,
     "metadata": {},
     "output_type": "execute_result"
    }
   ],
   "source": [
    "df.loc[df['fecha_fallecimiento'] < df['fecha_ingreso_hosp'], ['fecha_fallecimiento','criterio_fallecido','fecha_ingreso_uci','fecha_ingreso_ucin','fecha_ingreso_hosp','fecha_segumiento_hosp_ultimo','evolucion_hosp_ultimo']]"
   ]
  },
  {
   "cell_type": "code",
   "execution_count": 202,
   "metadata": {},
   "outputs": [
    {
     "data": {
      "text/html": [
       "<div>\n",
       "<style scoped>\n",
       "    .dataframe tbody tr th:only-of-type {\n",
       "        vertical-align: middle;\n",
       "    }\n",
       "\n",
       "    .dataframe tbody tr th {\n",
       "        vertical-align: top;\n",
       "    }\n",
       "\n",
       "    .dataframe thead th {\n",
       "        text-align: right;\n",
       "    }\n",
       "</style>\n",
       "<table border=\"1\" class=\"dataframe\">\n",
       "  <thead>\n",
       "    <tr style=\"text-align: right;\">\n",
       "      <th></th>\n",
       "      <th>fecha_fallecimiento</th>\n",
       "      <th>criterio_fallecido</th>\n",
       "      <th>fecha_ingreso_uci</th>\n",
       "      <th>fecha_ingreso_ucin</th>\n",
       "      <th>fecha_ingreso_hosp</th>\n",
       "      <th>fecha_segumiento_hosp_ultimo</th>\n",
       "      <th>evolucion_hosp_ultimo</th>\n",
       "    </tr>\n",
       "  </thead>\n",
       "  <tbody>\n",
       "    <tr>\n",
       "      <th>0</th>\n",
       "      <td>2022-01-21</td>\n",
       "      <td>Criterio SINADEF</td>\n",
       "      <td>NaT</td>\n",
       "      <td>NaT</td>\n",
       "      <td>2022-01-20</td>\n",
       "      <td>2022-01-21</td>\n",
       "      <td>defuncion</td>\n",
       "    </tr>\n",
       "    <tr>\n",
       "      <th>1</th>\n",
       "      <td>2021-04-26</td>\n",
       "      <td>Criterio virológico</td>\n",
       "      <td>NaT</td>\n",
       "      <td>NaT</td>\n",
       "      <td>NaT</td>\n",
       "      <td>NaT</td>\n",
       "      <td>NaN</td>\n",
       "    </tr>\n",
       "    <tr>\n",
       "      <th>2</th>\n",
       "      <td>2021-03-14</td>\n",
       "      <td>Criterio virológico</td>\n",
       "      <td>NaT</td>\n",
       "      <td>NaT</td>\n",
       "      <td>NaT</td>\n",
       "      <td>NaT</td>\n",
       "      <td>NaN</td>\n",
       "    </tr>\n",
       "    <tr>\n",
       "      <th>3</th>\n",
       "      <td>2021-03-24</td>\n",
       "      <td>Criterio virológico</td>\n",
       "      <td>NaT</td>\n",
       "      <td>NaT</td>\n",
       "      <td>NaT</td>\n",
       "      <td>NaT</td>\n",
       "      <td>NaN</td>\n",
       "    </tr>\n",
       "    <tr>\n",
       "      <th>4</th>\n",
       "      <td>2021-05-09</td>\n",
       "      <td>Criterio virológico</td>\n",
       "      <td>NaT</td>\n",
       "      <td>NaT</td>\n",
       "      <td>NaT</td>\n",
       "      <td>NaT</td>\n",
       "      <td>NaN</td>\n",
       "    </tr>\n",
       "    <tr>\n",
       "      <th>...</th>\n",
       "      <td>...</td>\n",
       "      <td>...</td>\n",
       "      <td>...</td>\n",
       "      <td>...</td>\n",
       "      <td>...</td>\n",
       "      <td>...</td>\n",
       "      <td>...</td>\n",
       "    </tr>\n",
       "    <tr>\n",
       "      <th>124423</th>\n",
       "      <td>2021-03-01</td>\n",
       "      <td>Criterio SINADEF</td>\n",
       "      <td>NaT</td>\n",
       "      <td>NaT</td>\n",
       "      <td>NaT</td>\n",
       "      <td>NaT</td>\n",
       "      <td>NaN</td>\n",
       "    </tr>\n",
       "    <tr>\n",
       "      <th>124424</th>\n",
       "      <td>2021-06-02</td>\n",
       "      <td>Criterio virológico</td>\n",
       "      <td>NaT</td>\n",
       "      <td>NaT</td>\n",
       "      <td>NaT</td>\n",
       "      <td>NaT</td>\n",
       "      <td>NaN</td>\n",
       "    </tr>\n",
       "    <tr>\n",
       "      <th>124425</th>\n",
       "      <td>2021-02-19</td>\n",
       "      <td>Criterio SINADEF</td>\n",
       "      <td>NaT</td>\n",
       "      <td>NaT</td>\n",
       "      <td>NaT</td>\n",
       "      <td>NaT</td>\n",
       "      <td>NaN</td>\n",
       "    </tr>\n",
       "    <tr>\n",
       "      <th>124426</th>\n",
       "      <td>2021-06-21</td>\n",
       "      <td>Criterio SINADEF</td>\n",
       "      <td>NaT</td>\n",
       "      <td>2021-06-20</td>\n",
       "      <td>2021-06-20</td>\n",
       "      <td>2021-06-21</td>\n",
       "      <td>defuncion</td>\n",
       "    </tr>\n",
       "    <tr>\n",
       "      <th>124427</th>\n",
       "      <td>2021-05-06</td>\n",
       "      <td>Criterio virológico</td>\n",
       "      <td>2021-05-06</td>\n",
       "      <td>NaT</td>\n",
       "      <td>2021-04-24</td>\n",
       "      <td>2021-05-06</td>\n",
       "      <td>defuncion</td>\n",
       "    </tr>\n",
       "  </tbody>\n",
       "</table>\n",
       "<p>124428 rows × 7 columns</p>\n",
       "</div>"
      ],
      "text/plain": [
       "       fecha_fallecimiento   criterio_fallecido fecha_ingreso_uci  \\\n",
       "0               2022-01-21     Criterio SINADEF               NaT   \n",
       "1               2021-04-26  Criterio virológico               NaT   \n",
       "2               2021-03-14  Criterio virológico               NaT   \n",
       "3               2021-03-24  Criterio virológico               NaT   \n",
       "4               2021-05-09  Criterio virológico               NaT   \n",
       "...                    ...                  ...               ...   \n",
       "124423          2021-03-01     Criterio SINADEF               NaT   \n",
       "124424          2021-06-02  Criterio virológico               NaT   \n",
       "124425          2021-02-19     Criterio SINADEF               NaT   \n",
       "124426          2021-06-21     Criterio SINADEF               NaT   \n",
       "124427          2021-05-06  Criterio virológico        2021-05-06   \n",
       "\n",
       "       fecha_ingreso_ucin fecha_ingreso_hosp fecha_segumiento_hosp_ultimo  \\\n",
       "0                     NaT         2022-01-20                   2022-01-21   \n",
       "1                     NaT                NaT                          NaT   \n",
       "2                     NaT                NaT                          NaT   \n",
       "3                     NaT                NaT                          NaT   \n",
       "4                     NaT                NaT                          NaT   \n",
       "...                   ...                ...                          ...   \n",
       "124423                NaT                NaT                          NaT   \n",
       "124424                NaT                NaT                          NaT   \n",
       "124425                NaT                NaT                          NaT   \n",
       "124426         2021-06-20         2021-06-20                   2021-06-21   \n",
       "124427                NaT         2021-04-24                   2021-05-06   \n",
       "\n",
       "       evolucion_hosp_ultimo  \n",
       "0                  defuncion  \n",
       "1                        NaN  \n",
       "2                        NaN  \n",
       "3                        NaN  \n",
       "4                        NaN  \n",
       "...                      ...  \n",
       "124423                   NaN  \n",
       "124424                   NaN  \n",
       "124425                   NaN  \n",
       "124426             defuncion  \n",
       "124427             defuncion  \n",
       "\n",
       "[124428 rows x 7 columns]"
      ]
     },
     "execution_count": 202,
     "metadata": {},
     "output_type": "execute_result"
    }
   ],
   "source": [
    "df.loc[~df['fecha_fallecimiento'].isna(), ['fecha_fallecimiento','criterio_fallecido','fecha_ingreso_uci','fecha_ingreso_ucin','fecha_ingreso_hosp','fecha_segumiento_hosp_ultimo','evolucion_hosp_ultimo']]"
   ]
  },
  {
   "cell_type": "code",
   "execution_count": 203,
   "metadata": {},
   "outputs": [],
   "source": [
    "df['dias_hospitalizado'] = (df['fecha_fallecimiento'] - df['fecha_ingreso_hosp']).dt.days\n",
    "df['dias_seguimiento_hosp'] = (df['fecha_fallecimiento'] - df['fecha_segumiento_hosp_ultimo']).dt.days\n",
    "df['dias_uci'] = (df['fecha_fallecimiento'] - df['fecha_ingreso_uci']).dt.days\n",
    "df['dias_ucin'] = (df['fecha_fallecimiento'] - df['fecha_ingreso_ucin']).dt.days\n"
   ]
  },
  {
   "cell_type": "code",
   "execution_count": 204,
   "metadata": {},
   "outputs": [],
   "source": [
    "df['dias_hospitalizado'] = df['dias_hospitalizado'].fillna(0).astype(int)\n",
    "df['dias_seguimiento_hosp'] = df['dias_seguimiento_hosp'].fillna(0).astype(int)\n",
    "df['dias_uci'] = df['dias_uci'].fillna(0).astype(int)\n",
    "df['dias_ucin'] = df['dias_ucin'].fillna(0).astype(int)"
   ]
  },
  {
   "cell_type": "code",
   "execution_count": 205,
   "metadata": {},
   "outputs": [],
   "source": [
    "df.loc[df['dias_hospitalizado'] < 0,['dias_hospitalizado']] = 0\n",
    "df.loc[df['dias_seguimiento_hosp'] < 0,'dias_seguimiento_hosp'] = 0\n",
    "df.loc[df['dias_uci'] < 0,'dias_uci'] = 0\n",
    "df.loc[df['dias_ucin'] < 0,'dias_ucin'] = 0"
   ]
  },
  {
   "cell_type": "code",
   "execution_count": 206,
   "metadata": {},
   "outputs": [
    {
     "data": {
      "text/html": [
       "<div>\n",
       "<style scoped>\n",
       "    .dataframe tbody tr th:only-of-type {\n",
       "        vertical-align: middle;\n",
       "    }\n",
       "\n",
       "    .dataframe tbody tr th {\n",
       "        vertical-align: top;\n",
       "    }\n",
       "\n",
       "    .dataframe thead th {\n",
       "        text-align: right;\n",
       "    }\n",
       "</style>\n",
       "<table border=\"1\" class=\"dataframe\">\n",
       "  <thead>\n",
       "    <tr style=\"text-align: right;\">\n",
       "      <th></th>\n",
       "      <th>fecha_fallecimiento</th>\n",
       "      <th>criterio_fallecido</th>\n",
       "      <th>dias_hospitalizado</th>\n",
       "      <th>dias_seguimiento_hosp</th>\n",
       "      <th>dias_uci</th>\n",
       "      <th>dias_ucin</th>\n",
       "      <th>evolucion_hosp_ultimo</th>\n",
       "    </tr>\n",
       "  </thead>\n",
       "  <tbody>\n",
       "    <tr>\n",
       "      <th>1</th>\n",
       "      <td>2021-04-26</td>\n",
       "      <td>Criterio virológico</td>\n",
       "      <td>0</td>\n",
       "      <td>0</td>\n",
       "      <td>0</td>\n",
       "      <td>0</td>\n",
       "      <td>NaN</td>\n",
       "    </tr>\n",
       "    <tr>\n",
       "      <th>2</th>\n",
       "      <td>2021-03-14</td>\n",
       "      <td>Criterio virológico</td>\n",
       "      <td>0</td>\n",
       "      <td>0</td>\n",
       "      <td>0</td>\n",
       "      <td>0</td>\n",
       "      <td>NaN</td>\n",
       "    </tr>\n",
       "    <tr>\n",
       "      <th>3</th>\n",
       "      <td>2021-03-24</td>\n",
       "      <td>Criterio virológico</td>\n",
       "      <td>0</td>\n",
       "      <td>0</td>\n",
       "      <td>0</td>\n",
       "      <td>0</td>\n",
       "      <td>NaN</td>\n",
       "    </tr>\n",
       "    <tr>\n",
       "      <th>4</th>\n",
       "      <td>2021-05-09</td>\n",
       "      <td>Criterio virológico</td>\n",
       "      <td>0</td>\n",
       "      <td>0</td>\n",
       "      <td>0</td>\n",
       "      <td>0</td>\n",
       "      <td>NaN</td>\n",
       "    </tr>\n",
       "    <tr>\n",
       "      <th>6</th>\n",
       "      <td>2021-04-11</td>\n",
       "      <td>Criterio SINADEF</td>\n",
       "      <td>0</td>\n",
       "      <td>0</td>\n",
       "      <td>0</td>\n",
       "      <td>0</td>\n",
       "      <td>NaN</td>\n",
       "    </tr>\n",
       "    <tr>\n",
       "      <th>...</th>\n",
       "      <td>...</td>\n",
       "      <td>...</td>\n",
       "      <td>...</td>\n",
       "      <td>...</td>\n",
       "      <td>...</td>\n",
       "      <td>...</td>\n",
       "      <td>...</td>\n",
       "    </tr>\n",
       "    <tr>\n",
       "      <th>124420</th>\n",
       "      <td>2021-02-17</td>\n",
       "      <td>Criterio SINADEF</td>\n",
       "      <td>0</td>\n",
       "      <td>0</td>\n",
       "      <td>0</td>\n",
       "      <td>0</td>\n",
       "      <td>NaN</td>\n",
       "    </tr>\n",
       "    <tr>\n",
       "      <th>124422</th>\n",
       "      <td>2021-07-17</td>\n",
       "      <td>Criterio investigación Epidemiológica</td>\n",
       "      <td>0</td>\n",
       "      <td>0</td>\n",
       "      <td>0</td>\n",
       "      <td>0</td>\n",
       "      <td>NaN</td>\n",
       "    </tr>\n",
       "    <tr>\n",
       "      <th>124423</th>\n",
       "      <td>2021-03-01</td>\n",
       "      <td>Criterio SINADEF</td>\n",
       "      <td>0</td>\n",
       "      <td>0</td>\n",
       "      <td>0</td>\n",
       "      <td>0</td>\n",
       "      <td>NaN</td>\n",
       "    </tr>\n",
       "    <tr>\n",
       "      <th>124424</th>\n",
       "      <td>2021-06-02</td>\n",
       "      <td>Criterio virológico</td>\n",
       "      <td>0</td>\n",
       "      <td>0</td>\n",
       "      <td>0</td>\n",
       "      <td>0</td>\n",
       "      <td>NaN</td>\n",
       "    </tr>\n",
       "    <tr>\n",
       "      <th>124425</th>\n",
       "      <td>2021-02-19</td>\n",
       "      <td>Criterio SINADEF</td>\n",
       "      <td>0</td>\n",
       "      <td>0</td>\n",
       "      <td>0</td>\n",
       "      <td>0</td>\n",
       "      <td>NaN</td>\n",
       "    </tr>\n",
       "  </tbody>\n",
       "</table>\n",
       "<p>101136 rows × 7 columns</p>\n",
       "</div>"
      ],
      "text/plain": [
       "       fecha_fallecimiento                     criterio_fallecido  \\\n",
       "1               2021-04-26                    Criterio virológico   \n",
       "2               2021-03-14                    Criterio virológico   \n",
       "3               2021-03-24                    Criterio virológico   \n",
       "4               2021-05-09                    Criterio virológico   \n",
       "6               2021-04-11                       Criterio SINADEF   \n",
       "...                    ...                                    ...   \n",
       "124420          2021-02-17                       Criterio SINADEF   \n",
       "124422          2021-07-17  Criterio investigación Epidemiológica   \n",
       "124423          2021-03-01                       Criterio SINADEF   \n",
       "124424          2021-06-02                    Criterio virológico   \n",
       "124425          2021-02-19                       Criterio SINADEF   \n",
       "\n",
       "        dias_hospitalizado  dias_seguimiento_hosp  dias_uci  dias_ucin  \\\n",
       "1                        0                      0         0          0   \n",
       "2                        0                      0         0          0   \n",
       "3                        0                      0         0          0   \n",
       "4                        0                      0         0          0   \n",
       "6                        0                      0         0          0   \n",
       "...                    ...                    ...       ...        ...   \n",
       "124420                   0                      0         0          0   \n",
       "124422                   0                      0         0          0   \n",
       "124423                   0                      0         0          0   \n",
       "124424                   0                      0         0          0   \n",
       "124425                   0                      0         0          0   \n",
       "\n",
       "       evolucion_hosp_ultimo  \n",
       "1                        NaN  \n",
       "2                        NaN  \n",
       "3                        NaN  \n",
       "4                        NaN  \n",
       "6                        NaN  \n",
       "...                      ...  \n",
       "124420                   NaN  \n",
       "124422                   NaN  \n",
       "124423                   NaN  \n",
       "124424                   NaN  \n",
       "124425                   NaN  \n",
       "\n",
       "[101136 rows x 7 columns]"
      ]
     },
     "execution_count": 206,
     "metadata": {},
     "output_type": "execute_result"
    }
   ],
   "source": [
    "df.loc[df['evolucion_hosp_ultimo'].isna(), ['fecha_fallecimiento','criterio_fallecido','dias_hospitalizado','dias_seguimiento_hosp','dias_uci','dias_ucin','evolucion_hosp_ultimo']]"
   ]
  },
  {
   "cell_type": "code",
   "execution_count": 207,
   "metadata": {},
   "outputs": [
    {
     "data": {
      "text/html": [
       "<div>\n",
       "<style scoped>\n",
       "    .dataframe tbody tr th:only-of-type {\n",
       "        vertical-align: middle;\n",
       "    }\n",
       "\n",
       "    .dataframe tbody tr th {\n",
       "        vertical-align: top;\n",
       "    }\n",
       "\n",
       "    .dataframe thead th {\n",
       "        text-align: right;\n",
       "    }\n",
       "</style>\n",
       "<table border=\"1\" class=\"dataframe\">\n",
       "  <thead>\n",
       "    <tr style=\"text-align: right;\">\n",
       "      <th></th>\n",
       "      <th>fecha_fallecimiento</th>\n",
       "      <th>criterio_fallecido</th>\n",
       "      <th>dias_hospitalizado</th>\n",
       "      <th>dias_seguimiento_hosp</th>\n",
       "      <th>dias_uci</th>\n",
       "      <th>dias_ucin</th>\n",
       "      <th>evolucion_hosp_ultimo</th>\n",
       "    </tr>\n",
       "  </thead>\n",
       "  <tbody>\n",
       "    <tr>\n",
       "      <th>232</th>\n",
       "      <td>2021-04-26</td>\n",
       "      <td>Criterio SINADEF</td>\n",
       "      <td>45</td>\n",
       "      <td>37</td>\n",
       "      <td>0</td>\n",
       "      <td>0</td>\n",
       "      <td>alta_voluntaria</td>\n",
       "    </tr>\n",
       "    <tr>\n",
       "      <th>428</th>\n",
       "      <td>2022-02-04</td>\n",
       "      <td>Criterio virológico</td>\n",
       "      <td>337</td>\n",
       "      <td>336</td>\n",
       "      <td>0</td>\n",
       "      <td>0</td>\n",
       "      <td>alta_voluntaria</td>\n",
       "    </tr>\n",
       "    <tr>\n",
       "      <th>717</th>\n",
       "      <td>2021-03-29</td>\n",
       "      <td>Criterio virológico</td>\n",
       "      <td>9</td>\n",
       "      <td>9</td>\n",
       "      <td>0</td>\n",
       "      <td>0</td>\n",
       "      <td>alta_voluntaria</td>\n",
       "    </tr>\n",
       "    <tr>\n",
       "      <th>961</th>\n",
       "      <td>2021-01-29</td>\n",
       "      <td>Criterio serológico</td>\n",
       "      <td>3</td>\n",
       "      <td>1</td>\n",
       "      <td>0</td>\n",
       "      <td>0</td>\n",
       "      <td>alta_voluntaria</td>\n",
       "    </tr>\n",
       "    <tr>\n",
       "      <th>1436</th>\n",
       "      <td>2021-01-22</td>\n",
       "      <td>Criterio serológico</td>\n",
       "      <td>2</td>\n",
       "      <td>0</td>\n",
       "      <td>0</td>\n",
       "      <td>0</td>\n",
       "      <td>alta_voluntaria</td>\n",
       "    </tr>\n",
       "    <tr>\n",
       "      <th>...</th>\n",
       "      <td>...</td>\n",
       "      <td>...</td>\n",
       "      <td>...</td>\n",
       "      <td>...</td>\n",
       "      <td>...</td>\n",
       "      <td>...</td>\n",
       "      <td>...</td>\n",
       "    </tr>\n",
       "    <tr>\n",
       "      <th>118076</th>\n",
       "      <td>2021-07-27</td>\n",
       "      <td>Criterio virológico</td>\n",
       "      <td>153</td>\n",
       "      <td>151</td>\n",
       "      <td>0</td>\n",
       "      <td>0</td>\n",
       "      <td>alta_voluntaria</td>\n",
       "    </tr>\n",
       "    <tr>\n",
       "      <th>118965</th>\n",
       "      <td>2021-07-13</td>\n",
       "      <td>Criterio SINADEF</td>\n",
       "      <td>16</td>\n",
       "      <td>14</td>\n",
       "      <td>0</td>\n",
       "      <td>0</td>\n",
       "      <td>alta_voluntaria</td>\n",
       "    </tr>\n",
       "    <tr>\n",
       "      <th>120596</th>\n",
       "      <td>2021-03-17</td>\n",
       "      <td>Criterio virológico</td>\n",
       "      <td>8</td>\n",
       "      <td>6</td>\n",
       "      <td>0</td>\n",
       "      <td>0</td>\n",
       "      <td>alta_voluntaria</td>\n",
       "    </tr>\n",
       "    <tr>\n",
       "      <th>123668</th>\n",
       "      <td>2021-07-18</td>\n",
       "      <td>Criterio serológico</td>\n",
       "      <td>3</td>\n",
       "      <td>2</td>\n",
       "      <td>0</td>\n",
       "      <td>0</td>\n",
       "      <td>alta_voluntaria</td>\n",
       "    </tr>\n",
       "    <tr>\n",
       "      <th>124380</th>\n",
       "      <td>2021-02-06</td>\n",
       "      <td>Criterio virológico</td>\n",
       "      <td>6</td>\n",
       "      <td>2</td>\n",
       "      <td>0</td>\n",
       "      <td>0</td>\n",
       "      <td>alta_voluntaria</td>\n",
       "    </tr>\n",
       "  </tbody>\n",
       "</table>\n",
       "<p>231 rows × 7 columns</p>\n",
       "</div>"
      ],
      "text/plain": [
       "       fecha_fallecimiento   criterio_fallecido  dias_hospitalizado  \\\n",
       "232             2021-04-26     Criterio SINADEF                  45   \n",
       "428             2022-02-04  Criterio virológico                 337   \n",
       "717             2021-03-29  Criterio virológico                   9   \n",
       "961             2021-01-29  Criterio serológico                   3   \n",
       "1436            2021-01-22  Criterio serológico                   2   \n",
       "...                    ...                  ...                 ...   \n",
       "118076          2021-07-27  Criterio virológico                 153   \n",
       "118965          2021-07-13     Criterio SINADEF                  16   \n",
       "120596          2021-03-17  Criterio virológico                   8   \n",
       "123668          2021-07-18  Criterio serológico                   3   \n",
       "124380          2021-02-06  Criterio virológico                   6   \n",
       "\n",
       "        dias_seguimiento_hosp  dias_uci  dias_ucin evolucion_hosp_ultimo  \n",
       "232                        37         0          0       alta_voluntaria  \n",
       "428                       336         0          0       alta_voluntaria  \n",
       "717                         9         0          0       alta_voluntaria  \n",
       "961                         1         0          0       alta_voluntaria  \n",
       "1436                        0         0          0       alta_voluntaria  \n",
       "...                       ...       ...        ...                   ...  \n",
       "118076                    151         0          0       alta_voluntaria  \n",
       "118965                     14         0          0       alta_voluntaria  \n",
       "120596                      6         0          0       alta_voluntaria  \n",
       "123668                      2         0          0       alta_voluntaria  \n",
       "124380                      2         0          0       alta_voluntaria  \n",
       "\n",
       "[231 rows x 7 columns]"
      ]
     },
     "execution_count": 207,
     "metadata": {},
     "output_type": "execute_result"
    }
   ],
   "source": [
    "df.loc[df['evolucion_hosp_ultimo'] == 'alta_voluntaria', ['fecha_fallecimiento','criterio_fallecido','dias_hospitalizado','dias_seguimiento_hosp','dias_uci','dias_ucin','evolucion_hosp_ultimo']]"
   ]
  },
  {
   "cell_type": "code",
   "execution_count": 208,
   "metadata": {},
   "outputs": [],
   "source": [
    "df.drop(columns=['fecha_fallecimiento','fecha_ingreso_hosp','fecha_ingreso_uci','fecha_ingreso_ucin','fecha_segumiento_hosp_ultimo','dias_uci','dias_ucin'],axis=1,inplace = True)"
   ]
  },
  {
   "cell_type": "code",
   "execution_count": 209,
   "metadata": {},
   "outputs": [
    {
     "data": {
      "text/plain": [
       "Index(['edad', 'sexo', 'criterio_fallecido', 'ubigeo_cdc', 'cdc_positividad',\n",
       "       'flag_hospitalizado', 'eess_renaes', 'flag_uci',\n",
       "       'evolucion_hosp_ultimo', 'ubigeo_inei_domicilio', 'flag_vacuna',\n",
       "       'dias_hospitalizado', 'dias_seguimiento_hosp'],\n",
       "      dtype='object')"
      ]
     },
     "execution_count": 209,
     "metadata": {},
     "output_type": "execute_result"
    }
   ],
   "source": [
    "df.columns"
   ]
  },
  {
   "cell_type": "code",
   "execution_count": 210,
   "metadata": {},
   "outputs": [
    {
     "data": {
      "text/plain": [
       "edad                       int64\n",
       "sexo                      object\n",
       "criterio_fallecido        object\n",
       "ubigeo_cdc                 int64\n",
       "cdc_positividad            int64\n",
       "flag_hospitalizado         int64\n",
       "eess_renaes                int64\n",
       "flag_uci                   int64\n",
       "evolucion_hosp_ultimo     object\n",
       "ubigeo_inei_domicilio    float64\n",
       "flag_vacuna                int64\n",
       "dias_hospitalizado         int64\n",
       "dias_seguimiento_hosp      int64\n",
       "dtype: object"
      ]
     },
     "execution_count": 210,
     "metadata": {},
     "output_type": "execute_result"
    }
   ],
   "source": [
    "df.dtypes"
   ]
  },
  {
   "cell_type": "code",
   "execution_count": 211,
   "metadata": {},
   "outputs": [],
   "source": [
    "# label = df['flag_uci']"
   ]
  },
  {
   "cell_type": "code",
   "execution_count": 212,
   "metadata": {},
   "outputs": [],
   "source": [
    "df[\"ubigeo_cdc\"] = df[\"ubigeo_cdc\"].astype(\"str\")\n",
    "df[\"cdc_positividad\"] = df[\"cdc_positividad\"].astype(\"str\")\n",
    "df[\"flag_hospitalizado\"] = df[\"flag_hospitalizado\"].astype(\"str\")\n",
    "df[\"eess_renaes\"] = df[\"eess_renaes\"].astype(\"str\")\n",
    "# df[\"con_oxigeno\"] = df[\"con_oxigeno\"].astype(\"str\")\n",
    "# df[\"con_ventilacion\"] = df[\"con_ventilacion\"].astype(\"str\")\n",
    "df[\"ubigeo_inei_domicilio\"] = df[\"ubigeo_inei_domicilio\"].astype(\"str\")\n",
    "df[\"flag_vacuna\"] = df[\"flag_vacuna\"].astype(\"str\")\n",
    "df[\"flag_uci\"] = df[\"flag_uci\"].astype(\"str\")\n"
   ]
  },
  {
   "cell_type": "code",
   "execution_count": 213,
   "metadata": {},
   "outputs": [],
   "source": [
    "cat_cols = df[['sexo', 'criterio_fallecido', 'ubigeo_cdc', 'cdc_positividad',\n",
    "       'flag_hospitalizado', 'eess_renaes', \n",
    "       'evolucion_hosp_ultimo', 'ubigeo_inei_domicilio',\n",
    "       'flag_vacuna','flag_uci']]"
   ]
  },
  {
   "cell_type": "code",
   "execution_count": 214,
   "metadata": {},
   "outputs": [
    {
     "name": "stderr",
     "output_type": "stream",
     "text": [
      "C:\\Users\\kainak0\\AppData\\Local\\Temp\\ipykernel_32580\\1527513043.py:1: SettingWithCopyWarning: \n",
      "A value is trying to be set on a copy of a slice from a DataFrame\n",
      "\n",
      "See the caveats in the documentation: https://pandas.pydata.org/pandas-docs/stable/user_guide/indexing.html#returning-a-view-versus-a-copy\n",
      "  cat_cols.drop(columns=[label.name],axis=1,inplace=True)\n"
     ]
    }
   ],
   "source": [
    "cat_cols.drop(columns=[label.name],axis=1,inplace=True)"
   ]
  },
  {
   "cell_type": "code",
   "execution_count": 215,
   "metadata": {},
   "outputs": [
    {
     "data": {
      "text/html": [
       "<div>\n",
       "<style scoped>\n",
       "    .dataframe tbody tr th:only-of-type {\n",
       "        vertical-align: middle;\n",
       "    }\n",
       "\n",
       "    .dataframe tbody tr th {\n",
       "        vertical-align: top;\n",
       "    }\n",
       "\n",
       "    .dataframe thead th {\n",
       "        text-align: right;\n",
       "    }\n",
       "</style>\n",
       "<table border=\"1\" class=\"dataframe\">\n",
       "  <thead>\n",
       "    <tr style=\"text-align: right;\">\n",
       "      <th></th>\n",
       "      <th>sexo</th>\n",
       "      <th>criterio_fallecido</th>\n",
       "      <th>ubigeo_cdc</th>\n",
       "      <th>cdc_positividad</th>\n",
       "      <th>flag_hospitalizado</th>\n",
       "      <th>eess_renaes</th>\n",
       "      <th>evolucion_hosp_ultimo</th>\n",
       "      <th>ubigeo_inei_domicilio</th>\n",
       "      <th>flag_vacuna</th>\n",
       "    </tr>\n",
       "  </thead>\n",
       "  <tbody>\n",
       "    <tr>\n",
       "      <th>0</th>\n",
       "      <td>M</td>\n",
       "      <td>Criterio SINADEF</td>\n",
       "      <td>150142</td>\n",
       "      <td>0</td>\n",
       "      <td>1</td>\n",
       "      <td>23159</td>\n",
       "      <td>defuncion</td>\n",
       "      <td>150142.0</td>\n",
       "      <td>0</td>\n",
       "    </tr>\n",
       "    <tr>\n",
       "      <th>1</th>\n",
       "      <td>F</td>\n",
       "      <td>Criterio virológico</td>\n",
       "      <td>21806</td>\n",
       "      <td>0</td>\n",
       "      <td>0</td>\n",
       "      <td>0</td>\n",
       "      <td>NaN</td>\n",
       "      <td>21806.0</td>\n",
       "      <td>0</td>\n",
       "    </tr>\n",
       "    <tr>\n",
       "      <th>2</th>\n",
       "      <td>F</td>\n",
       "      <td>Criterio virológico</td>\n",
       "      <td>150142</td>\n",
       "      <td>0</td>\n",
       "      <td>0</td>\n",
       "      <td>0</td>\n",
       "      <td>NaN</td>\n",
       "      <td>150142.0</td>\n",
       "      <td>0</td>\n",
       "    </tr>\n",
       "    <tr>\n",
       "      <th>3</th>\n",
       "      <td>F</td>\n",
       "      <td>Criterio virológico</td>\n",
       "      <td>150142</td>\n",
       "      <td>0</td>\n",
       "      <td>0</td>\n",
       "      <td>0</td>\n",
       "      <td>NaN</td>\n",
       "      <td>150142.0</td>\n",
       "      <td>0</td>\n",
       "    </tr>\n",
       "    <tr>\n",
       "      <th>4</th>\n",
       "      <td>F</td>\n",
       "      <td>Criterio virológico</td>\n",
       "      <td>150124</td>\n",
       "      <td>0</td>\n",
       "      <td>0</td>\n",
       "      <td>0</td>\n",
       "      <td>NaN</td>\n",
       "      <td>150124.0</td>\n",
       "      <td>0</td>\n",
       "    </tr>\n",
       "    <tr>\n",
       "      <th>...</th>\n",
       "      <td>...</td>\n",
       "      <td>...</td>\n",
       "      <td>...</td>\n",
       "      <td>...</td>\n",
       "      <td>...</td>\n",
       "      <td>...</td>\n",
       "      <td>...</td>\n",
       "      <td>...</td>\n",
       "      <td>...</td>\n",
       "    </tr>\n",
       "    <tr>\n",
       "      <th>124423</th>\n",
       "      <td>F</td>\n",
       "      <td>Criterio SINADEF</td>\n",
       "      <td>150110</td>\n",
       "      <td>0</td>\n",
       "      <td>0</td>\n",
       "      <td>0</td>\n",
       "      <td>NaN</td>\n",
       "      <td>nan</td>\n",
       "      <td>0</td>\n",
       "    </tr>\n",
       "    <tr>\n",
       "      <th>124424</th>\n",
       "      <td>M</td>\n",
       "      <td>Criterio virológico</td>\n",
       "      <td>140109</td>\n",
       "      <td>0</td>\n",
       "      <td>0</td>\n",
       "      <td>0</td>\n",
       "      <td>NaN</td>\n",
       "      <td>140101.0</td>\n",
       "      <td>0</td>\n",
       "    </tr>\n",
       "    <tr>\n",
       "      <th>124425</th>\n",
       "      <td>M</td>\n",
       "      <td>Criterio SINADEF</td>\n",
       "      <td>110106</td>\n",
       "      <td>0</td>\n",
       "      <td>0</td>\n",
       "      <td>0</td>\n",
       "      <td>NaN</td>\n",
       "      <td>nan</td>\n",
       "      <td>0</td>\n",
       "    </tr>\n",
       "    <tr>\n",
       "      <th>124426</th>\n",
       "      <td>F</td>\n",
       "      <td>Criterio SINADEF</td>\n",
       "      <td>30213</td>\n",
       "      <td>0</td>\n",
       "      <td>1</td>\n",
       "      <td>4131</td>\n",
       "      <td>defuncion</td>\n",
       "      <td>30213.0</td>\n",
       "      <td>0</td>\n",
       "    </tr>\n",
       "    <tr>\n",
       "      <th>124427</th>\n",
       "      <td>M</td>\n",
       "      <td>Criterio virológico</td>\n",
       "      <td>10201</td>\n",
       "      <td>0</td>\n",
       "      <td>1</td>\n",
       "      <td>5044</td>\n",
       "      <td>defuncion</td>\n",
       "      <td>140101.0</td>\n",
       "      <td>0</td>\n",
       "    </tr>\n",
       "  </tbody>\n",
       "</table>\n",
       "<p>124428 rows × 9 columns</p>\n",
       "</div>"
      ],
      "text/plain": [
       "       sexo   criterio_fallecido ubigeo_cdc cdc_positividad  \\\n",
       "0         M     Criterio SINADEF     150142               0   \n",
       "1         F  Criterio virológico      21806               0   \n",
       "2         F  Criterio virológico     150142               0   \n",
       "3         F  Criterio virológico     150142               0   \n",
       "4         F  Criterio virológico     150124               0   \n",
       "...     ...                  ...        ...             ...   \n",
       "124423    F     Criterio SINADEF     150110               0   \n",
       "124424    M  Criterio virológico     140109               0   \n",
       "124425    M     Criterio SINADEF     110106               0   \n",
       "124426    F     Criterio SINADEF      30213               0   \n",
       "124427    M  Criterio virológico      10201               0   \n",
       "\n",
       "       flag_hospitalizado eess_renaes evolucion_hosp_ultimo  \\\n",
       "0                       1       23159             defuncion   \n",
       "1                       0           0                   NaN   \n",
       "2                       0           0                   NaN   \n",
       "3                       0           0                   NaN   \n",
       "4                       0           0                   NaN   \n",
       "...                   ...         ...                   ...   \n",
       "124423                  0           0                   NaN   \n",
       "124424                  0           0                   NaN   \n",
       "124425                  0           0                   NaN   \n",
       "124426                  1        4131             defuncion   \n",
       "124427                  1        5044             defuncion   \n",
       "\n",
       "       ubigeo_inei_domicilio flag_vacuna  \n",
       "0                   150142.0           0  \n",
       "1                    21806.0           0  \n",
       "2                   150142.0           0  \n",
       "3                   150142.0           0  \n",
       "4                   150124.0           0  \n",
       "...                      ...         ...  \n",
       "124423                   nan           0  \n",
       "124424              140101.0           0  \n",
       "124425                   nan           0  \n",
       "124426               30213.0           0  \n",
       "124427              140101.0           0  \n",
       "\n",
       "[124428 rows x 9 columns]"
      ]
     },
     "execution_count": 215,
     "metadata": {},
     "output_type": "execute_result"
    }
   ],
   "source": [
    "cat_cols"
   ]
  },
  {
   "cell_type": "code",
   "execution_count": 216,
   "metadata": {},
   "outputs": [
    {
     "data": {
      "text/plain": [
       "sexo                     object\n",
       "criterio_fallecido       object\n",
       "ubigeo_cdc               object\n",
       "cdc_positividad          object\n",
       "flag_hospitalizado       object\n",
       "eess_renaes              object\n",
       "evolucion_hosp_ultimo    object\n",
       "ubigeo_inei_domicilio    object\n",
       "flag_vacuna              object\n",
       "dtype: object"
      ]
     },
     "execution_count": 216,
     "metadata": {},
     "output_type": "execute_result"
    }
   ],
   "source": [
    "cat_cols.dtypes"
   ]
  },
  {
   "cell_type": "code",
   "execution_count": 217,
   "metadata": {},
   "outputs": [
    {
     "data": {
      "text/plain": [
       "array(['Criterio SINADEF', 'Criterio virológico', 'Criterio serológico',\n",
       "       'Criterio investigación Epidemiológica',\n",
       "       'Criterio nexo epidemiológico', 'Criterio radiológico',\n",
       "       'Criterio clínico', 'NotiCovid', 'sinadef'], dtype=object)"
      ]
     },
     "execution_count": 217,
     "metadata": {},
     "output_type": "execute_result"
    }
   ],
   "source": [
    "cat_cols.criterio_fallecido.unique()"
   ]
  },
  {
   "cell_type": "code",
   "execution_count": 218,
   "metadata": {},
   "outputs": [
    {
     "data": {
      "text/plain": [
       "array(['defuncion', nan, 'alta', 'referido', 'alta_voluntaria',\n",
       "       'desfavorable', 'estacionario', 'favorable'], dtype=object)"
      ]
     },
     "execution_count": 218,
     "metadata": {},
     "output_type": "execute_result"
    }
   ],
   "source": [
    "cat_cols.evolucion_hosp_ultimo.unique()"
   ]
  },
  {
   "cell_type": "code",
   "execution_count": 219,
   "metadata": {},
   "outputs": [
    {
     "data": {
      "text/plain": [
       "array(['0'], dtype=object)"
      ]
     },
     "execution_count": 219,
     "metadata": {},
     "output_type": "execute_result"
    }
   ],
   "source": [
    "cat_cols.flag_vacuna.unique()"
   ]
  },
  {
   "cell_type": "code",
   "execution_count": 220,
   "metadata": {},
   "outputs": [
    {
     "data": {
      "text/plain": [
       "Index(['sexo', 'criterio_fallecido', 'ubigeo_cdc', 'cdc_positividad',\n",
       "       'flag_hospitalizado', 'eess_renaes', 'evolucion_hosp_ultimo',\n",
       "       'ubigeo_inei_domicilio', 'flag_vacuna'],\n",
       "      dtype='object')"
      ]
     },
     "execution_count": 220,
     "metadata": {},
     "output_type": "execute_result"
    }
   ],
   "source": [
    "cat_cols.columns"
   ]
  },
  {
   "cell_type": "code",
   "execution_count": 221,
   "metadata": {},
   "outputs": [],
   "source": [
    "num_cols = df[['edad','dias_hospitalizado','dias_seguimiento_hosp']]"
   ]
  },
  {
   "cell_type": "code",
   "execution_count": 222,
   "metadata": {},
   "outputs": [
    {
     "data": {
      "text/html": [
       "<div>\n",
       "<style scoped>\n",
       "    .dataframe tbody tr th:only-of-type {\n",
       "        vertical-align: middle;\n",
       "    }\n",
       "\n",
       "    .dataframe tbody tr th {\n",
       "        vertical-align: top;\n",
       "    }\n",
       "\n",
       "    .dataframe thead th {\n",
       "        text-align: right;\n",
       "    }\n",
       "</style>\n",
       "<table border=\"1\" class=\"dataframe\">\n",
       "  <thead>\n",
       "    <tr style=\"text-align: right;\">\n",
       "      <th></th>\n",
       "      <th>edad</th>\n",
       "      <th>dias_hospitalizado</th>\n",
       "      <th>dias_seguimiento_hosp</th>\n",
       "    </tr>\n",
       "  </thead>\n",
       "  <tbody>\n",
       "    <tr>\n",
       "      <th>count</th>\n",
       "      <td>124428.000000</td>\n",
       "      <td>124428.000000</td>\n",
       "      <td>124428.000000</td>\n",
       "    </tr>\n",
       "    <tr>\n",
       "      <th>mean</th>\n",
       "      <td>66.403727</td>\n",
       "      <td>3.537009</td>\n",
       "      <td>1.920187</td>\n",
       "    </tr>\n",
       "    <tr>\n",
       "      <th>std</th>\n",
       "      <td>16.066782</td>\n",
       "      <td>30.561161</td>\n",
       "      <td>29.139509</td>\n",
       "    </tr>\n",
       "    <tr>\n",
       "      <th>min</th>\n",
       "      <td>0.000000</td>\n",
       "      <td>0.000000</td>\n",
       "      <td>0.000000</td>\n",
       "    </tr>\n",
       "    <tr>\n",
       "      <th>25%</th>\n",
       "      <td>57.000000</td>\n",
       "      <td>0.000000</td>\n",
       "      <td>0.000000</td>\n",
       "    </tr>\n",
       "    <tr>\n",
       "      <th>50%</th>\n",
       "      <td>68.000000</td>\n",
       "      <td>0.000000</td>\n",
       "      <td>0.000000</td>\n",
       "    </tr>\n",
       "    <tr>\n",
       "      <th>75%</th>\n",
       "      <td>78.000000</td>\n",
       "      <td>0.000000</td>\n",
       "      <td>0.000000</td>\n",
       "    </tr>\n",
       "    <tr>\n",
       "      <th>max</th>\n",
       "      <td>113.000000</td>\n",
       "      <td>1123.000000</td>\n",
       "      <td>1122.000000</td>\n",
       "    </tr>\n",
       "  </tbody>\n",
       "</table>\n",
       "</div>"
      ],
      "text/plain": [
       "                edad  dias_hospitalizado  dias_seguimiento_hosp\n",
       "count  124428.000000       124428.000000          124428.000000\n",
       "mean       66.403727            3.537009               1.920187\n",
       "std        16.066782           30.561161              29.139509\n",
       "min         0.000000            0.000000               0.000000\n",
       "25%        57.000000            0.000000               0.000000\n",
       "50%        68.000000            0.000000               0.000000\n",
       "75%        78.000000            0.000000               0.000000\n",
       "max       113.000000         1123.000000            1122.000000"
      ]
     },
     "execution_count": 222,
     "metadata": {},
     "output_type": "execute_result"
    }
   ],
   "source": [
    "num_cols.describe()"
   ]
  },
  {
   "cell_type": "code",
   "execution_count": 223,
   "metadata": {},
   "outputs": [
    {
     "data": {
      "text/plain": [
       "<Axes: >"
      ]
     },
     "execution_count": 223,
     "metadata": {},
     "output_type": "execute_result"
    },
    {
     "data": {
      "image/png": "[encoded data removed]",
      "text/plain": [
       "<Figure size 640x480 with 2 Axes>"
      ]
     },
     "metadata": {},
     "output_type": "display_data"
    }
   ],
   "source": [
    "sns.heatmap(num_cols.corr(),annot=True)"
   ]
  },
  {
   "cell_type": "code",
   "execution_count": 224,
   "metadata": {},
   "outputs": [
    {
     "data": {
      "image/png": "[encoded data removed]",
      "text/plain": [
       "<Figure size 640x480 with 1 Axes>"
      ]
     },
     "metadata": {},
     "output_type": "display_data"
    }
   ],
   "source": [
    "# seeing the distribution of Age  \n",
    "sns.histplot(num_cols[\"edad\"], kde = True) \n",
    "sns.kdeplot(num_cols[\"edad\"], fill=True)\n",
    "plt.show()\n",
    "plt.show() "
   ]
  },
  {
   "cell_type": "code",
   "execution_count": 225,
   "metadata": {},
   "outputs": [
    {
     "data": {
      "image/png": "[encoded data removed]",
      "text/plain": [
       "<Figure size 640x480 with 1 Axes>"
      ]
     },
     "metadata": {},
     "output_type": "display_data"
    }
   ],
   "source": [
    "sns.histplot(num_cols[\"dias_hospitalizado\"], kde = True) \n",
    "sns.kdeplot(num_cols[\"dias_hospitalizado\"], fill=True)\n",
    "plt.show()\n",
    "plt.show() "
   ]
  },
  {
   "cell_type": "code",
   "execution_count": 226,
   "metadata": {},
   "outputs": [
    {
     "data": {
      "text/plain": [
       "edad                      int64\n",
       "sexo                     object\n",
       "criterio_fallecido       object\n",
       "ubigeo_cdc               object\n",
       "cdc_positividad          object\n",
       "flag_hospitalizado       object\n",
       "eess_renaes              object\n",
       "flag_uci                 object\n",
       "evolucion_hosp_ultimo    object\n",
       "ubigeo_inei_domicilio    object\n",
       "flag_vacuna              object\n",
       "dias_hospitalizado        int64\n",
       "dias_seguimiento_hosp     int64\n",
       "dtype: object"
      ]
     },
     "execution_count": 226,
     "metadata": {},
     "output_type": "execute_result"
    }
   ],
   "source": [
    "df.dtypes"
   ]
  },
  {
   "cell_type": "code",
   "execution_count": 227,
   "metadata": {},
   "outputs": [],
   "source": [
    "# sns.heatmap(cat_cols.corr(),annot=True)"
   ]
  },
  {
   "cell_type": "code",
   "execution_count": 228,
   "metadata": {},
   "outputs": [],
   "source": [
    "df.drop(label.name,inplace = True, axis = 1) #eliminamos la variable target de la data original"
   ]
  },
  {
   "cell_type": "code",
   "execution_count": 229,
   "metadata": {},
   "outputs": [],
   "source": [
    "df = pd.get_dummies(data = df) #transformamos las variables categóricas a numéricas"
   ]
  },
  {
   "cell_type": "code",
   "execution_count": 230,
   "metadata": {},
   "outputs": [
    {
     "data": {
      "text/plain": [
       "Index(['edad', 'dias_hospitalizado', 'dias_seguimiento_hosp', 'sexo_F',\n",
       "       'sexo_M', 'criterio_fallecido_Criterio SINADEF',\n",
       "       'criterio_fallecido_Criterio clínico',\n",
       "       'criterio_fallecido_Criterio investigación Epidemiológica',\n",
       "       'criterio_fallecido_Criterio nexo epidemiológico',\n",
       "       'criterio_fallecido_Criterio radiológico',\n",
       "       ...\n",
       "       'ubigeo_inei_domicilio_90715.0', 'ubigeo_inei_domicilio_90716.0',\n",
       "       'ubigeo_inei_domicilio_90717.0', 'ubigeo_inei_domicilio_90718.0',\n",
       "       'ubigeo_inei_domicilio_90719.0', 'ubigeo_inei_domicilio_90720.0',\n",
       "       'ubigeo_inei_domicilio_90721.0', 'ubigeo_inei_domicilio_90722.0',\n",
       "       'ubigeo_inei_domicilio_nan', 'flag_vacuna_0'],\n",
       "      dtype='object', length=3665)"
      ]
     },
     "execution_count": 230,
     "metadata": {},
     "output_type": "execute_result"
    }
   ],
   "source": [
    "df.columns"
   ]
  },
  {
   "cell_type": "code",
   "execution_count": 231,
   "metadata": {},
   "outputs": [],
   "source": [
    "data_original = pd.concat([df, label,id_customer], axis=1)"
   ]
  },
  {
   "cell_type": "code",
   "execution_count": 232,
   "metadata": {},
   "outputs": [],
   "source": [
    "# data_original.to_csv('data_processing.csv',encoding='utf-8',index=False)"
   ]
  },
  {
   "cell_type": "code",
   "execution_count": 233,
   "metadata": {},
   "outputs": [
    {
     "data": {
      "text/html": [
       "<div>\n",
       "<style scoped>\n",
       "    .dataframe tbody tr th:only-of-type {\n",
       "        vertical-align: middle;\n",
       "    }\n",
       "\n",
       "    .dataframe tbody tr th {\n",
       "        vertical-align: top;\n",
       "    }\n",
       "\n",
       "    .dataframe thead th {\n",
       "        text-align: right;\n",
       "    }\n",
       "</style>\n",
       "<table border=\"1\" class=\"dataframe\">\n",
       "  <thead>\n",
       "    <tr style=\"text-align: right;\">\n",
       "      <th></th>\n",
       "      <th>edad</th>\n",
       "      <th>dias_hospitalizado</th>\n",
       "      <th>dias_seguimiento_hosp</th>\n",
       "      <th>sexo_F</th>\n",
       "      <th>sexo_M</th>\n",
       "      <th>criterio_fallecido_Criterio SINADEF</th>\n",
       "      <th>criterio_fallecido_Criterio clínico</th>\n",
       "      <th>criterio_fallecido_Criterio investigación Epidemiológica</th>\n",
       "      <th>criterio_fallecido_Criterio nexo epidemiológico</th>\n",
       "      <th>criterio_fallecido_Criterio radiológico</th>\n",
       "      <th>...</th>\n",
       "      <th>ubigeo_inei_domicilio_90717.0</th>\n",
       "      <th>ubigeo_inei_domicilio_90718.0</th>\n",
       "      <th>ubigeo_inei_domicilio_90719.0</th>\n",
       "      <th>ubigeo_inei_domicilio_90720.0</th>\n",
       "      <th>ubigeo_inei_domicilio_90721.0</th>\n",
       "      <th>ubigeo_inei_domicilio_90722.0</th>\n",
       "      <th>ubigeo_inei_domicilio_nan</th>\n",
       "      <th>flag_vacuna_0</th>\n",
       "      <th>flag_uci</th>\n",
       "      <th>id_persona</th>\n",
       "    </tr>\n",
       "  </thead>\n",
       "  <tbody>\n",
       "    <tr>\n",
       "      <th>0</th>\n",
       "      <td>75</td>\n",
       "      <td>1</td>\n",
       "      <td>0</td>\n",
       "      <td>False</td>\n",
       "      <td>True</td>\n",
       "      <td>True</td>\n",
       "      <td>False</td>\n",
       "      <td>False</td>\n",
       "      <td>False</td>\n",
       "      <td>False</td>\n",
       "      <td>...</td>\n",
       "      <td>False</td>\n",
       "      <td>False</td>\n",
       "      <td>False</td>\n",
       "      <td>False</td>\n",
       "      <td>False</td>\n",
       "      <td>False</td>\n",
       "      <td>False</td>\n",
       "      <td>True</td>\n",
       "      <td>0</td>\n",
       "      <td>4176017</td>\n",
       "    </tr>\n",
       "    <tr>\n",
       "      <th>1</th>\n",
       "      <td>53</td>\n",
       "      <td>0</td>\n",
       "      <td>0</td>\n",
       "      <td>True</td>\n",
       "      <td>False</td>\n",
       "      <td>False</td>\n",
       "      <td>False</td>\n",
       "      <td>False</td>\n",
       "      <td>False</td>\n",
       "      <td>False</td>\n",
       "      <td>...</td>\n",
       "      <td>False</td>\n",
       "      <td>False</td>\n",
       "      <td>False</td>\n",
       "      <td>False</td>\n",
       "      <td>False</td>\n",
       "      <td>False</td>\n",
       "      <td>False</td>\n",
       "      <td>True</td>\n",
       "      <td>0</td>\n",
       "      <td>23086642</td>\n",
       "    </tr>\n",
       "    <tr>\n",
       "      <th>2</th>\n",
       "      <td>52</td>\n",
       "      <td>0</td>\n",
       "      <td>0</td>\n",
       "      <td>True</td>\n",
       "      <td>False</td>\n",
       "      <td>False</td>\n",
       "      <td>False</td>\n",
       "      <td>False</td>\n",
       "      <td>False</td>\n",
       "      <td>False</td>\n",
       "      <td>...</td>\n",
       "      <td>False</td>\n",
       "      <td>False</td>\n",
       "      <td>False</td>\n",
       "      <td>False</td>\n",
       "      <td>False</td>\n",
       "      <td>False</td>\n",
       "      <td>False</td>\n",
       "      <td>True</td>\n",
       "      <td>0</td>\n",
       "      <td>13178121</td>\n",
       "    </tr>\n",
       "    <tr>\n",
       "      <th>3</th>\n",
       "      <td>52</td>\n",
       "      <td>0</td>\n",
       "      <td>0</td>\n",
       "      <td>True</td>\n",
       "      <td>False</td>\n",
       "      <td>False</td>\n",
       "      <td>False</td>\n",
       "      <td>False</td>\n",
       "      <td>False</td>\n",
       "      <td>False</td>\n",
       "      <td>...</td>\n",
       "      <td>False</td>\n",
       "      <td>False</td>\n",
       "      <td>False</td>\n",
       "      <td>False</td>\n",
       "      <td>False</td>\n",
       "      <td>False</td>\n",
       "      <td>False</td>\n",
       "      <td>True</td>\n",
       "      <td>0</td>\n",
       "      <td>17662628</td>\n",
       "    </tr>\n",
       "    <tr>\n",
       "      <th>4</th>\n",
       "      <td>76</td>\n",
       "      <td>0</td>\n",
       "      <td>0</td>\n",
       "      <td>True</td>\n",
       "      <td>False</td>\n",
       "      <td>False</td>\n",
       "      <td>False</td>\n",
       "      <td>False</td>\n",
       "      <td>False</td>\n",
       "      <td>False</td>\n",
       "      <td>...</td>\n",
       "      <td>False</td>\n",
       "      <td>False</td>\n",
       "      <td>False</td>\n",
       "      <td>False</td>\n",
       "      <td>False</td>\n",
       "      <td>False</td>\n",
       "      <td>False</td>\n",
       "      <td>True</td>\n",
       "      <td>0</td>\n",
       "      <td>1309244</td>\n",
       "    </tr>\n",
       "    <tr>\n",
       "      <th>...</th>\n",
       "      <td>...</td>\n",
       "      <td>...</td>\n",
       "      <td>...</td>\n",
       "      <td>...</td>\n",
       "      <td>...</td>\n",
       "      <td>...</td>\n",
       "      <td>...</td>\n",
       "      <td>...</td>\n",
       "      <td>...</td>\n",
       "      <td>...</td>\n",
       "      <td>...</td>\n",
       "      <td>...</td>\n",
       "      <td>...</td>\n",
       "      <td>...</td>\n",
       "      <td>...</td>\n",
       "      <td>...</td>\n",
       "      <td>...</td>\n",
       "      <td>...</td>\n",
       "      <td>...</td>\n",
       "      <td>...</td>\n",
       "      <td>...</td>\n",
       "    </tr>\n",
       "    <tr>\n",
       "      <th>124423</th>\n",
       "      <td>68</td>\n",
       "      <td>0</td>\n",
       "      <td>0</td>\n",
       "      <td>True</td>\n",
       "      <td>False</td>\n",
       "      <td>True</td>\n",
       "      <td>False</td>\n",
       "      <td>False</td>\n",
       "      <td>False</td>\n",
       "      <td>False</td>\n",
       "      <td>...</td>\n",
       "      <td>False</td>\n",
       "      <td>False</td>\n",
       "      <td>False</td>\n",
       "      <td>False</td>\n",
       "      <td>False</td>\n",
       "      <td>False</td>\n",
       "      <td>True</td>\n",
       "      <td>True</td>\n",
       "      <td>0</td>\n",
       "      <td>36434505</td>\n",
       "    </tr>\n",
       "    <tr>\n",
       "      <th>124424</th>\n",
       "      <td>76</td>\n",
       "      <td>0</td>\n",
       "      <td>0</td>\n",
       "      <td>False</td>\n",
       "      <td>True</td>\n",
       "      <td>False</td>\n",
       "      <td>False</td>\n",
       "      <td>False</td>\n",
       "      <td>False</td>\n",
       "      <td>False</td>\n",
       "      <td>...</td>\n",
       "      <td>False</td>\n",
       "      <td>False</td>\n",
       "      <td>False</td>\n",
       "      <td>False</td>\n",
       "      <td>False</td>\n",
       "      <td>False</td>\n",
       "      <td>False</td>\n",
       "      <td>True</td>\n",
       "      <td>0</td>\n",
       "      <td>11009999</td>\n",
       "    </tr>\n",
       "    <tr>\n",
       "      <th>124425</th>\n",
       "      <td>76</td>\n",
       "      <td>0</td>\n",
       "      <td>0</td>\n",
       "      <td>False</td>\n",
       "      <td>True</td>\n",
       "      <td>True</td>\n",
       "      <td>False</td>\n",
       "      <td>False</td>\n",
       "      <td>False</td>\n",
       "      <td>False</td>\n",
       "      <td>...</td>\n",
       "      <td>False</td>\n",
       "      <td>False</td>\n",
       "      <td>False</td>\n",
       "      <td>False</td>\n",
       "      <td>False</td>\n",
       "      <td>False</td>\n",
       "      <td>True</td>\n",
       "      <td>True</td>\n",
       "      <td>0</td>\n",
       "      <td>36360339</td>\n",
       "    </tr>\n",
       "    <tr>\n",
       "      <th>124426</th>\n",
       "      <td>84</td>\n",
       "      <td>1</td>\n",
       "      <td>0</td>\n",
       "      <td>True</td>\n",
       "      <td>False</td>\n",
       "      <td>True</td>\n",
       "      <td>False</td>\n",
       "      <td>False</td>\n",
       "      <td>False</td>\n",
       "      <td>False</td>\n",
       "      <td>...</td>\n",
       "      <td>False</td>\n",
       "      <td>False</td>\n",
       "      <td>False</td>\n",
       "      <td>False</td>\n",
       "      <td>False</td>\n",
       "      <td>False</td>\n",
       "      <td>False</td>\n",
       "      <td>True</td>\n",
       "      <td>1</td>\n",
       "      <td>12335267</td>\n",
       "    </tr>\n",
       "    <tr>\n",
       "      <th>124427</th>\n",
       "      <td>52</td>\n",
       "      <td>12</td>\n",
       "      <td>0</td>\n",
       "      <td>False</td>\n",
       "      <td>True</td>\n",
       "      <td>False</td>\n",
       "      <td>False</td>\n",
       "      <td>False</td>\n",
       "      <td>False</td>\n",
       "      <td>False</td>\n",
       "      <td>...</td>\n",
       "      <td>False</td>\n",
       "      <td>False</td>\n",
       "      <td>False</td>\n",
       "      <td>False</td>\n",
       "      <td>False</td>\n",
       "      <td>False</td>\n",
       "      <td>False</td>\n",
       "      <td>True</td>\n",
       "      <td>1</td>\n",
       "      <td>11029862</td>\n",
       "    </tr>\n",
       "  </tbody>\n",
       "</table>\n",
       "<p>124428 rows × 3667 columns</p>\n",
       "</div>"
      ],
      "text/plain": [
       "        edad  dias_hospitalizado  dias_seguimiento_hosp  sexo_F  sexo_M  \\\n",
       "0         75                   1                      0   False    True   \n",
       "1         53                   0                      0    True   False   \n",
       "2         52                   0                      0    True   False   \n",
       "3         52                   0                      0    True   False   \n",
       "4         76                   0                      0    True   False   \n",
       "...      ...                 ...                    ...     ...     ...   \n",
       "124423    68                   0                      0    True   False   \n",
       "124424    76                   0                      0   False    True   \n",
       "124425    76                   0                      0   False    True   \n",
       "124426    84                   1                      0    True   False   \n",
       "124427    52                  12                      0   False    True   \n",
       "\n",
       "        criterio_fallecido_Criterio SINADEF  \\\n",
       "0                                      True   \n",
       "1                                     False   \n",
       "2                                     False   \n",
       "3                                     False   \n",
       "4                                     False   \n",
       "...                                     ...   \n",
       "124423                                 True   \n",
       "124424                                False   \n",
       "124425                                 True   \n",
       "124426                                 True   \n",
       "124427                                False   \n",
       "\n",
       "        criterio_fallecido_Criterio clínico  \\\n",
       "0                                     False   \n",
       "1                                     False   \n",
       "2                                     False   \n",
       "3                                     False   \n",
       "4                                     False   \n",
       "...                                     ...   \n",
       "124423                                False   \n",
       "124424                                False   \n",
       "124425                                False   \n",
       "124426                                False   \n",
       "124427                                False   \n",
       "\n",
       "        criterio_fallecido_Criterio investigación Epidemiológica  \\\n",
       "0                                                   False          \n",
       "1                                                   False          \n",
       "2                                                   False          \n",
       "3                                                   False          \n",
       "4                                                   False          \n",
       "...                                                   ...          \n",
       "124423                                              False          \n",
       "124424                                              False          \n",
       "124425                                              False          \n",
       "124426                                              False          \n",
       "124427                                              False          \n",
       "\n",
       "        criterio_fallecido_Criterio nexo epidemiológico  \\\n",
       "0                                                 False   \n",
       "1                                                 False   \n",
       "2                                                 False   \n",
       "3                                                 False   \n",
       "4                                                 False   \n",
       "...                                                 ...   \n",
       "124423                                            False   \n",
       "124424                                            False   \n",
       "124425                                            False   \n",
       "124426                                            False   \n",
       "124427                                            False   \n",
       "\n",
       "        criterio_fallecido_Criterio radiológico  ...  \\\n",
       "0                                         False  ...   \n",
       "1                                         False  ...   \n",
       "2                                         False  ...   \n",
       "3                                         False  ...   \n",
       "4                                         False  ...   \n",
       "...                                         ...  ...   \n",
       "124423                                    False  ...   \n",
       "124424                                    False  ...   \n",
       "124425                                    False  ...   \n",
       "124426                                    False  ...   \n",
       "124427                                    False  ...   \n",
       "\n",
       "        ubigeo_inei_domicilio_90717.0  ubigeo_inei_domicilio_90718.0  \\\n",
       "0                               False                          False   \n",
       "1                               False                          False   \n",
       "2                               False                          False   \n",
       "3                               False                          False   \n",
       "4                               False                          False   \n",
       "...                               ...                            ...   \n",
       "124423                          False                          False   \n",
       "124424                          False                          False   \n",
       "124425                          False                          False   \n",
       "124426                          False                          False   \n",
       "124427                          False                          False   \n",
       "\n",
       "        ubigeo_inei_domicilio_90719.0  ubigeo_inei_domicilio_90720.0  \\\n",
       "0                               False                          False   \n",
       "1                               False                          False   \n",
       "2                               False                          False   \n",
       "3                               False                          False   \n",
       "4                               False                          False   \n",
       "...                               ...                            ...   \n",
       "124423                          False                          False   \n",
       "124424                          False                          False   \n",
       "124425                          False                          False   \n",
       "124426                          False                          False   \n",
       "124427                          False                          False   \n",
       "\n",
       "        ubigeo_inei_domicilio_90721.0  ubigeo_inei_domicilio_90722.0  \\\n",
       "0                               False                          False   \n",
       "1                               False                          False   \n",
       "2                               False                          False   \n",
       "3                               False                          False   \n",
       "4                               False                          False   \n",
       "...                               ...                            ...   \n",
       "124423                          False                          False   \n",
       "124424                          False                          False   \n",
       "124425                          False                          False   \n",
       "124426                          False                          False   \n",
       "124427                          False                          False   \n",
       "\n",
       "        ubigeo_inei_domicilio_nan  flag_vacuna_0  flag_uci  id_persona  \n",
       "0                           False           True         0     4176017  \n",
       "1                           False           True         0    23086642  \n",
       "2                           False           True         0    13178121  \n",
       "3                           False           True         0    17662628  \n",
       "4                           False           True         0     1309244  \n",
       "...                           ...            ...       ...         ...  \n",
       "124423                       True           True         0    36434505  \n",
       "124424                      False           True         0    11009999  \n",
       "124425                       True           True         0    36360339  \n",
       "124426                      False           True         1    12335267  \n",
       "124427                      False           True         1    11029862  \n",
       "\n",
       "[124428 rows x 3667 columns]"
      ]
     },
     "execution_count": 233,
     "metadata": {},
     "output_type": "execute_result"
    }
   ],
   "source": [
    "data_original"
   ]
  },
  {
   "cell_type": "code",
   "execution_count": 234,
   "metadata": {},
   "outputs": [
    {
     "data": {
      "image/png": "[encoded data removed]",
      "text/plain": [
       "<Figure size 640x480 with 1 Axes>"
      ]
     },
     "metadata": {},
     "output_type": "display_data"
    }
   ],
   "source": [
    "# seeing the distribution of Age  \n",
    "sns.histplot(df[\"edad\"], kde = True) \n",
    "sns.kdeplot(df[\"edad\"], fill=True)\n",
    "plt.show()\n",
    "plt.show() "
   ]
  },
  {
   "cell_type": "code",
   "execution_count": 235,
   "metadata": {},
   "outputs": [],
   "source": [
    "# # checking the Correlation of our variables  \n",
    "\n",
    "# corr = df.corr() \n",
    "# plt.subplots(figsize=(15,15))\n",
    "# sns.heatmap(corr, annot=True) "
   ]
  },
  {
   "cell_type": "code",
   "execution_count": 236,
   "metadata": {},
   "outputs": [],
   "source": [
    "from sklearn.model_selection import train_test_split\n",
    "\n",
    "X_train, X_test, y_train, y_test = train_test_split(df, label, test_size = 0.3)"
   ]
  },
  {
   "cell_type": "code",
   "execution_count": 237,
   "metadata": {},
   "outputs": [
    {
     "name": "stdout",
     "output_type": "stream",
     "text": [
      "(87099, 3665)\n",
      "(37329, 3665)\n",
      "(87099,)\n",
      "(37329,)\n"
     ]
    }
   ],
   "source": [
    "print(X_train.shape)\n",
    "print(X_test.shape)\n",
    "print(y_train.shape)\n",
    "print(y_test.shape)"
   ]
  },
  {
   "cell_type": "code",
   "execution_count": 238,
   "metadata": {},
   "outputs": [
    {
     "data": {
      "text/plain": [
       "Index(['edad', 'dias_hospitalizado', 'dias_seguimiento_hosp', 'sexo_F',\n",
       "       'sexo_M', 'criterio_fallecido_Criterio SINADEF',\n",
       "       'criterio_fallecido_Criterio clínico',\n",
       "       'criterio_fallecido_Criterio investigación Epidemiológica',\n",
       "       'criterio_fallecido_Criterio nexo epidemiológico',\n",
       "       'criterio_fallecido_Criterio radiológico',\n",
       "       ...\n",
       "       'ubigeo_inei_domicilio_90715.0', 'ubigeo_inei_domicilio_90716.0',\n",
       "       'ubigeo_inei_domicilio_90717.0', 'ubigeo_inei_domicilio_90718.0',\n",
       "       'ubigeo_inei_domicilio_90719.0', 'ubigeo_inei_domicilio_90720.0',\n",
       "       'ubigeo_inei_domicilio_90721.0', 'ubigeo_inei_domicilio_90722.0',\n",
       "       'ubigeo_inei_domicilio_nan', 'flag_vacuna_0'],\n",
       "      dtype='object', length=3665)"
      ]
     },
     "execution_count": 238,
     "metadata": {},
     "output_type": "execute_result"
    }
   ],
   "source": [
    "X_train.columns"
   ]
  },
  {
   "cell_type": "code",
   "execution_count": 239,
   "metadata": {},
   "outputs": [],
   "source": [
    "from sklearn.tree import DecisionTreeClassifier\n",
    "from sklearn.linear_model import LogisticRegression\n",
    "from xgboost import XGBClassifier\n",
    "from sklearn.ensemble import RandomForestClassifier\n",
    "from sklearn.metrics import confusion_matrix\n",
    "from sklearn.metrics import classification_report\n",
    "from sklearn.metrics import roc_auc_score,roc_curve # ROC a diferencia del accuracy te da un valor justo de precision para datos desbalanceados"
   ]
  },
  {
   "cell_type": "code",
   "execution_count": 240,
   "metadata": {},
   "outputs": [],
   "source": [
    "def apply_classifier(clf,xTrain,xTest,yTrain,yTest):\n",
    "\n",
    "    clf.fit(xTrain, yTrain) #Entrenamiento del modelo\n",
    "    predictions = clf.predict(xTest) #Validación sobre la data de testing\n",
    "    conf_mtx = confusion_matrix(yTest,predictions) #Matriz de confusión de la data de testing real con la predicha\n",
    "\n",
    "    f, axes = plt.subplots(ncols=2, figsize=(15, 5)) #Definición del área de visualización (2 gráficas)\n",
    "\n",
    "    sns.heatmap(conf_mtx,annot=True,cbar = False,fmt = \"g\",ax = axes[0])#definición del formato de la matriz de confusión\n",
    "    axes[0].set_xlabel('Predicted labels') #Titulo del eje x de la matriz de confusión\n",
    "    axes[0].set_ylabel('True labels') #Titulo del eje y de la matriz de confusión\n",
    "    axes[0].set_title('Confusion Matrix Test'); #Titulo de la matriz de confusión\n",
    "    axes[0].xaxis.set_ticklabels(['Not UCI', 'UCI']); #distribución de los resultados en la matriz de confusión del eje x\n",
    "    axes[0].yaxis.set_ticklabels(['Not UCI', 'UCI']); #distribución de los resultados en la matriz de confusión del eje y\n",
    "\n",
    "    print(classification_report(yTest,predictions)) #mostrar resultados\n",
    "\n",
    "    roc_auc = roc_auc_score(yTest,predictions) #definición del cálculo del auc\n",
    "    print (\"AUC ROC : \",roc_auc) #mostrar el resultado\n",
    "\n",
    "    fpr, tpr,_ = roc_curve(yTest, predictions) #Función para armar la curva ROC\n",
    "    #fpr : false positive rate\n",
    "    #tpr : true positive rate\n",
    "    axes[1].plot(fpr,tpr,label= \"auc=\"+str(roc_auc)); #código para mostrar el resultado del auc en la gráfica\n",
    "    axes[1].plot([0, 1], [0, 1]) #código del formato de la gráfica\n",
    "    plt.xlabel('False Positive Rate') #título del eje x\n",
    "    plt.ylabel('True Positive Rate') #título del eje y\n",
    "    plt.title('ROC') #título del gráfico"
   ]
  },
  {
   "cell_type": "code",
   "execution_count": 241,
   "metadata": {},
   "outputs": [
    {
     "name": "stdout",
     "output_type": "stream",
     "text": [
      "              precision    recall  f1-score   support\n",
      "\n",
      "           0       0.98      0.98      0.98     35895\n",
      "           1       0.60      0.59      0.59      1434\n",
      "\n",
      "    accuracy                           0.97     37329\n",
      "   macro avg       0.79      0.79      0.79     37329\n",
      "weighted avg       0.97      0.97      0.97     37329\n",
      "\n",
      "AUC ROC :  0.7858395681033885\n"
     ]
    },
    {
     "data": {
      "image/png": "[encoded data removed]",
      "text/plain": [
       "<Figure size 1500x500 with 2 Axes>"
      ]
     },
     "metadata": {},
     "output_type": "display_data"
    }
   ],
   "source": [
    "decision_tree = DecisionTreeClassifier() # Definir nuestro modelo\n",
    "apply_classifier(decision_tree,X_train, X_test, y_train, y_test) # Aplicar la funcion que hemos construido"
   ]
  },
  {
   "cell_type": "code",
   "execution_count": 242,
   "metadata": {},
   "outputs": [
    {
     "name": "stderr",
     "output_type": "stream",
     "text": [
      "c:\\Users\\kainak0\\AppData\\Local\\Programs\\Python\\Python310\\lib\\site-packages\\sklearn\\linear_model\\_logistic.py:469: ConvergenceWarning: lbfgs failed to converge (status=1):\n",
      "STOP: TOTAL NO. of ITERATIONS REACHED LIMIT.\n",
      "\n",
      "Increase the number of iterations (max_iter) or scale the data as shown in:\n",
      "    https://scikit-learn.org/stable/modules/preprocessing.html\n",
      "Please also refer to the documentation for alternative solver options:\n",
      "    https://scikit-learn.org/stable/modules/linear_model.html#logistic-regression\n",
      "  n_iter_i = _check_optimize_result(\n"
     ]
    },
    {
     "name": "stdout",
     "output_type": "stream",
     "text": [
      "              precision    recall  f1-score   support\n",
      "\n",
      "           0       0.98      0.99      0.99     35895\n",
      "           1       0.77      0.48      0.59      1434\n",
      "\n",
      "    accuracy                           0.97     37329\n",
      "   macro avg       0.87      0.74      0.79     37329\n",
      "weighted avg       0.97      0.97      0.97     37329\n",
      "\n",
      "AUC ROC :  0.7394178802539485\n"
     ]
    },
    {
     "data": {
      "image/png": "[encoded data removed]",
      "text/plain": [
       "<Figure size 1500x500 with 2 Axes>"
      ]
     },
     "metadata": {},
     "output_type": "display_data"
    }
   ],
   "source": [
    "logistic_reg = LogisticRegression()\n",
    "apply_classifier(logistic_reg,X_train, X_test, y_train, y_test)"
   ]
  },
  {
   "cell_type": "code",
   "execution_count": 243,
   "metadata": {},
   "outputs": [
    {
     "name": "stdout",
     "output_type": "stream",
     "text": [
      "              precision    recall  f1-score   support\n",
      "\n",
      "           0       0.98      0.99      0.99     35895\n",
      "           1       0.77      0.54      0.64      1434\n",
      "\n",
      "    accuracy                           0.98     37329\n",
      "   macro avg       0.88      0.77      0.81     37329\n",
      "weighted avg       0.97      0.98      0.97     37329\n",
      "\n",
      "AUC ROC :  0.7687905974014166\n"
     ]
    },
    {
     "data": {
      "image/png": "[encoded data removed]",
      "text/plain": [
       "<Figure size 1500x500 with 2 Axes>"
      ]
     },
     "metadata": {},
     "output_type": "display_data"
    }
   ],
   "source": [
    "random_forest = RandomForestClassifier(random_state = 42)\n",
    "apply_classifier(random_forest,X_train, X_test, y_train, y_test)"
   ]
  },
  {
   "cell_type": "code",
   "execution_count": 244,
   "metadata": {},
   "outputs": [
    {
     "name": "stdout",
     "output_type": "stream",
     "text": [
      "              precision    recall  f1-score   support\n",
      "\n",
      "           0       0.99      0.99      0.99     35895\n",
      "           1       0.78      0.62      0.69      1434\n",
      "\n",
      "    accuracy                           0.98     37329\n",
      "   macro avg       0.88      0.81      0.84     37329\n",
      "weighted avg       0.98      0.98      0.98     37329\n",
      "\n",
      "AUC ROC :  0.80753575194037\n"
     ]
    },
    {
     "data": {
      "image/png": "[encoded data removed]",
      "text/plain": [
       "<Figure size 1500x500 with 2 Axes>"
      ]
     },
     "metadata": {},
     "output_type": "display_data"
    }
   ],
   "source": [
    "xg_boost = XGBClassifier()\n",
    "apply_classifier(xg_boost,X_train, X_test, y_train, y_test)"
   ]
  },
  {
   "cell_type": "code",
   "execution_count": 245,
   "metadata": {},
   "outputs": [],
   "source": [
    "Tree_parameters = {\"max_depth\": [3,4,5,6],\n",
    "                   \"min_samples_leaf\":[1,2,3,4]}\n",
    "\n",
    "LogReg_parameters = {\n",
    "    \"C\":[0.25,0.5,0.75,1.0,1.5,2.0,2.5,3.0,4.0,10.0],\n",
    "    \"solver\":[\"newton-cg\", \"lbfgs\", \"sag\", \"saga\"],\n",
    "    \"tol\":[0.01,0.001,0.0001,0.00001],\n",
    "    \"warm_start\":[\"True\",\"False\"]}\n",
    "\n",
    "\n",
    "RandomForest_parameters = {\n",
    "    \"n_estimators\" :[10,15,20,25,30],\n",
    "    \"criterion\": [\"entropy\",\"gini\"],\n",
    "    \"max_depth\" : [5,10,15],\n",
    "    \"min_samples_split\":[2,4,8,16],\n",
    "    \"max_features\":[\"sqrt\",\"auto\",\"log2\"],\n",
    "    \"class_weight\" : [\"balanced_subsample\",\"balanced\"]}\n",
    "\n",
    "Xgboost_parameters = {\"max_depth\" : [3,4,5,6],\n",
    "    \"learning_rate\" : [0.001,0.0001],\n",
    "    \"booster\" : [\"gbtree\",\"gblinear\",\"dart\"],\n",
    "    \"min_child_weight\" : [1,2,3,4]\n",
    "\n",
    "                     }"
   ]
  },
  {
   "cell_type": "code",
   "execution_count": 246,
   "metadata": {},
   "outputs": [],
   "source": [
    "from sklearn.utils import resample\n",
    "\n",
    "upsample_data = data_original.copy() # Generar una copia de nuestra data original\n",
    "\n",
    "majority = upsample_data[upsample_data[label.name]==1] # Muestra categoria\n",
    "minority = upsample_data[upsample_data[label.name]==0] # Muestra categoria"
   ]
  },
  {
   "cell_type": "code",
   "execution_count": 260,
   "metadata": {},
   "outputs": [
    {
     "name": "stdout",
     "output_type": "stream",
     "text": [
      "4845\n",
      "119583\n"
     ]
    }
   ],
   "source": [
    "print(len(majority))\n",
    "print(len(minority))"
   ]
  },
  {
   "cell_type": "code",
   "execution_count": 247,
   "metadata": {},
   "outputs": [
    {
     "data": {
      "text/plain": [
       "((4845, 3667), (119583, 3667))"
      ]
     },
     "execution_count": 247,
     "metadata": {},
     "output_type": "execute_result"
    }
   ],
   "source": [
    "majority.shape, minority.shape"
   ]
  },
  {
   "cell_type": "code",
   "execution_count": 248,
   "metadata": {},
   "outputs": [],
   "source": [
    "minority_upsampled = resample(minority, replace=True, n_samples=len(majority),random_state=1) # Sobremuestreo"
   ]
  },
  {
   "cell_type": "code",
   "execution_count": 249,
   "metadata": {},
   "outputs": [
    {
     "data": {
      "text/plain": [
       "(4845, 3667)"
      ]
     },
     "execution_count": 249,
     "metadata": {},
     "output_type": "execute_result"
    }
   ],
   "source": [
    "minority_upsampled.shape"
   ]
  },
  {
   "cell_type": "code",
   "execution_count": 250,
   "metadata": {},
   "outputs": [],
   "source": [
    "del(upsample_data) # elimina\n",
    "upsample_data = pd.concat([majority,minority_upsampled])"
   ]
  },
  {
   "cell_type": "code",
   "execution_count": 251,
   "metadata": {},
   "outputs": [
    {
     "data": {
      "text/plain": [
       "(9690, 3667)"
      ]
     },
     "execution_count": 251,
     "metadata": {},
     "output_type": "execute_result"
    }
   ],
   "source": [
    "upsample_data.shape"
   ]
  },
  {
   "cell_type": "code",
   "execution_count": 252,
   "metadata": {},
   "outputs": [
    {
     "data": {
      "text/plain": [
       "flag_uci\n",
       "1    4845\n",
       "0    4845\n",
       "Name: count, dtype: int64"
      ]
     },
     "execution_count": 252,
     "metadata": {},
     "output_type": "execute_result"
    }
   ],
   "source": [
    "upsample_data[label.name].value_counts()"
   ]
  },
  {
   "cell_type": "code",
   "execution_count": 253,
   "metadata": {},
   "outputs": [
    {
     "name": "stdout",
     "output_type": "stream",
     "text": [
      "<class 'pandas.core.frame.DataFrame'>\n",
      "Index: 9690 entries, 10 to 103043\n",
      "Columns: 3667 entries, edad to id_persona\n",
      "dtypes: bool(3662), int64(5)\n",
      "memory usage: 34.3 MB\n"
     ]
    }
   ],
   "source": [
    "upsample_data.info()"
   ]
  },
  {
   "cell_type": "code",
   "execution_count": 254,
   "metadata": {},
   "outputs": [],
   "source": [
    "id_customer_upsample = upsample_data[id_customer.name]\n",
    "label_upsample = upsample_data[label.name]\n",
    "upsample_data.drop(label.name,inplace = True, axis = 1)\n",
    "upsample_data.drop(id_customer.name,inplace = True, axis = 1)"
   ]
  },
  {
   "cell_type": "code",
   "execution_count": 255,
   "metadata": {},
   "outputs": [],
   "source": [
    "from sklearn.model_selection import train_test_split\n",
    "\n",
    "X_train_upS, X_test_upS, y_train_upS, y_test_upS = train_test_split(upsample_data, label_upsample, test_size = 0.3, random_state = 42)"
   ]
  },
  {
   "cell_type": "code",
   "execution_count": 256,
   "metadata": {},
   "outputs": [
    {
     "name": "stdout",
     "output_type": "stream",
     "text": [
      "              precision    recall  f1-score   support\n",
      "\n",
      "           0       0.92      0.91      0.92      1440\n",
      "           1       0.92      0.93      0.92      1467\n",
      "\n",
      "    accuracy                           0.92      2907\n",
      "   macro avg       0.92      0.92      0.92      2907\n",
      "weighted avg       0.92      0.92      0.92      2907\n",
      "\n",
      "AUC ROC :  0.9208226823449216\n"
     ]
    },
    {
     "data": {
      "image/png": "[encoded data removed]",
      "text/plain": [
       "<Figure size 1500x500 with 2 Axes>"
      ]
     },
     "metadata": {},
     "output_type": "display_data"
    }
   ],
   "source": [
    "decision_tree_ups = DecisionTreeClassifier()\n",
    "apply_classifier(decision_tree_ups,X_train_upS, X_test_upS, y_train_upS, y_test_upS)"
   ]
  },
  {
   "cell_type": "code",
   "execution_count": 257,
   "metadata": {},
   "outputs": [
    {
     "name": "stderr",
     "output_type": "stream",
     "text": [
      "c:\\Users\\kainak0\\AppData\\Local\\Programs\\Python\\Python310\\lib\\site-packages\\sklearn\\linear_model\\_logistic.py:469: ConvergenceWarning: lbfgs failed to converge (status=1):\n",
      "STOP: TOTAL NO. of ITERATIONS REACHED LIMIT.\n",
      "\n",
      "Increase the number of iterations (max_iter) or scale the data as shown in:\n",
      "    https://scikit-learn.org/stable/modules/preprocessing.html\n",
      "Please also refer to the documentation for alternative solver options:\n",
      "    https://scikit-learn.org/stable/modules/linear_model.html#logistic-regression\n",
      "  n_iter_i = _check_optimize_result(\n"
     ]
    },
    {
     "name": "stdout",
     "output_type": "stream",
     "text": [
      "              precision    recall  f1-score   support\n",
      "\n",
      "           0       0.98      0.90      0.93      1440\n",
      "           1       0.91      0.98      0.94      1467\n",
      "\n",
      "    accuracy                           0.94      2907\n",
      "   macro avg       0.94      0.94      0.94      2907\n",
      "weighted avg       0.94      0.94      0.94      2907\n",
      "\n",
      "AUC ROC :  0.9377108895705522\n"
     ]
    },
    {
     "data": {
      "image/png": "[encoded data removed]",
      "text/plain": [
       "<Figure size 1500x500 with 2 Axes>"
      ]
     },
     "metadata": {},
     "output_type": "display_data"
    }
   ],
   "source": [
    "logistic_reg = LogisticRegression(random_state = 42)\n",
    "apply_classifier(logistic_reg,X_train_upS, X_test_upS, y_train_upS, y_test_upS)"
   ]
  },
  {
   "cell_type": "code",
   "execution_count": 258,
   "metadata": {},
   "outputs": [
    {
     "name": "stdout",
     "output_type": "stream",
     "text": [
      "              precision    recall  f1-score   support\n",
      "\n",
      "           0       0.98      0.88      0.93      1440\n",
      "           1       0.89      0.99      0.94      1467\n",
      "\n",
      "    accuracy                           0.93      2907\n",
      "   macro avg       0.94      0.93      0.93      2907\n",
      "weighted avg       0.94      0.93      0.93      2907\n",
      "\n",
      "AUC ROC :  0.933467535787321\n"
     ]
    },
    {
     "data": {
      "image/png": "[encoded data removed]",
      "text/plain": [
       "<Figure size 1500x500 with 2 Axes>"
      ]
     },
     "metadata": {},
     "output_type": "display_data"
    }
   ],
   "source": [
    "random_forest = RandomForestClassifier()\n",
    "apply_classifier(random_forest,X_train_upS, X_test_upS, y_train_upS, y_test_upS)"
   ]
  },
  {
   "cell_type": "code",
   "execution_count": 259,
   "metadata": {},
   "outputs": [
    {
     "name": "stdout",
     "output_type": "stream",
     "text": [
      "              precision    recall  f1-score   support\n",
      "\n",
      "           0       0.97      0.91      0.94      1440\n",
      "           1       0.92      0.97      0.94      1467\n",
      "\n",
      "    accuracy                           0.94      2907\n",
      "   macro avg       0.94      0.94      0.94      2907\n",
      "weighted avg       0.94      0.94      0.94      2907\n",
      "\n",
      "AUC ROC :  0.9388292433537831\n"
     ]
    },
    {
     "data": {
      "image/png": "[encoded data removed]",
      "text/plain": [
       "<Figure size 1500x500 with 2 Axes>"
      ]
     },
     "metadata": {},
     "output_type": "display_data"
    }
   ],
   "source": [
    "xg_boost = XGBClassifier(random_state = 42)\n",
    "apply_classifier(xg_boost,X_train_upS, X_test_upS, y_train_upS, y_test_upS)"
   ]
  }
 ],
 "metadata": {
  "kernelspec": {
   "display_name": "Python 3",
   "language": "python",
   "name": "python3"
  },
  "language_info": {
   "codemirror_mode": {
    "name": "ipython",
    "version": 3
   },
   "file_extension": ".py",
   "mimetype": "text/x-python",
   "name": "python",
   "nbconvert_exporter": "python",
   "pygments_lexer": "ipython3",
   "version": "3.10.11"
  }
 },
 "nbformat": 4,
 "nbformat_minor": 2
}
