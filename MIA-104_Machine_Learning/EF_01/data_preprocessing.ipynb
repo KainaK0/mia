{
 "cells": [
  {
   "cell_type": "code",
   "execution_count": 1,
   "metadata": {},
   "outputs": [],
   "source": [
    "import pandas as pd\n",
    "import numpy as np\n",
    "import os\n",
    "import matplotlib\n",
    "matplotlib.use('Agg')\n",
    "import matplotlib.pyplot as plt\n",
    "import glob\n",
    "from scipy.signal import detrend, get_window\n",
    "from scipy.signal import butter, filtfilt\n",
    "from scipy.fftpack import fft, fftfreq\n",
    "from scipy.signal import hilbert, chirp"
   ]
  },
  {
   "cell_type": "code",
   "execution_count": 2,
   "metadata": {},
   "outputs": [],
   "source": [
    "def compute_skewness(x):\n",
    "    \n",
    "    n = len(x)\n",
    "    third_moment = np.sum((x - np.mean(x))**3) / n\n",
    "    s_3 = np.std(x, ddof = 1) ** 3\n",
    "    return third_moment/s_3"
   ]
  },
  {
   "cell_type": "code",
   "execution_count": 3,
   "metadata": {},
   "outputs": [],
   "source": [
    "def compute_kurtosis(x):\n",
    "    \n",
    "    n = len(x)\n",
    "    fourth_moment = np.sum((x - np.mean(x))**4) / n\n",
    "    s_4 = np.std(x, ddof = 1) ** 4\n",
    "    return fourth_moment / s_4 - 3"
   ]
  },
  {
   "cell_type": "code",
   "execution_count": 4,
   "metadata": {},
   "outputs": [],
   "source": [
    "def to_feature(df):\n",
    "    data = pd.DataFrame()\n",
    "    data['max'] = df[df.columns[:]].max(axis = 1)\n",
    "    data['min'] = df[df.columns[:]].min(axis = 1)\n",
    "    data['mean'] = df[df.columns[:]].mean(axis = 1)\n",
    "    data['std'] = df[df.columns[:]].std(ddof=1,axis = 1)\n",
    "    data['rms'] = df[df.columns[:]].apply(lambda x: np.sqrt(np.mean(x**2)), axis=1)\n",
    "    data['skewness'] = df[df.columns[:]].apply(lambda x: compute_skewness(x), axis=1)\n",
    "    data['kurtosis'] = df[df.columns[:]].apply(lambda x: compute_kurtosis(x), axis=1)\n",
    "    data['crest_factor'] = data['max'] / data['rms']\n",
    "    data['form_factor'] = data['rms'] / data['mean']\n",
    "    return data"
   ]
  },
  {
   "cell_type": "code",
   "execution_count": 5,
   "metadata": {},
   "outputs": [],
   "source": [
    "def to_freq(df_time:pd.DataFrame):\n",
    "    df_freq = df_time.copy()\n",
    "    filter_vibr = pd.RangeIndex(start=0, stop=len(df_freq.columns), step=1)\n",
    "    df_freq = df_freq.drop(columns=filter_vibr, axis = 1)\n",
    "    \n",
    "    freq_data = []\n",
    "    for i,row in df_time.iterrows():\n",
    "        y = np.array(df_time.loc[i,:])\n",
    "        # vibration_data = data['Vibration'].values\n",
    "        vibration_data = y\n",
    "        # Time parameters\n",
    "        sampling_rate =  len(vibration_data) # Hz, example sampling rate\n",
    "        n = len(vibration_data)\n",
    "        time = np.arange(n) / sampling_rate\n",
    "\n",
    "        # Perform FFT\n",
    "        freq_domain = np.fft.fft(vibration_data)\n",
    "        freq = np.fft.fftfreq(n, d=1/sampling_rate)\n",
    "\n",
    "        x_freq = freq[:n//2]\n",
    "        y_freq = np.abs(freq_domain)[:n//2] * 1/n\n",
    "\n",
    "        freq_data.append(y_freq)\n",
    "\n",
    "    df_freq = pd.DataFrame(data = freq_data)\n",
    "    # df_freq = pd.concat([df_freq,pd.DataFrame(freq_data)],axis=0)\n",
    "    # columns = [str(x) for x in df_freq.columns]\n",
    "    # df_freq.columns = columns\n",
    "    df_freq.index = df_time.index\n",
    "    return df_freq\n",
    "\n"
   ]
  },
  {
   "cell_type": "code",
   "execution_count": null,
   "metadata": {},
   "outputs": [],
   "source": [
    "def to_freq2(df_time:pd.DataFrame):\n",
    "    df_freq = df_time.copy()\n",
    "    filter_vibr = pd.RangeIndex(start=0, stop=len(df_freq.columns), step=1)\n",
    "    df_freq = df_freq.drop(columns=filter_vibr, axis = 1)\n",
    "    \n",
    "    freq_data = []\n",
    "    for i,row in df_time.iterrows():\n",
    "        y = np.array(df_time.loc[i,:])\n",
    "        fs = len(y)\n",
    "        fc = 500  # Cutoff frequency in Hz\n",
    "        order = 10  # Filter order\n",
    "        nyquist = 0.5 * fs\n",
    "        normal_cutoff = fc / nyquist\n",
    "        b, a = butter(order, normal_cutoff, btype='highpass', analog=False)\n",
    "        filtered_signal = filtfilt(b, a, y)\n",
    "        analytic_signal = hilbert(filtered_signal)\n",
    "        amplitude_envelope = np.abs(analytic_signal)\n",
    "\n",
    "        # Sampling parameters\n",
    "        N = fs  # Number of samples\n",
    "        T = 1.0 / fs  # Sample spacing (inverse of the sampling rate)\n",
    "        x = np.arange(0, 1, T)\n",
    "        # Compute the FFT of the signal\n",
    "        y_start = 0\n",
    "        y_end = N//2\n",
    "\n",
    "        x_start = 0\n",
    "        x_end = N//2\n",
    "\n",
    "        yf = fft(amplitude_envelope)\n",
    "        yf = 2.0/N * np.abs(yf[y_start:y_end])\n",
    "\n",
    "        # Compute the frequencies corresponding to the FFT result\n",
    "        xf = fftfreq(N, T)[x_start:x_end]\n",
    "\n",
    "        freq_data.append(yf)\n",
    "\n",
    "    df_freq = pd.DataFrame(data = freq_data)\n",
    "    # df_freq = pd.concat([df_freq,pd.DataFrame(freq_data)],axis=0)\n",
    "    # columns = [str(x) for x in df_freq.columns]\n",
    "    # df_freq.columns = columns\n",
    "    df_freq.index = df_time.index\n",
    "    return df_freq\n"
   ]
  },
  {
   "cell_type": "code",
   "execution_count": 7,
   "metadata": {},
   "outputs": [],
   "source": [
    "# Load your vibration data from a CSV file\n",
    "# Assume the CSV file has a single column of vibration data with a header\n",
    "# data = pd.read_csv('vibration_data.csv')\n",
    "def to_fft(y, sample_rate):\n",
    "    # vibration_data = data['Vibration'].values\n",
    "    vibration_data = y\n",
    "    # Time parameters\n",
    "    sampling_rate = sample_rate  # Hz, example sampling rate\n",
    "    n = len(vibration_data)\n",
    "    time = np.arange(n) / sampling_rate\n",
    "\n",
    "    # Perform FFT\n",
    "    freq_domain = np.fft.fft(vibration_data)\n",
    "    freq = np.fft.fftfreq(n, d=1/sampling_rate)\n",
    "\n",
    "    x_freq = freq[:n//2]\n",
    "    y_freq = np.abs(freq_domain)[:n//2] * 1/n\n",
    "\n",
    "\n",
    "    # Plot the results\n",
    "    plt.figure(figsize=(20,6))\n",
    "\n",
    "    # Time domain plot\n",
    "    plt.subplot(2, 1, 1)\n",
    "    plt.plot(time, vibration_data)\n",
    "    plt.title('Time Domain')\n",
    "    plt.xlabel('Time (s)')\n",
    "    plt.ylabel('Vibration Amplitude')\n",
    "\n",
    "    # Frequency domain plot\n",
    "    plt.subplot(2, 1, 2)\n",
    "    plt.plot(x_freq, y_freq)\n",
    "    plt.title('Frequency Domain')\n",
    "    plt.xlabel('Frequency (Hz)')\n",
    "    plt.ylabel('Magnitude')\n",
    "\n",
    "    # plt.tight_layout()\n",
    "    # plt.show()\n",
    "\n",
    "    return plt\n"
   ]
  },
  {
   "cell_type": "code",
   "execution_count": 8,
   "metadata": {},
   "outputs": [],
   "source": [
    "def to_fft2(y,sample_rate):\n",
    "    # Remove DC component\n",
    "    signal = detrend(y)\n",
    "    signal = np.array(y)\n",
    "    # Apply a window function (e.g., Hamming window)\n",
    "    # window = get_window('hamming', len(signal))\n",
    "    windowed_signal = signal # * window\n",
    "    # Apply FFT\n",
    "    fft_result = np.fft.fft(windowed_signal)\n",
    "    yf = fft(windowed_signal)\n",
    "    \n",
    "    fs = sample_rate\n",
    "    t = np.arange(0, 1, 1/fs)\n",
    "    # Frequency bins\n",
    "    N = len(windowed_signal)\n",
    "    freqs = np.fft.fftfreq(N, 1/fs)\n",
    "    xf = fftfreq(N, 1/fs)\n",
    "    # Compute the magnitude of the FFT\n",
    "    magnitude = np.abs(fft_result) / N\n",
    "\n",
    "    # Single-sided spectrum (only positive frequencies)\n",
    "    y_start = 1\n",
    "    y_end = 1500 # N // 2\n",
    "    x_start = 1\n",
    "    x_end = 1500\n",
    "    \n",
    "    freqs = freqs[x_start:x_end]\n",
    "    magnitude = magnitude[y_start:y_end] * 2  # Multiply by 2 (except for DC and Nyquist component)\n",
    "    yf = 2.0/N * np.abs(yf[y_start:y_end])\n",
    "    xf = xf[x_start:x_end]\n",
    "    # Correct the magnitude for windowing effect\n",
    "    # magnitude /= np.sum(window) / len(window)\n",
    "\n",
    "    plt.figure(figsize=(20, 6))\n",
    "\n",
    "    # Plot time-domain signal\n",
    "    plt.subplot(2, 1, 1)\n",
    "    plt.plot(t[:200], signal[:200], linewidth=0.5)\n",
    "    plt.title('Time Domain Signal')\n",
    "    plt.xlabel('Time [s]')\n",
    "    plt.ylabel('Amplitude')\n",
    "\n",
    "    # Plot frequency-domain signal\n",
    "    plt.subplot(2, 1, 2)\n",
    "    plt.plot(freqs, magnitude, linewidth=0.5,color='red')\n",
    "    plt.plot(xf, yf, linewidth=0.5,color='blue')\n",
    "    plt.title('Frequency Domain Signal')\n",
    "    plt.xlabel('Frequency [Hz]')\n",
    "    plt.ylabel('Magnitude')\n",
    "    # Set custom x-ticks to show more frequency markers\n",
    "    \n",
    "    step = round((x_end - x_start)/40)  # Adjust this value to show more or fewer frequency markers\n",
    "    plt.xticks(np.arange(0, x_end, step))\n",
    "\n",
    "    # plt.tight_layout()\n",
    "    # plt.show()\n",
    "    return plt"
   ]
  },
  {
   "cell_type": "code",
   "execution_count": 9,
   "metadata": {},
   "outputs": [],
   "source": [
    "def to_fft3(y,sample_rate):\n",
    "    y = np.array(y)\n",
    "    fs = sample_rate\n",
    "\n",
    "    fc = 500  # Cutoff frequency in Hz\n",
    "    order = 10  # Filter order\n",
    "    nyquist = 0.5 * fs\n",
    "    normal_cutoff = fc / nyquist\n",
    "    b, a = butter(order, normal_cutoff, btype='highpass', analog=False)\n",
    "    filtered_signal = filtfilt(b, a, y)\n",
    "\n",
    "    analytic_signal = hilbert(filtered_signal)\n",
    "    amplitude_envelope = np.abs(analytic_signal)\n",
    "    # amplitude_envelope = filtered_signal\n",
    "    # y = amplitude_envelope\n",
    "\n",
    "    # Sampling parameters\n",
    "    N = sample_rate  # Number of samples\n",
    "    T = 1.0 / sample_rate  # Sample spacing (inverse of the sampling rate)\n",
    "    x = np.arange(0, 1, T)\n",
    "    # Compute the FFT of the signal\n",
    "    y_start = 1\n",
    "    y_end = 1200 # N//2\n",
    "\n",
    "    x_start = 1\n",
    "    x_end = 1200\n",
    "\n",
    "    yf = fft(amplitude_envelope)\n",
    "    yf = 2.0/N * np.abs(yf[y_start:y_end])\n",
    "\n",
    "    # Compute the frequencies corresponding to the FFT result\n",
    "    xf = fftfreq(N, T)[x_start:x_end]\n",
    "\n",
    "    # Plot the original signal\n",
    "    plt.figure(figsize=(20, 6))\n",
    "\n",
    "    plt.subplot(2, 1, 1)\n",
    "    # plt.plot(x[:200], amplitude_envelope[:200], linewidth=0.5, color='red')\n",
    "    plt.plot(x[:200], filtered_signal[:200], linewidth=0.5, color='blue')\n",
    "    plt.plot(x[:200], y[:200], linewidth=0.5, color='green')\n",
    "    plt.title('Original Vibration Signal')\n",
    "    plt.xlabel('Time [s]')\n",
    "    plt.ylabel('Amplitude')\n",
    "\n",
    "    # Plot the FFT result\n",
    "    plt.subplot(2, 1, 2)\n",
    "    plt.plot(xf, yf, linewidth=0.5)\n",
    "    plt.title('Fourier Transform')\n",
    "    plt.xlabel('Frequency [Hz]')\n",
    "    plt.ylabel('Amplitude')\n",
    "    \n",
    "    step = round((x_end - x_start)/40)  # Adjust this value to show more or fewer frequency markers\n",
    "    plt.xticks(np.arange(0, x_end, step))\n",
    "\n",
    "\n",
    "    # plt.tight_layout()\n",
    "    # plt.show()\n",
    "    return plt\n"
   ]
  },
  {
   "cell_type": "code",
   "execution_count": null,
   "metadata": {},
   "outputs": [],
   "source": [
    "test = 1\n",
    "bearing = 7   # Roller element failure 2500\n",
    "num = 2154\n",
    "image = to_fft3(tests[test-1][bearing -1][0].iloc[num,:], 20480)\n",
    "image.show()\n",
    "tests[test-1][bearing -1][1].iloc[num,:].name"
   ]
  },
  {
   "cell_type": "code",
   "execution_count": null,
   "metadata": {},
   "outputs": [],
   "source": [
    "test = 1\n",
    "bearing = 7   # Roller element failure\n",
    "num = 2154\n",
    "image = to_fft2(tests[test-1][bearing -1][0].iloc[num,:], 20480)\n",
    "image.show()\n",
    "tests[test-1][bearing -1][1].iloc[num,:].name"
   ]
  },
  {
   "cell_type": "code",
   "execution_count": null,
   "metadata": {},
   "outputs": [],
   "source": [
    "test = 1\n",
    "bearing = 5  # Inner race fault\n",
    "num = 2150\n",
    "image = to_fft3(tests[test-1][bearing -1][0].iloc[num,:], 20480)\n",
    "image.show()\n",
    "tests[test-1][bearing -1][1].iloc[num,:].name"
   ]
  },
  {
   "cell_type": "code",
   "execution_count": null,
   "metadata": {},
   "outputs": [],
   "source": [
    "test = 1\n",
    "bearing = 5  # Inner race fault\n",
    "num = 2150\n",
    "image = to_fft2(tests[test-1][bearing -1][0].iloc[num,:], 20480)\n",
    "image.show()\n",
    "tests[test-1][bearing -1][1].iloc[num,:].name"
   ]
  },
  {
   "cell_type": "code",
   "execution_count": null,
   "metadata": {},
   "outputs": [],
   "source": [
    "test = 2\n",
    "bearing = 1   # Outer race failure\n",
    "num = 980\n",
    "image = to_fft3(tests[test-1][bearing -1][0].iloc[num,:], 20480)\n",
    "image.show()\n",
    "tests[test-1][bearing -1][1].iloc[num,:].name"
   ]
  },
  {
   "cell_type": "code",
   "execution_count": null,
   "metadata": {},
   "outputs": [],
   "source": [
    "test = 2\n",
    "bearing = 1    # Outer race failure\n",
    "num = 980\n",
    "image = to_fft2(tests[test-1][bearing -1][0].iloc[num,:], 20480)\n",
    "image.show()\n",
    "tests[test-1][bearing -1][1].iloc[num,:].name"
   ]
  },
  {
   "cell_type": "code",
   "execution_count": null,
   "metadata": {},
   "outputs": [],
   "source": [
    "test = 3\n",
    "bearing = 3   # Outer race failure\n",
    "num = 6320\n",
    "image = to_fft3(tests[test-1][bearing -1][0].iloc[num,:], 20480)\n",
    "image.show()\n",
    "tests[test-1][bearing -1][1].iloc[num,:].name"
   ]
  },
  {
   "cell_type": "code",
   "execution_count": null,
   "metadata": {},
   "outputs": [],
   "source": [
    "test = 3\n",
    "bearing = 3    # Outer race failure\n",
    "num = 6320\n",
    "image = to_fft2(tests[test-1][bearing -1][0].iloc[num,:], 20480)\n",
    "image.show()\n",
    "tests[test-1][bearing -1][1].iloc[num,:].name"
   ]
  },
  {
   "cell_type": "code",
   "execution_count": 10,
   "metadata": {},
   "outputs": [
    {
     "data": {
      "text/plain": [
       "['nasa_bearing_dataset\\\\bearing_1st_test\\\\1st_test',\n",
       " 'nasa_bearing_dataset\\\\bearing_2nd_test\\\\2nd_test',\n",
       " 'nasa_bearing_dataset\\\\bearing_3rd_test\\\\4th_test']"
      ]
     },
     "execution_count": 10,
     "metadata": {},
     "output_type": "execute_result"
    }
   ],
   "source": [
    "test_rutes = glob.glob(f\"nasa_bearing_dataset/bear*/*\",recursive=False)\n",
    "test_rutes"
   ]
  },
  {
   "cell_type": "code",
   "execution_count": 11,
   "metadata": {},
   "outputs": [
    {
     "data": {
      "text/plain": [
       "'1st_test'"
      ]
     },
     "execution_count": 11,
     "metadata": {},
     "output_type": "execute_result"
    }
   ],
   "source": [
    "os.path.basename(test_rutes[0])"
   ]
  },
  {
   "cell_type": "code",
   "execution_count": 12,
   "metadata": {},
   "outputs": [
    {
     "data": {
      "text/plain": [
       "3"
      ]
     },
     "execution_count": 12,
     "metadata": {},
     "output_type": "execute_result"
    }
   ],
   "source": [
    "number_test = len(test_rutes)\n",
    "number_test"
   ]
  },
  {
   "cell_type": "code",
   "execution_count": 13,
   "metadata": {},
   "outputs": [
    {
     "data": {
      "text/plain": [
       "'nasa_bearing_dataset\\\\bearing_1st_test\\\\1st_test\\\\2003.10.22.12.06.24'"
      ]
     },
     "execution_count": 13,
     "metadata": {},
     "output_type": "execute_result"
    }
   ],
   "source": [
    "# dict_test_rotes = {os.path.basename(key): None for key in test_rutes}\n",
    "dict_test_rotes = {}\n",
    "for file_folder in test_rutes:\n",
    "    dict_test_rotes[os.path.basename(file_folder)] = glob.glob(os.path.join(file_folder,f'*'),recursive=True)\n",
    "\n",
    "list(dict_test_rotes)[0]\n",
    "next(iter(dict_test_rotes.values()))[0]\n"
   ]
  },
  {
   "cell_type": "code",
   "execution_count": 14,
   "metadata": {},
   "outputs": [
    {
     "data": {
      "text/plain": [
       "'nasa_bearing_dataset\\\\bearing_1st_test\\\\1st_test\\\\2003.10.22.12.06.24'"
      ]
     },
     "execution_count": 14,
     "metadata": {},
     "output_type": "execute_result"
    }
   ],
   "source": [
    "dict_test_rotes[list(dict_test_rotes)[0]][0]"
   ]
  },
  {
   "cell_type": "code",
   "execution_count": 15,
   "metadata": {},
   "outputs": [
    {
     "data": {
      "text/plain": [
       "dict_keys(['1st_test', '2nd_test', '4th_test'])"
      ]
     },
     "execution_count": 15,
     "metadata": {},
     "output_type": "execute_result"
    }
   ],
   "source": [
    "dict_test_rotes.keys()"
   ]
  },
  {
   "cell_type": "code",
   "execution_count": 16,
   "metadata": {},
   "outputs": [],
   "source": [
    "tests = {key:None for key in range(len(dict_test_rotes))}"
   ]
  },
  {
   "cell_type": "code",
   "execution_count": 17,
   "metadata": {},
   "outputs": [],
   "source": [
    "for index, (key,value) in enumerate(dict_test_rotes.items()):\n",
    "    bearings_num = len(pd.read_csv(value[0], sep='\\t',header=None).columns)\n",
    "    bearings = {item:[] for item in range(bearings_num)}\n",
    "    tests[index] = bearings\n",
    "\n",
    "    for vibr in value:\n",
    "        vibr_df = pd.read_csv(vibr, sep='\\t',header=None)\n",
    "        for column in vibr_df.columns:\n",
    "            vibr_df[column].name = os.path.basename(vibr)[:-3]\n",
    "            tests[index][column].append(vibr_df[column])"
   ]
  },
  {
   "cell_type": "code",
   "execution_count": 18,
   "metadata": {},
   "outputs": [],
   "source": [
    "format_str = '%Y.%m.%d.%H.%M'\n",
    "for key,value in tests.items():\n",
    "    for bearing in value:\n",
    "        tests[key][bearing] = {0:pd.DataFrame(tests[key][bearing])}\n",
    "        tests[key][bearing][0].index = pd.to_datetime(tests[key][bearing][0].index, format= format_str)"
   ]
  },
  {
   "cell_type": "code",
   "execution_count": 19,
   "metadata": {},
   "outputs": [],
   "source": [
    "# for index, (key,value) in enumerate(dict_test_rotes.items()):\n",
    "#     bearings_num = len(pd.read_csv(value[0], sep='\\t',header=None).columns)\n",
    "#     bearings = {item:{0:pd.DataFrame()} for item in range(bearings_num)}\n",
    "#     test[index] = bearings\n",
    "\n",
    "\n",
    "#     for vibr in value:\n",
    "#         vibr_df = pd.read_csv(vibr, sep='\\t',header=None)\n",
    "#         moment:list[pd.DataFrame()] = [pd.DataFrame()]*bearings_num\n",
    "#         for column in vibr_df.columns:\n",
    "#             vibr_df[column].name = os.path.basename(vibr)[:-3] # dataserie\n",
    "#             moment[column] = vibr_df[column].to_frame().T\n",
    "#             test[index][column][0] = pd.concat([test[index][column][0],moment[column]], axis=0)\n",
    "            "
   ]
  },
  {
   "cell_type": "code",
   "execution_count": 20,
   "metadata": {},
   "outputs": [],
   "source": [
    "# bearings = {}\n",
    "\n",
    "# bearings[0] = []\n",
    "# bearings[1] = []\n",
    "# bearings[2] = []\n",
    "# bearings[3] = []\n",
    "# # bearings[4] = []\n",
    "# # bearings[5] = []\n",
    "# # bearings[6] = []\n",
    "# # bearings[7] = []\n",
    "\n",
    "\n",
    "# for root, dirs, files in os.walk(\"nasa_bearing_dataset/bearing_2nd_test/2nd_test/\", topdown=False):\n",
    "    \n",
    "#     for file_name in files:\n",
    "#         path = os.path.join(root, file_name)\n",
    "#         # print(file_name[:-3])\n",
    "#         dataset=pd.read_csv(path, sep='\\t',header=None)\n",
    "\n",
    "#         for column in dataset.columns:\n",
    "#             dataset[column].name = file_name[:-3]\n",
    "#             bearings[column].append(dataset[column])"
   ]
  },
  {
   "cell_type": "code",
   "execution_count": 21,
   "metadata": {},
   "outputs": [
    {
     "data": {
      "text/plain": [
       "RangeIndex(start=0, stop=20480, step=1)"
      ]
     },
     "execution_count": 21,
     "metadata": {},
     "output_type": "execute_result"
    }
   ],
   "source": [
    "tests[2][0][0].columns"
   ]
  },
  {
   "cell_type": "code",
   "execution_count": 22,
   "metadata": {},
   "outputs": [
    {
     "data": {
      "text/plain": [
       "array([ 0.034,  0.103,  0.095, ...,  0.024, -0.09 , -0.129])"
      ]
     },
     "execution_count": 22,
     "metadata": {},
     "output_type": "execute_result"
    }
   ],
   "source": [
    "np.array(tests[2][0][0])[0]"
   ]
  },
  {
   "cell_type": "code",
   "execution_count": 23,
   "metadata": {},
   "outputs": [
    {
     "data": {
      "text/plain": [
       "RangeIndex(start=0, stop=20480, step=1)"
      ]
     },
     "execution_count": 23,
     "metadata": {},
     "output_type": "execute_result"
    }
   ],
   "source": [
    "pd.RangeIndex(start=0, stop=20480, step=1)"
   ]
  },
  {
   "cell_type": "code",
   "execution_count": 24,
   "metadata": {},
   "outputs": [
    {
     "data": {
      "text/html": [
       "<div>\n",
       "<style scoped>\n",
       "    .dataframe tbody tr th:only-of-type {\n",
       "        vertical-align: middle;\n",
       "    }\n",
       "\n",
       "    .dataframe tbody tr th {\n",
       "        vertical-align: top;\n",
       "    }\n",
       "\n",
       "    .dataframe thead th {\n",
       "        text-align: right;\n",
       "    }\n",
       "</style>\n",
       "<table border=\"1\" class=\"dataframe\">\n",
       "  <thead>\n",
       "    <tr style=\"text-align: right;\">\n",
       "      <th></th>\n",
       "      <th>0</th>\n",
       "      <th>1</th>\n",
       "      <th>2</th>\n",
       "      <th>3</th>\n",
       "      <th>4</th>\n",
       "      <th>5</th>\n",
       "      <th>6</th>\n",
       "      <th>7</th>\n",
       "      <th>8</th>\n",
       "      <th>9</th>\n",
       "      <th>...</th>\n",
       "      <th>20470</th>\n",
       "      <th>20471</th>\n",
       "      <th>20472</th>\n",
       "      <th>20473</th>\n",
       "      <th>20474</th>\n",
       "      <th>20475</th>\n",
       "      <th>20476</th>\n",
       "      <th>20477</th>\n",
       "      <th>20478</th>\n",
       "      <th>20479</th>\n",
       "    </tr>\n",
       "  </thead>\n",
       "  <tbody>\n",
       "    <tr>\n",
       "      <th>2004-03-04 09:27:00</th>\n",
       "      <td>0.034</td>\n",
       "      <td>0.103</td>\n",
       "      <td>0.095</td>\n",
       "      <td>0.000</td>\n",
       "      <td>0.005</td>\n",
       "      <td>0.010</td>\n",
       "      <td>0.005</td>\n",
       "      <td>-0.027</td>\n",
       "      <td>-0.088</td>\n",
       "      <td>-0.071</td>\n",
       "      <td>...</td>\n",
       "      <td>-0.054</td>\n",
       "      <td>0.020</td>\n",
       "      <td>0.100</td>\n",
       "      <td>0.049</td>\n",
       "      <td>-0.083</td>\n",
       "      <td>-0.010</td>\n",
       "      <td>0.117</td>\n",
       "      <td>0.024</td>\n",
       "      <td>-0.090</td>\n",
       "      <td>-0.129</td>\n",
       "    </tr>\n",
       "    <tr>\n",
       "      <th>2004-03-04 09:32:00</th>\n",
       "      <td>-0.105</td>\n",
       "      <td>-0.039</td>\n",
       "      <td>0.010</td>\n",
       "      <td>-0.015</td>\n",
       "      <td>0.027</td>\n",
       "      <td>-0.037</td>\n",
       "      <td>-0.007</td>\n",
       "      <td>-0.027</td>\n",
       "      <td>-0.046</td>\n",
       "      <td>-0.002</td>\n",
       "      <td>...</td>\n",
       "      <td>0.105</td>\n",
       "      <td>0.068</td>\n",
       "      <td>-0.007</td>\n",
       "      <td>-0.007</td>\n",
       "      <td>0.042</td>\n",
       "      <td>0.039</td>\n",
       "      <td>-0.051</td>\n",
       "      <td>-0.054</td>\n",
       "      <td>-0.071</td>\n",
       "      <td>-0.007</td>\n",
       "    </tr>\n",
       "    <tr>\n",
       "      <th>2004-03-04 09:42:00</th>\n",
       "      <td>-0.005</td>\n",
       "      <td>0.056</td>\n",
       "      <td>0.034</td>\n",
       "      <td>0.020</td>\n",
       "      <td>0.049</td>\n",
       "      <td>-0.020</td>\n",
       "      <td>-0.110</td>\n",
       "      <td>-0.010</td>\n",
       "      <td>-0.051</td>\n",
       "      <td>-0.076</td>\n",
       "      <td>...</td>\n",
       "      <td>-0.015</td>\n",
       "      <td>0.081</td>\n",
       "      <td>0.103</td>\n",
       "      <td>0.159</td>\n",
       "      <td>0.103</td>\n",
       "      <td>0.144</td>\n",
       "      <td>0.242</td>\n",
       "      <td>0.234</td>\n",
       "      <td>0.085</td>\n",
       "      <td>-0.046</td>\n",
       "    </tr>\n",
       "    <tr>\n",
       "      <th>2004-03-04 09:52:00</th>\n",
       "      <td>-0.010</td>\n",
       "      <td>-0.005</td>\n",
       "      <td>-0.039</td>\n",
       "      <td>-0.132</td>\n",
       "      <td>-0.117</td>\n",
       "      <td>-0.132</td>\n",
       "      <td>-0.085</td>\n",
       "      <td>-0.020</td>\n",
       "      <td>-0.120</td>\n",
       "      <td>-0.059</td>\n",
       "      <td>...</td>\n",
       "      <td>-0.063</td>\n",
       "      <td>-0.071</td>\n",
       "      <td>0.056</td>\n",
       "      <td>-0.017</td>\n",
       "      <td>-0.151</td>\n",
       "      <td>-0.139</td>\n",
       "      <td>-0.103</td>\n",
       "      <td>0.000</td>\n",
       "      <td>-0.032</td>\n",
       "      <td>-0.059</td>\n",
       "    </tr>\n",
       "    <tr>\n",
       "      <th>2004-03-04 10:02:00</th>\n",
       "      <td>-0.046</td>\n",
       "      <td>-0.117</td>\n",
       "      <td>-0.178</td>\n",
       "      <td>-0.100</td>\n",
       "      <td>0.046</td>\n",
       "      <td>0.093</td>\n",
       "      <td>0.112</td>\n",
       "      <td>0.042</td>\n",
       "      <td>0.166</td>\n",
       "      <td>0.066</td>\n",
       "      <td>...</td>\n",
       "      <td>-0.007</td>\n",
       "      <td>-0.063</td>\n",
       "      <td>-0.049</td>\n",
       "      <td>0.005</td>\n",
       "      <td>0.020</td>\n",
       "      <td>-0.073</td>\n",
       "      <td>0.000</td>\n",
       "      <td>0.037</td>\n",
       "      <td>0.063</td>\n",
       "      <td>0.081</td>\n",
       "    </tr>\n",
       "  </tbody>\n",
       "</table>\n",
       "<p>5 rows × 20480 columns</p>\n",
       "</div>"
      ],
      "text/plain": [
       "                     0      1      2      3      4      5      6      7      \\\n",
       "2004-03-04 09:27:00  0.034  0.103  0.095  0.000  0.005  0.010  0.005 -0.027   \n",
       "2004-03-04 09:32:00 -0.105 -0.039  0.010 -0.015  0.027 -0.037 -0.007 -0.027   \n",
       "2004-03-04 09:42:00 -0.005  0.056  0.034  0.020  0.049 -0.020 -0.110 -0.010   \n",
       "2004-03-04 09:52:00 -0.010 -0.005 -0.039 -0.132 -0.117 -0.132 -0.085 -0.020   \n",
       "2004-03-04 10:02:00 -0.046 -0.117 -0.178 -0.100  0.046  0.093  0.112  0.042   \n",
       "\n",
       "                     8      9      ...  20470  20471  20472  20473  20474  \\\n",
       "2004-03-04 09:27:00 -0.088 -0.071  ... -0.054  0.020  0.100  0.049 -0.083   \n",
       "2004-03-04 09:32:00 -0.046 -0.002  ...  0.105  0.068 -0.007 -0.007  0.042   \n",
       "2004-03-04 09:42:00 -0.051 -0.076  ... -0.015  0.081  0.103  0.159  0.103   \n",
       "2004-03-04 09:52:00 -0.120 -0.059  ... -0.063 -0.071  0.056 -0.017 -0.151   \n",
       "2004-03-04 10:02:00  0.166  0.066  ... -0.007 -0.063 -0.049  0.005  0.020   \n",
       "\n",
       "                     20475  20476  20477  20478  20479  \n",
       "2004-03-04 09:27:00 -0.010  0.117  0.024 -0.090 -0.129  \n",
       "2004-03-04 09:32:00  0.039 -0.051 -0.054 -0.071 -0.007  \n",
       "2004-03-04 09:42:00  0.144  0.242  0.234  0.085 -0.046  \n",
       "2004-03-04 09:52:00 -0.139 -0.103  0.000 -0.032 -0.059  \n",
       "2004-03-04 10:02:00 -0.073  0.000  0.037  0.063  0.081  \n",
       "\n",
       "[5 rows x 20480 columns]"
      ]
     },
     "execution_count": 24,
     "metadata": {},
     "output_type": "execute_result"
    }
   ],
   "source": [
    "tests[2][0][0].head()"
   ]
  },
  {
   "cell_type": "code",
   "execution_count": 25,
   "metadata": {},
   "outputs": [],
   "source": [
    "# for key_test,bearings in tests.items():\n",
    "#     for key_bearing,bearing in bearings.items():\n",
    "#         tests[key_test][key_bearing][1] = to_feature(tests[key_test][key_bearing][0])"
   ]
  },
  {
   "cell_type": "code",
   "execution_count": 26,
   "metadata": {},
   "outputs": [],
   "source": [
    "# for key_test,bearings in tests.items():\n",
    "#     for key_bearing,bearing in bearings.items():\n",
    "#         tests[key_test][key_bearing][2] = to_freq2(tests[key_test][key_bearing][0])"
   ]
  },
  {
   "cell_type": "code",
   "execution_count": 27,
   "metadata": {},
   "outputs": [
    {
     "ename": "KeyError",
     "evalue": "2",
     "output_type": "error",
     "traceback": [
      "\u001b[1;31m---------------------------------------------------------------------------\u001b[0m",
      "\u001b[1;31mKeyError\u001b[0m                                  Traceback (most recent call last)",
      "Cell \u001b[1;32mIn[27], line 1\u001b[0m\n\u001b[1;32m----> 1\u001b[0m \u001b[43mtests\u001b[49m\u001b[43m[\u001b[49m\u001b[38;5;241;43m0\u001b[39;49m\u001b[43m]\u001b[49m\u001b[43m[\u001b[49m\u001b[38;5;241;43m1\u001b[39;49m\u001b[43m]\u001b[49m\u001b[43m[\u001b[49m\u001b[38;5;241;43m2\u001b[39;49m\u001b[43m]\u001b[49m\u001b[38;5;241m.\u001b[39misna()\u001b[38;5;241m.\u001b[39msum()\u001b[38;5;241m.\u001b[39msum()\n",
      "\u001b[1;31mKeyError\u001b[0m: 2"
     ]
    }
   ],
   "source": [
    "tests[0][1][2].isna().sum().sum()"
   ]
  },
  {
   "cell_type": "code",
   "execution_count": null,
   "metadata": {},
   "outputs": [],
   "source": [
    "tests[0][1][2].isna()[1]"
   ]
  },
  {
   "cell_type": "code",
   "execution_count": null,
   "metadata": {},
   "outputs": [],
   "source": []
  },
  {
   "cell_type": "code",
   "execution_count": null,
   "metadata": {},
   "outputs": [],
   "source": [
    "tests[0][0][2].loc[tests[0][1][2].isna()[1],:][0].index"
   ]
  },
  {
   "cell_type": "code",
   "execution_count": null,
   "metadata": {},
   "outputs": [],
   "source": [
    "non_value = tests[0][0][2].loc[tests[0][1][2].isna()[1],:][0].index"
   ]
  },
  {
   "cell_type": "code",
   "execution_count": null,
   "metadata": {},
   "outputs": [],
   "source": [
    "tests[0][0][0].loc[tests[0][0][2].loc[tests[0][1][2].isna()[1],:][0].index,:]"
   ]
  },
  {
   "cell_type": "code",
   "execution_count": null,
   "metadata": {},
   "outputs": [],
   "source": []
  },
  {
   "cell_type": "code",
   "execution_count": null,
   "metadata": {},
   "outputs": [],
   "source": [
    "tests[0][0][2].loc[tests[0][0][2].loc[tests[0][1][2].isna()[1],:][0].index,:]"
   ]
  },
  {
   "cell_type": "code",
   "execution_count": null,
   "metadata": {},
   "outputs": [],
   "source": [
    "# test = 2\n",
    "# for bearing in bearings:\n",
    "#     pd.DataFrame(bearings[bearing]).to_csv(f'nasa_bearing_dataset/test{test}_bearing_{bearing}_time.csv')\n",
    "#     to_feature(pd.DataFrame(bearings[bearing])).to_csv(f'nasa_bearing_dataset/test{test}_bearing_{bearing}_feature.csv')"
   ]
  },
  {
   "cell_type": "code",
   "execution_count": null,
   "metadata": {},
   "outputs": [],
   "source": [
    "# df = []\n",
    "# format_str = '%Y.%m.%d.%H.%M'\n",
    "# for i in range(8):\n",
    "#     df.append(pd.read_csv(f'nasa_bearing_dataset/test{test}_bearing_{i}_time.csv', index_col= 'Unnamed: 0'))\n",
    "#     df[i].index = pd.to_datetime(df[i].index, format= format_str)"
   ]
  },
  {
   "cell_type": "code",
   "execution_count": null,
   "metadata": {},
   "outputs": [],
   "source": [
    "# df_f = []\n",
    "# format_str = '%Y.%m.%d.%H.%M'\n",
    "# for i in range(8):\n",
    "#     df_f.append(pd.read_csv(f'nasa_bearing_dataset/test{test}_bearing_{i}_feature.csv', index_col= 'Unnamed: 0'))\n",
    "#     df_f[i].index = pd.to_datetime(df_f[i].index, format= format_str)"
   ]
  },
  {
   "cell_type": "code",
   "execution_count": null,
   "metadata": {},
   "outputs": [],
   "source": [
    "# test = 2\n",
    "# # bearing = 1\n",
    "\n",
    "# for column in tests[test-1][0][1].columns:\n",
    "#     plt.figure(figsize=(20, 5))\n",
    "#     for key_bearing,bearing in tests[test-1].items():\n",
    "#         plt.plot(bearing[1].index,bearing[1][column])\n",
    "\n",
    "#     plt.legend([f'Bearing - {item}' for item in range(len(tests[test-1]))])\n",
    "#     plt.xlabel(\"Date-Time\")\n",
    "#     plt.ylabel(column)\n",
    "#     plt.title(column)\n",
    "#     plt.show()\n"
   ]
  },
  {
   "cell_type": "code",
   "execution_count": null,
   "metadata": {},
   "outputs": [],
   "source": [
    "len(tests[0])"
   ]
  },
  {
   "cell_type": "code",
   "execution_count": null,
   "metadata": {},
   "outputs": [],
   "source": [
    "test = 1\n",
    "bearing = 1"
   ]
  },
  {
   "cell_type": "code",
   "execution_count": null,
   "metadata": {},
   "outputs": [],
   "source": [
    "num = 0"
   ]
  },
  {
   "cell_type": "code",
   "execution_count": null,
   "metadata": {},
   "outputs": [],
   "source": [
    "tests[test-1][bearing -1][0].shape"
   ]
  },
  {
   "cell_type": "code",
   "execution_count": null,
   "metadata": {},
   "outputs": [],
   "source": [
    "min(tests[test-1][bearing -1][0].index)"
   ]
  },
  {
   "cell_type": "code",
   "execution_count": null,
   "metadata": {},
   "outputs": [],
   "source": [
    "max(tests[test-1][bearing -1][0].index)"
   ]
  },
  {
   "cell_type": "code",
   "execution_count": null,
   "metadata": {},
   "outputs": [],
   "source": [
    "tests[key_test][key_bearing][0].columns"
   ]
  },
  {
   "cell_type": "code",
   "execution_count": 28,
   "metadata": {},
   "outputs": [
    {
     "name": "stdout",
     "output_type": "stream",
     "text": [
      "test 1 started!\n",
      "Bearing 1 done!\n",
      "Bearing 2 done!\n"
     ]
    }
   ],
   "source": [
    "for key_test,bearings in tests.items():\n",
    "    print(f'test {key_test+1} started!')\n",
    "    for key_bearing,bearing in bearings.items():\n",
    "        if key_test == 0 and key_test ==1:\n",
    "            pass\n",
    "        else:\n",
    "            for num in range(len(tests[key_test][key_bearing][0].index)):\n",
    "                # if num % 10 == 0:\n",
    "                try: \n",
    "                    image = to_fft3(tests[key_test][key_bearing][0].iloc[num,:], 20480)\n",
    "                    image.savefig(f'nasa_bearing_dataset/images/test_{key_test+1}/bearing_{key_bearing+1}/fft_{num:05}.png', pad_inches=0.1)\n",
    "                    image.close()\n",
    "                    # image.show()\n",
    "                except Exception as e:\n",
    "                    # Print the exception message and continue\n",
    "                    print(f\"An error occurred: {e}\")\n",
    "\n",
    "            print(f'Bearing {key_bearing+1} done!')\n"
   ]
  },
  {
   "cell_type": "code",
   "execution_count": null,
   "metadata": {},
   "outputs": [],
   "source": [
    "# num = 0\n",
    "# image = to_fft2(tests[test-1][bearing -1][0].loc['2004-02-12 10:32:00',:], 20480)\n",
    "# # # print(tests[test-1][bearing -1][1].iloc[num,:].name)\n",
    "# # image.savefig('nasa_bearing_dataset/images/prueba02.png')\n",
    "# image.show()"
   ]
  },
  {
   "cell_type": "code",
   "execution_count": null,
   "metadata": {},
   "outputs": [],
   "source": [
    "num = 1500\n",
    "image = to_fft2(tests[test-1][bearing -1][0].iloc[num,:], 20480)\n",
    "image.show()\n",
    "tests[test-1][bearing -1][1].iloc[num,:].name"
   ]
  },
  {
   "cell_type": "code",
   "execution_count": null,
   "metadata": {},
   "outputs": [],
   "source": [
    "num = 2100\n",
    "to_fft2(tests[test-1][bearing -1][0].iloc[num,:], 20480)\n",
    "tests[test-1][bearing -1][1].iloc[num,:].name"
   ]
  },
  {
   "cell_type": "code",
   "execution_count": null,
   "metadata": {},
   "outputs": [],
   "source": [
    "num = 2155\n",
    "to_fft2(tests[test-1][bearing -1][0].iloc[num,:], 20480)\n",
    "tests[test-1][bearing -1][1].iloc[num,:].name"
   ]
  },
  {
   "cell_type": "code",
   "execution_count": null,
   "metadata": {},
   "outputs": [],
   "source": [
    "tests[test-1][bearing -1][0].isna().sum().sum()"
   ]
  },
  {
   "cell_type": "code",
   "execution_count": null,
   "metadata": {},
   "outputs": [],
   "source": [
    "tests[test-1][bearing -1][1].isna().sum().sum()"
   ]
  },
  {
   "cell_type": "code",
   "execution_count": null,
   "metadata": {},
   "outputs": [],
   "source": [
    "tests[test-1][bearing -1][2].isna().sum().sum()"
   ]
  },
  {
   "cell_type": "code",
   "execution_count": null,
   "metadata": {},
   "outputs": [],
   "source": [
    "tests[test-1][bearing -1][2].isna().sum()"
   ]
  },
  {
   "cell_type": "code",
   "execution_count": null,
   "metadata": {},
   "outputs": [],
   "source": [
    "# df[0].loc['2004-02-12 10:32:00':'2004-02-16 03:42:00','fault'] = 'Normal'\n",
    "# df[0].loc['2004-02-16 03:52:00':'2004-02-19 06:02:00','fault'] = 'Outer Race'\n",
    "# df[0].to_csv(f'nasa_bearing_dataset/target_test{test}_bearing_{bearing}_time.csv')"
   ]
  },
  {
   "cell_type": "code",
   "execution_count": null,
   "metadata": {},
   "outputs": [],
   "source": [
    "# df_f[0].loc['2004-02-12 10:32:00':'2004-02-16 03:42:00','fault'] = 'Normal'\n",
    "# df_f[0].loc['2004-02-16 03:52:00':'2004-02-19 06:02:00','fault'] = 'Outer Race'\n",
    "# df_f[0].to_csv(f'nasa_bearing_dataset/target_test{test}_bearing_{bearing}_feature.csv')"
   ]
  },
  {
   "cell_type": "code",
   "execution_count": null,
   "metadata": {},
   "outputs": [],
   "source": [
    "# df_freq[0].loc['2004-02-12 10:32:00':'2004-02-16 03:42:00','fault'] = 'Normal'\n",
    "# df_freq[0].loc['2004-02-16 03:52:00':'2004-02-19 06:02:00','fault'] = 'Outer Race'\n",
    "# df_freq[0].to_csv(f'nasa_bearing_dataset/target_test{test}_bearing_{bearing}_freq.csv')"
   ]
  },
  {
   "cell_type": "code",
   "execution_count": null,
   "metadata": {},
   "outputs": [],
   "source": []
  }
 ],
 "metadata": {
  "kernelspec": {
   "display_name": "Python 3",
   "language": "python",
   "name": "python3"
  },
  "language_info": {
   "codemirror_mode": {
    "name": "ipython",
    "version": 3
   },
   "file_extension": ".py",
   "mimetype": "text/x-python",
   "name": "python",
   "nbconvert_exporter": "python",
   "pygments_lexer": "ipython3",
   "version": "3.10.11"
  }
 },
 "nbformat": 4,
 "nbformat_minor": 2
}
