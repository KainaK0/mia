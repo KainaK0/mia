{
 "cells": [
  {
   "cell_type": "code",
   "execution_count": 1,
   "metadata": {},
   "outputs": [],
   "source": [
    "import pandas as pd\n",
    "import numpy as np\n",
    "import os\n",
    "import matplotlib.pyplot as plt\n",
    "import glob\n",
    "from scipy.signal import detrend, get_window"
   ]
  },
  {
   "cell_type": "code",
   "execution_count": 2,
   "metadata": {},
   "outputs": [],
   "source": [
    "def compute_skewness(x):\n",
    "    \n",
    "    n = len(x)\n",
    "    third_moment = np.sum((x - np.mean(x))**3) / n\n",
    "    s_3 = np.std(x, ddof = 1) ** 3\n",
    "    return third_moment/s_3"
   ]
  },
  {
   "cell_type": "code",
   "execution_count": 3,
   "metadata": {},
   "outputs": [],
   "source": [
    "def compute_kurtosis(x):\n",
    "    \n",
    "    n = len(x)\n",
    "    fourth_moment = np.sum((x - np.mean(x))**4) / n\n",
    "    s_4 = np.std(x, ddof = 1) ** 4\n",
    "    return fourth_moment / s_4 - 3"
   ]
  },
  {
   "cell_type": "code",
   "execution_count": 4,
   "metadata": {},
   "outputs": [],
   "source": [
    "def to_feature(df):\n",
    "    data = pd.DataFrame()\n",
    "    data['max'] = df[df.columns[:]].max(axis = 1)\n",
    "    data['min'] = df[df.columns[:]].min(axis = 1)\n",
    "    data['mean'] = df[df.columns[:]].mean(axis = 1)\n",
    "    data['std'] = df[df.columns[:]].std(ddof=1,axis = 1)\n",
    "    data['rms'] = df[df.columns[:]].apply(lambda x: np.sqrt(np.mean(x**2)), axis=1)\n",
    "    data['skewness'] = df[df.columns[:]].apply(lambda x: compute_skewness(x), axis=1)\n",
    "    data['kurtosis'] = df[df.columns[:]].apply(lambda x: compute_kurtosis(x), axis=1)\n",
    "    data['crest_factor'] = data['max'] / data['rms']\n",
    "    data['form_factor'] = data['rms'] / data['mean']\n",
    "    return data"
   ]
  },
  {
   "cell_type": "code",
   "execution_count": 5,
   "metadata": {},
   "outputs": [],
   "source": [
    "def fft_freq(df_time:pd.DataFrame):\n",
    "    df_freq = df_time.copy()\n",
    "    filter_vibr = [str(i) for i in range(len(df[0].columns))]\n",
    "    df_freq = df_freq.drop(columns=filter_vibr, axis = 1)\n",
    "    \n",
    "    freq_data = []\n",
    "    for i,row in df_time.iterrows():\n",
    "        y = np.array(df_time.loc[i,filter_vibr].tolist())\n",
    "        # vibration_data = data['Vibration'].values\n",
    "        vibration_data = y\n",
    "        # Time parameters\n",
    "        sampling_rate =  20000 # Hz, example sampling rate\n",
    "        n = len(vibration_data)\n",
    "        time = np.arange(n) / sampling_rate\n",
    "\n",
    "        # Perform FFT\n",
    "        freq_domain = np.fft.fft(vibration_data)\n",
    "        freq = np.fft.fftfreq(n, d=1/sampling_rate)\n",
    "\n",
    "        x_freq = freq[:n//2]\n",
    "        y_freq = np.abs(freq_domain)[:n//2] * 1/n\n",
    "\n",
    "        freq_data.append(y_freq)\n",
    "\n",
    "    df_freq = pd.DataFrame(data = freq_data)\n",
    "    # df_freq = pd.concat([df_freq,pd.DataFrame(freq_data)],axis=0)\n",
    "    # columns = [str(x) for x in df_freq.columns]\n",
    "    # df_freq.columns = columns\n",
    "    df_freq.index = df_time.index\n",
    "    return df_freq\n"
   ]
  },
  {
   "cell_type": "code",
   "execution_count": 6,
   "metadata": {},
   "outputs": [
    {
     "data": {
      "text/plain": [
       "['nasa_bearing_dataset\\\\bearing_1st_test\\\\1st_test',\n",
       " 'nasa_bearing_dataset\\\\bearing_2nd_test\\\\2nd_test',\n",
       " 'nasa_bearing_dataset\\\\bearing_3rd_test\\\\4th_test']"
      ]
     },
     "execution_count": 6,
     "metadata": {},
     "output_type": "execute_result"
    }
   ],
   "source": [
    "test_rutes = glob.glob(f\"nasa_bearing_dataset/bear*/*\",recursive=False)\n",
    "test_rutes\n"
   ]
  },
  {
   "cell_type": "code",
   "execution_count": 7,
   "metadata": {},
   "outputs": [
    {
     "data": {
      "text/plain": [
       "'1st_test'"
      ]
     },
     "execution_count": 7,
     "metadata": {},
     "output_type": "execute_result"
    }
   ],
   "source": [
    "os.path.basename(test_rutes[0])"
   ]
  },
  {
   "cell_type": "code",
   "execution_count": 8,
   "metadata": {},
   "outputs": [
    {
     "data": {
      "text/plain": [
       "3"
      ]
     },
     "execution_count": 8,
     "metadata": {},
     "output_type": "execute_result"
    }
   ],
   "source": [
    "number_test = len(test_rutes)\n",
    "number_test"
   ]
  },
  {
   "cell_type": "code",
   "execution_count": 9,
   "metadata": {},
   "outputs": [
    {
     "data": {
      "text/plain": [
       "'nasa_bearing_dataset\\\\bearing_1st_test\\\\1st_test\\\\2003.10.22.12.06.24'"
      ]
     },
     "execution_count": 9,
     "metadata": {},
     "output_type": "execute_result"
    }
   ],
   "source": [
    "# dict_test_rotes = {os.path.basename(key): None for key in test_rutes}\n",
    "dict_test_rotes = {}\n",
    "for file_folder in test_rutes:\n",
    "    dict_test_rotes[os.path.basename(file_folder)] = glob.glob(os.path.join(file_folder,f'*'),recursive=True)\n",
    "\n",
    "list(dict_test_rotes)[0]\n",
    "next(iter(dict_test_rotes.values()))[0]\n"
   ]
  },
  {
   "cell_type": "code",
   "execution_count": 10,
   "metadata": {},
   "outputs": [
    {
     "data": {
      "text/plain": [
       "'nasa_bearing_dataset\\\\bearing_1st_test\\\\1st_test\\\\2003.10.22.12.06.24'"
      ]
     },
     "execution_count": 10,
     "metadata": {},
     "output_type": "execute_result"
    }
   ],
   "source": [
    "dict_test_rotes[list(dict_test_rotes)[0]][0]"
   ]
  },
  {
   "cell_type": "code",
   "execution_count": 11,
   "metadata": {},
   "outputs": [
    {
     "data": {
      "text/plain": [
       "dict_keys(['1st_test', '2nd_test', '4th_test'])"
      ]
     },
     "execution_count": 11,
     "metadata": {},
     "output_type": "execute_result"
    }
   ],
   "source": [
    "dict_test_rotes.keys()"
   ]
  },
  {
   "cell_type": "code",
   "execution_count": 12,
   "metadata": {},
   "outputs": [],
   "source": [
    "test = {key:None for key in range(len(dict_test_rotes))}"
   ]
  },
  {
   "cell_type": "code",
   "execution_count": 13,
   "metadata": {},
   "outputs": [],
   "source": [
    "for index, (key,value) in enumerate(dict_test_rotes.items()):\n",
    "    bearings_num = len(pd.read_csv(value[0], sep='\\t',header=None).columns)\n",
    "    bearings = {item:[] for item in range(bearings_num)}\n",
    "    test[index] = bearings\n",
    "\n",
    "    for vibr in value:\n",
    "        vibr_df = pd.read_csv(vibr, sep='\\t',header=None)\n",
    "        for column in vibr_df.columns:\n",
    "            vibr_df[column].name = os.path.basename(vibr)[:-3]\n",
    "            test[index][column].append(vibr_df[column])\n",
    "    "
   ]
  },
  {
   "cell_type": "code",
   "execution_count": 14,
   "metadata": {},
   "outputs": [],
   "source": [
    "format_str = '%Y.%m.%d.%H.%M'\n",
    "for key,value in test.items():\n",
    "    for bearing in value:\n",
    "        test[key][bearing] = {0:pd.DataFrame(test[key][bearing])}\n",
    "        test[key][bearing][0].index = pd.to_datetime(test[key][bearing][0].index, format= format_str)"
   ]
  },
  {
   "cell_type": "code",
   "execution_count": 15,
   "metadata": {},
   "outputs": [],
   "source": [
    "# for index, (key,value) in enumerate(dict_test_rotes.items()):\n",
    "#     bearings_num = len(pd.read_csv(value[0], sep='\\t',header=None).columns)\n",
    "#     bearings = {item:{0:pd.DataFrame()} for item in range(bearings_num)}\n",
    "#     test[index] = bearings\n",
    "\n",
    "\n",
    "#     for vibr in value:\n",
    "#         vibr_df = pd.read_csv(vibr, sep='\\t',header=None)\n",
    "#         moment:list[pd.DataFrame()] = [pd.DataFrame()]*bearings_num\n",
    "#         for column in vibr_df.columns:\n",
    "#             vibr_df[column].name = os.path.basename(vibr)[:-3] # dataserie\n",
    "#             moment[column] = vibr_df[column].to_frame().T\n",
    "#             test[index][column][0] = pd.concat([test[index][column][0],moment[column]], axis=0)\n",
    "            "
   ]
  },
  {
   "cell_type": "code",
   "execution_count": 16,
   "metadata": {},
   "outputs": [
    {
     "data": {
      "text/plain": [
       "1"
      ]
     },
     "execution_count": 16,
     "metadata": {},
     "output_type": "execute_result"
    }
   ],
   "source": [
    "len(test[2][0])"
   ]
  },
  {
   "cell_type": "code",
   "execution_count": 17,
   "metadata": {},
   "outputs": [
    {
     "data": {
      "text/html": [
       "<div>\n",
       "<style scoped>\n",
       "    .dataframe tbody tr th:only-of-type {\n",
       "        vertical-align: middle;\n",
       "    }\n",
       "\n",
       "    .dataframe tbody tr th {\n",
       "        vertical-align: top;\n",
       "    }\n",
       "\n",
       "    .dataframe thead th {\n",
       "        text-align: right;\n",
       "    }\n",
       "</style>\n",
       "<table border=\"1\" class=\"dataframe\">\n",
       "  <thead>\n",
       "    <tr style=\"text-align: right;\">\n",
       "      <th></th>\n",
       "      <th>0</th>\n",
       "      <th>1</th>\n",
       "      <th>2</th>\n",
       "      <th>3</th>\n",
       "      <th>4</th>\n",
       "      <th>5</th>\n",
       "      <th>6</th>\n",
       "      <th>7</th>\n",
       "      <th>8</th>\n",
       "      <th>9</th>\n",
       "      <th>...</th>\n",
       "      <th>20470</th>\n",
       "      <th>20471</th>\n",
       "      <th>20472</th>\n",
       "      <th>20473</th>\n",
       "      <th>20474</th>\n",
       "      <th>20475</th>\n",
       "      <th>20476</th>\n",
       "      <th>20477</th>\n",
       "      <th>20478</th>\n",
       "      <th>20479</th>\n",
       "    </tr>\n",
       "  </thead>\n",
       "  <tbody>\n",
       "    <tr>\n",
       "      <th>2004-03-04 09:27:00</th>\n",
       "      <td>0.034</td>\n",
       "      <td>0.103</td>\n",
       "      <td>0.095</td>\n",
       "      <td>0.000</td>\n",
       "      <td>0.005</td>\n",
       "      <td>0.010</td>\n",
       "      <td>0.005</td>\n",
       "      <td>-0.027</td>\n",
       "      <td>-0.088</td>\n",
       "      <td>-0.071</td>\n",
       "      <td>...</td>\n",
       "      <td>-0.054</td>\n",
       "      <td>0.020</td>\n",
       "      <td>0.100</td>\n",
       "      <td>0.049</td>\n",
       "      <td>-0.083</td>\n",
       "      <td>-0.010</td>\n",
       "      <td>0.117</td>\n",
       "      <td>0.024</td>\n",
       "      <td>-0.090</td>\n",
       "      <td>-0.129</td>\n",
       "    </tr>\n",
       "    <tr>\n",
       "      <th>2004-03-04 09:32:00</th>\n",
       "      <td>-0.105</td>\n",
       "      <td>-0.039</td>\n",
       "      <td>0.010</td>\n",
       "      <td>-0.015</td>\n",
       "      <td>0.027</td>\n",
       "      <td>-0.037</td>\n",
       "      <td>-0.007</td>\n",
       "      <td>-0.027</td>\n",
       "      <td>-0.046</td>\n",
       "      <td>-0.002</td>\n",
       "      <td>...</td>\n",
       "      <td>0.105</td>\n",
       "      <td>0.068</td>\n",
       "      <td>-0.007</td>\n",
       "      <td>-0.007</td>\n",
       "      <td>0.042</td>\n",
       "      <td>0.039</td>\n",
       "      <td>-0.051</td>\n",
       "      <td>-0.054</td>\n",
       "      <td>-0.071</td>\n",
       "      <td>-0.007</td>\n",
       "    </tr>\n",
       "    <tr>\n",
       "      <th>2004-03-04 09:42:00</th>\n",
       "      <td>-0.005</td>\n",
       "      <td>0.056</td>\n",
       "      <td>0.034</td>\n",
       "      <td>0.020</td>\n",
       "      <td>0.049</td>\n",
       "      <td>-0.020</td>\n",
       "      <td>-0.110</td>\n",
       "      <td>-0.010</td>\n",
       "      <td>-0.051</td>\n",
       "      <td>-0.076</td>\n",
       "      <td>...</td>\n",
       "      <td>-0.015</td>\n",
       "      <td>0.081</td>\n",
       "      <td>0.103</td>\n",
       "      <td>0.159</td>\n",
       "      <td>0.103</td>\n",
       "      <td>0.144</td>\n",
       "      <td>0.242</td>\n",
       "      <td>0.234</td>\n",
       "      <td>0.085</td>\n",
       "      <td>-0.046</td>\n",
       "    </tr>\n",
       "    <tr>\n",
       "      <th>2004-03-04 09:52:00</th>\n",
       "      <td>-0.010</td>\n",
       "      <td>-0.005</td>\n",
       "      <td>-0.039</td>\n",
       "      <td>-0.132</td>\n",
       "      <td>-0.117</td>\n",
       "      <td>-0.132</td>\n",
       "      <td>-0.085</td>\n",
       "      <td>-0.020</td>\n",
       "      <td>-0.120</td>\n",
       "      <td>-0.059</td>\n",
       "      <td>...</td>\n",
       "      <td>-0.063</td>\n",
       "      <td>-0.071</td>\n",
       "      <td>0.056</td>\n",
       "      <td>-0.017</td>\n",
       "      <td>-0.151</td>\n",
       "      <td>-0.139</td>\n",
       "      <td>-0.103</td>\n",
       "      <td>0.000</td>\n",
       "      <td>-0.032</td>\n",
       "      <td>-0.059</td>\n",
       "    </tr>\n",
       "    <tr>\n",
       "      <th>2004-03-04 10:02:00</th>\n",
       "      <td>-0.046</td>\n",
       "      <td>-0.117</td>\n",
       "      <td>-0.178</td>\n",
       "      <td>-0.100</td>\n",
       "      <td>0.046</td>\n",
       "      <td>0.093</td>\n",
       "      <td>0.112</td>\n",
       "      <td>0.042</td>\n",
       "      <td>0.166</td>\n",
       "      <td>0.066</td>\n",
       "      <td>...</td>\n",
       "      <td>-0.007</td>\n",
       "      <td>-0.063</td>\n",
       "      <td>-0.049</td>\n",
       "      <td>0.005</td>\n",
       "      <td>0.020</td>\n",
       "      <td>-0.073</td>\n",
       "      <td>0.000</td>\n",
       "      <td>0.037</td>\n",
       "      <td>0.063</td>\n",
       "      <td>0.081</td>\n",
       "    </tr>\n",
       "    <tr>\n",
       "      <th>...</th>\n",
       "      <td>...</td>\n",
       "      <td>...</td>\n",
       "      <td>...</td>\n",
       "      <td>...</td>\n",
       "      <td>...</td>\n",
       "      <td>...</td>\n",
       "      <td>...</td>\n",
       "      <td>...</td>\n",
       "      <td>...</td>\n",
       "      <td>...</td>\n",
       "      <td>...</td>\n",
       "      <td>...</td>\n",
       "      <td>...</td>\n",
       "      <td>...</td>\n",
       "      <td>...</td>\n",
       "      <td>...</td>\n",
       "      <td>...</td>\n",
       "      <td>...</td>\n",
       "      <td>...</td>\n",
       "      <td>...</td>\n",
       "      <td>...</td>\n",
       "    </tr>\n",
       "    <tr>\n",
       "      <th>2004-04-18 02:02:00</th>\n",
       "      <td>0.085</td>\n",
       "      <td>0.088</td>\n",
       "      <td>0.022</td>\n",
       "      <td>-0.076</td>\n",
       "      <td>-0.212</td>\n",
       "      <td>-0.010</td>\n",
       "      <td>0.266</td>\n",
       "      <td>0.168</td>\n",
       "      <td>-0.215</td>\n",
       "      <td>-0.530</td>\n",
       "      <td>...</td>\n",
       "      <td>0.010</td>\n",
       "      <td>0.073</td>\n",
       "      <td>0.193</td>\n",
       "      <td>-0.120</td>\n",
       "      <td>-0.330</td>\n",
       "      <td>-0.120</td>\n",
       "      <td>0.278</td>\n",
       "      <td>0.115</td>\n",
       "      <td>-0.200</td>\n",
       "      <td>-0.042</td>\n",
       "    </tr>\n",
       "    <tr>\n",
       "      <th>2004-04-18 02:12:00</th>\n",
       "      <td>0.046</td>\n",
       "      <td>0.039</td>\n",
       "      <td>-0.007</td>\n",
       "      <td>-0.005</td>\n",
       "      <td>-0.037</td>\n",
       "      <td>0.054</td>\n",
       "      <td>0.027</td>\n",
       "      <td>-0.134</td>\n",
       "      <td>-0.139</td>\n",
       "      <td>-0.117</td>\n",
       "      <td>...</td>\n",
       "      <td>0.161</td>\n",
       "      <td>0.046</td>\n",
       "      <td>-0.027</td>\n",
       "      <td>0.037</td>\n",
       "      <td>-0.073</td>\n",
       "      <td>-0.178</td>\n",
       "      <td>0.095</td>\n",
       "      <td>0.015</td>\n",
       "      <td>-0.134</td>\n",
       "      <td>0.159</td>\n",
       "    </tr>\n",
       "    <tr>\n",
       "      <th>2004-04-18 02:22:00</th>\n",
       "      <td>-0.103</td>\n",
       "      <td>0.012</td>\n",
       "      <td>-0.059</td>\n",
       "      <td>0.120</td>\n",
       "      <td>0.071</td>\n",
       "      <td>-0.137</td>\n",
       "      <td>-0.159</td>\n",
       "      <td>-0.137</td>\n",
       "      <td>-0.103</td>\n",
       "      <td>0.122</td>\n",
       "      <td>...</td>\n",
       "      <td>-0.208</td>\n",
       "      <td>-0.044</td>\n",
       "      <td>0.000</td>\n",
       "      <td>-0.090</td>\n",
       "      <td>-0.127</td>\n",
       "      <td>-0.051</td>\n",
       "      <td>-0.059</td>\n",
       "      <td>-0.024</td>\n",
       "      <td>0.142</td>\n",
       "      <td>-0.012</td>\n",
       "    </tr>\n",
       "    <tr>\n",
       "      <th>2004-04-18 02:32:00</th>\n",
       "      <td>-0.134</td>\n",
       "      <td>-0.144</td>\n",
       "      <td>-0.059</td>\n",
       "      <td>-0.181</td>\n",
       "      <td>-0.154</td>\n",
       "      <td>-0.068</td>\n",
       "      <td>-0.103</td>\n",
       "      <td>-0.117</td>\n",
       "      <td>-0.115</td>\n",
       "      <td>-0.061</td>\n",
       "      <td>...</td>\n",
       "      <td>0.088</td>\n",
       "      <td>-0.251</td>\n",
       "      <td>-0.320</td>\n",
       "      <td>-0.110</td>\n",
       "      <td>0.068</td>\n",
       "      <td>-0.022</td>\n",
       "      <td>-0.454</td>\n",
       "      <td>-0.247</td>\n",
       "      <td>0.168</td>\n",
       "      <td>0.098</td>\n",
       "    </tr>\n",
       "    <tr>\n",
       "      <th>2004-04-18 02:42:00</th>\n",
       "      <td>0.002</td>\n",
       "      <td>0.002</td>\n",
       "      <td>0.002</td>\n",
       "      <td>0.000</td>\n",
       "      <td>0.000</td>\n",
       "      <td>0.000</td>\n",
       "      <td>0.002</td>\n",
       "      <td>0.002</td>\n",
       "      <td>0.002</td>\n",
       "      <td>0.002</td>\n",
       "      <td>...</td>\n",
       "      <td>0.002</td>\n",
       "      <td>0.002</td>\n",
       "      <td>0.002</td>\n",
       "      <td>0.002</td>\n",
       "      <td>0.002</td>\n",
       "      <td>0.000</td>\n",
       "      <td>0.000</td>\n",
       "      <td>0.000</td>\n",
       "      <td>0.002</td>\n",
       "      <td>0.000</td>\n",
       "    </tr>\n",
       "  </tbody>\n",
       "</table>\n",
       "<p>6324 rows × 20480 columns</p>\n",
       "</div>"
      ],
      "text/plain": [
       "                     0      1      2      3      4      5      6      7      \\\n",
       "2004-03-04 09:27:00  0.034  0.103  0.095  0.000  0.005  0.010  0.005 -0.027   \n",
       "2004-03-04 09:32:00 -0.105 -0.039  0.010 -0.015  0.027 -0.037 -0.007 -0.027   \n",
       "2004-03-04 09:42:00 -0.005  0.056  0.034  0.020  0.049 -0.020 -0.110 -0.010   \n",
       "2004-03-04 09:52:00 -0.010 -0.005 -0.039 -0.132 -0.117 -0.132 -0.085 -0.020   \n",
       "2004-03-04 10:02:00 -0.046 -0.117 -0.178 -0.100  0.046  0.093  0.112  0.042   \n",
       "...                    ...    ...    ...    ...    ...    ...    ...    ...   \n",
       "2004-04-18 02:02:00  0.085  0.088  0.022 -0.076 -0.212 -0.010  0.266  0.168   \n",
       "2004-04-18 02:12:00  0.046  0.039 -0.007 -0.005 -0.037  0.054  0.027 -0.134   \n",
       "2004-04-18 02:22:00 -0.103  0.012 -0.059  0.120  0.071 -0.137 -0.159 -0.137   \n",
       "2004-04-18 02:32:00 -0.134 -0.144 -0.059 -0.181 -0.154 -0.068 -0.103 -0.117   \n",
       "2004-04-18 02:42:00  0.002  0.002  0.002  0.000  0.000  0.000  0.002  0.002   \n",
       "\n",
       "                     8      9      ...  20470  20471  20472  20473  20474  \\\n",
       "2004-03-04 09:27:00 -0.088 -0.071  ... -0.054  0.020  0.100  0.049 -0.083   \n",
       "2004-03-04 09:32:00 -0.046 -0.002  ...  0.105  0.068 -0.007 -0.007  0.042   \n",
       "2004-03-04 09:42:00 -0.051 -0.076  ... -0.015  0.081  0.103  0.159  0.103   \n",
       "2004-03-04 09:52:00 -0.120 -0.059  ... -0.063 -0.071  0.056 -0.017 -0.151   \n",
       "2004-03-04 10:02:00  0.166  0.066  ... -0.007 -0.063 -0.049  0.005  0.020   \n",
       "...                    ...    ...  ...    ...    ...    ...    ...    ...   \n",
       "2004-04-18 02:02:00 -0.215 -0.530  ...  0.010  0.073  0.193 -0.120 -0.330   \n",
       "2004-04-18 02:12:00 -0.139 -0.117  ...  0.161  0.046 -0.027  0.037 -0.073   \n",
       "2004-04-18 02:22:00 -0.103  0.122  ... -0.208 -0.044  0.000 -0.090 -0.127   \n",
       "2004-04-18 02:32:00 -0.115 -0.061  ...  0.088 -0.251 -0.320 -0.110  0.068   \n",
       "2004-04-18 02:42:00  0.002  0.002  ...  0.002  0.002  0.002  0.002  0.002   \n",
       "\n",
       "                     20475  20476  20477  20478  20479  \n",
       "2004-03-04 09:27:00 -0.010  0.117  0.024 -0.090 -0.129  \n",
       "2004-03-04 09:32:00  0.039 -0.051 -0.054 -0.071 -0.007  \n",
       "2004-03-04 09:42:00  0.144  0.242  0.234  0.085 -0.046  \n",
       "2004-03-04 09:52:00 -0.139 -0.103  0.000 -0.032 -0.059  \n",
       "2004-03-04 10:02:00 -0.073  0.000  0.037  0.063  0.081  \n",
       "...                    ...    ...    ...    ...    ...  \n",
       "2004-04-18 02:02:00 -0.120  0.278  0.115 -0.200 -0.042  \n",
       "2004-04-18 02:12:00 -0.178  0.095  0.015 -0.134  0.159  \n",
       "2004-04-18 02:22:00 -0.051 -0.059 -0.024  0.142 -0.012  \n",
       "2004-04-18 02:32:00 -0.022 -0.454 -0.247  0.168  0.098  \n",
       "2004-04-18 02:42:00  0.000  0.000  0.000  0.002  0.000  \n",
       "\n",
       "[6324 rows x 20480 columns]"
      ]
     },
     "execution_count": 17,
     "metadata": {},
     "output_type": "execute_result"
    }
   ],
   "source": [
    "test[2][0][0]"
   ]
  },
  {
   "cell_type": "code",
   "execution_count": null,
   "metadata": {},
   "outputs": [],
   "source": [
    "pd.concat([data3,data0,data1],axis=0)"
   ]
  },
  {
   "cell_type": "code",
   "execution_count": null,
   "metadata": {},
   "outputs": [],
   "source": [
    "# bearings = {}\n",
    "\n",
    "# bearings[0] = []\n",
    "# bearings[1] = []\n",
    "# bearings[2] = []\n",
    "# bearings[3] = []\n",
    "# # bearings[4] = []\n",
    "# # bearings[5] = []\n",
    "# # bearings[6] = []\n",
    "# # bearings[7] = []\n",
    "\n",
    "\n",
    "# for root, dirs, files in os.walk(\"nasa_bearing_dataset/bearing_2nd_test/2nd_test/\", topdown=False):\n",
    "    \n",
    "#     for file_name in files:\n",
    "#         path = os.path.join(root, file_name)\n",
    "#         # print(file_name[:-3])\n",
    "#         dataset=pd.read_csv(path, sep='\\t',header=None)\n",
    "\n",
    "#         for column in dataset.columns:\n",
    "#             dataset[column].name = file_name[:-3]\n",
    "#             bearings[column].append(dataset[column])"
   ]
  },
  {
   "cell_type": "code",
   "execution_count": null,
   "metadata": {},
   "outputs": [],
   "source": [
    "bearings_feature = {}"
   ]
  },
  {
   "cell_type": "code",
   "execution_count": null,
   "metadata": {},
   "outputs": [],
   "source": [
    "prueba = to_feature(test[0][0][0])"
   ]
  },
  {
   "cell_type": "code",
   "execution_count": null,
   "metadata": {},
   "outputs": [],
   "source": [
    "prueba"
   ]
  },
  {
   "cell_type": "code",
   "execution_count": null,
   "metadata": {},
   "outputs": [],
   "source": [
    "# test = 2\n",
    "# for bearing in bearings:\n",
    "#     pd.DataFrame(bearings[bearing]).to_csv(f'nasa_bearing_dataset/test{test}_bearing_{bearing}_time.csv')\n",
    "#     to_feature(pd.DataFrame(bearings[bearing])).to_csv(f'nasa_bearing_dataset/test{test}_bearing_{bearing}_feature.csv')\n"
   ]
  },
  {
   "cell_type": "code",
   "execution_count": null,
   "metadata": {},
   "outputs": [],
   "source": [
    "test = 1"
   ]
  },
  {
   "cell_type": "code",
   "execution_count": null,
   "metadata": {},
   "outputs": [],
   "source": [
    "df = []\n",
    "format_str = '%Y.%m.%d.%H.%M'\n",
    "for i in range(8):\n",
    "    df.append(pd.read_csv(f'nasa_bearing_dataset/test{test}_bearing_{i}_time.csv', index_col= 'Unnamed: 0'))\n",
    "    df[i].index = pd.to_datetime(df[i].index, format= format_str)"
   ]
  },
  {
   "cell_type": "code",
   "execution_count": null,
   "metadata": {},
   "outputs": [],
   "source": [
    "df_f = []\n",
    "format_str = '%Y.%m.%d.%H.%M'\n",
    "for i in range(8):\n",
    "    df_f.append(pd.read_csv(f'nasa_bearing_dataset/test{test}_bearing_{i}_feature.csv', index_col= 'Unnamed: 0'))\n",
    "    df_f[i].index = pd.to_datetime(df_f[i].index, format= format_str)"
   ]
  },
  {
   "cell_type": "code",
   "execution_count": null,
   "metadata": {},
   "outputs": [],
   "source": [
    "df_f[0].columns"
   ]
  },
  {
   "cell_type": "code",
   "execution_count": null,
   "metadata": {},
   "outputs": [],
   "source": [
    "len(df[0].columns)"
   ]
  },
  {
   "cell_type": "code",
   "execution_count": null,
   "metadata": {},
   "outputs": [],
   "source": [
    "for col in (df_f[0].columns):  \n",
    "    \n",
    "        plt.figure(figsize=(20, 5))\n",
    "        for i in range(8):\n",
    "                plt.plot(df_f[0].index,df_f[i][col])\n",
    "        # plt.plot(df_f[0].index,df_f[1][col])\n",
    "        # plt.plot(df_f[0].index,df_f[2][col])\n",
    "        # plt.plot(df_f[0].index,df_f[3][col])\n",
    "\n",
    "        plt.legend(['bearing-1','bearing-2','bearing-3','bearing-4'])\n",
    "\n",
    "        plt.xlabel(\"Date-Time\")\n",
    "        plt.ylabel(col)\n",
    "        plt.title(col)\n",
    "        plt.show()"
   ]
  },
  {
   "cell_type": "code",
   "execution_count": null,
   "metadata": {},
   "outputs": [],
   "source": [
    "# Load your vibration data from a CSV file\n",
    "# Assume the CSV file has a single column of vibration data with a header\n",
    "# data = pd.read_csv('vibration_data.csv')\n",
    "def to_fft(y, sample_rate):\n",
    "    # vibration_data = data['Vibration'].values\n",
    "    vibration_data = y\n",
    "    # Time parameters\n",
    "    sampling_rate = sample_rate  # Hz, example sampling rate\n",
    "    n = len(vibration_data)\n",
    "    time = np.arange(n) / sampling_rate\n",
    "\n",
    "    # Perform FFT\n",
    "    freq_domain = np.fft.fft(vibration_data)\n",
    "    freq = np.fft.fftfreq(n, d=1/sampling_rate)\n",
    "\n",
    "    x_freq = freq[:n//2]\n",
    "    y_freq = np.abs(freq_domain)[:n//2] * 1/n\n",
    "\n",
    "\n",
    "    # Plot the results\n",
    "    plt.figure(figsize=(20,6))\n",
    "\n",
    "    # Time domain plot\n",
    "    plt.subplot(2, 1, 1)\n",
    "    plt.plot(time, vibration_data)\n",
    "    plt.title('Time Domain')\n",
    "    plt.xlabel('Time (s)')\n",
    "    plt.ylabel('Vibration Amplitude')\n",
    "\n",
    "    # Frequency domain plot\n",
    "    plt.subplot(2, 1, 2)\n",
    "    plt.plot(freq[:n//20], np.abs(freq_domain)[:n//20] * 1/n)\n",
    "    plt.title('Frequency Domain')\n",
    "    plt.xlabel('Frequency (Hz)')\n",
    "    plt.ylabel('Magnitude')\n",
    "\n",
    "    plt.tight_layout()\n",
    "    plt.show()\n"
   ]
  },
  {
   "cell_type": "code",
   "execution_count": null,
   "metadata": {},
   "outputs": [],
   "source": [
    "def to_fft2(y,sample_rate):\n",
    "    # Remove DC component\n",
    "    signal = detrend(y)\n",
    "\n",
    "    # Apply a window function (e.g., Hamming window)\n",
    "    # window = get_window('hamming', len(signal))\n",
    "    windowed_signal = signal # * window\n",
    "    # Apply FFT\n",
    "    fft_result = np.fft.fft(windowed_signal)\n",
    "    fs = sample_rate\n",
    "    t = np.arange(0, 1, 1/fs)\n",
    "    # Frequency bins\n",
    "    N = len(windowed_signal)\n",
    "    freqs = np.fft.fftfreq(N, 1/fs)\n",
    "    # Compute the magnitude of the FFT\n",
    "    magnitude = np.abs(fft_result) / N\n",
    "\n",
    "    # Single-sided spectrum (only positive frequencies)\n",
    "    half_N = N // 2\n",
    "    freqs = freqs[:half_N]\n",
    "    magnitude = magnitude[:half_N] * 2  # Multiply by 2 (except for DC and Nyquist component)\n",
    "\n",
    "    # Correct the magnitude for windowing effect\n",
    "    # magnitude /= np.sum(window) / len(window)\n",
    "\n",
    "    plt.figure(figsize=(20, 6))\n",
    "\n",
    "    # Plot time-domain signal\n",
    "    plt.subplot(2, 1, 1)\n",
    "    plt.plot(t, signal)\n",
    "    plt.title('Time Domain Signal')\n",
    "    plt.xlabel('Time [s]')\n",
    "    plt.ylabel('Amplitude')\n",
    "\n",
    "    # Plot frequency-domain signal\n",
    "    plt.subplot(2, 1, 2)\n",
    "    plt.plot(freqs, magnitude)\n",
    "    plt.title('Frequency Domain Signal')\n",
    "    plt.xlabel('Frequency [Hz]')\n",
    "    plt.ylabel('Magnitude')\n",
    "    # Set custom x-ticks to show more frequency markers\n",
    "    # max_freq = fs / 2\n",
    "    # step = 500  # Adjust this value to show more or fewer frequency markers\n",
    "    # plt.xticks(np.arange(0, max_freq, step))\n",
    "\n",
    "    plt.tight_layout()\n",
    "    plt.show()"
   ]
  },
  {
   "cell_type": "code",
   "execution_count": null,
   "metadata": {},
   "outputs": [],
   "source": [
    "df[5].iloc[num,:]"
   ]
  },
  {
   "cell_type": "code",
   "execution_count": null,
   "metadata": {},
   "outputs": [],
   "source": [
    "df[5].shape"
   ]
  },
  {
   "cell_type": "code",
   "execution_count": null,
   "metadata": {},
   "outputs": [],
   "source": [
    "min(df[5].index)"
   ]
  },
  {
   "cell_type": "code",
   "execution_count": null,
   "metadata": {},
   "outputs": [],
   "source": [
    "num = 0\n",
    "to_fft2(df[5].iloc[num,:], 20480)\n",
    "df[4].iloc[num,:].name"
   ]
  },
  {
   "cell_type": "code",
   "execution_count": null,
   "metadata": {},
   "outputs": [],
   "source": [
    "num = 1500\n",
    "to_fft2(df[5].iloc[num,:], 20480)\n",
    "df[4].iloc[num,:].name"
   ]
  },
  {
   "cell_type": "code",
   "execution_count": null,
   "metadata": {},
   "outputs": [],
   "source": [
    "num = 2100\n",
    "to_fft2(df[5].iloc[num,:], 20480)\n",
    "df[4].iloc[num,:].name"
   ]
  },
  {
   "cell_type": "code",
   "execution_count": null,
   "metadata": {},
   "outputs": [],
   "source": [
    "num = 2155\n",
    "to_fft2(df[5].iloc[num,:], 20480)\n",
    "df[4].iloc[num,:].name"
   ]
  },
  {
   "cell_type": "code",
   "execution_count": null,
   "metadata": {},
   "outputs": [],
   "source": [
    "'2003-10-22 12:06:00','2003-10-22 12:09:00','2003-10-22 12:14:00'"
   ]
  },
  {
   "cell_type": "code",
   "execution_count": null,
   "metadata": {},
   "outputs": [],
   "source": [
    "df[4].drop(index=['2003-10-22 12:14:00'], inplace = True)"
   ]
  },
  {
   "cell_type": "code",
   "execution_count": null,
   "metadata": {},
   "outputs": [],
   "source": [
    "df[0].drop(index=['2004-02-19 06:22:00','2004-02-19 06:12:00'], inplace = True)"
   ]
  },
  {
   "cell_type": "code",
   "execution_count": null,
   "metadata": {},
   "outputs": [],
   "source": [
    "df[0].head()"
   ]
  },
  {
   "cell_type": "code",
   "execution_count": null,
   "metadata": {},
   "outputs": [],
   "source": [
    "df_f[0].drop(index=['2004-02-19 06:22:00','2004-02-19 06:12:00'], inplace = True)"
   ]
  },
  {
   "cell_type": "code",
   "execution_count": null,
   "metadata": {},
   "outputs": [],
   "source": [
    "df_f[0].head()"
   ]
  },
  {
   "cell_type": "code",
   "execution_count": null,
   "metadata": {},
   "outputs": [],
   "source": [
    "df_freq[0].head()"
   ]
  },
  {
   "cell_type": "code",
   "execution_count": null,
   "metadata": {},
   "outputs": [],
   "source": [
    "df[0].isna().sum().sum()"
   ]
  },
  {
   "cell_type": "code",
   "execution_count": null,
   "metadata": {},
   "outputs": [],
   "source": [
    "df_f[0].isna().sum().sum()"
   ]
  },
  {
   "cell_type": "code",
   "execution_count": null,
   "metadata": {},
   "outputs": [],
   "source": [
    "df_freq[0].isna().sum().sum()"
   ]
  },
  {
   "cell_type": "code",
   "execution_count": null,
   "metadata": {},
   "outputs": [],
   "source": [
    "freq_df = fft_freq(df[0])"
   ]
  },
  {
   "cell_type": "code",
   "execution_count": null,
   "metadata": {},
   "outputs": [],
   "source": [
    "freq_df.shape"
   ]
  },
  {
   "cell_type": "code",
   "execution_count": null,
   "metadata": {},
   "outputs": [],
   "source": [
    "df_freq = []\n",
    "test = 2\n",
    "for i in range(4):\n",
    "    df_freq.append(fft_freq(df[i]))\n",
    "    df_freq[i].to_csv(f'nasa_bearing_dataset/test{test}_bearing_{i}_freq.csv')"
   ]
  },
  {
   "cell_type": "code",
   "execution_count": null,
   "metadata": {},
   "outputs": [],
   "source": [
    "test = 2\n",
    "bearing = 0"
   ]
  },
  {
   "cell_type": "code",
   "execution_count": null,
   "metadata": {},
   "outputs": [],
   "source": [
    "df[0].loc['2004-02-12 10:32:00':'2004-02-16 03:42:00','fault'] = 'Normal'\n",
    "df[0].loc['2004-02-16 03:52:00':'2004-02-19 06:02:00','fault'] = 'Outer Race'\n",
    "df[0].to_csv(f'nasa_bearing_dataset/target_test{test}_bearing_{bearing}_time.csv')"
   ]
  },
  {
   "cell_type": "code",
   "execution_count": null,
   "metadata": {},
   "outputs": [],
   "source": [
    "df_f[0].loc['2004-02-12 10:32:00':'2004-02-16 03:42:00','fault'] = 'Normal'\n",
    "df_f[0].loc['2004-02-16 03:52:00':'2004-02-19 06:02:00','fault'] = 'Outer Race'\n",
    "df_f[0].to_csv(f'nasa_bearing_dataset/target_test{test}_bearing_{bearing}_feature.csv')"
   ]
  },
  {
   "cell_type": "code",
   "execution_count": null,
   "metadata": {},
   "outputs": [],
   "source": [
    "df_freq[0].loc['2004-02-12 10:32:00':'2004-02-16 03:42:00','fault'] = 'Normal'\n",
    "df_freq[0].loc['2004-02-16 03:52:00':'2004-02-19 06:02:00','fault'] = 'Outer Race'\n",
    "df_freq[0].to_csv(f'nasa_bearing_dataset/target_test{test}_bearing_{bearing}_freq.csv')"
   ]
  },
  {
   "cell_type": "code",
   "execution_count": null,
   "metadata": {},
   "outputs": [],
   "source": []
  }
 ],
 "metadata": {
  "kernelspec": {
   "display_name": "Python 3",
   "language": "python",
   "name": "python3"
  },
  "language_info": {
   "codemirror_mode": {
    "name": "ipython",
    "version": 3
   },
   "file_extension": ".py",
   "mimetype": "text/x-python",
   "name": "python",
   "nbconvert_exporter": "python",
   "pygments_lexer": "ipython3",
   "version": "3.10.11"
  }
 },
 "nbformat": 4,
 "nbformat_minor": 2
}
