{
 "cells": [
  {
   "cell_type": "code",
   "execution_count": 108,
   "metadata": {},
   "outputs": [],
   "source": [
    "import pandas as pd\n",
    "import numpy as np\n",
    "import os\n",
    "import copy\n",
    "# import matplotlib\n",
    "# matplotlib.use('Agg')\n",
    "import matplotlib.pyplot as plt\n",
    "import glob\n",
    "from scipy.signal import detrend, get_window\n",
    "from scipy.signal import butter, filtfilt\n",
    "from scipy.fftpack import fft, fftfreq\n",
    "from scipy.signal import hilbert, chirp"
   ]
  },
  {
   "cell_type": "code",
   "execution_count": 109,
   "metadata": {},
   "outputs": [],
   "source": [
    "def compute_skewness(x):\n",
    "    \n",
    "    n = len(x)\n",
    "    third_moment = np.sum((x - np.mean(x))**3) / n\n",
    "    s_3 = np.std(x, ddof = 1) ** 3\n",
    "    return third_moment/s_3"
   ]
  },
  {
   "cell_type": "code",
   "execution_count": 110,
   "metadata": {},
   "outputs": [],
   "source": [
    "def compute_kurtosis(x):\n",
    "    \n",
    "    n = len(x)\n",
    "    fourth_moment = np.sum((x - np.mean(x))**4) / n\n",
    "    s_4 = np.std(x, ddof = 1) ** 4\n",
    "    return fourth_moment / s_4 - 3"
   ]
  },
  {
   "cell_type": "code",
   "execution_count": 111,
   "metadata": {},
   "outputs": [],
   "source": [
    "def to_feature(df):\n",
    "    data = pd.DataFrame()\n",
    "    data['max'] = df[df.columns[:]].max(axis = 1)\n",
    "    data['min'] = df[df.columns[:]].min(axis = 1)\n",
    "    data['mean'] = df[df.columns[:]].mean(axis = 1)\n",
    "    data['std'] = df[df.columns[:]].std(ddof=1,axis = 1)\n",
    "    data['rms'] = df[df.columns[:]].apply(lambda x: np.sqrt(np.mean(x**2)), axis=1)\n",
    "    data['skewness'] = df[df.columns[:]].apply(lambda x: compute_skewness(x), axis=1)\n",
    "    data['kurtosis'] = df[df.columns[:]].apply(lambda x: compute_kurtosis(x), axis=1)\n",
    "    data['crest_factor'] = data['max'] / data['rms']\n",
    "    data['form_factor'] = data['rms'] / data['mean']\n",
    "    return data"
   ]
  },
  {
   "cell_type": "code",
   "execution_count": 112,
   "metadata": {},
   "outputs": [],
   "source": [
    "def to_freq(df_time:pd.DataFrame):\n",
    "    df_freq = df_time.copy()\n",
    "    filter_vibr = pd.RangeIndex(start=0, stop=len(df_freq.columns), step=1)\n",
    "    df_freq = df_freq.drop(columns=filter_vibr, axis = 1)\n",
    "    \n",
    "    freq_data = []\n",
    "    for i,row in df_time.iterrows():\n",
    "        y = np.array(df_time.loc[i,:])\n",
    "        # vibration_data = data['Vibration'].values\n",
    "        vibration_data = y\n",
    "        # Time parameters\n",
    "        sampling_rate =  len(vibration_data) # Hz, example sampling rate\n",
    "        n = len(vibration_data)\n",
    "        time = np.arange(n) / sampling_rate\n",
    "\n",
    "        # Perform FFT\n",
    "        freq_domain = np.fft.fft(vibration_data)\n",
    "        freq = np.fft.fftfreq(n, d=1/sampling_rate)\n",
    "\n",
    "        x_freq = freq[:n//2]\n",
    "        y_freq = np.abs(freq_domain)[:n//2] * 1/n\n",
    "\n",
    "        freq_data.append(y_freq)\n",
    "\n",
    "    df_freq = pd.DataFrame(data = freq_data)\n",
    "    # df_freq = pd.concat([df_freq,pd.DataFrame(freq_data)],axis=0)\n",
    "    # columns = [str(x) for x in df_freq.columns]\n",
    "    # df_freq.columns = columns\n",
    "    df_freq.index = df_time.index\n",
    "    return df_freq\n",
    "\n"
   ]
  },
  {
   "cell_type": "code",
   "execution_count": 113,
   "metadata": {},
   "outputs": [],
   "source": [
    "def to_freq2(df_time:pd.DataFrame):\n",
    "    df_freq = df_time.copy()\n",
    "    filter_vibr = pd.RangeIndex(start=0, stop=len(df_freq.columns), step=1)\n",
    "    df_freq = df_freq.drop(columns=filter_vibr, axis = 1)\n",
    "    \n",
    "    freq_data = []\n",
    "    for i,row in df_time.iterrows():\n",
    "        y = np.array(row)\n",
    "        fs = len(y)\n",
    "        fc = 500  # Cutoff frequency in Hz\n",
    "        order = 10  # Filter order\n",
    "        nyquist = 0.5 * fs\n",
    "        normal_cutoff = fc / nyquist\n",
    "        b, a = butter(order, normal_cutoff, btype='highpass', analog=False)\n",
    "\n",
    "        filtered_signal = filtfilt(b, a, y)\n",
    "        analytic_signal = hilbert(filtered_signal)\n",
    "        amplitude_envelope = np.abs(analytic_signal)\n",
    "\n",
    "        # Sampling parameters\n",
    "        N = fs  # Number of samples\n",
    "        T = 1.0 / fs  # Sample spacing (inverse of the sampling rate)\n",
    "        x = np.arange(0, 1, T)\n",
    "        # Compute the FFT of the signal\n",
    "        y_start = 0\n",
    "        y_end = N//2\n",
    "\n",
    "        x_start = 0\n",
    "        x_end = N//2\n",
    "\n",
    "        yf = fft(amplitude_envelope)\n",
    "        yf = 2.0/N * np.abs(yf[y_start:y_end])\n",
    "\n",
    "        # Compute the frequencies corresponding to the FFT result\n",
    "        xf = fftfreq(N, T)[x_start:x_end]\n",
    "\n",
    "        freq_data.append(yf)\n",
    "\n",
    "    df_freq = pd.DataFrame(data = freq_data)\n",
    "    # df_freq = pd.concat([df_freq,pd.DataFrame(freq_data)],axis=0)\n",
    "    # columns = [str(x) for x in df_freq.columns]\n",
    "    # df_freq.columns = columns\n",
    "    df_freq.index = df_time.index\n",
    "    return df_freq\n"
   ]
  },
  {
   "cell_type": "code",
   "execution_count": 114,
   "metadata": {},
   "outputs": [],
   "source": [
    "# Load your vibration data from a CSV file\n",
    "# Assume the CSV file has a single column of vibration data with a header\n",
    "# data = pd.read_csv('vibration_data.csv')\n",
    "def to_fft(y, sample_rate):\n",
    "    # vibration_data = data['Vibration'].values\n",
    "    vibration_data = y\n",
    "    # Time parameters\n",
    "    sampling_rate = sample_rate  # Hz, example sampling rate\n",
    "    n = len(vibration_data)\n",
    "    time = np.arange(n) / sampling_rate\n",
    "\n",
    "    # Perform FFT\n",
    "    freq_domain = np.fft.fft(vibration_data)\n",
    "    freq = np.fft.fftfreq(n, d=1/sampling_rate)\n",
    "\n",
    "    x_freq = freq[:n//2]\n",
    "    y_freq = np.abs(freq_domain)[:n//2] * 1/n\n",
    "\n",
    "\n",
    "    # Plot the results\n",
    "    plt.figure(figsize=(20,6))\n",
    "\n",
    "    # Time domain plot\n",
    "    plt.subplot(2, 1, 1)\n",
    "    plt.plot(time, vibration_data)\n",
    "    plt.title('Time Domain')\n",
    "    plt.xlabel('Time (s)')\n",
    "    plt.ylabel('Vibration Amplitude')\n",
    "\n",
    "    # Frequency domain plot\n",
    "    plt.subplot(2, 1, 2)\n",
    "    plt.plot(x_freq, y_freq)\n",
    "    plt.title('Frequency Domain')\n",
    "    plt.xlabel('Frequency (Hz)')\n",
    "    plt.ylabel('Magnitude')\n",
    "\n",
    "    # plt.tight_layout()\n",
    "    # plt.show()\n",
    "\n",
    "    return plt\n"
   ]
  },
  {
   "cell_type": "code",
   "execution_count": 115,
   "metadata": {},
   "outputs": [],
   "source": [
    "def to_fft2(y,sample_rate):\n",
    "    # Remove DC component\n",
    "    signal = detrend(y)\n",
    "    signal = np.array(y)\n",
    "    # Apply a window function (e.g., Hamming window)\n",
    "    # window = get_window('hamming', len(signal))\n",
    "    windowed_signal = signal # * window\n",
    "    # Apply FFT\n",
    "    fft_result = np.fft.fft(windowed_signal)\n",
    "    yf = fft(windowed_signal)\n",
    "    \n",
    "    fs = sample_rate\n",
    "    t = np.arange(0, 1, 1/fs)\n",
    "    # Frequency bins\n",
    "    N = len(windowed_signal)\n",
    "    freqs = np.fft.fftfreq(N, 1/fs)\n",
    "    xf = fftfreq(N, 1/fs)\n",
    "    # Compute the magnitude of the FFT\n",
    "    magnitude = np.abs(fft_result) / N\n",
    "\n",
    "    # Single-sided spectrum (only positive frequencies)\n",
    "    y_start = 1\n",
    "    y_end = 1500 # N // 2\n",
    "    x_start = 1\n",
    "    x_end = 1500\n",
    "    \n",
    "    freqs = freqs[x_start:x_end]\n",
    "    magnitude = magnitude[y_start:y_end] * 2  # Multiply by 2 (except for DC and Nyquist component)\n",
    "    yf = 2.0/N * np.abs(yf[y_start:y_end])\n",
    "    xf = xf[x_start:x_end]\n",
    "    # Correct the magnitude for windowing effect\n",
    "    # magnitude /= np.sum(window) / len(window)\n",
    "\n",
    "    plt.figure(figsize=(20, 6))\n",
    "\n",
    "    # Plot time-domain signal\n",
    "    plt.subplot(2, 1, 1)\n",
    "    plt.plot(t[:200], signal[:200], linewidth=0.5)\n",
    "    plt.title('Time Domain Signal')\n",
    "    plt.xlabel('Time [s]')\n",
    "    plt.ylabel('Amplitude')\n",
    "\n",
    "    # Plot frequency-domain signal\n",
    "    plt.subplot(2, 1, 2)\n",
    "    plt.plot(freqs, magnitude, linewidth=0.5,color='red')\n",
    "    plt.plot(xf, yf, linewidth=0.5,color='blue')\n",
    "    plt.title('Frequency Domain Signal')\n",
    "    plt.xlabel('Frequency [Hz]')\n",
    "    plt.ylabel('Magnitude')\n",
    "    # Set custom x-ticks to show more frequency markers\n",
    "    \n",
    "    step = round((x_end - x_start)/40)  # Adjust this value to show more or fewer frequency markers\n",
    "    plt.xticks(np.arange(0, x_end, step))\n",
    "\n",
    "    # plt.tight_layout()\n",
    "    # plt.show()\n",
    "    return plt"
   ]
  },
  {
   "cell_type": "code",
   "execution_count": 116,
   "metadata": {},
   "outputs": [],
   "source": [
    "def to_fft3(y,sample_rate):\n",
    "    y = np.array(y)\n",
    "    fs = sample_rate\n",
    "\n",
    "    fc = 500  # Cutoff frequency in Hz\n",
    "    order = 10  # Filter order\n",
    "    nyquist = 0.5 * fs\n",
    "    normal_cutoff = fc / nyquist\n",
    "    b, a = butter(order, normal_cutoff, btype='highpass', analog=False)\n",
    "    filtered_signal = filtfilt(b, a, y)\n",
    "\n",
    "    analytic_signal = hilbert(filtered_signal)\n",
    "    amplitude_envelope = np.abs(analytic_signal)\n",
    "    # amplitude_envelope = filtered_signal\n",
    "    # y = amplitude_envelope\n",
    "\n",
    "    # Sampling parameters\n",
    "    N = sample_rate  # Number of samples\n",
    "    T = 1.0 / sample_rate  # Sample spacing (inverse of the sampling rate)\n",
    "    x = np.arange(0, 1, T)\n",
    "    # Compute the FFT of the signal\n",
    "    y_start = 1\n",
    "    y_end = 1200 # N//2\n",
    "\n",
    "    x_start = 1\n",
    "    x_end = 1200\n",
    "\n",
    "    yf = fft(amplitude_envelope)\n",
    "    yf = 2.0/N * np.abs(yf[y_start:y_end])\n",
    "\n",
    "    # Compute the frequencies corresponding to the FFT result\n",
    "    xf = fftfreq(N, T)[x_start:x_end]\n",
    "\n",
    "    # Plot the original signal\n",
    "    plt.figure(figsize=(20, 6))\n",
    "\n",
    "    plt.subplot(2, 1, 1)\n",
    "    # plt.plot(x[:200], amplitude_envelope[:200], linewidth=0.5, color='red')\n",
    "    plt.plot(x[:200], filtered_signal[:200], linewidth=0.5, color='blue')\n",
    "    plt.plot(x[:200], y[:200], linewidth=0.5, color='green')\n",
    "    plt.title('Original Vibration Signal')\n",
    "    plt.xlabel('Time [s]')\n",
    "    plt.ylabel('Amplitude')\n",
    "\n",
    "    # Plot the FFT result\n",
    "    plt.subplot(2, 1, 2)\n",
    "    plt.plot(xf, yf, linewidth=0.5)\n",
    "    plt.title('Fourier Transform')\n",
    "    plt.xlabel('Frequency [Hz]')\n",
    "    plt.ylabel('Amplitude')\n",
    "    \n",
    "    step = round((x_end - x_start)/40)  # Adjust this value to show more or fewer frequency markers\n",
    "    plt.xticks(np.arange(0, x_end, step))\n",
    "\n",
    "\n",
    "    # plt.tight_layout()\n",
    "    # plt.show()\n",
    "    return plt\n"
   ]
  },
  {
   "cell_type": "code",
   "execution_count": 117,
   "metadata": {},
   "outputs": [
    {
     "data": {
      "text/plain": [
       "['nasa_bearing_dataset\\\\bearing_1st_test\\\\1st_test',\n",
       " 'nasa_bearing_dataset\\\\bearing_2nd_test\\\\2nd_test',\n",
       " 'nasa_bearing_dataset\\\\bearing_3rd_test\\\\4th_test']"
      ]
     },
     "execution_count": 117,
     "metadata": {},
     "output_type": "execute_result"
    }
   ],
   "source": [
    "test_rutes = glob.glob(f\"nasa_bearing_dataset/bear*/*\",recursive=False)\n",
    "test_rutes"
   ]
  },
  {
   "cell_type": "code",
   "execution_count": 118,
   "metadata": {},
   "outputs": [
    {
     "data": {
      "text/plain": [
       "'1st_test'"
      ]
     },
     "execution_count": 118,
     "metadata": {},
     "output_type": "execute_result"
    }
   ],
   "source": [
    "os.path.basename(test_rutes[0])"
   ]
  },
  {
   "cell_type": "code",
   "execution_count": 119,
   "metadata": {},
   "outputs": [
    {
     "data": {
      "text/plain": [
       "3"
      ]
     },
     "execution_count": 119,
     "metadata": {},
     "output_type": "execute_result"
    }
   ],
   "source": [
    "number_test = len(test_rutes)\n",
    "number_test"
   ]
  },
  {
   "cell_type": "code",
   "execution_count": 120,
   "metadata": {},
   "outputs": [
    {
     "data": {
      "text/plain": [
       "'nasa_bearing_dataset\\\\bearing_1st_test\\\\1st_test\\\\2003.10.22.12.06.24'"
      ]
     },
     "execution_count": 120,
     "metadata": {},
     "output_type": "execute_result"
    }
   ],
   "source": [
    "# dict_test_rotes = {os.path.basename(key): None for key in test_rutes}\n",
    "dict_test_rotes = {}\n",
    "for file_folder in test_rutes:\n",
    "    dict_test_rotes[os.path.basename(file_folder)] = glob.glob(os.path.join(file_folder,f'*'),recursive=True)\n",
    "\n",
    "list(dict_test_rotes)[0]\n",
    "next(iter(dict_test_rotes.values()))[0]\n"
   ]
  },
  {
   "cell_type": "code",
   "execution_count": 121,
   "metadata": {},
   "outputs": [
    {
     "data": {
      "text/plain": [
       "'nasa_bearing_dataset\\\\bearing_1st_test\\\\1st_test\\\\2003.10.22.12.06.24'"
      ]
     },
     "execution_count": 121,
     "metadata": {},
     "output_type": "execute_result"
    }
   ],
   "source": [
    "dict_test_rotes[list(dict_test_rotes)[0]][0]"
   ]
  },
  {
   "cell_type": "code",
   "execution_count": 122,
   "metadata": {},
   "outputs": [
    {
     "data": {
      "text/plain": [
       "dict_keys(['1st_test', '2nd_test', '4th_test'])"
      ]
     },
     "execution_count": 122,
     "metadata": {},
     "output_type": "execute_result"
    }
   ],
   "source": [
    "dict_test_rotes.keys()"
   ]
  },
  {
   "cell_type": "code",
   "execution_count": 123,
   "metadata": {},
   "outputs": [],
   "source": [
    "tests = {key:None for key in range(len(dict_test_rotes))}"
   ]
  },
  {
   "cell_type": "code",
   "execution_count": 124,
   "metadata": {},
   "outputs": [],
   "source": [
    "for index, (key,value) in enumerate(dict_test_rotes.items()):\n",
    "    bearings_num = len(pd.read_csv(value[0], sep='\\t',header=None).columns)\n",
    "    bearings = {item:[] for item in range(bearings_num)}\n",
    "    tests[index] = bearings\n",
    "\n",
    "    for vibr in value:\n",
    "        vibr_df = pd.read_csv(vibr, sep='\\t',header=None)\n",
    "        for column in vibr_df.columns:\n",
    "            vibr_df[column].name = os.path.basename(vibr)[:-3]\n",
    "            tests[index][column].append(vibr_df[column])"
   ]
  },
  {
   "cell_type": "code",
   "execution_count": 125,
   "metadata": {},
   "outputs": [],
   "source": [
    "format_str = '%Y.%m.%d.%H.%M'\n",
    "for key,value in tests.items():\n",
    "    for bearing in value:\n",
    "        tests[key][bearing] = {0:pd.DataFrame(tests[key][bearing])}\n",
    "        tests[key][bearing][0].index = pd.to_datetime(tests[key][bearing][0].index, format= format_str)"
   ]
  },
  {
   "cell_type": "code",
   "execution_count": 126,
   "metadata": {},
   "outputs": [],
   "source": [
    "# for index, (key,value) in enumerate(dict_test_rotes.items()):\n",
    "#     bearings_num = len(pd.read_csv(value[0], sep='\\t',header=None).columns)\n",
    "#     bearings = {item:{0:pd.DataFrame()} for item in range(bearings_num)}\n",
    "#     test[index] = bearings\n",
    "\n",
    "\n",
    "#     for vibr in value:\n",
    "#         vibr_df = pd.read_csv(vibr, sep='\\t',header=None)\n",
    "#         moment:list[pd.DataFrame()] = [pd.DataFrame()]*bearings_num\n",
    "#         for column in vibr_df.columns:\n",
    "#             vibr_df[column].name = os.path.basename(vibr)[:-3] # dataserie\n",
    "#             moment[column] = vibr_df[column].to_frame().T\n",
    "#             test[index][column][0] = pd.concat([test[index][column][0],moment[column]], axis=0)\n",
    "            "
   ]
  },
  {
   "cell_type": "code",
   "execution_count": 127,
   "metadata": {},
   "outputs": [],
   "source": [
    "# bearings = {}\n",
    "\n",
    "# bearings[0] = []\n",
    "# bearings[1] = []\n",
    "# bearings[2] = []\n",
    "# bearings[3] = []\n",
    "# # bearings[4] = []\n",
    "# # bearings[5] = []\n",
    "# # bearings[6] = []\n",
    "# # bearings[7] = []\n",
    "\n",
    "\n",
    "# for root, dirs, files in os.walk(\"nasa_bearing_dataset/bearing_2nd_test/2nd_test/\", topdown=False):\n",
    "    \n",
    "#     for file_name in files:\n",
    "#         path = os.path.join(root, file_name)\n",
    "#         # print(file_name[:-3])\n",
    "#         dataset=pd.read_csv(path, sep='\\t',header=None)\n",
    "\n",
    "#         for column in dataset.columns:\n",
    "#             dataset[column].name = file_name[:-3]\n",
    "#             bearings[column].append(dataset[column])"
   ]
  },
  {
   "cell_type": "code",
   "execution_count": 128,
   "metadata": {},
   "outputs": [],
   "source": [
    "# for key_tests,bearings in tests.items():\n",
    "#     print(f'tests {key_tests+1} started!')\n",
    "#     for key_bearing,bearing in bearings.items():\n",
    "#         # for i in range(3):\n",
    "#         i = 0\n",
    "#         if key_tests == 0 and key_bearing == 0:\n",
    "#             del tests[key_tests][key_bearing][i]\n",
    "#         elif key_tests == 0 and key_bearing == 1:   \n",
    "#             del tests[key_tests][key_bearing][i]\n",
    "#         elif key_tests == 0 and key_bearing == 2:   \n",
    "#             del tests[key_tests][key_bearing][i] \n",
    "#         elif key_tests == 0 and key_bearing == 3:   \n",
    "#             del tests[key_tests][key_bearing][i] \n",
    "#         elif key_tests == 0 and key_bearing == 4:\n",
    "#             pass\n",
    "#         elif key_tests == 0 and key_bearing == 5:\n",
    "#             pass\n",
    "#         elif key_tests == 0 and key_bearing == 6:\n",
    "#             pass\n",
    "#         elif key_tests == 0 and key_bearing == 7:\n",
    "#             pass\n",
    "#         elif key_tests == 1 and key_bearing == 0:\n",
    "#             pass\n",
    "#         elif key_tests == 1 and key_bearing == 1:\n",
    "#             del tests[key_tests][key_bearing][i] \n",
    "#         elif key_tests == 1 and key_bearing == 2:\n",
    "#             del tests[key_tests][key_bearing][i] \n",
    "#         elif key_tests == 1 and key_bearing == 3:\n",
    "#             del tests[key_tests][key_bearing][i] \n",
    "#         elif key_tests == 2 and key_bearing == 0:\n",
    "#             del tests[key_tests][key_bearing][i] \n",
    "#         elif key_tests == 2 and key_bearing == 1:\n",
    "#             del tests[key_tests][key_bearing][i] \n",
    "#         elif key_tests == 2 and key_bearing == 2:\n",
    "#             pass\n",
    "#         elif key_tests == 2 and key_bearing == 3:\n",
    "#             del tests[key_tests][key_bearing][i] \n",
    "        \n",
    "#         print(f'Bearing {key_bearing+1} done!')"
   ]
  },
  {
   "cell_type": "code",
   "execution_count": 129,
   "metadata": {},
   "outputs": [],
   "source": [
    "for key_test,bearings in tests.items():\n",
    "    for key_bearing,bearing in bearings.items():\n",
    "        tests[key_test][key_bearing][1] = to_feature(tests[key_test][key_bearing][0])"
   ]
  },
  {
   "cell_type": "code",
   "execution_count": 130,
   "metadata": {},
   "outputs": [],
   "source": [
    "for key_test,bearings in tests.items():\n",
    "    for key_bearing,bearing in bearings.items():\n",
    "        tests[key_test][key_bearing][2] = to_freq2(tests[key_test][key_bearing][0])"
   ]
  },
  {
   "cell_type": "code",
   "execution_count": 131,
   "metadata": {},
   "outputs": [
    {
     "data": {
      "text/plain": [
       "(2156, 10240)"
      ]
     },
     "execution_count": 131,
     "metadata": {},
     "output_type": "execute_result"
    }
   ],
   "source": [
    "tests[0][5][2].shape"
   ]
  },
  {
   "cell_type": "code",
   "execution_count": 132,
   "metadata": {},
   "outputs": [
    {
     "name": "stdout",
     "output_type": "stream",
     "text": [
      "tests 1 started!\n",
      "Bearing 1 done!\n",
      "Bearing 2 done!\n",
      "Bearing 3 done!\n",
      "Bearing 4 done!\n",
      "Bearing 5 done!\n",
      "Bearing 6 done!\n",
      "Bearing 7 done!\n",
      "Bearing 8 done!\n",
      "tests 2 started!\n",
      "Bearing 1 done!\n",
      "Bearing 2 done!\n",
      "Bearing 3 done!\n",
      "Bearing 4 done!\n",
      "tests 3 started!\n",
      "Bearing 1 done!\n",
      "Bearing 2 done!\n",
      "Bearing 3 done!\n",
      "Bearing 4 done!\n"
     ]
    }
   ],
   "source": [
    "for key_tests,bearings in tests.items():\n",
    "    print(f'tests {key_tests+1} started!')\n",
    "    for key_bearing,bearing in bearings.items():\n",
    "        for i in range(3):\n",
    "            if key_tests == 0 and key_bearing == 0:\n",
    "                # normal = [0,0]\n",
    "                fault = [0,2155]\n",
    "                tests[key_tests][key_bearing][i].loc[tests[key_tests][key_bearing][0].index[fault[0]]:tests[key_tests][key_bearing][0].index[fault[1]],'target'] = 'rare'\n",
    "                # tests[key_tests][tests[key_tests][key_bearing][0].index[normal[0]]:tests[key_tests][key_bearing][0].index[normal[1]],'target'] = 'normal'\n",
    "            elif key_tests == 0 and key_bearing == 1:   \n",
    "                # normal = [0,0]\n",
    "                fault = [0,2155]\n",
    "                tests[key_tests][key_bearing][i].loc[tests[key_tests][key_bearing][0].index[fault[0]]:tests[key_tests][key_bearing][0].index[fault[1]],'target'] = 'rare'\n",
    "                # tests[key_tests][tests[key_tests][key_bearing][0].index[normal[0]]:tests[key_tests][key_bearing][0].index[normal[1]],'target'] = 'normal'\n",
    "            elif key_tests == 0 and key_bearing == 2:   \n",
    "                # normal = [0,0]\n",
    "                fault = [0,2155]\n",
    "                tests[key_tests][key_bearing][i].loc[tests[key_tests][key_bearing][0].index[fault[0]]:tests[key_tests][key_bearing][0].index[fault[1]],'target'] = 'rare'\n",
    "                # tests[key_tests][tests[key_tests][key_bearing][0].index[normal[0]]:tests[key_tests][key_bearing][0].index[normal[1]],'target'] = 'normal'\n",
    "            elif key_tests == 0 and key_bearing == 3:   \n",
    "                normal = [228,1800]\n",
    "                fault = [1801,2155]\n",
    "                tests[key_tests][key_bearing][i].loc[tests[key_tests][key_bearing][0].index[fault[0]]:tests[key_tests][key_bearing][0].index[fault[1]],'target'] = 'rare'\n",
    "                # tests[key_tests][key_bearing][i].loc[tests[key_tests][key_bearing][0].index[normal[0]]:tests[key_tests][key_bearing][0].index[normal[1]],'target'] = 'normal'\n",
    "            elif key_tests == 0 and key_bearing == 4:\n",
    "                normal = [1500,2100]\n",
    "                # normal = [0,2007]\n",
    "                fault = [2121,2155]\n",
    "                tests[key_tests][key_bearing][i].loc[tests[key_tests][key_bearing][0].index[fault[0]]:tests[key_tests][key_bearing][0].index[fault[1]],'target'] = 'inner race'\n",
    "                tests[key_tests][key_bearing][i].loc[tests[key_tests][key_bearing][0].index[normal[0]]:tests[key_tests][key_bearing][0].index[normal[1]],'target'] = 'normal'\n",
    "            elif key_tests == 0 and key_bearing == 5:\n",
    "                normal = [1500,2100]\n",
    "                # normal = [0,2007]\n",
    "                fault = [2121,2155]\n",
    "                tests[key_tests][key_bearing][i].loc[tests[key_tests][key_bearing][0].index[fault[0]]:tests[key_tests][key_bearing][0].index[fault[1]],'target'] = 'inner race'\n",
    "                tests[key_tests][key_bearing][i].loc[tests[key_tests][key_bearing][0].index[normal[0]]:tests[key_tests][key_bearing][0].index[normal[1]],'target'] = 'normal'\n",
    "            elif key_tests == 0 and key_bearing == 6:\n",
    "                normal = [1000,1500]\n",
    "                # normal = [0,1250]\n",
    "                fault = [1574,2000]\n",
    "                tests[key_tests][key_bearing][i].loc[tests[key_tests][key_bearing][0].index[fault[0]]:tests[key_tests][key_bearing][0].index[fault[1]],'target'] = 'roller element'\n",
    "                tests[key_tests][key_bearing][i].loc[tests[key_tests][key_bearing][0].index[normal[0]]:tests[key_tests][key_bearing][0].index[normal[1]],'target'] = 'normal'\n",
    "            elif key_tests == 0 and key_bearing == 7:\n",
    "                normal = [700,1500]\n",
    "                # normal = [0,1250]\n",
    "                fault = [1574,2000]\n",
    "                tests[key_tests][key_bearing][i].loc[tests[key_tests][key_bearing][0].index[fault[0]]:tests[key_tests][key_bearing][0].index[fault[1]],'target'] = 'roller element'\n",
    "                tests[key_tests][key_bearing][i].loc[tests[key_tests][key_bearing][0].index[normal[0]]:tests[key_tests][key_bearing][0].index[normal[1]],'target'] = 'normal'\n",
    "\n",
    "            elif key_tests == 1 and key_bearing == 0:\n",
    "                normal = [0,531]\n",
    "                fault = [532,982]\n",
    "                tests[key_tests][key_bearing][i].loc[tests[key_tests][key_bearing][0].index[fault[0]]:tests[key_tests][key_bearing][0].index[fault[1]],'target'] = 'outer race'\n",
    "                tests[key_tests][key_bearing][i].loc[tests[key_tests][key_bearing][0].index[normal[0]]:tests[key_tests][key_bearing][0].index[normal[1]],'target'] = 'normal'\n",
    "            elif key_tests == 1 and key_bearing == 1:\n",
    "                normal = [0,698]\n",
    "                fault = [703,983]\n",
    "                tests[key_tests][key_bearing][i].loc[tests[key_tests][key_bearing][0].index[fault[0]]:tests[key_tests][key_bearing][0].index[fault[1]],'target'] = 'rare'\n",
    "                # tests[key_tests][key_bearing][i].loc[tests[key_tests][key_bearing][0].index[normal[0]]:tests[key_tests][key_bearing][0].index[normal[1]],'target'] = 'normal'\n",
    "            elif key_tests == 1 and key_bearing == 2:\n",
    "                normal = [0,840]\n",
    "                fault = [886,983]\n",
    "                tests[key_tests][key_bearing][i].loc[tests[key_tests][key_bearing][0].index[fault[0]]:tests[key_tests][key_bearing][0].index[fault[1]],'target'] = 'rare'\n",
    "                # tests[key_tests][key_bearing][i].loc[tests[key_tests][key_bearing][0].index[normal[0]]:tests[key_tests][key_bearing][0].index[normal[1]],'target'] = 'normal'\n",
    "            elif key_tests == 1 and key_bearing == 3:\n",
    "                normal = [0,678]\n",
    "                fault = [709,983]\n",
    "                tests[key_tests][key_bearing][i].loc[tests[key_tests][key_bearing][0].index[fault[0]]:tests[key_tests][key_bearing][0].index[fault[1]],'target'] = 'rare'\n",
    "                # tests[key_tests][key_bearing][i].loc[tests[key_tests][key_bearing][0].index[normal[0]]:tests[key_tests][key_bearing][0].index[normal[1]],'target'] = 'normal'\n",
    "\n",
    "            elif key_tests == 2 and key_bearing == 0:\n",
    "                normal = [0,6040]\n",
    "                fault = [6181,6323]\n",
    "                tests[key_tests][key_bearing][i].loc[tests[key_tests][key_bearing][0].index[fault[0]]:tests[key_tests][key_bearing][0].index[fault[1]],'target'] = 'rare'\n",
    "                # tests[key_tests][key_bearing][i].loc[tests[key_tests][key_bearing][0].index[normal[0]]:tests[key_tests][key_bearing][0].index[normal[1]],'target'] = 'normal'\n",
    "            elif key_tests == 2 and key_bearing == 1:\n",
    "                normal = [0,6040]\n",
    "                fault = [6181,6323]\n",
    "                tests[key_tests][key_bearing][i].loc[tests[key_tests][key_bearing][0].index[fault[0]]:tests[key_tests][key_bearing][0].index[fault[1]],'target'] = 'rare'\n",
    "            #     tests[key_tests][key_bearing][i].loc[tests[key_tests][key_bearing][0].index[normal[0]]:tests[key_tests][key_bearing][0].index[normal[1]],'target'] = 'normal'\n",
    "            elif key_tests == 2 and key_bearing == 2:\n",
    "                normal = [4000,6040]\n",
    "                fault = [6070,6323]\n",
    "                tests[key_tests][key_bearing][i].loc[tests[key_tests][key_bearing][0].index[fault[0]]:tests[key_tests][key_bearing][0].index[fault[1]],'target'] = 'outer race'\n",
    "                tests[key_tests][key_bearing][i].loc[tests[key_tests][key_bearing][0].index[normal[0]]:tests[key_tests][key_bearing][0].index[normal[1]],'target'] = 'normal'\n",
    "            elif key_tests == 2 and key_bearing == 3:\n",
    "                normal = [0,6040]\n",
    "                fault = [6060,6323]\n",
    "                tests[key_tests][key_bearing][i].loc[tests[key_tests][key_bearing][0].index[fault[0]]:tests[key_tests][key_bearing][0].index[fault[1]],'target'] = 'rare'\n",
    "                # tests[key_tests][key_bearing][i].loc[tests[key_tests][key_bearing][0].index[normal[0]]:tests[key_tests][key_bearing][0].index[normal[1]],'target'] = 'normal'      \n",
    "        \n",
    "        print(f'Bearing {key_bearing+1} done!')\n"
   ]
  },
  {
   "cell_type": "code",
   "execution_count": 133,
   "metadata": {},
   "outputs": [
    {
     "name": "stdout",
     "output_type": "stream",
     "text": [
      "test 1 started!\n",
      "test 2 started!\n",
      "test 3 started!\n"
     ]
    }
   ],
   "source": [
    "for key_test,bearings in tests.items():\n",
    "    print(f'test {key_test+1} started!')\n",
    "    for key_bearing,bearing in bearings.items():\n",
    "        for i in range(3):\n",
    "                tests[key_test][key_bearing][i].dropna(subset = ['target'],inplace = True)\n",
    "                tests[key_test][key_bearing][i] = tests[key_test][key_bearing][i].loc[tests[key_test][key_bearing][i]['target'] != 'rare',:]"
   ]
  },
  {
   "cell_type": "code",
   "execution_count": 134,
   "metadata": {},
   "outputs": [],
   "source": [
    "del tests[0][0]\n",
    "del tests[0][1]\n",
    "del tests[0][2] \n",
    "del tests[0][3]\n",
    "del tests[1][1]\n",
    "del tests[1][2]\n",
    "del tests[1][3]\n",
    "del tests[2][0]\n",
    "del tests[2][1]\n",
    "del tests[2][3]"
   ]
  },
  {
   "cell_type": "code",
   "execution_count": 135,
   "metadata": {},
   "outputs": [],
   "source": [
    "# for key_test,bearings in tests.items():\n",
    "#     print(f'test {key_test} starting')\n",
    "#     for key_bearing,bearing in bearings.items():\n",
    "#         print(f'bearing {key_bearing} starting')\n",
    "#         for i in range(3):\n",
    "#             tests[key_test][key_bearing][i].to_csv(f'nasa_bearing_dataset/{i}_test{key_test}_bearing{key_bearing}.csv')"
   ]
  },
  {
   "cell_type": "code",
   "execution_count": 136,
   "metadata": {},
   "outputs": [
    {
     "data": {
      "text/plain": [
       "['nasa_bearing_dataset\\\\0_test0_bearing0.csv',\n",
       " 'nasa_bearing_dataset\\\\0_test0_bearing1.csv',\n",
       " 'nasa_bearing_dataset\\\\0_test0_bearing2.csv',\n",
       " 'nasa_bearing_dataset\\\\0_test0_bearing3.csv',\n",
       " 'nasa_bearing_dataset\\\\0_test0_bearing4.csv',\n",
       " 'nasa_bearing_dataset\\\\0_test0_bearing5.csv',\n",
       " 'nasa_bearing_dataset\\\\0_test0_bearing6.csv',\n",
       " 'nasa_bearing_dataset\\\\0_test0_bearing7.csv',\n",
       " 'nasa_bearing_dataset\\\\0_test1_bearing0.csv',\n",
       " 'nasa_bearing_dataset\\\\0_test1_bearing1.csv',\n",
       " 'nasa_bearing_dataset\\\\0_test1_bearing2.csv',\n",
       " 'nasa_bearing_dataset\\\\0_test1_bearing3.csv',\n",
       " 'nasa_bearing_dataset\\\\0_test2_bearing0.csv',\n",
       " 'nasa_bearing_dataset\\\\0_test2_bearing1.csv',\n",
       " 'nasa_bearing_dataset\\\\0_test2_bearing2.csv',\n",
       " 'nasa_bearing_dataset\\\\0_test2_bearing3.csv',\n",
       " 'nasa_bearing_dataset\\\\1_test0_bearing0.csv',\n",
       " 'nasa_bearing_dataset\\\\1_test0_bearing1.csv',\n",
       " 'nasa_bearing_dataset\\\\1_test0_bearing2.csv',\n",
       " 'nasa_bearing_dataset\\\\1_test0_bearing3.csv',\n",
       " 'nasa_bearing_dataset\\\\1_test0_bearing4.csv',\n",
       " 'nasa_bearing_dataset\\\\1_test0_bearing5.csv',\n",
       " 'nasa_bearing_dataset\\\\1_test0_bearing6.csv',\n",
       " 'nasa_bearing_dataset\\\\1_test0_bearing7.csv',\n",
       " 'nasa_bearing_dataset\\\\1_test1_bearing0.csv',\n",
       " 'nasa_bearing_dataset\\\\1_test1_bearing1.csv',\n",
       " 'nasa_bearing_dataset\\\\1_test1_bearing2.csv',\n",
       " 'nasa_bearing_dataset\\\\1_test1_bearing3.csv',\n",
       " 'nasa_bearing_dataset\\\\1_test2_bearing0.csv',\n",
       " 'nasa_bearing_dataset\\\\1_test2_bearing1.csv',\n",
       " 'nasa_bearing_dataset\\\\1_test2_bearing2.csv',\n",
       " 'nasa_bearing_dataset\\\\1_test2_bearing3.csv',\n",
       " 'nasa_bearing_dataset\\\\2_test0_bearing0.csv',\n",
       " 'nasa_bearing_dataset\\\\2_test0_bearing1.csv',\n",
       " 'nasa_bearing_dataset\\\\2_test0_bearing2.csv',\n",
       " 'nasa_bearing_dataset\\\\2_test0_bearing3.csv',\n",
       " 'nasa_bearing_dataset\\\\2_test0_bearing4.csv',\n",
       " 'nasa_bearing_dataset\\\\2_test0_bearing5.csv',\n",
       " 'nasa_bearing_dataset\\\\2_test0_bearing6.csv',\n",
       " 'nasa_bearing_dataset\\\\2_test0_bearing7.csv',\n",
       " 'nasa_bearing_dataset\\\\2_test1_bearing0.csv',\n",
       " 'nasa_bearing_dataset\\\\2_test1_bearing1.csv',\n",
       " 'nasa_bearing_dataset\\\\2_test1_bearing2.csv',\n",
       " 'nasa_bearing_dataset\\\\2_test1_bearing3.csv',\n",
       " 'nasa_bearing_dataset\\\\2_test2_bearing0.csv',\n",
       " 'nasa_bearing_dataset\\\\2_test2_bearing1.csv',\n",
       " 'nasa_bearing_dataset\\\\2_test2_bearing2.csv',\n",
       " 'nasa_bearing_dataset\\\\2_test2_bearing3.csv',\n",
       " 'nasa_bearing_dataset\\\\df_feat.csv',\n",
       " 'nasa_bearing_dataset\\\\df_freq.csv',\n",
       " 'nasa_bearing_dataset\\\\df_time.csv']"
      ]
     },
     "execution_count": 136,
     "metadata": {},
     "output_type": "execute_result"
    }
   ],
   "source": [
    "file_rute = glob.glob(f\"nasa_bearing_dataset/*.csv\",recursive=False)\n",
    "file_rute"
   ]
  },
  {
   "cell_type": "code",
   "execution_count": null,
   "metadata": {},
   "outputs": [],
   "source": []
  },
  {
   "cell_type": "code",
   "execution_count": 137,
   "metadata": {},
   "outputs": [],
   "source": [
    "# list_df = [4,5,6,7,8,14]\n",
    "# format_str = '%Y.%m.%d.%H.%M'\n",
    "# for i,file in enumerate(file_rute):\n",
    "#     if i in list_df:\n",
    "#         list_df.append(pd.read_csv(f'nasa_bearing_dataset/test{key_test}_bearing_{key_bearing}_{i}.csv', index_col= 'Unnamed: 0'))\n",
    "#         list_df[i].index = pd.to_datetime(list_df[i].index, format= format_str)"
   ]
  },
  {
   "cell_type": "code",
   "execution_count": 138,
   "metadata": {},
   "outputs": [],
   "source": [
    "# format_str = '%Y.%m.%d.%H.%M'\n",
    "# for i in range(8):\n",
    "#     df.append(pd.read_csv(f'nasa_bearing_dataset/test{test}_bearing_{i}_time.csv', index_col= 'Unnamed: 0'))\n",
    "#     df[i].index = pd.to_datetime(df[i].index, format= format_str)"
   ]
  },
  {
   "cell_type": "code",
   "execution_count": 139,
   "metadata": {},
   "outputs": [
    {
     "name": "stdout",
     "output_type": "stream",
     "text": [
      "test 1 / 4 started!\n",
      "['normal' 'inner race']\n",
      "test 1 / 5 started!\n",
      "['normal' 'inner race']\n",
      "test 1 / 6 started!\n",
      "['normal' 'roller element']\n",
      "test 1 / 7 started!\n",
      "['normal' 'roller element']\n",
      "test 2 / 0 started!\n",
      "['normal' 'outer race']\n",
      "test 3 / 2 started!\n",
      "['normal' 'outer race']\n"
     ]
    }
   ],
   "source": [
    "for key_test,bearings in tests.items():\n",
    "    \n",
    "    for key_bearing,bearing in bearings.items():\n",
    "        print(f'test {key_test+1} / {key_bearing} started!')\n",
    "        print(tests[key_test][key_bearing][0]['target'].unique())"
   ]
  },
  {
   "cell_type": "code",
   "execution_count": 140,
   "metadata": {},
   "outputs": [
    {
     "name": "stdout",
     "output_type": "stream",
     "text": [
      "test 0 / 4 started!\n",
      "0\n",
      "test 0 / 5 started!\n",
      "0\n",
      "test 0 / 6 started!\n",
      "0\n",
      "test 0 / 7 started!\n",
      "0\n",
      "test 1 / 0 started!\n",
      "0\n",
      "test 2 / 2 started!\n",
      "0\n"
     ]
    }
   ],
   "source": [
    "for key_test,bearings in tests.items():\n",
    "    \n",
    "    for key_bearing,bearing in bearings.items():\n",
    "        print(f'test {key_test} / {key_bearing} started!')\n",
    "        print(tests[key_test][key_bearing][0].isna().sum().sum())"
   ]
  },
  {
   "cell_type": "code",
   "execution_count": 141,
   "metadata": {},
   "outputs": [
    {
     "data": {
      "text/plain": [
       "0"
      ]
     },
     "execution_count": 141,
     "metadata": {},
     "output_type": "execute_result"
    }
   ],
   "source": [
    "tests[0][4][0].isna().sum().sum()"
   ]
  },
  {
   "cell_type": "code",
   "execution_count": 142,
   "metadata": {},
   "outputs": [],
   "source": [
    "df_time = pd.DataFrame()\n",
    "df_feat = pd.DataFrame()\n",
    "df_freq = pd.DataFrame()"
   ]
  },
  {
   "cell_type": "code",
   "execution_count": 143,
   "metadata": {},
   "outputs": [],
   "source": [
    "num = 0\n",
    "df_time = pd.concat([tests[0][4][num].reset_index(drop = True),\n",
    "                     tests[0][5][num].reset_index(drop = True),\n",
    "                     tests[0][6][num].reset_index(drop = True),\n",
    "                     tests[0][7][num].reset_index(drop = True),\n",
    "                     tests[1][0][num].reset_index(drop = True),\n",
    "                     tests[2][2][num].reset_index(drop = True)], axis = 0)\n"
   ]
  },
  {
   "cell_type": "code",
   "execution_count": 144,
   "metadata": {},
   "outputs": [
    {
     "data": {
      "text/html": [
       "<div>\n",
       "<style scoped>\n",
       "    .dataframe tbody tr th:only-of-type {\n",
       "        vertical-align: middle;\n",
       "    }\n",
       "\n",
       "    .dataframe tbody tr th {\n",
       "        vertical-align: top;\n",
       "    }\n",
       "\n",
       "    .dataframe thead th {\n",
       "        text-align: right;\n",
       "    }\n",
       "</style>\n",
       "<table border=\"1\" class=\"dataframe\">\n",
       "  <thead>\n",
       "    <tr style=\"text-align: right;\">\n",
       "      <th></th>\n",
       "      <th>0</th>\n",
       "      <th>1</th>\n",
       "      <th>2</th>\n",
       "      <th>3</th>\n",
       "      <th>4</th>\n",
       "      <th>5</th>\n",
       "      <th>6</th>\n",
       "      <th>7</th>\n",
       "      <th>8</th>\n",
       "      <th>9</th>\n",
       "      <th>...</th>\n",
       "      <th>20471</th>\n",
       "      <th>20472</th>\n",
       "      <th>20473</th>\n",
       "      <th>20474</th>\n",
       "      <th>20475</th>\n",
       "      <th>20476</th>\n",
       "      <th>20477</th>\n",
       "      <th>20478</th>\n",
       "      <th>20479</th>\n",
       "      <th>target</th>\n",
       "    </tr>\n",
       "  </thead>\n",
       "  <tbody>\n",
       "    <tr>\n",
       "      <th>0</th>\n",
       "      <td>0.051</td>\n",
       "      <td>-0.156</td>\n",
       "      <td>-0.137</td>\n",
       "      <td>-0.146</td>\n",
       "      <td>0.042</td>\n",
       "      <td>-0.200</td>\n",
       "      <td>-0.088</td>\n",
       "      <td>-0.085</td>\n",
       "      <td>0.029</td>\n",
       "      <td>-0.117</td>\n",
       "      <td>...</td>\n",
       "      <td>-0.291</td>\n",
       "      <td>0.110</td>\n",
       "      <td>-0.090</td>\n",
       "      <td>-0.178</td>\n",
       "      <td>-0.195</td>\n",
       "      <td>0.249</td>\n",
       "      <td>-0.220</td>\n",
       "      <td>-0.164</td>\n",
       "      <td>-0.178</td>\n",
       "      <td>normal</td>\n",
       "    </tr>\n",
       "    <tr>\n",
       "      <th>1</th>\n",
       "      <td>-0.095</td>\n",
       "      <td>-0.161</td>\n",
       "      <td>-0.127</td>\n",
       "      <td>0.051</td>\n",
       "      <td>0.063</td>\n",
       "      <td>0.044</td>\n",
       "      <td>-0.154</td>\n",
       "      <td>-0.032</td>\n",
       "      <td>0.007</td>\n",
       "      <td>-0.149</td>\n",
       "      <td>...</td>\n",
       "      <td>-0.220</td>\n",
       "      <td>0.117</td>\n",
       "      <td>-0.066</td>\n",
       "      <td>-0.356</td>\n",
       "      <td>-0.276</td>\n",
       "      <td>0.024</td>\n",
       "      <td>-0.002</td>\n",
       "      <td>-0.117</td>\n",
       "      <td>-0.112</td>\n",
       "      <td>normal</td>\n",
       "    </tr>\n",
       "    <tr>\n",
       "      <th>2</th>\n",
       "      <td>-0.164</td>\n",
       "      <td>-0.327</td>\n",
       "      <td>0.127</td>\n",
       "      <td>0.083</td>\n",
       "      <td>-0.220</td>\n",
       "      <td>-0.049</td>\n",
       "      <td>-0.198</td>\n",
       "      <td>-0.278</td>\n",
       "      <td>-0.122</td>\n",
       "      <td>-0.100</td>\n",
       "      <td>...</td>\n",
       "      <td>-0.063</td>\n",
       "      <td>0.054</td>\n",
       "      <td>0.076</td>\n",
       "      <td>-0.103</td>\n",
       "      <td>-0.176</td>\n",
       "      <td>-0.115</td>\n",
       "      <td>-0.244</td>\n",
       "      <td>-0.103</td>\n",
       "      <td>-0.151</td>\n",
       "      <td>normal</td>\n",
       "    </tr>\n",
       "    <tr>\n",
       "      <th>3</th>\n",
       "      <td>-0.190</td>\n",
       "      <td>-0.066</td>\n",
       "      <td>-0.034</td>\n",
       "      <td>-0.042</td>\n",
       "      <td>-0.210</td>\n",
       "      <td>-0.076</td>\n",
       "      <td>-0.059</td>\n",
       "      <td>-0.054</td>\n",
       "      <td>-0.142</td>\n",
       "      <td>-0.278</td>\n",
       "      <td>...</td>\n",
       "      <td>-0.125</td>\n",
       "      <td>-0.071</td>\n",
       "      <td>-0.159</td>\n",
       "      <td>-0.120</td>\n",
       "      <td>-0.227</td>\n",
       "      <td>-0.093</td>\n",
       "      <td>-0.193</td>\n",
       "      <td>-0.200</td>\n",
       "      <td>0.015</td>\n",
       "      <td>normal</td>\n",
       "    </tr>\n",
       "    <tr>\n",
       "      <th>4</th>\n",
       "      <td>-0.068</td>\n",
       "      <td>-0.134</td>\n",
       "      <td>-0.127</td>\n",
       "      <td>-0.164</td>\n",
       "      <td>0.142</td>\n",
       "      <td>-0.132</td>\n",
       "      <td>-0.286</td>\n",
       "      <td>-0.054</td>\n",
       "      <td>-0.146</td>\n",
       "      <td>-0.212</td>\n",
       "      <td>...</td>\n",
       "      <td>-0.063</td>\n",
       "      <td>-0.054</td>\n",
       "      <td>0.037</td>\n",
       "      <td>-0.139</td>\n",
       "      <td>-0.161</td>\n",
       "      <td>-0.164</td>\n",
       "      <td>-0.139</td>\n",
       "      <td>-0.195</td>\n",
       "      <td>-0.151</td>\n",
       "      <td>normal</td>\n",
       "    </tr>\n",
       "  </tbody>\n",
       "</table>\n",
       "<p>5 rows × 20481 columns</p>\n",
       "</div>"
      ],
      "text/plain": [
       "       0      1      2      3      4      5      6      7      8      9  ...  \\\n",
       "0  0.051 -0.156 -0.137 -0.146  0.042 -0.200 -0.088 -0.085  0.029 -0.117  ...   \n",
       "1 -0.095 -0.161 -0.127  0.051  0.063  0.044 -0.154 -0.032  0.007 -0.149  ...   \n",
       "2 -0.164 -0.327  0.127  0.083 -0.220 -0.049 -0.198 -0.278 -0.122 -0.100  ...   \n",
       "3 -0.190 -0.066 -0.034 -0.042 -0.210 -0.076 -0.059 -0.054 -0.142 -0.278  ...   \n",
       "4 -0.068 -0.134 -0.127 -0.164  0.142 -0.132 -0.286 -0.054 -0.146 -0.212  ...   \n",
       "\n",
       "   20471  20472  20473  20474  20475  20476  20477  20478  20479  target  \n",
       "0 -0.291  0.110 -0.090 -0.178 -0.195  0.249 -0.220 -0.164 -0.178  normal  \n",
       "1 -0.220  0.117 -0.066 -0.356 -0.276  0.024 -0.002 -0.117 -0.112  normal  \n",
       "2 -0.063  0.054  0.076 -0.103 -0.176 -0.115 -0.244 -0.103 -0.151  normal  \n",
       "3 -0.125 -0.071 -0.159 -0.120 -0.227 -0.093 -0.193 -0.200  0.015  normal  \n",
       "4 -0.063 -0.054  0.037 -0.139 -0.161 -0.164 -0.139 -0.195 -0.151  normal  \n",
       "\n",
       "[5 rows x 20481 columns]"
      ]
     },
     "execution_count": 144,
     "metadata": {},
     "output_type": "execute_result"
    }
   ],
   "source": [
    "df_time.head()"
   ]
  },
  {
   "cell_type": "code",
   "execution_count": 145,
   "metadata": {},
   "outputs": [
    {
     "data": {
      "text/plain": [
       "0"
      ]
     },
     "execution_count": 145,
     "metadata": {},
     "output_type": "execute_result"
    }
   ],
   "source": [
    "df_time.isna().sum().sum()"
   ]
  },
  {
   "cell_type": "code",
   "execution_count": 146,
   "metadata": {},
   "outputs": [],
   "source": [
    "df_time.to_csv('nasa_bearing_dataset\\df_time.csv',index=False)"
   ]
  },
  {
   "cell_type": "code",
   "execution_count": 147,
   "metadata": {},
   "outputs": [],
   "source": [
    "num = 1\n",
    "df_feat = pd.concat([tests[0][4][num].reset_index(drop = True),\n",
    "                     tests[0][5][num].reset_index(drop = True),\n",
    "                     tests[0][6][num].reset_index(drop = True),\n",
    "                     tests[0][7][num].reset_index(drop = True),\n",
    "                     tests[1][0][num].reset_index(drop = True),\n",
    "                     tests[2][2][num].reset_index(drop = True)], axis = 0)"
   ]
  },
  {
   "cell_type": "code",
   "execution_count": 148,
   "metadata": {},
   "outputs": [
    {
     "data": {
      "text/html": [
       "<div>\n",
       "<style scoped>\n",
       "    .dataframe tbody tr th:only-of-type {\n",
       "        vertical-align: middle;\n",
       "    }\n",
       "\n",
       "    .dataframe tbody tr th {\n",
       "        vertical-align: top;\n",
       "    }\n",
       "\n",
       "    .dataframe thead th {\n",
       "        text-align: right;\n",
       "    }\n",
       "</style>\n",
       "<table border=\"1\" class=\"dataframe\">\n",
       "  <thead>\n",
       "    <tr style=\"text-align: right;\">\n",
       "      <th></th>\n",
       "      <th>max</th>\n",
       "      <th>min</th>\n",
       "      <th>mean</th>\n",
       "      <th>std</th>\n",
       "      <th>rms</th>\n",
       "      <th>skewness</th>\n",
       "      <th>kurtosis</th>\n",
       "      <th>crest_factor</th>\n",
       "      <th>form_factor</th>\n",
       "      <th>target</th>\n",
       "    </tr>\n",
       "  </thead>\n",
       "  <tbody>\n",
       "    <tr>\n",
       "      <th>0</th>\n",
       "      <td>0.486</td>\n",
       "      <td>-0.659</td>\n",
       "      <td>-0.114358</td>\n",
       "      <td>0.111572</td>\n",
       "      <td>0.159767</td>\n",
       "      <td>0.047967</td>\n",
       "      <td>0.557259</td>\n",
       "      <td>3.041937</td>\n",
       "      <td>-1.397075</td>\n",
       "      <td>normal</td>\n",
       "    </tr>\n",
       "    <tr>\n",
       "      <th>1</th>\n",
       "      <td>0.662</td>\n",
       "      <td>-0.845</td>\n",
       "      <td>-0.113785</td>\n",
       "      <td>0.112849</td>\n",
       "      <td>0.160254</td>\n",
       "      <td>0.072265</td>\n",
       "      <td>0.935819</td>\n",
       "      <td>4.130944</td>\n",
       "      <td>-1.408397</td>\n",
       "      <td>normal</td>\n",
       "    </tr>\n",
       "    <tr>\n",
       "      <th>2</th>\n",
       "      <td>0.439</td>\n",
       "      <td>-0.691</td>\n",
       "      <td>-0.114440</td>\n",
       "      <td>0.109290</td>\n",
       "      <td>0.158241</td>\n",
       "      <td>0.016991</td>\n",
       "      <td>0.592992</td>\n",
       "      <td>2.774243</td>\n",
       "      <td>-1.382745</td>\n",
       "      <td>normal</td>\n",
       "    </tr>\n",
       "    <tr>\n",
       "      <th>3</th>\n",
       "      <td>0.459</td>\n",
       "      <td>-0.762</td>\n",
       "      <td>-0.115351</td>\n",
       "      <td>0.112622</td>\n",
       "      <td>0.161211</td>\n",
       "      <td>-0.000778</td>\n",
       "      <td>0.548151</td>\n",
       "      <td>2.847195</td>\n",
       "      <td>-1.397570</td>\n",
       "      <td>normal</td>\n",
       "    </tr>\n",
       "    <tr>\n",
       "      <th>4</th>\n",
       "      <td>0.525</td>\n",
       "      <td>-0.833</td>\n",
       "      <td>-0.114336</td>\n",
       "      <td>0.109718</td>\n",
       "      <td>0.158462</td>\n",
       "      <td>0.004558</td>\n",
       "      <td>0.693244</td>\n",
       "      <td>3.313105</td>\n",
       "      <td>-1.385930</td>\n",
       "      <td>normal</td>\n",
       "    </tr>\n",
       "  </tbody>\n",
       "</table>\n",
       "</div>"
      ],
      "text/plain": [
       "     max    min      mean       std       rms  skewness  kurtosis  \\\n",
       "0  0.486 -0.659 -0.114358  0.111572  0.159767  0.047967  0.557259   \n",
       "1  0.662 -0.845 -0.113785  0.112849  0.160254  0.072265  0.935819   \n",
       "2  0.439 -0.691 -0.114440  0.109290  0.158241  0.016991  0.592992   \n",
       "3  0.459 -0.762 -0.115351  0.112622  0.161211 -0.000778  0.548151   \n",
       "4  0.525 -0.833 -0.114336  0.109718  0.158462  0.004558  0.693244   \n",
       "\n",
       "   crest_factor  form_factor  target  \n",
       "0      3.041937    -1.397075  normal  \n",
       "1      4.130944    -1.408397  normal  \n",
       "2      2.774243    -1.382745  normal  \n",
       "3      2.847195    -1.397570  normal  \n",
       "4      3.313105    -1.385930  normal  "
      ]
     },
     "execution_count": 148,
     "metadata": {},
     "output_type": "execute_result"
    }
   ],
   "source": [
    "df_feat.head()"
   ]
  },
  {
   "cell_type": "code",
   "execution_count": 149,
   "metadata": {},
   "outputs": [
    {
     "data": {
      "text/plain": [
       "0"
      ]
     },
     "execution_count": 149,
     "metadata": {},
     "output_type": "execute_result"
    }
   ],
   "source": [
    "df_feat.isna().sum().sum()"
   ]
  },
  {
   "cell_type": "code",
   "execution_count": 150,
   "metadata": {},
   "outputs": [],
   "source": [
    "df_feat.to_csv('nasa_bearing_dataset\\df_feat.csv',index=False)"
   ]
  },
  {
   "cell_type": "code",
   "execution_count": 151,
   "metadata": {},
   "outputs": [],
   "source": [
    "num = 2\n",
    "df_freq = pd.concat([tests[0][4][num].reset_index(drop = True),\n",
    "                     tests[0][5][num].reset_index(drop = True),\n",
    "                     tests[0][6][num].reset_index(drop = True),\n",
    "                     tests[0][7][num].reset_index(drop = True),\n",
    "                     tests[1][0][num].reset_index(drop = True),\n",
    "                     tests[2][2][num].reset_index(drop = True)], axis = 0)"
   ]
  },
  {
   "cell_type": "code",
   "execution_count": 152,
   "metadata": {},
   "outputs": [
    {
     "data": {
      "text/html": [
       "<div>\n",
       "<style scoped>\n",
       "    .dataframe tbody tr th:only-of-type {\n",
       "        vertical-align: middle;\n",
       "    }\n",
       "\n",
       "    .dataframe tbody tr th {\n",
       "        vertical-align: top;\n",
       "    }\n",
       "\n",
       "    .dataframe thead th {\n",
       "        text-align: right;\n",
       "    }\n",
       "</style>\n",
       "<table border=\"1\" class=\"dataframe\">\n",
       "  <thead>\n",
       "    <tr style=\"text-align: right;\">\n",
       "      <th></th>\n",
       "      <th>0</th>\n",
       "      <th>1</th>\n",
       "      <th>2</th>\n",
       "      <th>3</th>\n",
       "      <th>4</th>\n",
       "      <th>5</th>\n",
       "      <th>6</th>\n",
       "      <th>7</th>\n",
       "      <th>8</th>\n",
       "      <th>9</th>\n",
       "      <th>...</th>\n",
       "      <th>10231</th>\n",
       "      <th>10232</th>\n",
       "      <th>10233</th>\n",
       "      <th>10234</th>\n",
       "      <th>10235</th>\n",
       "      <th>10236</th>\n",
       "      <th>10237</th>\n",
       "      <th>10238</th>\n",
       "      <th>10239</th>\n",
       "      <th>target</th>\n",
       "    </tr>\n",
       "  </thead>\n",
       "  <tbody>\n",
       "    <tr>\n",
       "      <th>0</th>\n",
       "      <td>0.267459</td>\n",
       "      <td>0.001168</td>\n",
       "      <td>0.001828</td>\n",
       "      <td>0.001987</td>\n",
       "      <td>0.002317</td>\n",
       "      <td>0.001537</td>\n",
       "      <td>0.001837</td>\n",
       "      <td>0.007169</td>\n",
       "      <td>0.004013</td>\n",
       "      <td>0.002827</td>\n",
       "      <td>...</td>\n",
       "      <td>0.000134</td>\n",
       "      <td>0.000284</td>\n",
       "      <td>0.000320</td>\n",
       "      <td>0.000333</td>\n",
       "      <td>0.000109</td>\n",
       "      <td>0.000244</td>\n",
       "      <td>0.000192</td>\n",
       "      <td>0.000161</td>\n",
       "      <td>0.000140</td>\n",
       "      <td>normal</td>\n",
       "    </tr>\n",
       "    <tr>\n",
       "      <th>1</th>\n",
       "      <td>0.269765</td>\n",
       "      <td>0.001087</td>\n",
       "      <td>0.000840</td>\n",
       "      <td>0.002886</td>\n",
       "      <td>0.002624</td>\n",
       "      <td>0.001982</td>\n",
       "      <td>0.001911</td>\n",
       "      <td>0.003913</td>\n",
       "      <td>0.005833</td>\n",
       "      <td>0.002960</td>\n",
       "      <td>...</td>\n",
       "      <td>0.000280</td>\n",
       "      <td>0.000182</td>\n",
       "      <td>0.000290</td>\n",
       "      <td>0.000255</td>\n",
       "      <td>0.000298</td>\n",
       "      <td>0.000117</td>\n",
       "      <td>0.000107</td>\n",
       "      <td>0.000202</td>\n",
       "      <td>0.000195</td>\n",
       "      <td>normal</td>\n",
       "    </tr>\n",
       "    <tr>\n",
       "      <th>2</th>\n",
       "      <td>0.261961</td>\n",
       "      <td>0.001718</td>\n",
       "      <td>0.002398</td>\n",
       "      <td>0.001542</td>\n",
       "      <td>0.003211</td>\n",
       "      <td>0.002696</td>\n",
       "      <td>0.003610</td>\n",
       "      <td>0.007068</td>\n",
       "      <td>0.005708</td>\n",
       "      <td>0.003775</td>\n",
       "      <td>...</td>\n",
       "      <td>0.000260</td>\n",
       "      <td>0.000167</td>\n",
       "      <td>0.000119</td>\n",
       "      <td>0.000012</td>\n",
       "      <td>0.000232</td>\n",
       "      <td>0.000130</td>\n",
       "      <td>0.000161</td>\n",
       "      <td>0.000098</td>\n",
       "      <td>0.000306</td>\n",
       "      <td>normal</td>\n",
       "    </tr>\n",
       "    <tr>\n",
       "      <th>3</th>\n",
       "      <td>0.269995</td>\n",
       "      <td>0.001529</td>\n",
       "      <td>0.003989</td>\n",
       "      <td>0.002137</td>\n",
       "      <td>0.003351</td>\n",
       "      <td>0.001355</td>\n",
       "      <td>0.002770</td>\n",
       "      <td>0.004761</td>\n",
       "      <td>0.002046</td>\n",
       "      <td>0.002703</td>\n",
       "      <td>...</td>\n",
       "      <td>0.000225</td>\n",
       "      <td>0.000273</td>\n",
       "      <td>0.000092</td>\n",
       "      <td>0.000286</td>\n",
       "      <td>0.000514</td>\n",
       "      <td>0.000119</td>\n",
       "      <td>0.000418</td>\n",
       "      <td>0.000588</td>\n",
       "      <td>0.000133</td>\n",
       "      <td>normal</td>\n",
       "    </tr>\n",
       "    <tr>\n",
       "      <th>4</th>\n",
       "      <td>0.262652</td>\n",
       "      <td>0.003813</td>\n",
       "      <td>0.003515</td>\n",
       "      <td>0.001072</td>\n",
       "      <td>0.002476</td>\n",
       "      <td>0.002688</td>\n",
       "      <td>0.002649</td>\n",
       "      <td>0.005884</td>\n",
       "      <td>0.005924</td>\n",
       "      <td>0.002753</td>\n",
       "      <td>...</td>\n",
       "      <td>0.000330</td>\n",
       "      <td>0.000082</td>\n",
       "      <td>0.000094</td>\n",
       "      <td>0.000290</td>\n",
       "      <td>0.000293</td>\n",
       "      <td>0.000064</td>\n",
       "      <td>0.000123</td>\n",
       "      <td>0.000182</td>\n",
       "      <td>0.000246</td>\n",
       "      <td>normal</td>\n",
       "    </tr>\n",
       "  </tbody>\n",
       "</table>\n",
       "<p>5 rows × 10241 columns</p>\n",
       "</div>"
      ],
      "text/plain": [
       "          0         1         2         3         4         5         6  \\\n",
       "0  0.267459  0.001168  0.001828  0.001987  0.002317  0.001537  0.001837   \n",
       "1  0.269765  0.001087  0.000840  0.002886  0.002624  0.001982  0.001911   \n",
       "2  0.261961  0.001718  0.002398  0.001542  0.003211  0.002696  0.003610   \n",
       "3  0.269995  0.001529  0.003989  0.002137  0.003351  0.001355  0.002770   \n",
       "4  0.262652  0.003813  0.003515  0.001072  0.002476  0.002688  0.002649   \n",
       "\n",
       "          7         8         9  ...     10231     10232     10233     10234  \\\n",
       "0  0.007169  0.004013  0.002827  ...  0.000134  0.000284  0.000320  0.000333   \n",
       "1  0.003913  0.005833  0.002960  ...  0.000280  0.000182  0.000290  0.000255   \n",
       "2  0.007068  0.005708  0.003775  ...  0.000260  0.000167  0.000119  0.000012   \n",
       "3  0.004761  0.002046  0.002703  ...  0.000225  0.000273  0.000092  0.000286   \n",
       "4  0.005884  0.005924  0.002753  ...  0.000330  0.000082  0.000094  0.000290   \n",
       "\n",
       "      10235     10236     10237     10238     10239  target  \n",
       "0  0.000109  0.000244  0.000192  0.000161  0.000140  normal  \n",
       "1  0.000298  0.000117  0.000107  0.000202  0.000195  normal  \n",
       "2  0.000232  0.000130  0.000161  0.000098  0.000306  normal  \n",
       "3  0.000514  0.000119  0.000418  0.000588  0.000133  normal  \n",
       "4  0.000293  0.000064  0.000123  0.000182  0.000246  normal  \n",
       "\n",
       "[5 rows x 10241 columns]"
      ]
     },
     "execution_count": 152,
     "metadata": {},
     "output_type": "execute_result"
    }
   ],
   "source": [
    "df_freq.head()"
   ]
  },
  {
   "cell_type": "code",
   "execution_count": 153,
   "metadata": {},
   "outputs": [
    {
     "data": {
      "text/plain": [
       "0"
      ]
     },
     "execution_count": 153,
     "metadata": {},
     "output_type": "execute_result"
    }
   ],
   "source": [
    "df_freq.isna().sum().sum()"
   ]
  },
  {
   "cell_type": "code",
   "execution_count": 154,
   "metadata": {},
   "outputs": [],
   "source": [
    "df_freq.to_csv('nasa_bearing_dataset\\df_freq.csv',index=False)"
   ]
  },
  {
   "cell_type": "code",
   "execution_count": 155,
   "metadata": {},
   "outputs": [],
   "source": [
    "# for key_test,bearings in tests.items():\n",
    "#     print(f'test {key_test+1} started!')\n",
    "#     for key_bearing,bearing in bearings.items():\n",
    "#         for i in range(3):\n",
    "#             if i == 0:\n",
    "#                 # df_time.columns = tests[key_test][key_bearing][i].columns\n",
    "#                 df_time = pd.concat([df_time, tests[key_test][key_bearing][i].reset_index()],axis = 1)\n",
    "#                 del tests[key_test][key_bearing][i]\n",
    "#             # elif i == 1:\n",
    "#             #     # df_time.columns = tests[key_test][key_bearing][i].columns\n",
    "#             #     df_feat = pd.concat([df_time, tests[key_test][key_bearing][i].reset_index()],axis = 1)\n",
    "#             #     del tests[key_test][key_bearing][i] \n",
    "#             # elif i == 2:\n",
    "#             #     # df_time.columns = tests[key_test][key_bearing][i].columns\n",
    "#             #     df_feat = pd.concat([df_time, tests[key_test][key_bearing][i].reset_index()],axis = 1)\n",
    "#             #     del tests[key_test][key_bearing][i] \n"
   ]
  },
  {
   "cell_type": "code",
   "execution_count": 156,
   "metadata": {},
   "outputs": [
    {
     "data": {
      "text/plain": [
       "(6706, 20481)"
      ]
     },
     "execution_count": 156,
     "metadata": {},
     "output_type": "execute_result"
    }
   ],
   "source": [
    "df_time.shape"
   ]
  },
  {
   "cell_type": "code",
   "execution_count": 157,
   "metadata": {},
   "outputs": [
    {
     "data": {
      "text/plain": [
       "array(['normal', 'inner race', 'roller element', 'outer race'],\n",
       "      dtype=object)"
      ]
     },
     "execution_count": 157,
     "metadata": {},
     "output_type": "execute_result"
    }
   ],
   "source": [
    "df_time['target'].unique()"
   ]
  },
  {
   "cell_type": "code",
   "execution_count": 158,
   "metadata": {},
   "outputs": [],
   "source": [
    "# test = 2\n",
    "# for bearing in bearings:\n",
    "#     pd.DataFrame(bearings[bearing]).to_csv(f'nasa_bearing_dataset/test{test}_bearing_{bearing}_time.csv')\n",
    "#     to_feature(pd.DataFrame(bearings[bearing])).to_csv(f'nasa_bearing_dataset/test{test}_bearing_{bearing}_feature.csv')"
   ]
  },
  {
   "cell_type": "code",
   "execution_count": 159,
   "metadata": {},
   "outputs": [],
   "source": [
    "# df = []\n",
    "# format_str = '%Y.%m.%d.%H.%M'\n",
    "# for i in range(8):\n",
    "#     df.append(pd.read_csv(f'nasa_bearing_dataset/test{test}_bearing_{i}_time.csv', index_col= 'Unnamed: 0'))\n",
    "#     df[i].index = pd.to_datetime(df[i].index, format= format_str)"
   ]
  },
  {
   "cell_type": "code",
   "execution_count": 160,
   "metadata": {},
   "outputs": [],
   "source": [
    "# df_f = []\n",
    "# format_str = '%Y.%m.%d.%H.%M'\n",
    "# for i in range(8):\n",
    "#     df_f.append(pd.read_csv(f'nasa_bearing_dataset/test{test}_bearing_{i}_feature.csv', index_col= 'Unnamed: 0'))\n",
    "#     df_f[i].index = pd.to_datetime(df_f[i].index, format= format_str)"
   ]
  },
  {
   "cell_type": "code",
   "execution_count": 161,
   "metadata": {},
   "outputs": [],
   "source": [
    "# test = 2\n",
    "# # bearing = 1\n",
    "\n",
    "# for column in tests[test-1][0][1].columns:\n",
    "#     plt.figure(figsize=(20, 5))\n",
    "#     for key_bearing,bearing in tests[test-1].items():\n",
    "#         plt.plot(bearing[1].index,bearing[1][column])\n",
    "\n",
    "#     plt.legend([f'Bearing - {item}' for item in range(len(tests[test-1]))])\n",
    "#     plt.xlabel(\"Date-Time\")\n",
    "#     plt.ylabel(column)\n",
    "#     plt.title(column)\n",
    "#     plt.show()\n"
   ]
  },
  {
   "cell_type": "code",
   "execution_count": 162,
   "metadata": {},
   "outputs": [
    {
     "data": {
      "text/plain": [
       "4"
      ]
     },
     "execution_count": 162,
     "metadata": {},
     "output_type": "execute_result"
    }
   ],
   "source": [
    "len(tests[0])"
   ]
  },
  {
   "cell_type": "code",
   "execution_count": 163,
   "metadata": {},
   "outputs": [],
   "source": [
    "test = 1\n",
    "bearing = 1"
   ]
  },
  {
   "cell_type": "code",
   "execution_count": 164,
   "metadata": {},
   "outputs": [],
   "source": [
    "num = 0"
   ]
  },
  {
   "cell_type": "code",
   "execution_count": 165,
   "metadata": {},
   "outputs": [
    {
     "ename": "KeyError",
     "evalue": "0",
     "output_type": "error",
     "traceback": [
      "\u001b[1;31m---------------------------------------------------------------------------\u001b[0m",
      "\u001b[1;31mKeyError\u001b[0m                                  Traceback (most recent call last)",
      "Cell \u001b[1;32mIn[165], line 1\u001b[0m\n\u001b[1;32m----> 1\u001b[0m \u001b[43mtests\u001b[49m\u001b[43m[\u001b[49m\u001b[43mtest\u001b[49m\u001b[38;5;241;43m-\u001b[39;49m\u001b[38;5;241;43m1\u001b[39;49m\u001b[43m]\u001b[49m\u001b[43m[\u001b[49m\u001b[43mbearing\u001b[49m\u001b[43m \u001b[49m\u001b[38;5;241;43m-\u001b[39;49m\u001b[38;5;241;43m1\u001b[39;49m\u001b[43m]\u001b[49m[\u001b[38;5;241m0\u001b[39m]\u001b[38;5;241m.\u001b[39mshape\n",
      "\u001b[1;31mKeyError\u001b[0m: 0"
     ]
    }
   ],
   "source": [
    "tests[test-1][bearing -1][0].shape"
   ]
  },
  {
   "cell_type": "code",
   "execution_count": null,
   "metadata": {},
   "outputs": [],
   "source": [
    "min(tests[test-1][bearing -1][0].index)"
   ]
  },
  {
   "cell_type": "code",
   "execution_count": null,
   "metadata": {},
   "outputs": [],
   "source": [
    "max(tests[test-1][bearing -1][0].index)"
   ]
  },
  {
   "cell_type": "code",
   "execution_count": null,
   "metadata": {},
   "outputs": [],
   "source": [
    "tests[key_test][key_bearing][0].columns"
   ]
  },
  {
   "cell_type": "code",
   "execution_count": null,
   "metadata": {},
   "outputs": [],
   "source": [
    "# for key_test,bearings in tests.items():\n",
    "#     print(f'test {key_test+1} started!')\n",
    "#     for key_bearing,bearing in bearings.items():\n",
    "#         if key_test == 0 or key_test ==1 or key_bearing == 0 or key_bearing == 1 or key_bearing == 2:\n",
    "#             pass\n",
    "#         else:\n",
    "#             for num in range(len(tests[key_test][key_bearing][0].index)):\n",
    "#                 # if num % 10 == 0:\n",
    "#                 try: \n",
    "#                     image = to_fft3(tests[key_test][key_bearing][0].iloc[num,:], 20480)\n",
    "#                     image.savefig(f'nasa_bearing_dataset/images/test_{key_test+1}/bearing_{key_bearing+1}/fft_{num:05}.png', pad_inches=0.1)\n",
    "#                     image.close()\n",
    "#                     # image.show()\n",
    "#                 except Exception as e:\n",
    "#                     # Print the exception message and continue\n",
    "#                     print(f\"An error occurred: {e}\")\n",
    "\n",
    "#             print(f'Bearing {key_bearing+1} done!')\n"
   ]
  },
  {
   "cell_type": "code",
   "execution_count": null,
   "metadata": {},
   "outputs": [],
   "source": [
    "test = 1\n",
    "bearing = 7   # Roller element failure 2500\n",
    "num = 2154\n",
    "image = to_fft3(tests[test-1][bearing -1][0].iloc[num,:], 20480)\n",
    "image.show()\n",
    "tests[test-1][bearing -1][0].iloc[num,:].name"
   ]
  },
  {
   "cell_type": "code",
   "execution_count": null,
   "metadata": {},
   "outputs": [],
   "source": [
    "test = 1\n",
    "bearing = 7   # Roller element failure\n",
    "num = 2154\n",
    "image = to_fft2(tests[test-1][bearing -1][0].iloc[num,:], 20480)\n",
    "image.show()\n",
    "tests[test-1][bearing -1][0].iloc[num,:].name"
   ]
  },
  {
   "cell_type": "code",
   "execution_count": null,
   "metadata": {},
   "outputs": [],
   "source": [
    "test = 1\n",
    "bearing = 5  # Inner race fault\n",
    "num = 2150\n",
    "image = to_fft3(tests[test-1][bearing -1][0].iloc[num,:], 20480)\n",
    "image.show()\n",
    "tests[test-1][bearing -1][0].iloc[num,:].name"
   ]
  },
  {
   "cell_type": "code",
   "execution_count": null,
   "metadata": {},
   "outputs": [],
   "source": [
    "test = 1\n",
    "bearing = 5  # Inner race fault\n",
    "num = 2150\n",
    "image = to_fft2(tests[test-1][bearing -1][0].iloc[num,:], 20480)\n",
    "image.show()\n",
    "tests[test-1][bearing -1][0].iloc[num,:].name"
   ]
  },
  {
   "cell_type": "code",
   "execution_count": null,
   "metadata": {},
   "outputs": [],
   "source": [
    "test = 2\n",
    "bearing = 1   # Outer race failure\n",
    "num = 980\n",
    "image = to_fft3(tests[test-1][bearing -1][0].iloc[num,:], 20480)\n",
    "image.show()\n",
    "tests[test-1][bearing -1][0].iloc[num,:].name"
   ]
  },
  {
   "cell_type": "code",
   "execution_count": null,
   "metadata": {},
   "outputs": [],
   "source": [
    "test = 3\n",
    "bearing = 3   # Outer race failure\n",
    "num = 6320\n",
    "image = to_fft3(tests[test-1][bearing -1][0].iloc[num,:], 20480)\n",
    "image.show()\n",
    "tests[test-1][bearing -1][0].iloc[num,:].name"
   ]
  },
  {
   "cell_type": "code",
   "execution_count": null,
   "metadata": {},
   "outputs": [],
   "source": [
    "test = 3\n",
    "bearing = 3    # Outer race failure\n",
    "num = 6320\n",
    "image = to_fft2(tests[test-1][bearing -1][0].iloc[num,:], 20480)\n",
    "image.show()\n",
    "tests[test-1][bearing -1][0].iloc[num,:].name"
   ]
  },
  {
   "cell_type": "code",
   "execution_count": null,
   "metadata": {},
   "outputs": [],
   "source": [
    "test = 2\n",
    "bearing = 1    # Outer race failure\n",
    "num = 980\n",
    "image = to_fft2(tests[test-1][bearing -1][0].iloc[num,:], 20480)\n",
    "image.show()\n",
    "tests[test-1][bearing -1][1].iloc[num,:].name"
   ]
  },
  {
   "cell_type": "code",
   "execution_count": null,
   "metadata": {},
   "outputs": [],
   "source": [
    "# num = 0\n",
    "# image = to_fft2(tests[test-1][bearing -1][0].loc['2004-02-12 10:32:00',:], 20480)\n",
    "# # # print(tests[test-1][bearing -1][1].iloc[num,:].name)\n",
    "# # image.savefig('nasa_bearing_dataset/images/prueba02.png')\n",
    "# image.show()"
   ]
  },
  {
   "cell_type": "code",
   "execution_count": null,
   "metadata": {},
   "outputs": [],
   "source": [
    "num = 1500\n",
    "image = to_fft2(tests[test-1][bearing -1][0].iloc[num,:], 20480)\n",
    "image.show()\n",
    "tests[test-1][bearing -1][1].iloc[num,:].name"
   ]
  },
  {
   "cell_type": "code",
   "execution_count": null,
   "metadata": {},
   "outputs": [],
   "source": [
    "num = 2100\n",
    "to_fft2(tests[test-1][bearing -1][0].iloc[num,:], 20480)\n",
    "tests[test-1][bearing -1][1].iloc[num,:].name"
   ]
  },
  {
   "cell_type": "code",
   "execution_count": null,
   "metadata": {},
   "outputs": [],
   "source": [
    "num = 2155\n",
    "to_fft2(tests[test-1][bearing -1][0].iloc[num,:], 20480)\n",
    "tests[test-1][bearing -1][1].iloc[num,:].name"
   ]
  },
  {
   "cell_type": "code",
   "execution_count": null,
   "metadata": {},
   "outputs": [],
   "source": [
    "tests[test-1][bearing -1][0].isna().sum().sum()"
   ]
  },
  {
   "cell_type": "code",
   "execution_count": null,
   "metadata": {},
   "outputs": [],
   "source": [
    "tests[test-1][bearing -1][1].isna().sum().sum()"
   ]
  },
  {
   "cell_type": "code",
   "execution_count": null,
   "metadata": {},
   "outputs": [],
   "source": [
    "tests[test-1][bearing -1][2].isna().sum().sum()"
   ]
  },
  {
   "cell_type": "code",
   "execution_count": null,
   "metadata": {},
   "outputs": [],
   "source": [
    "tests[test-1][bearing -1][2].isna().sum()"
   ]
  },
  {
   "cell_type": "code",
   "execution_count": null,
   "metadata": {},
   "outputs": [],
   "source": [
    "# df[0].loc['2004-02-12 10:32:00':'2004-02-16 03:42:00','fault'] = 'Normal'\n",
    "# df[0].loc['2004-02-16 03:52:00':'2004-02-19 06:02:00','fault'] = 'Outer Race'\n",
    "# df[0].to_csv(f'nasa_bearing_dataset/target_test{test}_bearing_{bearing}_time.csv')"
   ]
  },
  {
   "cell_type": "code",
   "execution_count": null,
   "metadata": {},
   "outputs": [],
   "source": [
    "# df_f[0].loc['2004-02-12 10:32:00':'2004-02-16 03:42:00','fault'] = 'Normal'\n",
    "# df_f[0].loc['2004-02-16 03:52:00':'2004-02-19 06:02:00','fault'] = 'Outer Race'\n",
    "# df_f[0].to_csv(f'nasa_bearing_dataset/target_test{test}_bearing_{bearing}_feature.csv')"
   ]
  },
  {
   "cell_type": "code",
   "execution_count": null,
   "metadata": {},
   "outputs": [],
   "source": [
    "# df_freq[0].loc['2004-02-12 10:32:00':'2004-02-16 03:42:00','fault'] = 'Normal'\n",
    "# df_freq[0].loc['2004-02-16 03:52:00':'2004-02-19 06:02:00','fault'] = 'Outer Race'\n",
    "# df_freq[0].to_csv(f'nasa_bearing_dataset/target_test{test}_bearing_{bearing}_freq.csv')"
   ]
  },
  {
   "cell_type": "code",
   "execution_count": null,
   "metadata": {},
   "outputs": [],
   "source": []
  }
 ],
 "metadata": {
  "kernelspec": {
   "display_name": "Python 3",
   "language": "python",
   "name": "python3"
  },
  "language_info": {
   "codemirror_mode": {
    "name": "ipython",
    "version": 3
   },
   "file_extension": ".py",
   "mimetype": "text/x-python",
   "name": "python",
   "nbconvert_exporter": "python",
   "pygments_lexer": "ipython3",
   "version": "3.10.11"
  }
 },
 "nbformat": 4,
 "nbformat_minor": 2
}
