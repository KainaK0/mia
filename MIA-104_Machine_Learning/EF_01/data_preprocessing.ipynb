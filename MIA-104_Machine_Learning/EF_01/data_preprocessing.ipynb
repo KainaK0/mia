{
 "cells": [
  {
   "cell_type": "code",
   "execution_count": 1,
   "metadata": {},
   "outputs": [],
   "source": [
    "import pandas as pd\n",
    "import numpy as np\n",
    "import os\n",
    "import matplotlib\n",
    "matplotlib.use('Agg')\n",
    "import matplotlib.pyplot as plt\n",
    "import glob\n",
    "from scipy.signal import detrend, get_window"
   ]
  },
  {
   "cell_type": "code",
   "execution_count": 2,
   "metadata": {},
   "outputs": [],
   "source": [
    "def compute_skewness(x):\n",
    "    \n",
    "    n = len(x)\n",
    "    third_moment = np.sum((x - np.mean(x))**3) / n\n",
    "    s_3 = np.std(x, ddof = 1) ** 3\n",
    "    return third_moment/s_3"
   ]
  },
  {
   "cell_type": "code",
   "execution_count": 3,
   "metadata": {},
   "outputs": [],
   "source": [
    "def compute_kurtosis(x):\n",
    "    \n",
    "    n = len(x)\n",
    "    fourth_moment = np.sum((x - np.mean(x))**4) / n\n",
    "    s_4 = np.std(x, ddof = 1) ** 4\n",
    "    return fourth_moment / s_4 - 3"
   ]
  },
  {
   "cell_type": "code",
   "execution_count": 4,
   "metadata": {},
   "outputs": [],
   "source": [
    "def to_feature(df):\n",
    "    data = pd.DataFrame()\n",
    "    data['max'] = df[df.columns[:]].max(axis = 1)\n",
    "    data['min'] = df[df.columns[:]].min(axis = 1)\n",
    "    data['mean'] = df[df.columns[:]].mean(axis = 1)\n",
    "    data['std'] = df[df.columns[:]].std(ddof=1,axis = 1)\n",
    "    data['rms'] = df[df.columns[:]].apply(lambda x: np.sqrt(np.mean(x**2)), axis=1)\n",
    "    data['skewness'] = df[df.columns[:]].apply(lambda x: compute_skewness(x), axis=1)\n",
    "    data['kurtosis'] = df[df.columns[:]].apply(lambda x: compute_kurtosis(x), axis=1)\n",
    "    data['crest_factor'] = data['max'] / data['rms']\n",
    "    data['form_factor'] = data['rms'] / data['mean']\n",
    "    return data"
   ]
  },
  {
   "cell_type": "code",
   "execution_count": 5,
   "metadata": {},
   "outputs": [],
   "source": [
    "def to_freq(df_time:pd.DataFrame):\n",
    "    df_freq = df_time.copy()\n",
    "    filter_vibr = pd.RangeIndex(start=0, stop=len(df_freq.columns), step=1)\n",
    "    df_freq = df_freq.drop(columns=filter_vibr, axis = 1)\n",
    "    \n",
    "    freq_data = []\n",
    "    for i,row in df_time.iterrows():\n",
    "        y = np.array(df_time.loc[i,:])\n",
    "        # vibration_data = data['Vibration'].values\n",
    "        vibration_data = y\n",
    "        # Time parameters\n",
    "        sampling_rate =  len(vibration_data) # Hz, example sampling rate\n",
    "        n = len(vibration_data)\n",
    "        time = np.arange(n) / sampling_rate\n",
    "\n",
    "        # Perform FFT\n",
    "        freq_domain = np.fft.fft(vibration_data)\n",
    "        freq = np.fft.fftfreq(n, d=1/sampling_rate)\n",
    "\n",
    "        x_freq = freq[:n//2]\n",
    "        y_freq = np.abs(freq_domain)[:n//2] * 1/n\n",
    "\n",
    "        freq_data.append(y_freq)\n",
    "\n",
    "    df_freq = pd.DataFrame(data = freq_data)\n",
    "    # df_freq = pd.concat([df_freq,pd.DataFrame(freq_data)],axis=0)\n",
    "    # columns = [str(x) for x in df_freq.columns]\n",
    "    # df_freq.columns = columns\n",
    "    df_freq.index = df_time.index\n",
    "    return df_freq\n"
   ]
  },
  {
   "cell_type": "code",
   "execution_count": 6,
   "metadata": {},
   "outputs": [],
   "source": [
    "# Load your vibration data from a CSV file\n",
    "# Assume the CSV file has a single column of vibration data with a header\n",
    "# data = pd.read_csv('vibration_data.csv')\n",
    "def to_fft(y, sample_rate):\n",
    "    # vibration_data = data['Vibration'].values\n",
    "    vibration_data = y\n",
    "    # Time parameters\n",
    "    sampling_rate = sample_rate  # Hz, example sampling rate\n",
    "    n = len(vibration_data)\n",
    "    time = np.arange(n) / sampling_rate\n",
    "\n",
    "    # Perform FFT\n",
    "    freq_domain = np.fft.fft(vibration_data)\n",
    "    freq = np.fft.fftfreq(n, d=1/sampling_rate)\n",
    "\n",
    "    x_freq = freq[:n//2]\n",
    "    y_freq = np.abs(freq_domain)[:n//2] * 1/n\n",
    "\n",
    "\n",
    "    # Plot the results\n",
    "    plt.figure(figsize=(20,6))\n",
    "\n",
    "    # Time domain plot\n",
    "    plt.subplot(2, 1, 1)\n",
    "    plt.plot(time, vibration_data)\n",
    "    plt.title('Time Domain')\n",
    "    plt.xlabel('Time (s)')\n",
    "    plt.ylabel('Vibration Amplitude')\n",
    "\n",
    "    # Frequency domain plot\n",
    "    plt.subplot(2, 1, 2)\n",
    "    plt.plot(x_freq, y_freq)\n",
    "    plt.title('Frequency Domain')\n",
    "    plt.xlabel('Frequency (Hz)')\n",
    "    plt.ylabel('Magnitude')\n",
    "\n",
    "    # plt.tight_layout()\n",
    "    # plt.show()\n",
    "\n",
    "    return plt\n"
   ]
  },
  {
   "cell_type": "code",
   "execution_count": 7,
   "metadata": {},
   "outputs": [],
   "source": [
    "def to_fft2(y,sample_rate):\n",
    "    # Remove DC component\n",
    "    signal = detrend(y)\n",
    "\n",
    "    # Apply a window function (e.g., Hamming window)\n",
    "    # window = get_window('hamming', len(signal))\n",
    "    windowed_signal = signal # * window\n",
    "    # Apply FFT\n",
    "    fft_result = np.fft.fft(windowed_signal)\n",
    "    fs = sample_rate\n",
    "    t = np.arange(0, 1, 1/fs)\n",
    "    # Frequency bins\n",
    "    N = len(windowed_signal)\n",
    "    freqs = np.fft.fftfreq(N, 1/fs)\n",
    "    # Compute the magnitude of the FFT\n",
    "    magnitude = np.abs(fft_result) / N\n",
    "\n",
    "    # Single-sided spectrum (only positive frequencies)\n",
    "    half_N = N // 2\n",
    "    freqs = freqs[:half_N]\n",
    "    magnitude = magnitude[:half_N] * 2  # Multiply by 2 (except for DC and Nyquist component)\n",
    "\n",
    "    # Correct the magnitude for windowing effect\n",
    "    # magnitude /= np.sum(window) / len(window)\n",
    "\n",
    "    plt.figure(figsize=(20, 6))\n",
    "\n",
    "    # Plot time-domain signal\n",
    "    plt.subplot(2, 1, 1)\n",
    "    plt.plot(t, signal)\n",
    "    plt.title('Time Domain Signal')\n",
    "    plt.xlabel('Time [s]')\n",
    "    plt.ylabel('Amplitude')\n",
    "\n",
    "    # Plot frequency-domain signal\n",
    "    plt.subplot(2, 1, 2)\n",
    "    plt.plot(freqs, magnitude)\n",
    "    plt.title('Frequency Domain Signal')\n",
    "    plt.xlabel('Frequency [Hz]')\n",
    "    plt.ylabel('Magnitude')\n",
    "    # Set custom x-ticks to show more frequency markers\n",
    "    # max_freq = fs / 2\n",
    "    # step = 500  # Adjust this value to show more or fewer frequency markers\n",
    "    # plt.xticks(np.arange(0, max_freq, step))\n",
    "\n",
    "    # plt.tight_layout()\n",
    "    # plt.show()\n",
    "    return plt"
   ]
  },
  {
   "cell_type": "code",
   "execution_count": 8,
   "metadata": {},
   "outputs": [
    {
     "data": {
      "text/plain": [
       "['nasa_bearing_dataset\\\\bearing_1st_test\\\\1st_test',\n",
       " 'nasa_bearing_dataset\\\\bearing_2nd_test\\\\2nd_test',\n",
       " 'nasa_bearing_dataset\\\\bearing_3rd_test\\\\4th_test']"
      ]
     },
     "execution_count": 8,
     "metadata": {},
     "output_type": "execute_result"
    }
   ],
   "source": [
    "test_rutes = glob.glob(f\"nasa_bearing_dataset/bear*/*\",recursive=False)\n",
    "test_rutes\n"
   ]
  },
  {
   "cell_type": "code",
   "execution_count": 9,
   "metadata": {},
   "outputs": [
    {
     "data": {
      "text/plain": [
       "'1st_test'"
      ]
     },
     "execution_count": 9,
     "metadata": {},
     "output_type": "execute_result"
    }
   ],
   "source": [
    "os.path.basename(test_rutes[0])"
   ]
  },
  {
   "cell_type": "code",
   "execution_count": 10,
   "metadata": {},
   "outputs": [
    {
     "data": {
      "text/plain": [
       "3"
      ]
     },
     "execution_count": 10,
     "metadata": {},
     "output_type": "execute_result"
    }
   ],
   "source": [
    "number_test = len(test_rutes)\n",
    "number_test"
   ]
  },
  {
   "cell_type": "code",
   "execution_count": 11,
   "metadata": {},
   "outputs": [
    {
     "data": {
      "text/plain": [
       "'nasa_bearing_dataset\\\\bearing_1st_test\\\\1st_test\\\\2003.10.22.12.06.24'"
      ]
     },
     "execution_count": 11,
     "metadata": {},
     "output_type": "execute_result"
    }
   ],
   "source": [
    "# dict_test_rotes = {os.path.basename(key): None for key in test_rutes}\n",
    "dict_test_rotes = {}\n",
    "for file_folder in test_rutes:\n",
    "    dict_test_rotes[os.path.basename(file_folder)] = glob.glob(os.path.join(file_folder,f'*'),recursive=True)\n",
    "\n",
    "list(dict_test_rotes)[0]\n",
    "next(iter(dict_test_rotes.values()))[0]\n"
   ]
  },
  {
   "cell_type": "code",
   "execution_count": 12,
   "metadata": {},
   "outputs": [
    {
     "data": {
      "text/plain": [
       "'nasa_bearing_dataset\\\\bearing_1st_test\\\\1st_test\\\\2003.10.22.12.06.24'"
      ]
     },
     "execution_count": 12,
     "metadata": {},
     "output_type": "execute_result"
    }
   ],
   "source": [
    "dict_test_rotes[list(dict_test_rotes)[0]][0]"
   ]
  },
  {
   "cell_type": "code",
   "execution_count": 13,
   "metadata": {},
   "outputs": [
    {
     "data": {
      "text/plain": [
       "dict_keys(['1st_test', '2nd_test', '4th_test'])"
      ]
     },
     "execution_count": 13,
     "metadata": {},
     "output_type": "execute_result"
    }
   ],
   "source": [
    "dict_test_rotes.keys()"
   ]
  },
  {
   "cell_type": "code",
   "execution_count": 14,
   "metadata": {},
   "outputs": [],
   "source": [
    "tests = {key:None for key in range(len(dict_test_rotes))}"
   ]
  },
  {
   "cell_type": "code",
   "execution_count": 15,
   "metadata": {},
   "outputs": [],
   "source": [
    "for index, (key,value) in enumerate(dict_test_rotes.items()):\n",
    "    bearings_num = len(pd.read_csv(value[0], sep='\\t',header=None).columns)\n",
    "    bearings = {item:[] for item in range(bearings_num)}\n",
    "    tests[index] = bearings\n",
    "\n",
    "    for vibr in value:\n",
    "        vibr_df = pd.read_csv(vibr, sep='\\t',header=None)\n",
    "        for column in vibr_df.columns:\n",
    "            vibr_df[column].name = os.path.basename(vibr)[:-3]\n",
    "            tests[index][column].append(vibr_df[column])"
   ]
  },
  {
   "cell_type": "code",
   "execution_count": null,
   "metadata": {},
   "outputs": [],
   "source": [
    "format_str = '%Y.%m.%d.%H.%M'\n",
    "for key,value in tests.items():\n",
    "    for bearing in value:\n",
    "        tests[key][bearing] = {0:pd.DataFrame(tests[key][bearing])}\n",
    "        tests[key][bearing][0].index = pd.to_datetime(tests[key][bearing][0].index, format= format_str)"
   ]
  },
  {
   "cell_type": "code",
   "execution_count": null,
   "metadata": {},
   "outputs": [],
   "source": [
    "# for index, (key,value) in enumerate(dict_test_rotes.items()):\n",
    "#     bearings_num = len(pd.read_csv(value[0], sep='\\t',header=None).columns)\n",
    "#     bearings = {item:{0:pd.DataFrame()} for item in range(bearings_num)}\n",
    "#     test[index] = bearings\n",
    "\n",
    "\n",
    "#     for vibr in value:\n",
    "#         vibr_df = pd.read_csv(vibr, sep='\\t',header=None)\n",
    "#         moment:list[pd.DataFrame()] = [pd.DataFrame()]*bearings_num\n",
    "#         for column in vibr_df.columns:\n",
    "#             vibr_df[column].name = os.path.basename(vibr)[:-3] # dataserie\n",
    "#             moment[column] = vibr_df[column].to_frame().T\n",
    "#             test[index][column][0] = pd.concat([test[index][column][0],moment[column]], axis=0)\n",
    "            "
   ]
  },
  {
   "cell_type": "code",
   "execution_count": null,
   "metadata": {},
   "outputs": [],
   "source": [
    "# bearings = {}\n",
    "\n",
    "# bearings[0] = []\n",
    "# bearings[1] = []\n",
    "# bearings[2] = []\n",
    "# bearings[3] = []\n",
    "# # bearings[4] = []\n",
    "# # bearings[5] = []\n",
    "# # bearings[6] = []\n",
    "# # bearings[7] = []\n",
    "\n",
    "\n",
    "# for root, dirs, files in os.walk(\"nasa_bearing_dataset/bearing_2nd_test/2nd_test/\", topdown=False):\n",
    "    \n",
    "#     for file_name in files:\n",
    "#         path = os.path.join(root, file_name)\n",
    "#         # print(file_name[:-3])\n",
    "#         dataset=pd.read_csv(path, sep='\\t',header=None)\n",
    "\n",
    "#         for column in dataset.columns:\n",
    "#             dataset[column].name = file_name[:-3]\n",
    "#             bearings[column].append(dataset[column])"
   ]
  },
  {
   "cell_type": "code",
   "execution_count": null,
   "metadata": {},
   "outputs": [],
   "source": [
    "tests[2][0][0].columns"
   ]
  },
  {
   "cell_type": "code",
   "execution_count": null,
   "metadata": {},
   "outputs": [],
   "source": [
    "np.array(tests[2][0][0])[0]"
   ]
  },
  {
   "cell_type": "code",
   "execution_count": null,
   "metadata": {},
   "outputs": [],
   "source": [
    "pd.RangeIndex(start=0, stop=20480, step=1)"
   ]
  },
  {
   "cell_type": "code",
   "execution_count": null,
   "metadata": {},
   "outputs": [],
   "source": [
    "tests[2][0][0].head()"
   ]
  },
  {
   "cell_type": "code",
   "execution_count": null,
   "metadata": {},
   "outputs": [],
   "source": [
    "for key_test,bearings in tests.items():\n",
    "    for key_bearing,bearing in bearings.items():\n",
    "        tests[key_test][key_bearing][1] = to_feature(tests[key_test][key_bearing][0])"
   ]
  },
  {
   "cell_type": "code",
   "execution_count": null,
   "metadata": {},
   "outputs": [],
   "source": [
    "for key_test,bearings in tests.items():\n",
    "    for key_bearing,bearing in bearings.items():\n",
    "        tests[key_test][key_bearing][2] = to_freq(tests[key_test][key_bearing][0])"
   ]
  },
  {
   "cell_type": "code",
   "execution_count": null,
   "metadata": {},
   "outputs": [],
   "source": [
    "tests[0][1][2].isna().sum().sum()"
   ]
  },
  {
   "cell_type": "code",
   "execution_count": null,
   "metadata": {},
   "outputs": [],
   "source": [
    "tests[0][1][2].isna()[1]"
   ]
  },
  {
   "cell_type": "code",
   "execution_count": null,
   "metadata": {},
   "outputs": [],
   "source": []
  },
  {
   "cell_type": "code",
   "execution_count": null,
   "metadata": {},
   "outputs": [],
   "source": [
    "tests[0][0][2].loc[tests[0][1][2].isna()[1],:][0].index"
   ]
  },
  {
   "cell_type": "code",
   "execution_count": null,
   "metadata": {},
   "outputs": [],
   "source": [
    "non_value = tests[0][0][2].loc[tests[0][1][2].isna()[1],:][0].index"
   ]
  },
  {
   "cell_type": "code",
   "execution_count": null,
   "metadata": {},
   "outputs": [],
   "source": [
    "tests[0][0][0].loc[tests[0][0][2].loc[tests[0][1][2].isna()[1],:][0].index,:]"
   ]
  },
  {
   "cell_type": "code",
   "execution_count": null,
   "metadata": {},
   "outputs": [],
   "source": []
  },
  {
   "cell_type": "code",
   "execution_count": null,
   "metadata": {},
   "outputs": [],
   "source": [
    "tests[0][0][2].loc[tests[0][0][2].loc[tests[0][1][2].isna()[1],:][0].index,:]"
   ]
  },
  {
   "cell_type": "code",
   "execution_count": null,
   "metadata": {},
   "outputs": [],
   "source": [
    "# test = 2\n",
    "# for bearing in bearings:\n",
    "#     pd.DataFrame(bearings[bearing]).to_csv(f'nasa_bearing_dataset/test{test}_bearing_{bearing}_time.csv')\n",
    "#     to_feature(pd.DataFrame(bearings[bearing])).to_csv(f'nasa_bearing_dataset/test{test}_bearing_{bearing}_feature.csv')"
   ]
  },
  {
   "cell_type": "code",
   "execution_count": null,
   "metadata": {},
   "outputs": [],
   "source": [
    "# df = []\n",
    "# format_str = '%Y.%m.%d.%H.%M'\n",
    "# for i in range(8):\n",
    "#     df.append(pd.read_csv(f'nasa_bearing_dataset/test{test}_bearing_{i}_time.csv', index_col= 'Unnamed: 0'))\n",
    "#     df[i].index = pd.to_datetime(df[i].index, format= format_str)"
   ]
  },
  {
   "cell_type": "code",
   "execution_count": null,
   "metadata": {},
   "outputs": [],
   "source": [
    "# df_f = []\n",
    "# format_str = '%Y.%m.%d.%H.%M'\n",
    "# for i in range(8):\n",
    "#     df_f.append(pd.read_csv(f'nasa_bearing_dataset/test{test}_bearing_{i}_feature.csv', index_col= 'Unnamed: 0'))\n",
    "#     df_f[i].index = pd.to_datetime(df_f[i].index, format= format_str)"
   ]
  },
  {
   "cell_type": "code",
   "execution_count": null,
   "metadata": {},
   "outputs": [],
   "source": [
    "test = 2\n",
    "# bearing = 1\n",
    "\n",
    "for column in tests[test-1][0][1].columns:\n",
    "    plt.figure(figsize=(20, 5))\n",
    "    for key_bearing,bearing in tests[test-1].items():\n",
    "        plt.plot(bearing[1].index,bearing[1][column])\n",
    "\n",
    "    plt.legend([f'Bearing - {item}' for item in range(len(tests[test-1]))])\n",
    "    plt.xlabel(\"Date-Time\")\n",
    "    plt.ylabel(column)\n",
    "    plt.title(column)\n",
    "    plt.show()\n"
   ]
  },
  {
   "cell_type": "code",
   "execution_count": null,
   "metadata": {},
   "outputs": [],
   "source": [
    "len(tests[0])"
   ]
  },
  {
   "cell_type": "code",
   "execution_count": null,
   "metadata": {},
   "outputs": [],
   "source": [
    "tests[test-1].keys()"
   ]
  },
  {
   "cell_type": "code",
   "execution_count": null,
   "metadata": {},
   "outputs": [],
   "source": [
    "tests[test-1][0][1]['max']"
   ]
  },
  {
   "cell_type": "code",
   "execution_count": null,
   "metadata": {},
   "outputs": [],
   "source": [
    "test = 1\n",
    "bearing = 1"
   ]
  },
  {
   "cell_type": "code",
   "execution_count": null,
   "metadata": {},
   "outputs": [],
   "source": [
    "num = 0"
   ]
  },
  {
   "cell_type": "code",
   "execution_count": null,
   "metadata": {},
   "outputs": [],
   "source": [
    "tests[test-1][bearing -1][0].shape"
   ]
  },
  {
   "cell_type": "code",
   "execution_count": null,
   "metadata": {},
   "outputs": [],
   "source": [
    "min(tests[test-1][bearing -1][0].index)"
   ]
  },
  {
   "cell_type": "code",
   "execution_count": null,
   "metadata": {},
   "outputs": [],
   "source": [
    "max(tests[test-1][bearing -1][0].index)"
   ]
  },
  {
   "cell_type": "code",
   "execution_count": null,
   "metadata": {},
   "outputs": [],
   "source": [
    "tests[key_test][key_bearing][0].columns"
   ]
  },
  {
   "cell_type": "code",
   "execution_count": null,
   "metadata": {},
   "outputs": [],
   "source": [
    "for key_test,bearings in tests.items():\n",
    "    for key_bearing,bearing in bearings.items():\n",
    "\n",
    "        for num in tests[key_test][key_bearing][0].columns:\n",
    "            # num = 0\n",
    "            image = to_fft2(tests[key_test][key_bearing][0].iloc[num,:], 20480)\n",
    "            image.savefig(f'nasa_bearing_dataset/images/test_{key_test+1}/bearing_{key_bearing+1}/fft_{num:05}.png', pad_inches=0.1)\n",
    "            image.close()\n",
    "            # image.show()\n",
    "\n",
    "        print(f'test {key_test+1}: Bearing {key_bearing+1} done!')\n"
   ]
  },
  {
   "cell_type": "code",
   "execution_count": null,
   "metadata": {},
   "outputs": [],
   "source": [
    "num = 0\n",
    "image = to_fft2(tests[test-1][bearing -1][0].iloc[num,:], 20480)\n",
    "print(tests[test-1][bearing -1][1].iloc[num,:].name)\n",
    "image.savefig('nasa_bearing_dataset/images/prueba02.png')\n",
    "# image.show()\n"
   ]
  },
  {
   "cell_type": "code",
   "execution_count": null,
   "metadata": {},
   "outputs": [],
   "source": [
    "num = 1500\n",
    "to_fft2(tests[test-1][bearing -1][0].iloc[num,:], 20480)\n",
    "tests[test-1][bearing -1][1].iloc[num,:].name"
   ]
  },
  {
   "cell_type": "code",
   "execution_count": null,
   "metadata": {},
   "outputs": [],
   "source": [
    "num = 2100\n",
    "to_fft2(tests[test-1][bearing -1][0].iloc[num,:], 20480)\n",
    "tests[test-1][bearing -1][1].iloc[num,:].name"
   ]
  },
  {
   "cell_type": "code",
   "execution_count": null,
   "metadata": {},
   "outputs": [],
   "source": [
    "num = 2155\n",
    "to_fft2(tests[test-1][bearing -1][0].iloc[num,:], 20480)\n",
    "tests[test-1][bearing -1][1].iloc[num,:].name"
   ]
  },
  {
   "cell_type": "code",
   "execution_count": null,
   "metadata": {},
   "outputs": [],
   "source": [
    "tests[test-1][bearing -1][0].isna().sum().sum()"
   ]
  },
  {
   "cell_type": "code",
   "execution_count": null,
   "metadata": {},
   "outputs": [],
   "source": [
    "tests[test-1][bearing -1][1].isna().sum().sum()"
   ]
  },
  {
   "cell_type": "code",
   "execution_count": null,
   "metadata": {},
   "outputs": [],
   "source": [
    "tests[test-1][bearing -1][2].isna().sum().sum()"
   ]
  },
  {
   "cell_type": "code",
   "execution_count": null,
   "metadata": {},
   "outputs": [],
   "source": [
    "tests[test-1][bearing -1][2].isna().sum()"
   ]
  },
  {
   "cell_type": "code",
   "execution_count": null,
   "metadata": {},
   "outputs": [],
   "source": [
    "# df[0].loc['2004-02-12 10:32:00':'2004-02-16 03:42:00','fault'] = 'Normal'\n",
    "# df[0].loc['2004-02-16 03:52:00':'2004-02-19 06:02:00','fault'] = 'Outer Race'\n",
    "# df[0].to_csv(f'nasa_bearing_dataset/target_test{test}_bearing_{bearing}_time.csv')"
   ]
  },
  {
   "cell_type": "code",
   "execution_count": null,
   "metadata": {},
   "outputs": [],
   "source": [
    "# df_f[0].loc['2004-02-12 10:32:00':'2004-02-16 03:42:00','fault'] = 'Normal'\n",
    "# df_f[0].loc['2004-02-16 03:52:00':'2004-02-19 06:02:00','fault'] = 'Outer Race'\n",
    "# df_f[0].to_csv(f'nasa_bearing_dataset/target_test{test}_bearing_{bearing}_feature.csv')"
   ]
  },
  {
   "cell_type": "code",
   "execution_count": null,
   "metadata": {},
   "outputs": [],
   "source": [
    "# df_freq[0].loc['2004-02-12 10:32:00':'2004-02-16 03:42:00','fault'] = 'Normal'\n",
    "# df_freq[0].loc['2004-02-16 03:52:00':'2004-02-19 06:02:00','fault'] = 'Outer Race'\n",
    "# df_freq[0].to_csv(f'nasa_bearing_dataset/target_test{test}_bearing_{bearing}_freq.csv')"
   ]
  },
  {
   "cell_type": "code",
   "execution_count": null,
   "metadata": {},
   "outputs": [],
   "source": []
  }
 ],
 "metadata": {
  "kernelspec": {
   "display_name": "Python 3",
   "language": "python",
   "name": "python3"
  },
  "language_info": {
   "codemirror_mode": {
    "name": "ipython",
    "version": 3
   },
   "file_extension": ".py",
   "mimetype": "text/x-python",
   "name": "python",
   "nbconvert_exporter": "python",
   "pygments_lexer": "ipython3",
   "version": "3.10.11"
  }
 },
 "nbformat": 4,
 "nbformat_minor": 2
}
