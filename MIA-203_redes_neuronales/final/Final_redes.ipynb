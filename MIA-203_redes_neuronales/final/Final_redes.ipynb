{
 "cells": [
  {
   "cell_type": "code",
   "execution_count": 148,
   "metadata": {
    "colab": {
     "base_uri": "https://localhost:8080/"
    },
    "id": "rZrYN-SDKAxS",
    "outputId": "58246d94-2d59-4f0b-be90-d10e1ce8b122"
   },
   "outputs": [
    {
     "name": "stdout",
     "output_type": "stream",
     "text": [
      "Requirement already satisfied: datasets in c:\\users\\kainak0\\documents\\gitprojects\\mia\\mia-203_redes_neuronales\\final\\translatepy\\lib\\site-packages (3.1.0)\n",
      "Requirement already satisfied: filelock in c:\\users\\kainak0\\documents\\gitprojects\\mia\\mia-203_redes_neuronales\\final\\translatepy\\lib\\site-packages (from datasets) (3.13.1)\n",
      "Requirement already satisfied: numpy>=1.17 in c:\\users\\kainak0\\documents\\gitprojects\\mia\\mia-203_redes_neuronales\\final\\translatepy\\lib\\site-packages (from datasets) (1.26.3)\n",
      "Requirement already satisfied: pyarrow>=15.0.0 in c:\\users\\kainak0\\documents\\gitprojects\\mia\\mia-203_redes_neuronales\\final\\translatepy\\lib\\site-packages (from datasets) (18.0.0)\n",
      "Requirement already satisfied: dill<0.3.9,>=0.3.0 in c:\\users\\kainak0\\documents\\gitprojects\\mia\\mia-203_redes_neuronales\\final\\translatepy\\lib\\site-packages (from datasets) (0.3.8)\n",
      "Requirement already satisfied: pandas in c:\\users\\kainak0\\documents\\gitprojects\\mia\\mia-203_redes_neuronales\\final\\translatepy\\lib\\site-packages (from datasets) (2.2.3)\n",
      "Requirement already satisfied: requests>=2.32.2 in c:\\users\\kainak0\\documents\\gitprojects\\mia\\mia-203_redes_neuronales\\final\\translatepy\\lib\\site-packages (from datasets) (2.32.3)\n",
      "Requirement already satisfied: tqdm>=4.66.3 in c:\\users\\kainak0\\documents\\gitprojects\\mia\\mia-203_redes_neuronales\\final\\translatepy\\lib\\site-packages (from datasets) (4.66.6)\n",
      "Requirement already satisfied: xxhash in c:\\users\\kainak0\\documents\\gitprojects\\mia\\mia-203_redes_neuronales\\final\\translatepy\\lib\\site-packages (from datasets) (3.5.0)\n",
      "Requirement already satisfied: multiprocess<0.70.17 in c:\\users\\kainak0\\documents\\gitprojects\\mia\\mia-203_redes_neuronales\\final\\translatepy\\lib\\site-packages (from datasets) (0.70.16)\n",
      "Requirement already satisfied: fsspec<=2024.9.0,>=2023.1.0 in c:\\users\\kainak0\\documents\\gitprojects\\mia\\mia-203_redes_neuronales\\final\\translatepy\\lib\\site-packages (from fsspec[http]<=2024.9.0,>=2023.1.0->datasets) (2024.2.0)\n",
      "Requirement already satisfied: aiohttp in c:\\users\\kainak0\\documents\\gitprojects\\mia\\mia-203_redes_neuronales\\final\\translatepy\\lib\\site-packages (from datasets) (3.10.10)\n",
      "Requirement already satisfied: huggingface-hub>=0.23.0 in c:\\users\\kainak0\\documents\\gitprojects\\mia\\mia-203_redes_neuronales\\final\\translatepy\\lib\\site-packages (from datasets) (0.26.2)\n",
      "Requirement already satisfied: packaging in c:\\users\\kainak0\\documents\\gitprojects\\mia\\mia-203_redes_neuronales\\final\\translatepy\\lib\\site-packages (from datasets) (24.1)\n",
      "Requirement already satisfied: pyyaml>=5.1 in c:\\users\\kainak0\\documents\\gitprojects\\mia\\mia-203_redes_neuronales\\final\\translatepy\\lib\\site-packages (from datasets) (6.0.2)\n",
      "Requirement already satisfied: aiohappyeyeballs>=2.3.0 in c:\\users\\kainak0\\documents\\gitprojects\\mia\\mia-203_redes_neuronales\\final\\translatepy\\lib\\site-packages (from aiohttp->datasets) (2.4.3)\n",
      "Requirement already satisfied: aiosignal>=1.1.2 in c:\\users\\kainak0\\documents\\gitprojects\\mia\\mia-203_redes_neuronales\\final\\translatepy\\lib\\site-packages (from aiohttp->datasets) (1.3.1)\n",
      "Requirement already satisfied: attrs>=17.3.0 in c:\\users\\kainak0\\documents\\gitprojects\\mia\\mia-203_redes_neuronales\\final\\translatepy\\lib\\site-packages (from aiohttp->datasets) (24.2.0)\n",
      "Requirement already satisfied: frozenlist>=1.1.1 in c:\\users\\kainak0\\documents\\gitprojects\\mia\\mia-203_redes_neuronales\\final\\translatepy\\lib\\site-packages (from aiohttp->datasets) (1.5.0)\n",
      "Requirement already satisfied: multidict<7.0,>=4.5 in c:\\users\\kainak0\\documents\\gitprojects\\mia\\mia-203_redes_neuronales\\final\\translatepy\\lib\\site-packages (from aiohttp->datasets) (6.1.0)\n",
      "Requirement already satisfied: yarl<2.0,>=1.12.0 in c:\\users\\kainak0\\documents\\gitprojects\\mia\\mia-203_redes_neuronales\\final\\translatepy\\lib\\site-packages (from aiohttp->datasets) (1.17.1)\n",
      "Requirement already satisfied: typing-extensions>=3.7.4.3 in c:\\users\\kainak0\\documents\\gitprojects\\mia\\mia-203_redes_neuronales\\final\\translatepy\\lib\\site-packages (from huggingface-hub>=0.23.0->datasets) (4.9.0)\n",
      "Requirement already satisfied: charset-normalizer<4,>=2 in c:\\users\\kainak0\\documents\\gitprojects\\mia\\mia-203_redes_neuronales\\final\\translatepy\\lib\\site-packages (from requests>=2.32.2->datasets) (3.4.0)\n",
      "Requirement already satisfied: idna<4,>=2.5 in c:\\users\\kainak0\\documents\\gitprojects\\mia\\mia-203_redes_neuronales\\final\\translatepy\\lib\\site-packages (from requests>=2.32.2->datasets) (3.10)\n",
      "Requirement already satisfied: urllib3<3,>=1.21.1 in c:\\users\\kainak0\\documents\\gitprojects\\mia\\mia-203_redes_neuronales\\final\\translatepy\\lib\\site-packages (from requests>=2.32.2->datasets) (2.2.3)\n",
      "Requirement already satisfied: certifi>=2017.4.17 in c:\\users\\kainak0\\documents\\gitprojects\\mia\\mia-203_redes_neuronales\\final\\translatepy\\lib\\site-packages (from requests>=2.32.2->datasets) (2024.8.30)\n",
      "Requirement already satisfied: colorama in c:\\users\\kainak0\\documents\\gitprojects\\mia\\mia-203_redes_neuronales\\final\\translatepy\\lib\\site-packages (from tqdm>=4.66.3->datasets) (0.4.6)\n",
      "Requirement already satisfied: python-dateutil>=2.8.2 in c:\\users\\kainak0\\documents\\gitprojects\\mia\\mia-203_redes_neuronales\\final\\translatepy\\lib\\site-packages (from pandas->datasets) (2.9.0.post0)\n",
      "Requirement already satisfied: pytz>=2020.1 in c:\\users\\kainak0\\documents\\gitprojects\\mia\\mia-203_redes_neuronales\\final\\translatepy\\lib\\site-packages (from pandas->datasets) (2024.2)\n",
      "Requirement already satisfied: tzdata>=2022.7 in c:\\users\\kainak0\\documents\\gitprojects\\mia\\mia-203_redes_neuronales\\final\\translatepy\\lib\\site-packages (from pandas->datasets) (2024.2)\n",
      "Requirement already satisfied: six>=1.5 in c:\\users\\kainak0\\documents\\gitprojects\\mia\\mia-203_redes_neuronales\\final\\translatepy\\lib\\site-packages (from python-dateutil>=2.8.2->pandas->datasets) (1.16.0)\n",
      "Requirement already satisfied: propcache>=0.2.0 in c:\\users\\kainak0\\documents\\gitprojects\\mia\\mia-203_redes_neuronales\\final\\translatepy\\lib\\site-packages (from yarl<2.0,>=1.12.0->aiohttp->datasets) (0.2.0)\n"
     ]
    }
   ],
   "source": [
    "!pip install datasets"
   ]
  },
  {
   "cell_type": "code",
   "execution_count": 149,
   "metadata": {
    "id": "ffCCAJowISn3"
   },
   "outputs": [],
   "source": [
    "from datasets import load_dataset\n",
    "import numpy as np"
   ]
  },
  {
   "cell_type": "code",
   "execution_count": 150,
   "metadata": {
    "id": "J064Uh3BJNT0"
   },
   "outputs": [],
   "source": [
    "ds1 = load_dataset(\"somosnlp-hackathon-2022/spanish-to-quechua\")"
   ]
  },
  {
   "cell_type": "code",
   "execution_count": 151,
   "metadata": {
    "colab": {
     "base_uri": "https://localhost:8080/"
    },
    "id": "KuyxluijIW9T",
    "outputId": "45ce93d4-799f-42b6-ee42-32f5b8f153ab"
   },
   "outputs": [
    {
     "data": {
      "text/plain": [
       "DatasetDict({\n",
       "    train: Dataset({\n",
       "        features: ['es', 'qu'],\n",
       "        num_rows: 102747\n",
       "    })\n",
       "    validation: Dataset({\n",
       "        features: ['es', 'qu'],\n",
       "        num_rows: 12844\n",
       "    })\n",
       "    test: Dataset({\n",
       "        features: ['es', 'qu'],\n",
       "        num_rows: 12843\n",
       "    })\n",
       "})"
      ]
     },
     "execution_count": 151,
     "metadata": {},
     "output_type": "execute_result"
    }
   ],
   "source": [
    "ds1"
   ]
  },
  {
   "cell_type": "code",
   "execution_count": 152,
   "metadata": {
    "colab": {
     "base_uri": "https://localhost:8080/"
    },
    "id": "e9dVNPXkFSnc",
    "outputId": "17b98aa3-28b7-4679-f748-2cf43e103f75"
   },
   "outputs": [
    {
     "data": {
      "text/plain": [
       "['Y por último dice que el pueblo de Dios “escapará, todo el que se halle escrito en el libro ”.',\n",
       " 'b) ¿Cómo lograban mantenerse estos siervos de tiempo completo?',\n",
       " 'Cabe señalar que solo la Biblia explica de manera satisfactoria cuál es el origen de los muchos idiomas que conocemos hoy.',\n",
       " 'Pero al mismo tiempo nos advierte que “el amor al dinero es raíz de toda clase de males ”.',\n",
       " 'Hoy, todo el que desea vivir de acuerdo con sus mandamientos considera que conmemorar el aniversario de la muerte de Cristo es de suma importancia.',\n",
       " 'RESPUESTA: El Reino de Dios es un gobierno celestial, y su Rey es Jesús.',\n",
       " '¿CUÁL ES LA SOLUCIÓN?',\n",
       " 'Adán y Eva desobedecieron a Dios, de modo que fueron expulsados del Edén.',\n",
       " 'Sin embargo, poco después de escribir esa carta, los de la casa de Cloe le informaron de que en la congregación de Corinto había graves divisiones.',\n",
       " 'Jesús cumplió de forma sorprendente esta profecía durante su ministerio.']"
      ]
     },
     "execution_count": 152,
     "metadata": {},
     "output_type": "execute_result"
    }
   ],
   "source": [
    "ds1['train']['es'][:10]"
   ]
  },
  {
   "cell_type": "code",
   "execution_count": 153,
   "metadata": {
    "colab": {
     "base_uri": "https://localhost:8080/"
    },
    "id": "r8fYnQMsIM19",
    "outputId": "e71e8797-835f-4bf3-d883-29c5cb92de85"
   },
   "outputs": [
    {
     "data": {
      "text/plain": [
       "['Ichaqa chaywanpas chay tiempopim llaqtamasikikuna librasqa kanqaku. Libropi qillqasqa sutiyuqkunam lliw librakunqaku ’, nispa (Dan.',\n",
       " '(2) ¿Imaynatam tukuy tiemponkuwan Diosta serviq punta cristianokunaqa mantienekuqku?',\n",
       " 'Bibliallam allintapuni willawanchik imanasqam runakunaqa kunan tiempopi achka rimayniyoq kasqankuta.',\n",
       " 'Ichaqa nintaqmi: “Qollqella kuyayqa tukuy mana allin ruraykunapa mamanmi ”, nispa.',\n",
       " 'Kay tiempopipas Cristopa kamachisqanman hina kawsaqkunaqa ancha valorniyoqtam qawanku paypa wañukusqan punchaw yuyariytaqa.',\n",
       " 'KUTICHIYNIN: Hanaq pachapi kaq huk gobiernom, kamachiqninñataqmi Jesus.',\n",
       " '¿IMATAM RURACHWAN?',\n",
       " 'Adanwan Evaqa Jehová Diostam mana kasukurqakuchu, hinaspam Edenmanta qarqochikurqaku.',\n",
       " 'Ichaqa chay carta qellqasqan qepamanmi Cloepa familian Pabloman willaykurqaku Corinto congregacionpi llumpay liryanakuy kasqanmanta.',\n",
       " 'Jesusqa Isaiaspa nisqantam kay Pachapi Diospa munayninta ruraspan allinta cumplirqa.']"
      ]
     },
     "execution_count": 153,
     "metadata": {},
     "output_type": "execute_result"
    }
   ],
   "source": [
    "ds1['train']['qu'][:10]"
   ]
  },
  {
   "cell_type": "code",
   "execution_count": 154,
   "metadata": {
    "id": "zzVUm-SIMhE1"
   },
   "outputs": [],
   "source": [
    "# ds_qu_sp = load_dataset(\"pollitoconpapass/cuzco-quechua-translation-spanish\")"
   ]
  },
  {
   "cell_type": "code",
   "execution_count": 155,
   "metadata": {
    "id": "xWEDy7GkXNO9"
   },
   "outputs": [],
   "source": [
    "# ds_qu_sp"
   ]
  },
  {
   "cell_type": "code",
   "execution_count": 156,
   "metadata": {
    "id": "-3ItWYqRqLj4"
   },
   "outputs": [],
   "source": [
    "import unicodedata\n",
    "\n",
    "def remove_accents_preserve_n(text: str) -> str:\n",
    "    \"\"\"\n",
    "    Remove accents while preserving 'ñ' character.\n",
    "\n",
    "    Args:\n",
    "        text (str): Input text\n",
    "    Returns:\n",
    "        str: Text with accents removed but 'ñ' preserved\n",
    "\n",
    "    Examples:\n",
    "        >>> remove_accents_preserve_n(\"áéíóúñÁÉÍÓÚÑ\")\n",
    "        'aeiouñAEIOUN'\n",
    "        >>> remove_accents_preserve_n(\"El niño está en la montaña\")\n",
    "        'El niño esta en la montaña'\n",
    "    \"\"\"\n",
    "    # First, save all 'ñ' and 'Ñ' positions and characters\n",
    "    n_positions = [(i, c) for i, c in enumerate(text) if c in 'ñÑ']\n",
    "\n",
    "    # Decompose unicode characters into their base form and combining characters\n",
    "    normalized = unicodedata.normalize('NFKD', text)\n",
    "\n",
    "    # Remove combining characters (accents) except keep base characters\n",
    "    result = ''.join(c for c in normalized if not unicodedata.combining(c))\n",
    "\n",
    "    # Convert result to list for easier character replacement\n",
    "    result_list = list(result)\n",
    "\n",
    "    # Restore 'ñ' and 'Ñ' in their original positions\n",
    "    for pos, char in n_positions:\n",
    "        result_list[pos] = char\n",
    "\n",
    "    return ''.join(result_list)"
   ]
  },
  {
   "cell_type": "code",
   "execution_count": 157,
   "metadata": {
    "colab": {
     "base_uri": "https://localhost:8080/"
    },
    "id": "nALh-KumXOul",
    "outputId": "8d0a517d-573d-4f73-8147-9a30d229a57c"
   },
   "outputs": [],
   "source": [
    "# ds_qu_sp['train']['spa'][:1]"
   ]
  },
  {
   "cell_type": "code",
   "execution_count": 158,
   "metadata": {
    "colab": {
     "base_uri": "https://localhost:8080/"
    },
    "id": "qQUBr3qzbXdA",
    "outputId": "e05007a6-97c2-4326-dbdb-127de105d45a"
   },
   "outputs": [],
   "source": [
    "# ds_qu_sp['train']['quz'][0:1]"
   ]
  },
  {
   "cell_type": "code",
   "execution_count": 159,
   "metadata": {
    "colab": {
     "base_uri": "https://localhost:8080/"
    },
    "id": "mvadrj4hXYaY",
    "outputId": "f76d3b0f-2c3f-43d0-e009-18b05bd347b0"
   },
   "outputs": [],
   "source": [
    "# ds_qu_sp['train']['quz'][0].lower().find('a')"
   ]
  },
  {
   "cell_type": "code",
   "execution_count": 160,
   "metadata": {
    "colab": {
     "base_uri": "https://localhost:8080/",
     "height": 159
    },
    "id": "X_gYWFxVe2fQ",
    "outputId": "df45c77e-9803-4806-c0ae-bcfaf1fbbdfe"
   },
   "outputs": [],
   "source": [
    "# sentence_spa = [remove_accents_preserve_n(sentence.lower()) for sentence in ds_qu_sp['train']['spa']]\n",
    "# sentence_quz = [remove_accents_preserve_n(sentence.lower()) for sentence in ds_qu_sp['train']['quz']]"
   ]
  },
  {
   "cell_type": "code",
   "execution_count": 161,
   "metadata": {
    "id": "ZIKlaynIfIgn"
   },
   "outputs": [],
   "source": [
    "sentence_spa = [remove_accents_preserve_n(sentence.lower()) for sentence in ds1['train']['es']]\n",
    "sentence_quz = [remove_accents_preserve_n(sentence.lower()) for sentence in ds1['train']['qu']]"
   ]
  },
  {
   "cell_type": "markdown",
   "metadata": {
    "id": "eZCEGk9Lv7dU"
   },
   "source": []
  },
  {
   "cell_type": "code",
   "execution_count": 162,
   "metadata": {
    "colab": {
     "base_uri": "https://localhost:8080/"
    },
    "id": "JXARNRGRfAxB",
    "outputId": "854db606-7acf-406d-c979-43690db16c27"
   },
   "outputs": [
    {
     "data": {
      "text/plain": [
       "102747"
      ]
     },
     "execution_count": 162,
     "metadata": {},
     "output_type": "execute_result"
    }
   ],
   "source": [
    "len(sentence_spa)"
   ]
  },
  {
   "cell_type": "code",
   "execution_count": 163,
   "metadata": {
    "id": "zvHT4Ozljmrr"
   },
   "outputs": [],
   "source": [
    "# START_TOKEN = '<START>'\n",
    "# PADDING_TOKEN = '<PADDING>'\n",
    "# END_TOKEN = '<END>'\n",
    "\n",
    "# quechua_vocabulary = [START_TOKEN, ' ', '!', '\"', '#', '$', '%', '&', \"'\", '(', ')', '*', '+', ',', '-', '.', '/',\n",
    "#                         '0', '1', '2', '3', '4', '5', '6', '7', '8', '9',\n",
    "#                         ':', '<', '=', '>', '?', '@',\n",
    "#                         'A', 'B', 'C', 'CH', 'CHH', 'CH’', 'D', 'E', 'F', 'G', 'H', 'I', 'J', 'K', 'KH', 'L', 'LL',\n",
    "#                         'M', 'N', 'Ñ', 'O', 'P', 'PH', 'P’' 'Q', 'QH', 'Q’', 'R', 'S', 'SH', 'T', 'TH', 'T’', 'U', 'V', 'W', 'X',\n",
    "#                         'Y', 'Z',\n",
    "#                         '[', '\\\\', ']', '^', '_', '`',\n",
    "#                         'a', 'b','c','ch', 'chh', 'CH’', 'd', 'e', 'f', 'g', 'h', 'i', 'j', 'k', 'kh', 'l', 'll',\n",
    "#                         'm', 'n', 'ñ', 'o', 'p', 'ph', 'p’', 'q', 'qh', 'q’', 'r', 's', 'sh', 't', 'th', 't’', 'u', 'v', 'w', 'x',\n",
    "#                         'y', 'z',\n",
    "#                         '{', '|', '}', '~', PADDING_TOKEN, END_TOKEN]\n",
    "\n",
    "# spanish_vocabulary = [START_TOKEN, ' ', '!', '\"', '#', '$', '%', '&', \"'\", '(', ')', '*', '+', ',', '-', '.', '/',\n",
    "#                         '0', '1', '2', '3', '4', '5', '6', '7', '8', '9',\n",
    "#                         ':', '<', '=', '>', '?', '@',\n",
    "#                         'A', 'B', 'C', 'D', 'E', 'F', 'G', 'H', 'I', 'J', 'K', 'L',\n",
    "#                         'M', 'N', 'Ñ', 'O', 'P', 'Q', 'R', 'S', 'T', 'U', 'V', 'W', 'X',\n",
    "#                         'Y', 'Z',\n",
    "#                         '[', '\\\\', ']', '^', '_', '`',\n",
    "#                         'a', 'b', 'c', 'd', 'e', 'f', 'g', 'h', 'i', 'j', 'k', 'l',\n",
    "#                         'm', 'n', 'ñ', 'o', 'p', 'q', 'r', 's', 't', 'u', 'v', 'w', 'x',\n",
    "#                         'y', 'z',\n",
    "#                         '{', '|', '}', '~', PADDING_TOKEN, END_TOKEN]"
   ]
  },
  {
   "cell_type": "code",
   "execution_count": 164,
   "metadata": {
    "id": "YNvsnfW2Fnp_"
   },
   "outputs": [],
   "source": [
    "\n",
    "START_TOKEN = '<START>'\n",
    "PADDING_TOKEN = '<PADDING>'\n",
    "END_TOKEN = '<END>'\n",
    "\n",
    "quechua_vocabulary = [START_TOKEN, ' ', '!', '\"', '”','’','“', '#', '$', '%', '&', \"'\",'‘', '(', ')', '*', '+', ',', '-', '.', '/',\n",
    "                        '0', '1', '2', '3', '4', '5', '6', '7', '8', '9',\n",
    "                        ':', '<', '=', '>', '?', '¿', '@',\n",
    "                        'A', 'B', 'C', 'D', 'E', 'F', 'G', 'H', 'I', 'J', 'K', 'L',\n",
    "                        'M', 'N', 'Ñ', 'O', 'P', 'Q', 'R', 'S', 'T', 'U', 'V', 'W', 'X',\n",
    "                        'Y', 'Z',\n",
    "                        '[', '\\\\', ']', '^', '_', '`',\n",
    "                        'a', 'b', 'c', 'd', 'e', 'f', 'g', 'h', 'i', 'j', 'k', 'l',\n",
    "                        'm', 'n', 'ñ', 'o', 'p', 'q', 'r', 's', 't', 'u', 'v', 'w', 'x',\n",
    "                        'y', 'z',\n",
    "                        '{', '|', '}', '~', PADDING_TOKEN, END_TOKEN]\n",
    "\n",
    "spanish_vocabulary = [START_TOKEN, ' ', '!', '\"', '”','’','“', '#', '$', '%', '&', \"'\",'‘', '(', ')', '*', '+', ',', '-', '.', '/',\n",
    "                        '0', '1', '2', '3', '4', '5', '6', '7', '8', '9',\n",
    "                        ':', '<', '=', '>', '?', '¿', '@',\n",
    "                        'A', 'B', 'C', 'D', 'E', 'F', 'G', 'H', 'I', 'J', 'K', 'L',\n",
    "                        'M', 'N', 'Ñ', 'O', 'P', 'Q', 'R', 'S', 'T', 'U', 'V', 'W', 'X',\n",
    "                        'Y', 'Z',\n",
    "                        '[', '\\\\', ']', '^', '_', '`',\n",
    "                        'a', 'b', 'c', 'd', 'e', 'f', 'g', 'h', 'i', 'j', 'k', 'l',\n",
    "                        'm', 'n', 'ñ', 'o', 'p', 'q', 'r', 's', 't', 'u', 'v', 'w', 'x',\n",
    "                        'y', 'z',\n",
    "                        '{', '|', '}', '~', PADDING_TOKEN, END_TOKEN]"
   ]
  },
  {
   "cell_type": "code",
   "execution_count": 165,
   "metadata": {
    "colab": {
     "base_uri": "https://localhost:8080/"
    },
    "id": "ytBdwEC2cw2R",
    "outputId": "266b9110-8eba-4ad3-bcf9-5da1ae6e4692"
   },
   "outputs": [
    {
     "name": "stdout",
     "output_type": "stream",
     "text": [
      "20th percentile length Kannada: 41.0\n",
      "20th percentile length spanish: 39.0\n"
     ]
    }
   ],
   "source": [
    "PERCENTILE = 20\n",
    "print( f\"{PERCENTILE}th percentile length Kannada: {np.percentile([len(x) for x in sentence_quz], PERCENTILE)}\" )\n",
    "print( f\"{PERCENTILE}th percentile length spanish: {np.percentile([len(x) for x in sentence_spa], PERCENTILE)}\" )"
   ]
  },
  {
   "cell_type": "code",
   "execution_count": null,
   "metadata": {},
   "outputs": [],
   "source": [
    "y = [len(x) for x in sentence_spa]"
   ]
  },
  {
   "cell_type": "code",
   "execution_count": null,
   "metadata": {},
   "outputs": [],
   "source": []
  },
  {
   "cell_type": "code",
   "execution_count": 167,
   "metadata": {},
   "outputs": [
    {
     "data": {
      "image/png": "[encoded data removed]",
      "text/plain": [
       "<Figure size 1000x600 with 1 Axes>"
      ]
     },
     "metadata": {},
     "output_type": "display_data"
    }
   ],
   "source": [
    "import matplotlib.pyplot as plt\n",
    "import numpy as np\n",
    "\n",
    "# Generate sample data\n",
    "data = np.array(y)\n",
    "\n",
    "# Create the figure and axis\n",
    "plt.figure(figsize=(10, 6))\n",
    "\n",
    "# Plot histogram\n",
    "plt.hist(data, bins=30, edgecolor='black', alpha=0.7, color='skyblue')\n",
    "\n",
    "# Customize the plot\n",
    "plt.title('Normal Distribution Histogram', fontsize=14)\n",
    "plt.xlabel('Value', fontsize=12)\n",
    "plt.ylabel('Frequency', fontsize=12)\n",
    "plt.grid(True, alpha=0.3)\n",
    "\n",
    "# Add some padding to the layout\n",
    "plt.tight_layout()\n",
    "\n",
    "# Show the plot\n",
    "plt.show()"
   ]
  },
  {
   "cell_type": "code",
   "execution_count": 168,
   "metadata": {
    "colab": {
     "base_uri": "https://localhost:8080/"
    },
    "id": "e1uyA9ODfNGx",
    "outputId": "a7f665b6-7288-4470-c84b-9a020f499809"
   },
   "outputs": [
    {
     "name": "stdout",
     "output_type": "stream",
     "text": [
      "97th percentile length Kannada: 10905\n",
      "97th percentile length spanish: 4826\n"
     ]
    }
   ],
   "source": [
    "PERCENTILE = 97\n",
    "print( f\"{PERCENTILE}th percentile length Kannada: {np.max([len(x) for x in sentence_quz])}\" )\n",
    "print( f\"{PERCENTILE}th percentile length spanish: {np.max([len(x) for x in sentence_spa])}\" )"
   ]
  },
  {
   "cell_type": "code",
   "execution_count": 169,
   "metadata": {
    "colab": {
     "base_uri": "https://localhost:8080/"
    },
    "id": "w99ebYSMfpqL",
    "outputId": "04513432-a662-4712-8941-4b03eea2e208"
   },
   "outputs": [
    {
     "name": "stdout",
     "output_type": "stream",
     "text": [
      "Max length: 10905\n",
      "Index: 94047\n",
      "Word: ¿sapa punchawchu diosta uyarinchik? yaqa llapallanchikmi punchawpi huk kutillatapas espejopi qawakunchik ¿aw? qawakunchikqa imayna allichasqa kasqanchikta yachananchikpaqmi. bibliata leeypas espejopi qawakuymanmi rikchakun. yachachikuyninmi qawachiwanchik cheqaptapuni imayna kasqanchikta. hebreos 4: 12, nisqanman hinaqa runapa “almankamaraqmi hinaspa espiritunkamaraqmi ” yaykun, huk rimaypiqa yanapawanchikmi imayna kasqanchiktapuni yachanapaq. espejo hinam bibliapas qawachiwanchik imakunapi cambianapaq. ichaqa manam imakunapi cambianallanchikmantachu bibliaqa niwanchik, niwanchiktaqmi imayna cambianamantapas. apostol pablom nirqa:“ bibliapi llapallan qellqasqa kaqkunaqa diospa espiritunpa qosqanmi, allinmi yachachiwananchikpaq, faltanchikkuna qawachiwananchikpaq, pantaypi puriptinchikpas allin ñanman kutirichiwananchikpaq hinaspa imaynam allin kawsakuy yachachiwananchikpaq ”, nispa. cuentata qokuptinchikqa bibliaqa yanapawanchikmi imayna kasqanchikpi hinaspa imayna kawsasqanchikpi cambianapaq. imayna allichasqa kasqanchikta espejopi sapa punchaw qawakuspaqa, ¿manachu astawanraq sonqonchik imayna kasqanta qawakunanchik? chaypaqqa sapa punchawmi bibliata leenanchik. yuyarisunchik israel llaqtata pusananpaq josueyta jehova dios ima nisqanta, nirqam: ‘ kay libropi yachachikuykunatam [...] tuta - punchaw yuyaymananki chaynapi kay libropi qellqasqaman hina ruranaykipaq hinaspa kasukunaykipaq. hinaptinqa tukuy rurasqaykipas allinmi kanqa ’, nispa (josuey 1: 8). josueypa rurasqan allinpi tukunanpaqqa sapa punchawmi bibliata leenan karqa. salmos libropa 1 capitulonpas qawachiwanchikmi sapa punchaw biblia leey allin kasqanta. ninmi: “mayna kusisqam mana allin runakunapa consejasqankuna mana chaskiq runaqa. [...] huchasapa runakunapa kawsasqanpi hina mana kawsaq runaqa. [...] burlakuqkunawanpas mana haykapipas hukllawakuq runaqa. tayta diosllapa tukuy ima yachachisqantam kuyakuyllawanña cumplen chayna runaqa. tuta punchawmi chayna sumaq yachachisqanpi yuyaymanaykuspan cumplen chayna runaqa. chayna runaqa yarqapapas patallanpiña sumaqllaña wiñaq sachamanmi rikchakun. chayna runaqa tiempollanpi sumaqllataña ruruykamullachkaq sachamanmi rikchakun. chayna runapa tukuy ima rurallasqanqa alli - allinpunim haykapipas lloqsiykun ”, nispa (salmo 1: 1 - 3). ari, llapallanchikmi munanchik imapas rurasqanchik allinpi tukunantaqa. chaymi achka runakuna sapa punchaw bibliata leenku. huk cristianota imanasqa biblia leesqanmanta tapuptinkum nirqa:“ sapa punchawmi achka kutita diosta mañakuni hinaspa uyariwanantapas munani, ¿chaychu mana ñoqapas payta uyariyman bibliata leespay? allin amistadqa manam rimayllachu riman uyarintaqmi ”, nispa. hinaptinqa, bibliata leeyqa diospa ima niwasqanchikta uyariy hinam. imaynatam chayta atichwan ichapas ñawpaqtaqa kallpanchakurqanki sapa punchaw bibliata leenaykipaq. qallariyninmanta tukuyninkama leeyqa ancha allinmi astawan diosmanta yachanaykipaq. ichaqa achka runakunam llapallanta leenankupaq achka kutipi kallpanchakuspapas mana tukuyta atirqakuchu. ¿qamtapas chayna pasasurqankichu? qatiqninpim iskay yanapakuykuna kachkan qallariyninmanta tukuyninkama bibliata leenapaq. imay horapi leenaykipaq tanteakuy. piensariy imay horapi bibliata leenaykipaq hinaspa chaypaq tiempochakuy. piensaytaq chay horapi mana atikuptin, hina chay punchawllapi huk horapiña leenaykipaqpas. chaynata ruraspaqa sapa punchawmi bibliata leenki. hinaspapas ñawpa tiempopi berea llaqtapi runakunatam qatipakunki, “paykunam gustollawanña diospa palabranta uyarispanku sapa punchaw bibliata estudiarqaku: ‘ ¿cheqapchu kay runakunapa willawasqanchik? ’ nispanku ”. maykama leenaykipaq tanteakuy. sichu watapi enteron bibliata leeyta munaspaykiqa, sapa punchawmi kimsa otaq pichqa capitulota leenayki. qatiqnin paginakunapi yanapakuykunam yanapasunki imayna ruranaykipaq. ¿kallpanchakuwaqchu kay yanapakuyman hina leenaykipaq? puntataqa“ fecha ” niqpa urachanpi churay haykapi chay capitulokunata leenaykipaq. leeruspaykiñataq marcata churaykuy. chaynatam yachanki maykama leesqaykita. ichaqa amaya contentakuychu huk kutillapi tukuyninkama biblia leesqaykiwanqa. sapa kuti, kaqmanta leenaykipaqqa hina kay yanapakuyllatam servichikuwaq, ichapas mayqan pintasqa kaqmanta qallarispa. allillamanta leeyta munaspaykiqa, huk punchawpi leenapaq kaqtam rakiruwaq iskay otaq kimsa punchawpaq. hayka kutitapas bibliataqa leechwanmi, chaywanpas hinallam tarisunchik mana tarisqanchik yachachikuykunata. ¿imanasqa? kunan tiempopi runakunapa rurasqan cambiasqanwan imapas rurasqanchikkuna cambiasqanrayku. hinaptinqa kallpanchakuya espejopi qawakuchkawaqpas hina sapa punchaw bibliata leenaykipaq. chaynatam sapa punchaw uyarinki jehova diospa imam niy munasusqaykita (salmo 16: 8). [15 - 18 kaq paginakunapi recuadrokuna] (imayna kasqanmanta yachanapaq qaway kay qellqata) 1 bibliata leenapaq programa imaynata leenapaq: rakisqa capitulokunata haykapi leenaykipaq qellqay. leeruspaykiñataq marcata churaykuy. leewaqmi librokunapa rikurisqanman hina otaq pintasqa kasqanman hinapas. akllasqa capitulokunata sapa punchaw leespaykiqa, huk watallapim biblia leeytaqa tukurunki. ◆ israelitakuna jehova dioswan imayna kasqanmanta yachanaykipaq, leey pukawan marcasqa capitulokunata. ● cristianokuna imayna yapakusqanmanta yachanaykipaq, leey azulwan marcasqa capitulokunata. 2 moisespa qellqasqankuna fecha capitulokuna □ ✔ / genesis 1 - 3 □ / 4 - 7 □ / 8 - 11 □ / ◆ 12 - 15 □ / ◆ 16 - 18 □ / ◆ 19 - 22 □ / ◆ 23, 24 □ / ◆ 25 - 27 □ / ◆ 28 - 30 □ / ◆ 31, 32 □ / ◆ 33, 34 □ / ◆ 35 - 37 □ / ◆ 38 - 40 □ / ◆ 41, 42 □ / ◆ 43 - 45 □ / ◆ 46 - 48 □ / ◆ 49, 50 □ / exodo ◆ 1 - 4 □ / ◆ 5 - 7 □ / ◆ 8 - 10 □ / ◆ 11 - 13 □ / ◆ 14, 15 □ / ◆ 16 - 18 □ / ◆ 19 - 21 □ / 22 - 25 □ / 26 - 28 □ / 29, 30 □ / ◆ 31 - 33 □ / ◆ 34, 35 □ / 36 - 38 □ / 39, 40 □ / levitico 1 - 4 □ / 5 - 7 □ / 8 - 10 □ / 11 - 13 □ / 14, 15 □ / 16 - 18 □ / 19 - 21 □ / 22, 23 □ / 24, 25 □ / 26, 27 □ / numeros 1 - 3 □ / 4 - 6 □ / 7 - 9 □ / ◆ 10 - 12 □ / ◆ 13 - 15 □ / ◆ 16 - 18 □ / ◆ 19 - 21 □ / ◆ 22 - 24 □ / ◆ 25 - 27 □ / 28 - 30 □ / ◆ 31, 32 □ / ◆ 33 - 36 □ / deuteronomio 1, 2 □ / ◆ 3, 4 □ / 5 - 7 □ / 8 - 10 □ / 11 - 13 □ 3 / 14 - 16 □ / ◆ 17 - 19 □ / 20 - 22 □ / 23 - 26 □ / 27, 28 □ / ◆ 29 - 31 □ / ◆ 32 □ / ◆ 33, 34 □ israelitakuna prometesqa allpaman yaykusqankumanta fecha capitulokuna □ ✔ / josuey ◆ 1 - 4 □ / ◆ 5 - 7 □ / ◆ 8, 9 □ / ◆ 10 - 12 □ / ◆ 13 - 15 □ / ◆ 16 - 18 □ / ◆ 19 - 21 □ / ◆ 22 - 24 □ / jueces ◆ 1, 2 □ / ◆ 3 - 5 □ / ◆ 6, 7 □ / ◆ 8, 9 □ / ◆ 10, 11 □ / ◆ 12, 13 □ / ◆ 14 - 16 □ / ◆ 17 - 19 □ / ◆ 20, 21 □ / rut ◆ 1 - 4 □ israelpi reykunamanta fecha capitulokuna □ ✔ / 1 samuel ◆ 1, 2 □ / ◆ 3 - 6 □ / ◆ 7 - 9 □ / ◆ 10 - 12 □ / ◆ 13, 14 □ / ◆ 15, 16 □ / ◆ 17, 18 □ / ◆ 19 - 21 □ / ◆ 22 - 24 □ / ◆ 25 - 27 □ / ◆ 28 - 31 □ / 2 samuel ◆ 1, 2 □ / ◆ 3 - 5 □ / ◆ 6 - 8 □ / ◆ 9 - 12 □ / ◆ 13, 14 □ / ◆ 15, 16 □ / ◆ 17, 18 □ / ◆ 19, 20 □ / ◆ 21, 22 □ / ◆ 23, 24 □ / 1 reyes ◆ 1, 2 □ / ◆ 3 - 5 □ / ◆ 6, 7 □ / ◆ 8 □ / ◆ 9, 10 □ / ◆ 11, 12 □ 4 / 1 reyes ◆ 13, 14 □ (qatiq.) / ◆ 15 - 17 □ / ◆ 18, 19 □ / ◆ 20, 21 □ / ◆ 22 □ / 2 reyes ◆ 1 - 3 □ / ◆ 4, 5 □ / ◆ 6 - 8 □ / ◆ 9, 10 □ / ◆ 11 - 13 □ / ◆ 14, 15 □ / ◆ 16, 17 □ / ◆ 18, 19 □ / ◆ 20 - 22 □ / ◆ 23 - 25 □ / 1 cronicas 1, 2 □ / 3 - 5 □ / 6, 7 □ / 8 - 10 □ / 11, 12 □ / 13 - 15 □ / 16, 17 □ / 18 - 20 □ / 21 - 23 □ / 24 - 26 □ / 27 - 29 □ / 2 cronicas 1 - 3 □ / 4 - 6 □ / 7 - 9 □ / 10 - 14 □ / 15 - 18 □ / 19 - 22 □ / 23 - 25 □ / 26 - 28 □ / 29, 30 □ / 31 - 33 □ / 34 - 36 □ babiloniamanta kutimusqankumanta fecha capitulokuna □ ✔ / esdras ◆ 1 - 3 □ / ◆ 4 - 7 □ / ◆ 8 - 10 □ / nehemias ◆ 1 - 3 □ / ◆ 4 - 6 □ / ◆ 7, 8 □ / ◆ 9, 10 □ / ◆ 11 - 13 □ / ester ◆ 1 - 4 □ / ◆ 5 - 10 □ moisespa qellqasqankuna fecha capitulokuna □ ✔ / job 1 - 5 □ / 6 - 9 □ / 10 - 14 □ / 15 - 18 □ / 19, 20 □ 5 / 21 - 24 □ / 25 - 29 □ / 30, 31 □ / 32 - 34 □ / 35 - 38 □ / 39 - 42 □ takikunamantawan consejokunamanta librokuna fecha capitulokuna □ ✔ / salmos 1 - 8 □ / 9 - 16 □ / 17 - 19 □ / 20 - 25 □ / 26 - 31 □ / 32 - 35 □ / 36 - 38 □ / 39 - 42 □ / 43 - 47 □ / 48 - 52 □ / 53 - 58 □ / 59 - 64 □ / 65 - 68 □ / 69 - 72 □ / 73 - 77 □ / 78, 79 □ / 80 - 86 □ / 87 - 90 □ / 91 - 96 □ / 97 - 103 □ / 104, 105 □ / 106 - 108 □ / 109 - 115 □ / 116 – 119: 63 □ / 119: 64 - 176 □ / 120 - 129 □ / 130 - 138 □ / 139 - 144 □ / 145 - 150 □ / proverbios 1 - 4 □ / 5 - 8 □ / 9 - 12 □ / 13 - 16 □ / 17 - 19 □ / 20 - 22 □ / 23 - 27 □ / 28 - 31 □ / eclesiastes 1 - 4 □ / 5 - 8 □ / 9 - 12 □ / cantares 1 - 8 □ profetakunamanta fecha capitulokuna □ ✔ / isaias 1 - 4 □ / 5 - 7 □ / 8 - 10 □ 6 / isaias 11 - 14 □ (qatiq.) / 15 - 19 □ / 20 - 24 □ / 25 - 28 □ / 29 - 31 □ / 32 - 35 □ / 36, 37 □ / 38 - 40 □ / 41 - 43 □ / 44 - 47 □ / 48 - 50 □ / 51 - 55 □ / 56 - 58 □ / 59 - 62 □ / 63 - 66 □ / jeremias 1 - 3 □ / 4, 5 □ / 6, 7 □ / 8 - 10 □ / 11 - 13 □ / 14 - 16 □ / 17 - 20 □ / 21 - 23 □ / 24 - 26 □ / 27 - 29 □ / 30, 31 □ / 32, 33 □ / 34 - 36 □ / 37 - 39 □ / 40 - 42 □ / 43, 44 □ / 45 - 48 □ / 49, 50 □ / 51, 52 □ / lamentaciones 1, 2 □ / 3 - 5 □ / ezequiel 1 - 3 □ / 4 - 6 □ / 7 - 9 □ / 10 - 12 □ / 13 - 15 □ / 16 □ / 17, 18 □ / 19 - 21 □ / 22, 23 □ / 24 - 26 □ / 27, 28 □ / 29 - 31 □ / 32, 33 □ / 34 - 36 □ / 37, 38 □ / 39, 40 □ / 41 - 43 □ / 44, 45 □ / 46 - 48 □ / daniel 1, 2 □ / 3, 4 □ / 5 - 7 □ / 8 - 10 □ / 11, 12 □ 7 / oseas 1 - 7 □ / 8 - 14 □ / joel 1 - 3 □ / amos 1 - 5 □ / 6 - 9 □ / abdias / jonas □ / miqueas 1 - 7 □ / nahum / habacuc □ / sofonias / ageo □ / zacarias 1 - 7 □ / 8 - 11 □ / 12 - 14 □ / malaquias 1 - 4 □ jesuspa vidanmantawan predicasqanmanta willakuykuna fecha capitulokuna □ ✔ / mateo 1 - 4 □ / 5 - 7 □ / 8 - 10 □ / 11 - 13 □ / 14 - 17 □ / 18 - 20 □ / 21 - 23 □ / 24, 25 □ / 26 □ / 27, 28 □ / marcos ● 1 - 3 □ / ● 4, 5 □ / ● 6 - 8 □ / ● 9, 10 □ / ● 11 - 13 □ / ● 14 - 16 □ / lucas 1, 2 □ / 3 - 5 □ / 6, 7 □ / 8, 9 □ / 10, 11 □ / 12, 13 □ / 14 - 17 □ / 18, 19 □ / 20 - 22 □ / 23, 24 □ / juan 1 - 3 □ / 4, 5 □ / 6, 7 □ / 8, 9 □ / 10 - 12 □ / 13 - 15 □ / 16 - 18 □ / 19 - 21 □ cristianokunapa imayna yapakusqanmanta fecha capitulokuna □ ✔ / hechos ● 1 - 3 □ / ● 4 - 6 □ / ● 7, 8 □ / ● 9 - 11 □ 8 / hechos ● 12 - 14 □ (qatiq.) / ● 15, 16 □ / ● 17 - 19 □ / ● 20, 21 □ / ● 22, 23 □ / ● 24 - 26 □ / ● 27, 28 □ pablopa cartankuna fecha capitulokuna □ ✔ / romanos 1 - 3 □ / 4 - 7 □ / 8 - 11 □ / 12 - 16 □ / 1 corintios 1 - 6 □ / 7 - 10 □ / 11 - 14 □ / 15, 16 □ / 2 corintios 1 - 6 □ / 7 - 10 □ / 11 - 13 □ / galatas 1 - 6 □ / efesios 1 - 6 □ / filipenses 1 - 4 □ / colosenses 1 - 4 □ / 1 tesalonicenses 1 - 5 □ / 2 tesalonicenses 1 - 3 □ / 1 timoteo 1 - 6 □ / 2 timoteo 1 - 4 □ / tito / filemon □ / hebreos 1 - 6 □ / 7 - 10 □ / 11 - 13 □ wakin apostolkunapawan discipulokunapa qellqasqanku fecha capitulokuna □ ✔ / santiago 1 - 5 □ / 1 pedro 1 - 5 □ / 2 pedro 1 - 3 □ / 1 juan 1 - 5 □ / 2 y 3 juan / judas □ / apocalipsis 1 - 4 □ / 5 - 9 □ / 10 - 14 □ / 15 - 18 □ / 19 - 22 □ puntataqa, puntochantakama kaptay. chaymantañataq, iskaynin papelkunata hukllawaspayki doblay. 14 kaq paginapi dibujo]\n"
     ]
    }
   ],
   "source": [
    "# One-liner solution\n",
    "max_index = max(enumerate(sentence_quz), key=lambda x: len(x[1]))[0]\n",
    "max_length = len(sentence_quz[max_index])\n",
    "\n",
    "print(f\"Max length: {max_length}\")\n",
    "print(f\"Index: {max_index}\")\n",
    "print(f\"Word: {sentence_quz[max_index]}\")"
   ]
  },
  {
   "cell_type": "code",
   "execution_count": 170,
   "metadata": {
    "id": "eE4NZz_1stA6"
   },
   "outputs": [],
   "source": [
    "index_to_quechua = {k:v for k,v in enumerate(quechua_vocabulary)}\n",
    "quechua_to_index = {v:k for k,v in enumerate(quechua_vocabulary)}\n",
    "index_to_spanish = {k:v for k,v in enumerate(spanish_vocabulary)}\n",
    "spanish_to_index = {v:k for k,v in enumerate(spanish_vocabulary)}"
   ]
  },
  {
   "cell_type": "code",
   "execution_count": 171,
   "metadata": {
    "colab": {
     "base_uri": "https://localhost:8080/"
    },
    "id": "WswLYsNKxww5",
    "outputId": "fbf29fa8-807b-42ba-f4bb-cf4e937effaa"
   },
   "outputs": [
    {
     "data": {
      "text/plain": [
       "{'<START>': 0,\n",
       " ' ': 833440,\n",
       " '!': 1435,\n",
       " '\"': 0,\n",
       " '”': 10184,\n",
       " '’': 6733,\n",
       " '“': 10226,\n",
       " '#': 0,\n",
       " '$': 0,\n",
       " '%': 11,\n",
       " '&': 1,\n",
       " \"'\": 22,\n",
       " '‘': 6709,\n",
       " '(': 10148,\n",
       " ')': 11859,\n",
       " '*': 468,\n",
       " '+': 1,\n",
       " ',': 48753,\n",
       " '-': 8506,\n",
       " '.': 88603,\n",
       " '/': 878,\n",
       " '0': 6368,\n",
       " '1': 20635,\n",
       " '2': 11845,\n",
       " '3': 7183,\n",
       " '4': 5568,\n",
       " '5': 5198,\n",
       " '6': 3860,\n",
       " '7': 3788,\n",
       " '8': 3574,\n",
       " '9': 4482,\n",
       " ':': 20750,\n",
       " '<': 0,\n",
       " '=': 0,\n",
       " '>': 65,\n",
       " '?': 18846,\n",
       " '¿': 18693,\n",
       " '@': 0,\n",
       " 'A': 0,\n",
       " 'B': 0,\n",
       " 'C': 0,\n",
       " 'D': 0,\n",
       " 'E': 0,\n",
       " 'F': 0,\n",
       " 'G': 0,\n",
       " 'H': 0,\n",
       " 'I': 0,\n",
       " 'J': 0,\n",
       " 'K': 0,\n",
       " 'L': 0,\n",
       " 'M': 0,\n",
       " 'N': 0,\n",
       " 'Ñ': 0,\n",
       " 'O': 0,\n",
       " 'P': 0,\n",
       " 'Q': 0,\n",
       " 'R': 0,\n",
       " 'S': 0,\n",
       " 'T': 0,\n",
       " 'U': 0,\n",
       " 'V': 0,\n",
       " 'W': 0,\n",
       " 'X': 0,\n",
       " 'Y': 0,\n",
       " 'Z': 0,\n",
       " '[': 2565,\n",
       " '\\\\': 0,\n",
       " ']': 2568,\n",
       " '^': 0,\n",
       " '_': 0,\n",
       " '`': 0,\n",
       " 'a': 1704264,\n",
       " 'b': 33389,\n",
       " 'c': 269681,\n",
       " 'd': 59680,\n",
       " 'e': 137164,\n",
       " 'f': 6515,\n",
       " 'g': 18720,\n",
       " 'h': 296169,\n",
       " 'i': 612211,\n",
       " 'j': 28541,\n",
       " 'k': 425736,\n",
       " 'l': 210212,\n",
       " 'm': 317871,\n",
       " 'n': 721486,\n",
       " 'ñ': 40921,\n",
       " 'o': 153406,\n",
       " 'p': 326345,\n",
       " 'q': 363736,\n",
       " 'r': 215906,\n",
       " 's': 336600,\n",
       " 't': 293057,\n",
       " 'u': 435772,\n",
       " 'v': 25263,\n",
       " 'w': 119304,\n",
       " 'x': 1114,\n",
       " 'y': 256919,\n",
       " 'z': 3998,\n",
       " '{': 0,\n",
       " '|': 112,\n",
       " '}': 0,\n",
       " '~': 0,\n",
       " '<PADDING>': 0,\n",
       " '<END>': 0}"
      ]
     },
     "execution_count": 171,
     "metadata": {},
     "output_type": "execute_result"
    }
   ],
   "source": [
    "qty_quechua = {k:sum(s.count(k) for s in sentence_quz) for k in quechua_vocabulary}\n",
    "qty_quechua"
   ]
  },
  {
   "cell_type": "code",
   "execution_count": 172,
   "metadata": {
    "id": "O8VG3jROyVCn"
   },
   "outputs": [],
   "source": [
    "one_sentences_quz = ' '.join(sentence_quz)"
   ]
  },
  {
   "cell_type": "code",
   "execution_count": 173,
   "metadata": {
    "id": "RndXfr0OyLqn"
   },
   "outputs": [],
   "source": [
    "one_sentences_quz = set(one_sentences_quz)"
   ]
  },
  {
   "cell_type": "code",
   "execution_count": 174,
   "metadata": {
    "colab": {
     "base_uri": "https://localhost:8080/"
    },
    "id": "sIuNS0iB4wiw",
    "outputId": "a2f6c977-358e-45f4-dd47-aefad2548a70"
   },
   "outputs": [
    {
     "data": {
      "text/plain": [
       "{'u': 435772,\n",
       " '☞': 2,\n",
       " '5': 5198,\n",
       " '|': 112,\n",
       " ')': 11859,\n",
       " 'd': 59680,\n",
       " '*': 468,\n",
       " '▪': 319,\n",
       " 'ø': 1,\n",
       " '↑': 3,\n",
       " 'l': 210212,\n",
       " ':': 20750,\n",
       " '•': 940,\n",
       " 's': 336600,\n",
       " '\\u2060': 7,\n",
       " '▸': 9,\n",
       " 'f': 6515,\n",
       " '0': 6368,\n",
       " '©': 3,\n",
       " ';': 1781,\n",
       " 'b': 33389,\n",
       " 'י': 2,\n",
       " '●': 22,\n",
       " 'p': 326345,\n",
       " 'i': 612211,\n",
       " \"'\": 22,\n",
       " 'e': 137164,\n",
       " 'z': 3998,\n",
       " '◆': 114,\n",
       " '!': 1435,\n",
       " '□': 423,\n",
       " '8': 3574,\n",
       " 'h': 296169,\n",
       " '¿': 18693,\n",
       " 'm': 317871,\n",
       " 'j': 28541,\n",
       " '(': 10148,\n",
       " '[': 2565,\n",
       " 'פ': 2,\n",
       " '¡': 1404,\n",
       " '”': 10184,\n",
       " '“': 10226,\n",
       " '‘': 6709,\n",
       " '7': 3788,\n",
       " ',': 48753,\n",
       " 'נ': 2,\n",
       " 'a': 1704264,\n",
       " '4': 5568,\n",
       " 'r': 215906,\n",
       " '’': 6733,\n",
       " '%': 11,\n",
       " '\\u200b': 44,\n",
       " '◇': 7,\n",
       " '—': 69,\n",
       " '&': 1,\n",
       " 'ש': 2,\n",
       " 'c': 269681,\n",
       " 'n': 721486,\n",
       " 'v': 25263,\n",
       " '○': 8,\n",
       " '·': 12,\n",
       " ' ': 833440,\n",
       " '?': 18846,\n",
       " '>': 65,\n",
       " 'y': 256919,\n",
       " 'k': 425736,\n",
       " '-': 8506,\n",
       " '→': 2,\n",
       " '2': 11845,\n",
       " '.': 88603,\n",
       " 'æ': 8,\n",
       " '°': 3,\n",
       " 'o': 153406,\n",
       " '/': 878,\n",
       " 'ו': 1,\n",
       " ']': 2568,\n",
       " 'ה': 3,\n",
       " 'ñ': 40921,\n",
       " 'q': 363736,\n",
       " '\\xad': 38,\n",
       " '3': 7183,\n",
       " '9': 4482,\n",
       " '\\ufeff': 1,\n",
       " '+': 1,\n",
       " 'g': 18720,\n",
       " 'ł': 5,\n",
       " '✔': 13,\n",
       " '6': 3860,\n",
       " 'x': 1114,\n",
       " 't': 293057,\n",
       " '↓': 4,\n",
       " 'ʼ': 1,\n",
       " '–': 76,\n",
       " 'w': 119304,\n",
       " '1': 20635}"
      ]
     },
     "execution_count": 174,
     "metadata": {},
     "output_type": "execute_result"
    }
   ],
   "source": [
    "qty_quechua = {k:sum(s.count(k) for s in sentence_quz) for k in one_sentences_quz}\n",
    "qty_quechua"
   ]
  },
  {
   "cell_type": "code",
   "execution_count": 175,
   "metadata": {
    "colab": {
     "base_uri": "https://localhost:8080/"
    },
    "id": "FJcK9UpgtEeN",
    "outputId": "c317e4a2-3188-4289-e42b-35faca8fb969"
   },
   "outputs": [
    {
     "data": {
      "text/plain": [
       "['ichaqa chaywanpas chay tiempopim llaqtamasikikuna librasqa kanqaku. libropi qillqasqa sutiyuqkunam lliw librakunqaku ’, nispa (dan.',\n",
       " '(2) ¿imaynatam tukuy tiemponkuwan diosta serviq punta cristianokunaqa mantienekuqku?',\n",
       " 'bibliallam allintapuni willawanchik imanasqam runakunaqa kunan tiempopi achka rimayniyoq kasqankuta.',\n",
       " 'ichaqa nintaqmi: “qollqella kuyayqa tukuy mana allin ruraykunapa mamanmi ”, nispa.',\n",
       " 'kay tiempopipas cristopa kamachisqanman hina kawsaqkunaqa ancha valorniyoqtam qawanku paypa wañukusqan punchaw yuyariytaqa.',\n",
       " 'kutichiynin: hanaq pachapi kaq huk gobiernom, kamachiqninñataqmi jesus.',\n",
       " '¿imatam rurachwan?',\n",
       " 'adanwan evaqa jehova diostam mana kasukurqakuchu, hinaspam edenmanta qarqochikurqaku.',\n",
       " 'ichaqa chay carta qellqasqan qepamanmi cloepa familian pabloman willaykurqaku corinto congregacionpi llumpay liryanakuy kasqanmanta.',\n",
       " 'jesusqa isaiaspa nisqantam kay pachapi diospa munayninta ruraspan allinta cumplirqa.']"
      ]
     },
     "execution_count": 175,
     "metadata": {},
     "output_type": "execute_result"
    }
   ],
   "source": [
    "sentence_quz[:10]"
   ]
  },
  {
   "cell_type": "code",
   "execution_count": 176,
   "metadata": {
    "colab": {
     "base_uri": "https://localhost:8080/"
    },
    "id": "PcsgCWUiwKhJ",
    "outputId": "b29e48e1-24b7-490a-e17e-d2bc9209563b"
   },
   "outputs": [
    {
     "data": {
      "text/plain": [
       "1"
      ]
     },
     "execution_count": 176,
     "metadata": {},
     "output_type": "execute_result"
    }
   ],
   "source": [
    "search_term = 'bibliallam allintapuni willawanchik imanasqam runakunaqa kunan tiempopi achka rimayniyoq kasqankuta'\n",
    "\n",
    "count = sum(s.count(search_term) for s in sentence_quz)\n",
    "count"
   ]
  },
  {
   "cell_type": "code",
   "execution_count": 177,
   "metadata": {
    "colab": {
     "base_uri": "https://localhost:8080/"
    },
    "id": "65MoOT9-KOo_",
    "outputId": "ab5f0ecf-e5dc-4fce-c139-5229fdba746d"
   },
   "outputs": [
    {
     "data": {
      "text/plain": [
       "[2]"
      ]
     },
     "execution_count": 177,
     "metadata": {},
     "output_type": "execute_result"
    }
   ],
   "source": [
    "search_term = 'bibliallam allintapuni willawanchik imanasqam runakunaqa kunan tiempopi achka rimayniyoq kasqankuta'\n",
    "\n",
    "count =[k for k,s in enumerate(sentence_quz) if s.find(search_term) >= 0 ]\n",
    "count"
   ]
  },
  {
   "cell_type": "code",
   "execution_count": 178,
   "metadata": {
    "colab": {
     "base_uri": "https://localhost:8080/"
    },
    "id": "aF7Y8AaWgAe6",
    "outputId": "b4ea40ca-2a20-4b0e-9950-d27a30c61685"
   },
   "outputs": [
    {
     "name": "stdout",
     "output_type": "stream",
     "text": [
      "Number of sentences: 102747\n",
      "Number of valid sentences: 76837\n"
     ]
    }
   ],
   "source": [
    "max_sequence_length = 200\n",
    "min_sequence_length = 30\n",
    "\n",
    "def is_valid_tokens(sentence, vocab):\n",
    "    for token in list(set(sentence)):\n",
    "        if token not in vocab:\n",
    "            return False\n",
    "    return True\n",
    "\n",
    "def is_valid_length(sentence, max_sequence_length, min_sequence_length):\n",
    "    return (min_sequence_length - 1) < len(list(sentence)) < (max_sequence_length - 1) # need to re-add the end token so leaving 1 space\n",
    "\n",
    "valid_sentence_indicies = []\n",
    "for index in range(len(sentence_quz)):\n",
    "    sentence_quz_, sentence_spa_ = sentence_quz[index], sentence_spa[index]\n",
    "    if is_valid_length(sentence_quz_, max_sequence_length, min_sequence_length) \\\n",
    "      and is_valid_length(sentence_spa_, max_sequence_length,min_sequence_length) \\\n",
    "      and is_valid_tokens(sentence_quz_, quechua_vocabulary) \\\n",
    "      and is_valid_tokens(sentence_spa_, spanish_vocabulary) :\n",
    "        valid_sentence_indicies.append(index)\n",
    "\n",
    "print(f\"Number of sentences: {len(sentence_spa)}\")\n",
    "print(f\"Number of valid sentences: {len(valid_sentence_indicies)}\")"
   ]
  },
  {
   "cell_type": "code",
   "execution_count": 179,
   "metadata": {
    "id": "I1FPIHq-sjEt"
   },
   "outputs": [],
   "source": [
    "sentence_quz = [sentence_quz[i] for i in valid_sentence_indicies]\n",
    "sentence_spa = [sentence_spa[i] for i in valid_sentence_indicies]"
   ]
  },
  {
   "cell_type": "code",
   "execution_count": 180,
   "metadata": {
    "colab": {
     "base_uri": "https://localhost:8080/"
    },
    "id": "HN8OAT9V9IbQ",
    "outputId": "6b254f79-6f4a-473c-c091-0c5e4b728318"
   },
   "outputs": [
    {
     "data": {
      "text/plain": [
       "76837"
      ]
     },
     "execution_count": 180,
     "metadata": {},
     "output_type": "execute_result"
    }
   ],
   "source": [
    "len(sentence_spa)"
   ]
  },
  {
   "cell_type": "code",
   "execution_count": 181,
   "metadata": {
    "id": "zdD9FQgh3L5k"
   },
   "outputs": [],
   "source": [
    "from transformer import Transformer # this is the transformer.py file\n",
    "import torch\n",
    "import numpy as np"
   ]
  },
  {
   "cell_type": "code",
   "execution_count": 182,
   "metadata": {
    "id": "F_dHEg752iOn"
   },
   "outputs": [],
   "source": [
    "import torch\n",
    "\n",
    "d_model = 512\n",
    "batch_size = 30\n",
    "ffn_hidden = 2048\n",
    "num_heads = 8\n",
    "drop_prob = 0.1\n",
    "num_layers = 1\n",
    "max_sequence_length = 200\n",
    "kn_vocab_size = len(sentence_quz)\n",
    "\n",
    "transformer = Transformer(d_model,\n",
    "                          ffn_hidden,\n",
    "                          num_heads,\n",
    "                          drop_prob,\n",
    "                          num_layers,\n",
    "                          max_sequence_length,\n",
    "                          kn_vocab_size,\n",
    "                          spanish_to_index,\n",
    "                          quechua_to_index,\n",
    "                          START_TOKEN,\n",
    "                          END_TOKEN,\n",
    "                          PADDING_TOKEN)"
   ]
  },
  {
   "cell_type": "code",
   "execution_count": 183,
   "metadata": {
    "id": "tPLqzORO3CjO"
   },
   "outputs": [],
   "source": [
    "from torch.utils.data import Dataset, DataLoader\n",
    "\n",
    "class TextDataset(Dataset):\n",
    "\n",
    "    def __init__(self, sentence_spa, sentence_quz):\n",
    "        self.sentence_spa = sentence_spa\n",
    "        self.sentence_quz = sentence_quz\n",
    "\n",
    "    def __len__(self):\n",
    "        return len(self.sentence_spa)\n",
    "\n",
    "    def __getitem__(self, idx):\n",
    "        return self.sentence_spa[idx], self.sentence_quz[idx]"
   ]
  },
  {
   "cell_type": "code",
   "execution_count": 184,
   "metadata": {
    "id": "fk1tN6Cm5SfM"
   },
   "outputs": [],
   "source": [
    "dataset = TextDataset(sentence_spa, sentence_quz)"
   ]
  },
  {
   "cell_type": "code",
   "execution_count": 185,
   "metadata": {
    "colab": {
     "base_uri": "https://localhost:8080/"
    },
    "id": "ZWKdqM-95Yks",
    "outputId": "2ff60e93-f0c9-4f01-836c-230e2ab5ce43"
   },
   "outputs": [
    {
     "data": {
      "text/plain": [
       "76837"
      ]
     },
     "execution_count": 185,
     "metadata": {},
     "output_type": "execute_result"
    }
   ],
   "source": [
    "len(dataset)"
   ]
  },
  {
   "cell_type": "code",
   "execution_count": 186,
   "metadata": {
    "colab": {
     "base_uri": "https://localhost:8080/"
    },
    "id": "Tp0Jo5I25rld",
    "outputId": "ecc5f42a-f2fc-4732-a920-82ed2de965f3"
   },
   "outputs": [
    {
     "data": {
      "text/plain": [
       "('b) ¿como lograban mantenerse estos siervos de tiempo completo?',\n",
       " '(2) ¿imaynatam tukuy tiemponkuwan diosta serviq punta cristianokunaqa mantienekuqku?')"
      ]
     },
     "execution_count": 186,
     "metadata": {},
     "output_type": "execute_result"
    }
   ],
   "source": [
    "dataset[1]"
   ]
  },
  {
   "cell_type": "code",
   "execution_count": 187,
   "metadata": {
    "id": "A0MZVydX5tUM"
   },
   "outputs": [],
   "source": [
    "train_loader = DataLoader(dataset, batch_size)\n",
    "iterator = iter(train_loader)"
   ]
  },
  {
   "cell_type": "code",
   "execution_count": 188,
   "metadata": {
    "colab": {
     "base_uri": "https://localhost:8080/"
    },
    "id": "aivgF_8s5ydQ",
    "outputId": "5b3e318f-576c-4893-caaa-7757cb7322be"
   },
   "outputs": [
    {
     "name": "stdout",
     "output_type": "stream",
     "text": [
      "[('y por ultimo dice que el pueblo de dios “escapara, todo el que se halle escrito en el libro ”.', 'b) ¿como lograban mantenerse estos siervos de tiempo completo?', 'cabe señalar que solo la biblia explica de manera satisfactoria cual es el origen de los muchos idiomas que conocemos hoy.', 'pero al mismo tiempo nos advierte que “el amor al dinero es raiz de toda clase de males ”.', 'hoy, todo el que desea vivir de acuerdo con sus mandamientos considera que conmemorar el aniversario de la muerte de cristo es de suma importancia.', 'respuesta: el reino de dios es un gobierno celestial, y su rey es jesus.', 'adan y eva desobedecieron a dios, de modo que fueron expulsados del eden.', 'sin embargo, poco despues de escribir esa carta, los de la casa de cloe le informaron de que en la congregacion de corinto habia graves divisiones.', 'jesus cumplio de forma sorprendente esta profecia durante su ministerio.', 'cierto diccionario biblico lo define como “fortaleza espiritual, emocional y moral para hablar y actuar sin temor ante dificultades y peligros ” (the new interpreter’s dictionary of the bible).', 'aprendi a amar a jehova y a temerle, es decir, a tener un temor sano a volver a hacer lo malo y entristecerlo.', 'y estas diferencias se dan incluso entre quienes viven en la misma zona.', 'escuche por primera vez a los testigos cuando era joven', 'se trata de un amor imparcial que supera las barreras nacionales, culturales y de raza.', 'jehova tambien usa a la congregacion y a los ancianos para moldearnos.', 'jesus la conto para enseñarles a esos ungidos que debian ser fieles y prudentes.', 'por ejemplo, tal vez haya quienes no tengan cubiertas todas sus necesidades basicas.', 'y algo que nos ayudara a imitarlo es seguir a cristo.', '¿como se ha beneficiado siempre el pueblo de dios de reunirse para adorarlo?', 'krystyna, una cristiana de edad avanzada que tiene una salud fragil, admite lo siguiente: “a menudo me siento cansada y decaida.', 'si dejamos que este obre libremente, producira en nuestra vida un fruto que dara gloria a dios y beneficiara al projimo.', 'en este mundo lleno de dificultades, millones de personas hemos recibido algo muy especial de parte de jehova: la oportunidad de acercarnos a el mediante su hijo unigenito, jesus.', 'jehova envio a jesus a la tierra para responder estas preguntas.', 'la mejor decision es servirle al dios verdadero.', 'la biblia dice que estas organizaciones son como montañas o islas porque parecen fuertes y estables (lea revelacion 6: 14).', 'la biblia predijo que en nuestros dias las personas desearian escuchar “las palabras de jehova ”.', 'todos los vecinos dejaron de hablarme, y me vi obligada a mudarme con mis hijos a otro lugar ”.', 'jehova nos ha dado una “indescriptible dadiva ”.', 'con todo, es espiritualmente rica, algo que no puede conseguirse con dinero.', 'medir el tiempo por la noche, 1 / 8 olivos valorados, 1 / 10'), ('ichaqa chaywanpas chay tiempopim llaqtamasikikuna librasqa kanqaku. libropi qillqasqa sutiyuqkunam lliw librakunqaku ’, nispa (dan.', '(2) ¿imaynatam tukuy tiemponkuwan diosta serviq punta cristianokunaqa mantienekuqku?', 'bibliallam allintapuni willawanchik imanasqam runakunaqa kunan tiempopi achka rimayniyoq kasqankuta.', 'ichaqa nintaqmi: “qollqella kuyayqa tukuy mana allin ruraykunapa mamanmi ”, nispa.', 'kay tiempopipas cristopa kamachisqanman hina kawsaqkunaqa ancha valorniyoqtam qawanku paypa wañukusqan punchaw yuyariytaqa.', 'kutichiynin: hanaq pachapi kaq huk gobiernom, kamachiqninñataqmi jesus.', 'adanwan evaqa jehova diostam mana kasukurqakuchu, hinaspam edenmanta qarqochikurqaku.', 'ichaqa chay carta qellqasqan qepamanmi cloepa familian pabloman willaykurqaku corinto congregacionpi llumpay liryanakuy kasqanmanta.', 'jesusqa isaiaspa nisqantam kay pachapi diospa munayninta ruraspan allinta cumplirqa.', 'qarinchakuyqa llumpay sasachakuypi tarikuspa mana manchakuspa ruwaymi hinaspa mana manchakuspa rimaymi.', 'jehova dios kuyaytawan manchakuytam yacharurqani, chaymi mana llakichinaypaq paypa chiqnisqankunata manaña ruwayta munarqaniñachu.', 'chaynam kanman chay llaqtallapi yachaqkunapaqpas.', 'mozollaraq kachkaspaymi jehova diospa testigonkunata uyarirqani', 'chayna kuyakuytam qawarqani testigokunawan hukllawakuyta qallaykuspay.', 'jehova diosqa servichikuntaqmi iñiqmasinchikkunata hinaspa ancianokunatapas yanapawananchikpaq.', 'jesusqa kay rikchanachiytam willarqa paykuna diosman sunqu hinaspa allin yuyayniyuq kanankupaq.', 'ichapas wakinkupaqqa mana kanchu mikuyninku otaq pachankupas.', 'chayta ruranapaqqa jesusta qatikuymi yanapawasun.', '¿imaynatam ñawpaqmantaraq allintapuni yanapakun huñunakuykunaman riyqa?', 'llumpayta onqoq yuyaqña iñiqmasinchik krystynam nin: “sapa kutim pisipasqa chaynataq hukmanyasqa tarikuni.', 'yanapawananchikta saqekuptinchikqa sumaq kayniyoq kanapaqmi yanapawasun, chaynapim diosta hatunchasun hinaspa runamasinchiktapas yanapanqa.', 'kay sasa tiempopim millonnintin runakuna jehova diosmanta huk sumaq invitacionta chaskirunchik: chayqa piwi churintakama payman asuykunanchikpaqmi.', 'jehova diosqa chay tapukuykunata kutichinanpaqmi jesusta kay pachaman kachamurqa.', 'chaynata tanteakuspaykiqa jehova diospi hapipakusqaykitam qawachinki.', 'bibliapa nisqanman hinaqa maynaña atiyniyuq kaspankupas chinkachisqam kanqaku (qaway apocalipsis 6: 14).', 'diosmi nirqa kunan tiempopipas usya tiempopi hina runakuna iñiyninkupi kanankumanta (amos 8: 11).', 'llapan vecinoykunapas manañam rimapayawaqñachu, chaymi huklawmanña wawaykunapiwan ripukurqani ”, nispa.', 'jehova diosmi ‘ ancha - ancha kuyakuyninta ’ quwarqanchik.', 'ichaqa dios serviyninpim apu, chaytaqa manam qollqewanqa rantiyta atinmanchu, wawankunapas manam suwakunkuchu, allin ruraqmi kanku.', 'soltero hinaspa casado kaymanta allin consejokuna, 15 / 10')]\n",
      "[('nada puede separar a los misioneros del amor de dios mientras ellos mismos no decidan separarse de el.', 'en otras palabras, el buen amigo es el que se preocupa de verdad por uno.', 'cumpla con su papel de evangelizador', 'para que una relacion funcione, cada uno tiene que concentrarse en la otra persona mas que en si mismo.', 'exterminio de los cananeos, 1 / 1 ¿las mismas oportunidades para conocerlo?', 'vencer las tentaciones te preparara para enfrentar problemas mas dificiles en el futuro. ”', 'mantengamos el gozo a pesar de los problemas', 'por ejemplo, si su esposo la trata con aspereza, podria costarle mucho resistir la tentacion de desquitarse.', 'la palabra septuaginta significa “setenta ”.', 'sin embargo, hay que tener en cuenta que la idea de “crujir los dientes ” se relaciona con destruccion.', 'jesus dijo: “mi padre ha seguido trabajando hasta ahora, y yo sigo trabajando ”, lo cual demuestra que ambos son muy diligentes.', '¿habrian podido reflejar bien nuestros sentimientos, necesidades y debilidades?', 'no tendran que sufrir la verguenza de la derrota, pues jehova promete que el “cuerno ”, o poder, de los justos“ sera ensalzado con gloria ”.', 'ademas, existe el temor de que algunas naciones que ya han firmado el tratado decidan echarse atras.', 'afortunadamente, no estamos indefensos, pues contamos con el refugio espiritual que nos ha dado jehova: la congregacion.', 'a mitad del discurso, una multitud de personas que se habian reunido fuera irrumpieron en el local, disolvieron la reunion y nos echaron de la ciudad.', 'en ese caso, la suplica de jacob le resultara animadora, pues muestra que las oraciones pueden calmar la inquietud.', '¿cuanto valor tienen para usted las verdades que ha aprendido en la palabra de dios?', '¿no agradeceria que los demas lo trataran con comprension?', 'de manera voluntaria decidimos hacer su voluntad en vez de hacer lo que nos plazca.', '¿que estan logrando los siervos de dios con el apoyo de su fuerza activa?', 'dios valora mucho lo que hacemos por los demas y promete pagarnoslo con algo tan maravilloso como la vida eterna en un paraiso en la tierra.', 'por lo general, la gente se preocupa por asuntos como la salud, el aspecto personal, el empleo, las amistades y las relaciones de pareja.', 'el nucleo externo de la tierra, que se compone mayormente de hierro fundido, genera un poderoso campo electromagnetico que se eleva hacia el espacio y nos envuelve.', 'el marido debe hablar siempre con bondad a su esposa', 'por ejemplo, aquel mismo dia dios ungio a varios miles de personas mas, pero la biblia no dice que tambien tuvieran llamas sobre la cabeza.', '¿como sera la vida bajo ese reino?', 'y lo mismo les sucedia a los apostoles, a quienes jesus dijo: “en cualquier ciudad o aldea que entren, busquen hasta descubrir quien en ella es merecedor ”.', 'puede que algunos no comprendieran por que se permitia que esos individuos siguieran en la congregacion.', 'las primeras dos semanas las pase en una carcel de columbus.'), ('diospa kuyakuyninmantaqa manama pipas misionerokunataqa rakiyta atinmankuchu, kikinku mana rakikuptinkuqa.', 'cheqap amistadqa kuyasqan amistadninkunapim tukuy sonqonwan preocupakun.', 'willakuq kasqanchiktaya cumplisun', 'kusisqa kawsanankupaqqa sapakamam interesakunanku kikinkumantaqa astawanraq.', '¿imaynatam jesus qawachirqa dios allin ruraq kasqanta?', 'ima tentaciontapas atipaspaykiqa hamuq tiempopi huk tentacionkunatapas atipankim. ”', 'hinallaya kusikusun sasachakuykuna kaptinpas', 'ejemplopaq, rurasqanwan otaq rimasqanwan qosan sientichiptinqa, sasam kanman controlakunanpaq aguantayqa.', 'septuaginta ninanqa “qanchis chunka ”, ninanmi.', 'ichaqa, yuyarinanchikmi “kirunkutapas kirichichichinqaku ” nispa biblia nisqanqa puchukachiywan tupasqanta (sal.', 'jesusmi nirqa: “taytayqa kunankamam llamkachkan llamkachkanitaqmi ñoqapas ” nispa, kaymi qawachin allin llamkaq kasqankuta.', 'chaymantapas, manam runakunapa imayna tarikusqankumanta hinaspa pantaq kasqankumantaqa qellqayta atinmankuchu karqa.', 'manam allin ruraqkunataqa pipas vencenqachu, jehova diosmi kaynata prometen: “allin reqsisqa kaspanmi respetasqa kanqa ”, nispa (sal.', 'chaymantapas llakikuypaqmi chay acuerdopi firmaq wakin nacionkuna firmasqankuta manaña cumplinankumanta.', 'ichaqa manam sapallanchikchu kachkanchik, jehova diosqa congregacionnintam qowanchik amparasqa kananchikpaq.', 'chawpitaña uyarichkaptiykum achka runakuna yaykuramuspanku chaqwata ruwarurqaku hinaspankum llaqtamanta qarqoruwarqaku.', 'chayna tarikuptikiqa jacobpa mañakusqanmi kallpanchasunki, mañakuyqa preocupasqa kaqtam hawkayachin.', '¿mayna valorniyoqtaq diospa palabranpi yachasqaykikuna?', 'huk - iskay semanalla chayna tarikunaykimantaqa killantin chayna kawaq.', 'ñoqanchikpas munasqallanchikta ruranamantaqa, diospa munasqanta ruranapaqmi tantearunchik.', '¿imatam diospa serviqninkunaqa chuya espiritupa yanapakuyninwan rurayta atichkanku?', 'diosqa anchatam chaninchan hukkunarayku imapas ruwasqanchiktaqa, chaymi kay allpa pacha sumaq huerta kaptin wiñaypaq kawsakuyta quwasunchik.', 'runakunaqa preocupakunchikmi mana onqospa kawsanamanta, rikchayninchikmanta, llamkaymanta, amistadninchikkunamanta hinaspa casarakuymantapas.', 'chaymantam mana musyaylla hatun kallpata wikutimun kay allpa pachanchikpa muyuriqninman karullay - karukama.', 'qosaqa kuyakuywanmi señoranta rimapayanan', 'chay punchawllapitaqmi achka waranqa runakunatapas jehova diosqa akllaykurqa, ichaqa manam bibliapi ninchu paykunapa umanpipas nina lenguachkaq hina kasqanmantaqa.', 'chay gobiernopiqa ¿imaynataq kawsakuy kanqa?', 'chaynallataqmi jesuspa apostolninkunapas sasachakurqaku, chaymi jesus kaynata nirqa: “maylaw ilaqtamanpas otaq llaqtachamanpas chayaspaykichikqa maskaychikya allin runa kaqta ”, nispa.', 'wakinkuqa manapascha entienderqakuchu imanasqa paykuna hinalla congregacion ukupi kasqankuta.', 'columbus llaqtapi kaq carcelpim iskay semana karqani.')]\n",
      "[('para valerse del elemento sorpresa, jehu recorrio con su carro los 72 kilometros (45 millas) que separaban ramot - galaad de jezreel a toda velocidad.', 'despues de que jesus es arrestado, lo llevan a la casa del jefe de los sacerdotes.', 'la mejor manera de demostrarle a jehova que lo queremos es obedeciendole.', 'ademas, todas las tentaciones a las que se enfrentaron eran comunes a la experiencia del ser humano, y lo mismo puede decirse de las nuestras.', '“el mayor [...] legado que dejaron los romanos para la posteridad fueron sus leyes y la concepcion de que la vida tiene que ajustarse a las leyes. ” (david j.', 'por eso esta prohibido cazarlo, destruir los sitios donde vive y tenerlo de mascota.', 'se trataba de un lugar idilico, y lo mas fascinante de todo era “el arbol de la vida ” que estaba en medio de el.', 'gener, un joven de asia, fue criado en un hogar cristiano y se bautizo a los 12 años.', 'cuando algunos judios empezaron a criticar lo que habia hecho, el les contesto: “el hijo no puede hacer ni una sola cosa por su propia iniciativa, sino unicamente lo que ve hacer al padre ”.', 'aquel intrepido y fiel profeta, que tanto habia luchado contra la adoracion falsa, se puso otra vez manos a la obra.', 'mantente ocupado trabajando duro en la predicacion y en la congregacion.', 'los primeros cristianos tampoco afirmaron que jesus fuera dios.', 'pero eso ya no importa, pues siento una paz y tranquilidad como no pueden siquiera imaginar ”.', '* si usted esta cuidando a su conyuge, es muy probable que se pregunte: “¿sere capaz de atender a mi pareja si su salud sigue empeorando?', 'jesus mismo explico su papel en rescatar a la humanidad de la esclavitud al pecado cuando dijo que habia venido “para dar su vida en rescate por muchos ”.', 'por eso hacemos lo mejor posible y confiamos en que jehova bendecira nuestros esfuerzos.', 'pero como quiere superar a la competencia, se ha esclavizado al negocio y ahora esta muy enfermo.', 'mi esposa y yo hariamos de hijos, y ellas, de padres.', 'un estudio de la atalaya bien dirigido puede compararse a un hermoso ramo de flores.', 'la cuestion de si algun ser humano podria mantenerse siempre leal a la soberania de jehova fue durante siglos un secreto.', 'y van cada cual en sus propios caminos, y no alteran sus sendas.', 'b) ¿como podemos entrar en el descanso de dios?', '¿como demuestra jehova que se preocupa por nuestro bienestar?', 'pues bien, el mayor experto en el tema del matrimonio es jehova dios.', '¿por que decimos que satanas es poderoso?', 'con todo, gracias a que jehova lo corrigio con amor, recupero el equilibrio y admitio: “hable, pero no entendia ”.', 'el mago hace aparecer palomas de la nada.', 'como vemos, no es que los judios no supieran absolutamente nada de jesus.', 'jehova nos valora por lo que ve en nuestro corazon', 'el valora muchisimo a sus siervos fieles y siente un profundo “anhelo ” por los que han muerto.'), ('joramta hapirunanpaqmi jehuqa ramot - galaad lawmanta jezreel llaqtakama karu - karuta locollaña kallparqa.', 'jesusta presocharuspankum sacerdotekunapa jefenpa wasinman aparunku.', 'dios kuyasqanchiktaqa kasukuspanchikmi qawachisun.', 'chaymantapas llapallan tentacionkuna pasasqankuqa lliw runakunatam pasarqa, ñoqanchiktapas pasawanchikmi.', 'runakunapa nisqankuman hinaqa, kunankamapas ancha valorniyoq regalo hinas ñawpaq roma nacionpa kamachikuyninkuna chaskisqanku.', 'chaymi mana wañuchinankuchu, uywanankuchu nitaq yachasqan lawkunatapas purmachinankuchu.', 'ari, bibliapa willakusqanqa suma - sumaqmi (genesis 2: 8, 9).', 'asia lawmanta gener sutiyoq mozom, diospa llaqtanpi uywasqa kaspan 12 watanpi bautizakururqa.', 'chay rurasqanmanta wakin judiokuna yanqakunata rimaptinkum nirqa: “churiqa ima ruraytapas sapallanqa manam atinmanchu, ruraspaqa ruran taytapa rurasqanta qawaspallanmi ”, nispa.', 'eliasqa baal taytacha yupaychay chinkananpaq puntata kallpanchakuspanpas, kaqmantam hinalla kallpanchakurqa.', '31: 10 - 27). diosmanta willakunaykipaq hinaspa iñiqmasinchikkunata yanapanaykipaq astawan kallpanchakuy.', 'apostolkunapa tiempopi kaq cristianokunapas manam nirqakuchu jesus dios kasqanmantaqa.', 'ichaqa amaña llakikuychikchu, hawkallam kachkani runakunapa mana entiendey atina hawkayaywan ”, nispa.', '* yaqapascha sano kaq tapukunman: “¿atiendeyta atisaqchu astawan peorchakuptin?', 'jesuspunim willakurqa imaynatam lliw runakunata huchamanta librananpaq hamusqanwan kaynata nispa: “achka runakunapa rantinpi wañunaypaqmi ” hamurqani.', 'chaywanpas manam iskayrayanchikchu kallpanchakusqanchikta jehova dios qawamusqanmantaqa.', 'ichaqa astawan ganayta munaspanmi llamkayllamanña qokurusqanwan llumpay onqosqa tarikun.', 'warmiywan ñoqañataqmi churinkuna kanayku karqa paykunañataq tayta - mamayku.', 'allin dirigisqa llaqta cuidaq revistamanta estudioqa tupanmanmi suma - sumaq ramo waytawan.', 'runakunata jehova dios kamachinanpaq derechoyoq kasqanpi iskayrayaymi waranqantin - waranqantin wata pakasqa karqa.', 'mana muyurispam rinqaku maynin purinanta. [...]', 'b) ¿imata ruwaspam diospa samanan punchawman yaykuchwan?', '¿imaynatam jehova diosqa qawachiwanchik ñoqanchikpi nanachikusqanta?', 'ari, casado vidamanta aswan allin yachaqqa jehova diosmi.', '¿imanasqam ninchik satanasqa atiyniyuq kasqanta?', 'chayna kaptinpas, kuyakuywan dios corregiykuptinmi ‘ mana entiendespa ’ rimasqankunata reqsikurqa (job 42: 3).', 'paquqa chusaqmanta rikurichin urpaykunata.', 'ari, judiokunaqa jesusmantaqa yacharqakum.', 'jehova diosqa chaninchawanchikmi sonqonchikpi imayna kasqanchikman hina', 'jehova diosqa anchatam ‘ sienten ’ otaq llakikun payman sonqo serviqninkuna wañuruptinqa.')]\n",
      "[('¿que aprendemos del ejemplo de ana?', 'ganaban tan poco que solo les alcanzaba para una comida al dia, y el dia que no trabajaban no cobraban.', 'entonces sono su telefono y le dieron la noticia: habian echado a su jefe.', 'subiendo una casa rodante a una barca para cruzar un rio durante la estacion de las lluvias monzonicas, en la india', 'por ejemplo, cuando su amigo lazaro murio, se puso muy triste al ver el dolor de la familia y los amigos (lea juan 11: 33 - 36).', 'los cristianos debemos perdonar de corazon, dejar atras el resentimiento y no echar en cara los errores del pasado.', 'esta informacion tambien nos enseña nuevas formas de explicar nuestras creencias en la predicacion.', 'sara era media hermana de abrahan.', 'seguro que todos los que asistian a las reuniones prestaban mucha atencion a fin de no perderse ni un detalle.', '¿sera porque estaba deprimido o sufrio mucho?', 'dificulta la comunicacion, pues quita el deseo de pedir perdon y el valor que se requiere para hacerlo.', 'entonces lo arropa una profunda sensacion de calma y una vision lo lleva a un lugar lejano.', 'con el tiempo, mi madre y seis de mis hermanos se bautizaron.', 'en un pais de africa, hay quienes llegan al extremo de comprar ataudes en forma de automovil, avion o barco para hacer alarde de su dinero y posicion.', 'respuesta: bajo el reino de dios, la tierra se convertira en un paraiso donde los seres humanos fieles disfrutaran de salud perfecta, viviran en paz y tendran vida eterna.', 'a comienzos de la historia, satanas le facilito a eva datos totalmente falsos.', 'piensen en ella y preguntense: “¿me estoy esforzando por cumplirla? ”.', 'no hay oscuridad ni una sombra profunda para que se oculten alli los que practican lo que es perjudicial ”.', 'pueden acercarse a jehova y tienen la maravillosa posibilidad de sobrevivir como grupo al armagedon.', 'un cristiano llamado victor recuerda lo siguiente de su epoca escolar: “siempre habia alguien hostigandome, acosandome o provocandome por el hecho de ser testigo.', 'el dijo: “sanare la infidelidad de ellos.', 'entonces, ¿quieren decir las anteriores palabras de cautela que deberiamos prescindir por completo de la red?', 'puede ser que las adversidades no terminen de inmediato, que duren bastante tiempo.', 'el mesias prometido cuando cierta mujer samaritana le dijo: “yo se que el mesias viene ”, jesus le contesto:“ yo, el que habla contigo, soy ese ”.', '¿en que se parecen el pacto de la ley y el nuevo pacto?', 'los cristianos debemos servir a dios con entrega, o sea, concentrados por completo en alcanzar nuestro objetivo, sin dejarnos distraer o desanimar.', 'eso crea la sensacion de que estan trabajando en equipo, no de que estan tratando de ganar a toda costa. ”', '¿cual es la mejor manera de vencer el mal con el bien?', 'b) ¿que ocurrio en octubre de 1914, y como ha quedado demostrado?', 'debido a que se dejo seducir por sus esposas y se entrego a la adoracion falsa, jehova le aseguro: “sin falta arrancare el reino de sobre ti ”.'), ('¿imaynatam anata qatipakuchwan?', 'huk punchaw mikuyllapaqmi ganaqku, mana llamkaspankuqa manam imatapas chaskiqkuchu.', 'hinaptinmi qonqayllamanta telefonon waqayta qallaykamurqa, hinaspam willaykurqaku kamachiqnin runata qarqorusqankumanta.', 'india nacionpim para tiempopi mayuta chimpachinankupaq ruedayoq wasichata boteman churkuchkanku', 'lazaro wañukuptinmi ayllunkunawan amistadninkuna llakisqa tarikurqaku, chayta qawaspanmi jesusqa llakikuspan waqarqa (leey juan 11: 33 - 36).', 'sonqomantam pampachana, sientisqallaqa manam kanachu hinaspa qonqanañam ñawpaqpi mana allin rurasqankutapas (sal.', 'chaymantapas diosmanta imayna willakunanchikpaqmi astawan yanapawasun.', 'taytanmantam saraqa abrahanpa panin karqa, ichaqa sapakamam huk mamayuq karqaku.', 'yaqacha huñunakuykunaman riqkunaqa mana imawanpas harkachikuspa allinta uyariqku.', 'manam llumpay llakisqa utaq hukmanyasqa tarikusqanraykuchu.', 'manataqmi pampachakuyta mañakunapaqpas yanapawanchikchu, chayraykum sasachakuypas kan allinta parlarinapaq.', 'qawarqacha tiemponpi hinaqa manaña mana allin runakuna kasqanta.', 'watakuna pasaytam, mamaywan suqta wawqi - paniykuna bautizakurqaku.', 'africa lawpi kaq huk llaqtapim qollqeyoq kasqankuta qawachinankupaq wañuqpa cajonnintapas carroman, avionman chaynataq buqueman rikchakuqta rurachinku otaq rantinkupas.', 'kutichiynin: diospa munaychakuyninpi jesus kamachiyta qallaykuptinqa allpa pacham sumaq huerta kanqa, runakunapas mana unquspam wiñaypaq hawka kawsakunqaku.', 'satanasmi evaman pantay willakuykunata nirqa.', 'chaypi piensaychik hinaspa tapukuychik: “¿kallpanchakuchkanichu cumplinaypaq? ”, nispa.', 'mana allin ruwaq runataqa manam pakaykunmanchu maynaña yanay - yanay tutayaypas ’, nispa (job 34: 21, 22).', 'atinmankum jehova diosman asuykuyta hinaspa armagedon chayaramuptin diospa llaqtan hina librasqa kaytapas.', '12: 1). victor sutiyoq cristianom escuelanman risqanmanta yuyarispan, nin: “testigo kasqayraykum sapa kuti pipas burlakuwaq otaq piñachiwaq.', 'diosqa nirqam: ‘ ñuqam pampachasqaykichik karunchakuwasqaykichikmanta.', 'kaykunawanqa manama nichkanchikchu internetman mañana haykapipas yaykunamantaqa.', 'ichapas sasachakuyninchikkunaqa mana chayllachu tukurunqa, hinaspa unay tiemporaqpas kanman.', 'jesusñataqmi nirqa: “kay rimapayaqnikim mesiasqa kani ”, nispa.', '¿imapitaq leywan contratoqa rikchakun mosoq contratowan?', 'cristianokunaqa tukuy sonqomantam diosta servinanchik, huk rimaypiqa rurayninchiktam cumplinanchik, chaypaqqa huk ruraykunawanmi mana harkachikunachu nitaq imawanpas mana hukmanyanachu.', 'chaynapim musyankichik mana sapakama ruwasqaykichikta. ”', '¿imaynatam mana allinta vencechwan allinta ruraspa?', '(2) ¿imam pasarqa 1914 watapa octubre killanpi, hinaspa imakunataq qawachin chayna kasqanta?', 'chayraykum jehova dios nirqa: ‘ gobiernasqayki nacionta partispam serviqnikiman qosaq ’, nispa (1 rey. 11: 1 - 6, 11).')]\n",
      "[('con los años, mis padres, mi hermana mayor y dos de mis hermanos tambien se hicieron testigos.', 'santiago 1: 19 dice que el cristiano “tiene que ser presto en cuanto a oir, lento en cuanto a hablar ”.', 'conclusion: la pornografia esclaviza y hace mucho daño a sus victimas.', 'seriamos como un boxeador que da golpes al aire.', 'pedro mismo pidio a quienes dirigian la congregacion que no anduvieran “enseñoreandose de los que son la herencia de dios ”, sino que se revistieran de“ humildad mental ”.', '¿como puede llegarles al corazon a familiares que tienen otra religion o que ni siquiera creen en dios?', 'la biblia dice estas sabias palabras: “sagaz es el que ha visto la calamidad y procede a ocultarse, pero los inexpertos han pasado adelante y tienen que sufrir la pena ”.', 'nuestro padre celestial cubre con generosidad incomparable todas nuestras necesidades, y de hecho sabe cuales son antes de que se las demos a conocer.', 'me sorprendio la gran diferencia que habia entre lo que yo creia y lo que decia la biblia.', '¿cual es una manera de honrar a jehova?', 'sin embargo, ella estara preguntandose que le espera en esta tierra desconocida.', 'puede que se sienta como el patriarca job, que se lamento: “odio mi vida y no quiero seguir viviendo ”.', 'pero al final, uno se gana la confianza y el respeto de los demas ” (kaori, japon).', 'para empezar, los gobiernos mantienen el orden publico.', 'b) ¿que se necesita para que el israel espiritual pueda reinar con cristo en el cielo?', '20, 21. a) ¿por que se mantuvo fiel job?', 'seguimos sirviendo en la sucursal en la ciudad de quezon.', '¿en que sentido hace bajar fuego del cielo?', 'como se predijo, las personas son egoistas y no estan dispuestas a sacrificarse por los demas.', 'por consiguiente, el bautismo con espiritu es el que jehova ha estado realizando desde el dia de pentecostes a fin de elegir a los coherederos de cristo.', 'el principal libro de texto de dicha escuela es la biblia.', 'por años, peter fue el encargado del departamento de servicio.', 'pero ese poder solo nos beneficiara si la estudiamos y seguimos sus enseñanzas.', 'si, seguir este consejo de jesus: “simplemente signifique su palabra si, si, su no, no ”.', 'su enseñanza mas destacada es la de que el hombre posee un alma inmortal que sobrevive a la muerte del cuerpo fisico.', 'con buena organizacion y la ayuda de su familia, logro terminar la construccion.', 'cuando decidimos respetar los limites que ponen las leyes de jehova, demostramos que queremos ser sus hijos.', 'este gigantesco y glorioso vehiculo celestial representa a la organizacion de dios, sobre la cual el ejerce un control total.', 'lo peor que le puede ocurrir a una madre', '¿y los diferentes tipos de terreno?'), ('tiempopa risqanman hinam taytay, mamay, mayor paniy chaynataq iskay sullkaykunapas testigo karqaku.', 'santiago 1: 19 nin: “qamkunaqa chaylla uyariqya kaychik, rimaychikpas allinta tanteaspaya ”, nispa.', 'imatam entiendenchik: qalalla huchapakuqkunata qawaqkunaqa drogawan viciakuq hinam vidankupi llumpay dañota ruwakunku.', 'chayqa kanman wayratapas takachkachwan hinam.', 'kikin pedrom, iñiqkunamanta nanachikuqkunata nirqa, diospa ovejankunata michinankupaq ichaqa manam munaychakuq hinachu aswanqa humillakuspa michinankupaqmi.', '¿imaynatam huk religionniyoq otaq diospi mana creeq ayllunta yanapanman?', 'bibliam nin: “tanteoyoq runaqa desgracia sucedenanta qawarispanmi asurikun.', 'taytanchik hina qokuqqa manam pipas kanchu chaymi imapas necesitasqanchikta qowanchik, manaraqpas mañakuchkaptinchikmi yachanña ima necesitasqanchiktaqa.', 'anchatam admirakurqani creesqaykunaqa bibliapa yachachisqanwan mana tupasqanmanta.', '¿imata ruraspam jehova diosta hatunchanchik?', 'payqa mayna kusisqacha richkan rebeca isaacwan casarakuy munasqanmanta patronninman willayta munaspan.', 'yaqapascha diosta serviq job hina llakisqa tarikunki, paymi nirqa: “ñuqaqa kawsakuytapas amiruniñam, kawsaytapas manañam munaniñachu ”, nispa (job 7: 16, chuya qellqa 2012).', 'chayna kaptikiqa runakunam anchata respetasunki hinaspa confianzapaq hapisunki ”, nispa.', 'qawasun, gobiernokunam maypipas hawka kawsanapaq controlanku.', '(1) ¿imaynatam mosoq contratoqa tupan diospa gobiernonwan?', '20, 21. a) ¿imanasqam jobqa diosman sonqo karqa?', 'quezon llaqtapim betel wasipi hinalla yanapakuchkaniku', '¿ima ninantaq cielomantapas ninakunata wichichimun nisqanqa?', 'chaymi rebecapa ruwasqankunata qatipakuyqa llapanchikpaq ancha allin.', 'hinaptinqa, pentecostes punchawmantam chuya espirituwan bautismota diosqa rurachkarqa cristowan gobiernaqkunata akllananpaq.', 'kay escuelapi yachachinapaq libroqa bibliam.', 'achka watakunam piter iñiqmasinchikqa diosmanta willakuy apakunanpaq betel wasipi cuentallikurqa.', 'diospa palabran yanapawananchikpaqqa estudiananchikmi hinaspapas kasukunanchikmi.', 'jesuspa yachachisqanman hina “ari ” nispaykiqa chay nisqaykita cumpliy,“ manam ” nispaykipas chaynata ruway.', 'platonpa ancha reqsisqa yachachikuyninmi riman runakunapa cuerpon wañuptinpas almanqa hinalla kawsasqanmanta.', 'allin tanteasqanwan hinaspa familianpa yanapakuyninwanmi chay buque ruwayta tukururqa.', 'jehova diospa kamachikuyninkunaman hina imatapas tanteaspaqa, paypa churinkuna kay munasqanchiktam qawachisun.', 'chay sumaq carretaqa rikchakunmi diospa llaqtanman, paymi chaytaqa pusan.', 'wawan wañukuptinmi llumpayllataña llakikurqa', '¿imawantaq tupan tukuy rikchaq allpaqa?')]\n"
     ]
    }
   ],
   "source": [
    "for batch_num, batch in enumerate(iterator):\n",
    "    print(batch)\n",
    "    if batch_num > 3:\n",
    "        break"
   ]
  },
  {
   "cell_type": "code",
   "execution_count": 189,
   "metadata": {
    "id": "S8zaizCW50I1"
   },
   "outputs": [],
   "source": [
    "from torch import nn\n",
    "\n",
    "criterian = nn.CrossEntropyLoss(ignore_index=quechua_to_index[PADDING_TOKEN],\n",
    "                                reduction='none')\n",
    "\n",
    "# When computing the loss, we are ignoring cases when the label is the padding token\n",
    "for params in transformer.parameters():\n",
    "    if params.dim() > 1:\n",
    "        nn.init.xavier_uniform_(params)\n",
    "\n",
    "optim = torch.optim.Adam(transformer.parameters(), lr=1e-4)\n",
    "device = torch.device('cuda') if torch.cuda.is_available() else torch.device('cpu')"
   ]
  },
  {
   "cell_type": "code",
   "execution_count": 190,
   "metadata": {
    "id": "iqmgfmdN589z"
   },
   "outputs": [],
   "source": [
    "NEG_INFTY = -1e9\n",
    "\n",
    "def create_masks(eng_batch, kn_batch):\n",
    "    num_sentences = len(eng_batch)\n",
    "    look_ahead_mask = torch.full([max_sequence_length, max_sequence_length] , True)\n",
    "    look_ahead_mask = torch.triu(look_ahead_mask, diagonal=1)\n",
    "    encoder_padding_mask = torch.full([num_sentences, max_sequence_length, max_sequence_length] , False)\n",
    "    decoder_padding_mask_self_attention = torch.full([num_sentences, max_sequence_length, max_sequence_length] , False)\n",
    "    decoder_padding_mask_cross_attention = torch.full([num_sentences, max_sequence_length, max_sequence_length] , False)\n",
    "\n",
    "    for idx in range(num_sentences):\n",
    "      eng_sentence_length, kn_sentence_length = len(eng_batch[idx]), len(kn_batch[idx])\n",
    "      eng_chars_to_padding_mask = np.arange(eng_sentence_length + 1, max_sequence_length)\n",
    "      kn_chars_to_padding_mask = np.arange(kn_sentence_length + 1, max_sequence_length)\n",
    "      encoder_padding_mask[idx, :, eng_chars_to_padding_mask] = True\n",
    "      encoder_padding_mask[idx, eng_chars_to_padding_mask, :] = True\n",
    "      decoder_padding_mask_self_attention[idx, :, kn_chars_to_padding_mask] = True\n",
    "      decoder_padding_mask_self_attention[idx, kn_chars_to_padding_mask, :] = True\n",
    "      decoder_padding_mask_cross_attention[idx, :, eng_chars_to_padding_mask] = True\n",
    "      decoder_padding_mask_cross_attention[idx, kn_chars_to_padding_mask, :] = True\n",
    "\n",
    "    encoder_self_attention_mask = torch.where(encoder_padding_mask, NEG_INFTY, 0)\n",
    "    decoder_self_attention_mask =  torch.where(look_ahead_mask + decoder_padding_mask_self_attention, NEG_INFTY, 0)\n",
    "    decoder_cross_attention_mask = torch.where(decoder_padding_mask_cross_attention, NEG_INFTY, 0)\n",
    "    return encoder_self_attention_mask, decoder_self_attention_mask, decoder_cross_attention_mask"
   ]
  },
  {
   "cell_type": "code",
   "execution_count": null,
   "metadata": {
    "colab": {
     "base_uri": "https://localhost:8080/",
     "height": 265
    },
    "id": "TLxxZgSU6Dbl",
    "outputId": "3d95b22a-2110-4323-a2b2-085127e3f533"
   },
   "outputs": [
    {
     "name": "stdout",
     "output_type": "stream",
     "text": [
      "Epoch 0\n",
      "Iteration 0 : 10.773098945617676\n",
      "Español: y por ultimo dice que el pueblo de dios “escapara, todo el que se halle escrito en el libro ”.\n",
      "quechua Translation: ichaqa chaywanpas chay tiempopim llaqtamasikikuna librasqa kanqaku. libropi qillqasqa sutiyuqkunam lliw librakunqaku ’, nispa (dan.\n",
      "quechua Prediction: aaaaaaaaaaaaaaaaaaaaaaaaaaaaaaaaaaaaaaaaaaaaaaaaaaaaaaaaaaaaaaaaaaaaaaaaaaaaaaaaaaaaaaaaaaaaaaaaaaaaaaaaaaaaaaaaaaaaaaaaaaaaaaaaaaaaaaaaaaaaaaaaaaaaaaaaaaaaaaaaaaaaaaaaaaaaaaaaaaaaaaaaaaaaaaaaaaaaaaaa\n",
      "Evaluation translation (('me gusta el pan con queso',) / Quesoyuq tanta gustan) : ('aaaaaaaaaaaaaaaaaaaaaaaaaaaaaaaaaaaaaaaaaaaaaaaaaaaaaaaaaaaaaaaaaaaaaaaaaaaaaaaaaaaaaaaaaaaaaaaaaaaaaaaaaaaaaaaaaaaaaaaaaaaaaaaaaaaaaaaaaaaaaaaaaaaaaaaaaaaaaaaaaaaaaaaaaaaaaaaaaaaaaaaaaaaaaaaaaaaaaaaa',)\n",
      "-------------------------------------------\n",
      "Iteration 400 : 2.5641300678253174\n",
      "Español: cinco cuestiones dignas de analisis, publicado tambien en el 2010.\n",
      "quechua Translation: chaymi iñiyninkupi allinta takyanankupaq servichikuwaqchik 2010 watapi lloqsimuq el origen de la vida.\n",
      "quechua Prediction: hhanaannnanaanaananknaanaankanaananaananakanaanhanananahanahkaakkanananhaanaananaknahnananahanhankanan\n",
      "Evaluation translation (('me gusta el pan con queso',) / Quesoyuq tanta gustan) : ('hhanananananananananananananananananananananananananananananananananananananananananananananananananananananananananananananananananananananananananananan<END>',)\n",
      "-------------------------------------------\n",
      "Iteration 800 : 2.1371963024139404\n",
      "Español: estas palabras demuestran que dios si escucha las oraciones, pero sobre todo las de las personas que obedecen sus mandamientos.\n",
      "quechua Translation: chaywanmi cuentata qokunchik mañakusqanchikta jehova dios uyarisqanmanta, astawanraqmi kamachisqanta kasukuqninkunapataqa.\n",
      "quechua Prediction: chay a aankhnsaana kanunahinuka a unqa ahinuanhesina kinnqknanunqa aa aan hnqana au aakkuna hinqanaankunqnunaanaunanananan\n",
      "Evaluation translation (('me gusta el pan con queso',) / Quesoyuq tanta gustan) : ('¿i ) <END>',)\n",
      "-------------------------------------------\n",
      "Iteration 1200 : 2.078420400619507\n",
      "Español: tanto pedro como los demas discipulos estaban seguros de que jesus vivia y dirigia la predicacion.\n",
      "quechua Translation: pedrowan jesuspa wakin qatiqninkunaqa manama iskayrayarqakuchu jesuspa kawsarimusqanmantaqa nitaq diosmanta willakuy apakunanpaq pay nanachikusqanmantapas.\n",
      "quechua Prediction: casiisa akesqnpankanunakananaanaunanankanananknpunaqnanaanunhinkenpnpankunaqnqnanqanaanaanankananakinspanaankanlanunaknanunanaanakankkananhikunqanaanaananq\n",
      "Evaluation translation (('me gusta el pan con queso',) / Quesoyuq tanta gustan) : ('1) 1) <END>',)\n",
      "-------------------------------------------\n",
      "Iteration 1600 : 2.0227506160736084\n",
      "Español: para mi no tiene precio ver como se le ilumina el rostro al hablar de lo que siente por jehova ”.\n",
      "quechua Translation: anchatama kusikuni jehova dios kuyasqanmanta kusisqallaña rimaptin ”, nispa.\n",
      "quechua Prediction: csaha a   kanqnunankesana kinsqkananpa a   a kanp qa  l a kunanaanak  kanqa \n",
      "Evaluation translation (('me gusta el pan con queso',) / Quesoyuq tanta gustan) : ('1: 1).<END>',)\n",
      "-------------------------------------------\n",
      "Iteration 2000 : 1.9069455862045288\n",
      "Español: dijo: “como el cuerpo sin espiritu esta muerto, asi tambien la fe sin obras esta muerta ”.\n",
      "quechua Translation: nirqataqmi: “cuerponchikpas mana samayninchik kaptinqa wañusqam kachkan, chaynam iñiyninchikpas wañusqa kachkan allin kaqkunata mana ruwaptinchikqa ”, nispa.\n",
      "quechua Prediction: cania a     kkhnnaanahikua  kanankuna ka chi ukanaakaa kananpan kanhaunk khankaniknakk   hikua. kananqankanhaunaknllnakanaunanankanankqnanaanahanuan”. ”anpan\n",
      "Evaluation translation (('me gusta el pan con queso',) / Quesoyuq tanta gustan) : ('1 1.<END>',)\n",
      "-------------------------------------------\n",
      "Iteration 2400 : 1.9088469743728638\n",
      "Español: el simple hecho de saber que un ser amado se esta muriendo produce mucha angustia.\n",
      "quechua Translation: wañuy patanpiña ayllunchik tarikuptinqa llumpay llakisqam kanchik.\n",
      "quechua Prediction: canaynkayakca a knalanahikukinanunaak a alinaankallsanqanakanahaku\n",
      "Evaluation translation (('me gusta el pan con queso',) / Quesoyuq tanta gustan) : ('12) ).<END>',)\n",
      "-------------------------------------------\n",
      "Epoch 1\n",
      "Iteration 0 : 1.7580907344818115\n",
      "Español: y por ultimo dice que el pueblo de dios “escapara, todo el que se halle escrito en el libro ”.\n",
      "quechua Translation: ichaqa chaywanpas chay tiempopim llaqtamasikikuna librasqa kanqaku. libropi qillqasqa sutiyuqkunam lliw librakunqaku ’, nispa (dan.\n",
      "quechua Prediction: cchaqa khay an as khay kaenaana  hlanaa in  u una klsla pankasaa un\n",
      "Evaluation translation (('me gusta el pan con queso',) / Quesoyuq tanta gustan) : ('1 ).<END>',)\n",
      "-------------------------------------------\n",
      "Iteration 400 : 1.6891217231750488\n",
      "Español: cinco cuestiones dignas de analisis, publicado tambien en el 2010.\n",
      "quechua Translation: chaymi iñiyninkupi allinta takyanankupaq servichikuwaqchik 2010 watapi lloqsimuq el origen de la vida.\n",
      "quechua Prediction: chayni nman aniuna kllin a karu  i kuna akalqiahikunanahik k0:: kacaya ”einainana”slknusarakisainkibis\n",
      "Evaluation translation (('me gusta el pan con queso',) / Quesoyuq tanta gustan) : ('12) 2).<END>',)\n",
      "-------------------------------------------\n",
      "Iteration 800 : 1.5669820308685303\n",
      "Español: estas palabras demuestran que dios si escucha las oraciones, pero sobre todo las de las personas que obedecen sus mandamientos.\n",
      "quechua Translation: chaywanmi cuentata qokunchik mañakusqanchikta jehova dios uyarisqanmanta, astawanraqmi kamachisqanta kasukuqninkunapataqa.\n",
      "quechua Prediction: chaynan i aherta a kasunahikuhanayunpanihikua kehova diosprnayqspankanta  klqa an ayaa kasanhikqanka hasqnun inkunatasa a.\n",
      "Evaluation translation (('me gusta el pan con queso',) / Quesoyuq tanta gustan) : ('a 2). 19).<END>',)\n",
      "-------------------------------------------\n",
      "Iteration 1200 : 1.4031920433044434\n",
      "Español: tanto pedro como los demas discipulos estaban seguros de que jesus vivia y dirigia la predicacion.\n",
      "quechua Translation: pedrowan jesuspa wakin qatiqninkunaqa manama iskayrayarqakuchu jesuspa kawsarimusqanmantaqa nitaq diosmanta willakuy apakunanpaq pay nanachikusqanmantapas.\n",
      "quechua Prediction: canooman kehusta kañunakawaeainkuna a kanas nkmtaynqyk qa unhi kesuspa kasaanqn nqankanta a.kisap kionpanta.hañlakunkklayuyankas kaykkicanhiktnpantinta as.\n",
      "Evaluation translation (('me gusta el pan con queso',) / Quesoyuq tanta gustan) : ('a 1.<END>',)\n",
      "-------------------------------------------\n",
      "Iteration 1600 : 1.4588037729263306\n",
      "Español: para mi no tiene precio ver como se le ilumina el rostro al hablar de lo que siente por jehova ”.\n",
      "quechua Translation: anchatama kusikuni jehova dios kuyasqanmanta kusisqallaña rimaptin ”, nispa.\n",
      "quechua Prediction: crcha aq nnayikunankesova diospkayayqanminta katqspanla a kumayain k  nispa.\n",
      "Evaluation translation (('me gusta el pan con queso',) / Quesoyuq tanta gustan) : ('12: 1).<END>',)\n",
      "-------------------------------------------\n",
      "Iteration 2000 : 1.3934974670410156\n",
      "Español: dijo: “como el cuerpo sin espiritu esta muerto, asi tambien la fe sin obras esta muerta ”.\n",
      "quechua Translation: nirqataqmi: “cuerponchikpas mana samayninchik kaptinqa wañusqam kachkan, chaynam iñiyninchikpas wañusqa kachkan allin kaqkunata mana ruwaptinchikqa ”, nispa.\n",
      "quechua Prediction: cisqa a ai  “dhennanihik aq hana kacacnanihik ”asainma kañunqa  kashaana “hayni akkiqkikchik aq hañunqan”ashiank”llin ”asaanana ”ana ”unanainchik a ”, nispa.\n",
      "Evaluation translation (('me gusta el pan con queso',) / Quesoyuq tanta gustan) : ('a 2 15).<END>',)\n",
      "-------------------------------------------\n",
      "Iteration 2400 : 1.4555245637893677\n",
      "Español: el simple hecho de saber que un ser amado se esta muriendo produce mucha angustia.\n",
      "quechua Translation: wañuy patanpiña ayllunchik tarikuptinqa llumpay llakisqam kanchik.\n",
      "quechua Prediction: cakan aayinpa a klalan hik karikunainma klampayaalaqunpan kasahak.\n",
      "Evaluation translation (('me gusta el pan con queso',) / Quesoyuq tanta gustan) : ('alli  15).<END>',)\n",
      "-------------------------------------------\n",
      "Epoch 2\n",
      "Iteration 0 : 1.3530060052871704\n",
      "Español: y por ultimo dice que el pueblo de dios “escapara, todo el que se halle escrito en el libro ”.\n",
      "quechua Translation: ichaqa chaywanpas chay tiempopim llaqtamasikikuna librasqa kanqaku. libropi qillqasqa sutiyuqkunam lliw librakunqaku ’, nispa (dan.\n",
      "quechua Prediction: cchaqa mhaynan is chaynpiempopi  klaqta  ninucunatalrlanpankasqa un\n",
      "Evaluation translation (('me gusta el pan con queso',) / Quesoyuq tanta gustan) : ('a 2 2).<END>',)\n",
      "-------------------------------------------\n",
      "Iteration 400 : 1.370643138885498\n",
      "Español: cinco cuestiones dignas de analisis, publicado tambien en el 2010.\n",
      "quechua Translation: chaymi iñiyninkupi allinta takyanankupaq servichikuwaqchik 2010 watapi lloqsimuq el origen de la vida.\n",
      "quechua Prediction: chaymi nmiqoincuma pllin a karu  apcu iq kerviahikunan hiku(0   katapi (laqsinun kllknvnorakimleqkidan\n",
      "Evaluation translation (('me gusta el pan con queso',) / Quesoyuq tanta gustan) : ('a 22).<END>',)\n",
      "-------------------------------------------\n",
      "Iteration 800 : 1.3098491430282593\n",
      "Español: estas palabras demuestran que dios si escucha las oraciones, pero sobre todo las de las personas que obedecen sus mandamientos.\n",
      "quechua Translation: chaywanmi cuentata qokunchik mañakusqanchikta jehova dios uyarisqanmanta, astawanraqmi kamachisqanta kasukuqninkunapataqa.\n",
      "quechua Prediction: chayman i hhenta a haninahakuranukuspanchik a mehova diospktarispancinta  kltiwan aq a hasachinqanka aasukun ankutataqa  .\n",
      "Evaluation translation (('me gusta el pan con queso',) / Quesoyuq tanta gustan) : ('huk llliia llaia lllii llaiil elili  20<END>',)\n",
      "-------------------------------------------\n",
      "Iteration 1200 : 1.2142086029052734\n",
      "Español: tanto pedro como los demas discipulos estaban seguros de que jesus vivia y dirigia la predicacion.\n",
      "quechua Translation: pedrowan jesuspa wakin qatiqninkunaqa manama iskayrayarqakuchu jesuspa kawsarimusqanmantaqa nitaq diosmanta willakuy apakunanpaq pay nanachikusqanmantapas.\n",
      "quechua Prediction: caeropan kesuspa lakin kawipninkunapa kana  nkmwaynaykqqa u hi aehuspa kassanqsusqankanta a kisaq kiospanta hañlakuynpnaqunankaq.kackkapcnhik..qaniinta.as.\n",
      "Evaluation translation (('me gusta el pan con queso',) / Quesoyuq tanta gustan) : ('atieddi oo  elis llaiia llipi eliia llie  2 5<END>',)\n",
      "-------------------------------------------\n",
      "Iteration 1600 : 1.27298903465271\n",
      "Español: para mi no tiene precio ver como se le ilumina el rostro al hablar de lo que siente por jehova ”.\n",
      "quechua Translation: anchatama kusikuni jehova dios kuyasqanmanta kusisqallaña rimaptin ”, nispa.\n",
      "quechua Prediction: cpchama  nnayisuna kesova diostkayayqantinta kayikqanlama kumayain h, nirpa.\n",
      "Evaluation translation (('me gusta el pan con queso',) / Quesoyuq tanta gustan) : ('a 22).<END>',)\n",
      "-------------------------------------------\n",
      "Iteration 2000 : 1.2248274087905884\n",
      "Español: dijo: “como el cuerpo sin espiritu esta muerto, asi tambien la fe sin obras esta muerta ”.\n",
      "quechua Translation: nirqataqmi: “cuerponchikpas mana samayninchik kaptinqa wañusqam kachkan, chaynam iñiyninchikpas wañusqa kachkan allin kaqkunata mana ruwaptinchikqa ”, nispa.\n",
      "quechua Prediction: cisqanaqai  “mhentinchik as mana aapaynanchik haqtinca kañunqan kanhaana nhaynatakmiqninchik.aq kañikqan”ashaank”llin kaskunanaqkana ”unanainqhik.a ”, nispa.\n",
      "Evaluation translation (('me gusta el pan con queso',) / Quesoyuq tanta gustan) : ('huk la llatidik<END>',)\n",
      "-------------------------------------------\n",
      "Iteration 2400 : 1.3250752687454224\n",
      "Español: el simple hecho de saber que un ser amado se esta muriendo produce mucha angustia.\n",
      "quechua Translation: wañuy patanpiña ayllunchik tarikuptinqa llumpay llakisqam kanchik.\n",
      "quechua Prediction: cakun kayapma a klalunchik iarikuntinma klampayaalaqipqanakanahak.\n",
      "Evaluation translation (('me gusta el pan con queso',) / Quesoyuq tanta gustan) : ('a 25).<END>',)\n",
      "-------------------------------------------\n",
      "Epoch 3\n",
      "Iteration 0 : 1.2156412601470947\n",
      "Español: y por ultimo dice que el pueblo de dios “escapara, todo el que se halle escrito en el libro ”.\n",
      "quechua Translation: ichaqa chaywanpas chay tiempopim llaqtamasikikuna librasqa kanqaku. libropi qillqasqa sutiyuqkunam lliw librakunqaku ’, nispa (dan.\n",
      "quechua Prediction: cchaqa mhaynan is chay paempopi  nllqtap ninucuyatklbranpa ”asaa u \n",
      "Evaluation translation (('me gusta el pan con queso',) / Quesoyuq tanta gustan) : ('a 25).<END>',)\n",
      "-------------------------------------------\n",
      "Iteration 400 : 1.2519800662994385\n",
      "Español: cinco cuestiones dignas de analisis, publicado tambien en el 2010.\n",
      "quechua Translation: chaymi iñiyninkupi allinta takyanankupaq servichikuwaqchik 2010 watapi lloqsimuq el origen de la vida.\n",
      "quechua Prediction: chaymi 1miqnankuna hllin a qary papkupaq karviehikunan huk (0:0 watapa klaqsisan kllktvnanawi lewkedan\n",
      "Evaluation translation (('me gusta el pan con queso',) / Quesoyuq tanta gustan) : ('a llilaqa lliia lliiaau<END>',)\n",
      "-------------------------------------------\n",
      "Iteration 800 : 1.2128586769104004\n",
      "Español: estas palabras demuestran que dios si escucha las oraciones, pero sobre todo las de las personas que obedecen sus mandamientos.\n",
      "quechua Translation: chaywanmi cuentata qokunchik mañakusqanchikta jehova dios uyarisqanmanta, astawanraqmi kamachisqanta kasukuqninkunapataqa.\n",
      "quechua Prediction: chaynanqi chirta a rasunahik ianakuspankhik a mehova diospktarikqankanta  alwawan aq i kasachikqania hasqkun ankupatasaqa \n",
      "Evaluation translation (('me gusta el pan con queso',) / Quesoyuq tanta gustan) : ('a llilaq lliaq ellaqa lllaqa lllaqa<END>',)\n",
      "-------------------------------------------\n",
      "Iteration 1200 : 1.1051303148269653\n",
      "Español: tanto pedro como los demas discipulos estaban seguros de que jesus vivia y dirigia la predicacion.\n",
      "quechua Translation: pedrowan jesuspa wakin qatiqninkunaqa manama iskayrayarqakuchu jesuspa kawsarimusqanmantaqa nitaq diosmanta willakuy apakunanpaq pay nanachikusqanmantapas.\n",
      "quechua Prediction: canro an kehuspa katin rawiqninkunata aana  nhmkaynayknaanu hk kehuspa kassanisusqantanta.a kisap kiospanta yallakunninaqunankaq.kaythinanhik yqanaanta.as.\n",
      "Evaluation translation (('me gusta el pan con queso',) / Quesoyuq tanta gustan) : ('harka llilaq lllaqa llilaq lllaqa<END>',)\n",
      "-------------------------------------------\n",
      "Iteration 1600 : 1.21127188205719\n",
      "Español: para mi no tiene precio ver como se le ilumina el rostro al hablar de lo que siente por jehova ”.\n",
      "quechua Translation: anchatama kusikuni jehova dios kuyasqanmanta kusisqallaña rimaptin ”, nispa.\n",
      "quechua Prediction: crchacam nnayikuna kesova diostkayakqankanta kayisqanla a kumacainpk  nispa.\n",
      "Evaluation translation (('me gusta el pan con queso',) / Quesoyuq tanta gustan) : ('a llilaq lllaa lliaq lllaa  lllaa  lllaa llia  lllaaqa<END>',)\n",
      "-------------------------------------------\n",
      "Iteration 2000 : 1.1456106901168823\n",
      "Español: dijo: “como el cuerpo sin espiritu esta muerto, asi tambien la fe sin obras esta muerta ”.\n",
      "quechua Translation: nirqataqmi: “cuerponchikpas mana samayninchik kaptinqa wañusqam kachkan, chaynam iñiyninchikpas wañusqa kachkan allin kaqkunata mana ruwaptinchikqa ”, nispa.\n",
      "quechua Prediction: cirqataqmi  “mhenponkhik aq nana aalanaankhik ”astinca kañukqan ”anhaan  phaynata”miqninchikpaq ”añurqan”anhiank”llin ”an unata ”ana ”uwantinahak a.”. nispa.\n",
      "Evaluation translation (('me gusta el pan con queso',) / Quesoyuq tanta gustan) : ('a llilitaq ka llilaq lllaku<END>',)\n",
      "-------------------------------------------\n",
      "Iteration 2400 : 1.230808138847351\n",
      "Español: el simple hecho de saber que un ser amado se esta muriendo produce mucha angustia.\n",
      "quechua Translation: wañuy patanpiña ayllunchik tarikuptinqa llumpay llakisqam kanchik.\n",
      "quechua Prediction: cakuk kayappi a klalunchik hayikuntinma klampay hlaqipqanikanahak \n",
      "Evaluation translation (('me gusta el pan con queso',) / Quesoyuq tanta gustan) : ('a lliaku<END>',)\n",
      "-------------------------------------------\n",
      "Epoch 4\n",
      "Iteration 0 : 1.1524717807769775\n",
      "Español: y por ultimo dice que el pueblo de dios “escapara, todo el que se halle escrito en el libro ”.\n",
      "quechua Translation: ichaqa chaywanpas chay tiempopim llaqtamasikikuna librasqa kanqaku. libropi qillqasqa sutiyuqkunam lliw librakunqaku ’, nispa (dan.\n",
      "quechua Prediction: cchaqa ‘hay an as hhayntiempopi  nlaqta  ninu uya klbranqankanaa u \n",
      "Evaluation translation (('me gusta el pan con queso',) / Quesoyuq tanta gustan) : ('a llilaq lllaa lliaq lllaku<END>',)\n",
      "-------------------------------------------\n",
      "Iteration 400 : 1.193076252937317\n",
      "Español: cinco cuestiones dignas de analisis, publicado tambien en el 2010.\n",
      "quechua Translation: chaymi iñiyninkupi allinta takyanankupaq servichikuwaqchik 2010 watapi lloqsimuq el origen de la vida.\n",
      "quechua Prediction: chayma ksiqnin una kllin a wayy papku aq kalvichikunannhuk (00  watapi klaqsinan kslktinanakillewkaban\n",
      "Evaluation translation (('me gusta el pan con queso',) / Quesoyuq tanta gustan) : ('alliapa lliaq hiallpia llaku<END>',)\n",
      "-------------------------------------------\n",
      "Iteration 800 : 1.151640772819519\n",
      "Español: estas palabras demuestran que dios si escucha las oraciones, pero sobre todo las de las personas que obedecen sus mandamientos.\n",
      "quechua Translation: chaywanmi cuentata qokunchik mañakusqanchikta jehova dios uyarisqanmanta, astawanraqmi kamachisqanta kasukuqninkunapataqa.\n",
      "quechua Prediction: chaynan i chmnta a ranunahik danakunpanchik a mehova diospsnarisuankanta  clwawan ay i kasachikqanca masukun inkunataqas .\n",
      "Evaluation translation (('me gusta el pan con queso',) / Quesoyuq tanta gustan) : ('a llilita ru lllaku<END>',)\n",
      "-------------------------------------------\n",
      "Iteration 1200 : 1.0640729665756226\n",
      "Español: tanto pedro como los demas discipulos estaban seguros de que jesus vivia y dirigia la predicacion.\n",
      "quechua Translation: pedrowan jesuspa wakin qatiqninkunaqa manama iskayrayarqakuchu jesuspa kawsarimusqanmantaqa nitaq diosmanta willakuy apakunanpaq pay nanachikusqanmantapas.\n",
      "quechua Prediction: calro an aesusqa kañin rawiqnin unata mana   ymway ayksaaku hu kesuspa kamsasimunqantanta a.aisiq kiospanta hiñlakunnktaqunankaq.kackkicaphik.npankinta.as.\n",
      "Evaluation translation (('me gusta el pan con queso',) / Quesoyuq tanta gustan) : ('eeeliu  erviy olita huna elilapaqa<END>',)\n",
      "-------------------------------------------\n",
      "Iteration 1600 : 1.14724600315094\n",
      "Español: para mi no tiene precio ver como se le ilumina el rostro al hablar de lo que siente por jehova ”.\n",
      "quechua Translation: anchatama kusikuni jehova dios kuyasqanmanta kusisqallaña rimaptin ”, nispa.\n",
      "quechua Prediction: crchata   nayisuna kesova diosppayarqantanta yayisqanla a kumasainmk, nispa.\n",
      "Evaluation translation (('me gusta el pan con queso',) / Quesoyuq tanta gustan) : ('hu erviyana ehirayu<END>',)\n",
      "-------------------------------------------\n",
      "Iteration 2000 : 1.1013365983963013\n",
      "Español: dijo: “como el cuerpo sin espiritu esta muerto, asi tambien la fe sin obras esta muerta ”.\n",
      "quechua Translation: nirqataqmi: “cuerponchikpas mana samayninchik kaptinqa wañusqam kachkan, chaynam iñiyninchikpas wañusqa kachkan allin kaqkunata mana ruwaptinchikqa ”, nispa.\n",
      "quechua Prediction: cirqamaqmi  “dhenponkhik is kana kasaqkaychik hastinca kañunqanikanhaan. nhaynatakciyninthik aq (añunqan”anhkan.”llintkankunata ”ana ”uwastin hikpa.”, nispa.\n",
      "Evaluation translation (('me gusta el pan con queso',) / Quesoyuq tanta gustan) : ('hiayku<END>',)\n",
      "-------------------------------------------\n",
      "Iteration 2400 : 1.1609630584716797\n",
      "Español: el simple hecho de saber que un ser amado se esta muriendo produce mucha angustia.\n",
      "quechua Translation: wañuy patanpiña ayllunchik tarikuptinqa llumpay llakisqam kanchik.\n",
      "quechua Prediction: cakuk kaca pi a kkllunchik harikuntinka klampay hlaqipqan kanahak.\n",
      "Evaluation translation (('me gusta el pan con queso',) / Quesoyuq tanta gustan) : ('allihaku<END>',)\n",
      "-------------------------------------------\n",
      "Epoch 5\n",
      "Iteration 0 : 1.1075841188430786\n",
      "Español: y por ultimo dice que el pueblo de dios “escapara, todo el que se halle escrito en el libro ”.\n",
      "quechua Translation: ichaqa chaywanpas chay tiempopim llaqtamasikikuna librasqa kanqaku. libropi qillqasqa sutiyuqkunam lliw librakunqaku ’, nispa (dan.\n",
      "quechua Prediction: cchaqa mhay an aq hhaynraempopi  klamtapaninicunatklbranqankasaa u \n",
      "Evaluation translation (('me gusta el pan con queso',) / Quesoyuq tanta gustan) : ('elipo erviq elipa llaku<END>',)\n",
      "-------------------------------------------\n",
      "Iteration 400 : 1.145637035369873\n",
      "Español: cinco cuestiones dignas de analisis, publicado tambien en el 2010.\n",
      "quechua Translation: chaymi iñiyninkupi allinta takyanankupaq servichikuwaqchik 2010 watapi lloqsimuq el origen de la vida.\n",
      "quechua Prediction: chaymi csiqninkuna kllin a wariapapcupaq kañviyhik yannhukkc00  watapi kaaqsisuq kllktvninake llwkidin\n",
      "Evaluation translation (('me gusta el pan con queso',) / Quesoyuq tanta gustan) : ('hiayna lliichkana ehiray | hia lliepallasqan<END>',)\n",
      "-------------------------------------------\n",
      "Iteration 800 : 1.1151928901672363\n",
      "Español: estas palabras demuestran que dios si escucha las oraciones, pero sobre todo las de las personas que obedecen sus mandamientos.\n",
      "quechua Translation: chaywanmi cuentata qokunchik mañakusqanchikta jehova dios uyarisqanmanta, astawanraqmi kamachisqanta kasukuqninkunapataqa.\n",
      "quechua Prediction: chaynan i chentana raluyahikkhanakuspankhik a mesova diospsnanisqancanta  cswawan aq i kasachisqa ca masqkun inkunataqa a \n",
      "Evaluation translation (('me gusta el pan con queso',) / Quesoyuq tanta gustan) : ('hiaypi erviqan hia llaku llliqa hia llaku<END>',)\n",
      "-------------------------------------------\n",
      "Iteration 1200 : 1.009993314743042\n",
      "Español: tanto pedro como los demas discipulos estaban seguros de que jesus vivia y dirigia la predicacion.\n",
      "quechua Translation: pedrowan jesuspa wakin qatiqninkunaqa manama iskayrayarqakuchu jesuspa kawsarimusqanmantaqa nitaq diosmanta willakuy apakunanpaq pay nanachikusqanmantapas.\n",
      "quechua Prediction: cadrotan aesuspa kañin hawiqninkunapa aana  ncmkay ayksia u.hu.kehuspa kamsaninanqankanta a.kcsaq kiosmanta yillakunnktayunankaq.kackkicaphik.nqantanta.as.\n",
      "Evaluation translation (('me gusta el pan con queso',) / Quesoyuq tanta gustan) : ('hiaia llaku llaku<END>',)\n",
      "-------------------------------------------\n",
      "Iteration 1600 : 1.111633539199829\n",
      "Español: para mi no tiene precio ver como se le ilumina el rostro al hablar de lo que siente por jehova ”.\n",
      "quechua Translation: anchatama kusikuni jehova dios kuyasqanmanta kusisqallaña rimaptin ”, nispa.\n",
      "quechua Prediction: crchatam  nayisuna kehova diosppayasqantanta kayisqanla a kumayainck, nispa.\n",
      "Evaluation translation (('me gusta el pan con queso',) / Quesoyuq tanta gustan) : ('hiataq hia llaku llajo ehiray<END>',)\n",
      "-------------------------------------------\n",
      "Iteration 2000 : 1.0626740455627441\n",
      "Español: dijo: “como el cuerpo sin espiritu esta muerto, asi tambien la fe sin obras esta muerta ”.\n",
      "quechua Translation: nirqataqmi: “cuerponchikpas mana samayninchik kaptinqa wañusqam kachkan, chaynam iñiyninchikpas wañusqa kachkan allin kaqkunata mana ruwaptinchikqa ”, nispa.\n",
      "quechua Prediction: cirqataqmi  “dhenponmhak as hana aasankaythik ’awtin a ’añukqan ’anhkan. phaynat kmiqninkhik aq ”añurqan”anhkan ”llin kaskunata ”ana ”urantinkhik a.”, nispa.\n",
      "Evaluation translation (('me gusta el pan con queso',) / Quesoyuq tanta gustan) : ('elieqku<END>',)\n",
      "-------------------------------------------\n",
      "Iteration 2400 : 1.1394317150115967\n",
      "Español: el simple hecho de saber que un ser amado se esta muriendo produce mucha angustia.\n",
      "quechua Translation: wañuy patanpiña ayllunchik tarikuptinqa llumpay llakisqam kanchik.\n",
      "quechua Prediction: cakuk kacanpi a ktllunkhik aanikuntinqa mlampay alaqipqan kanahak.\n",
      "Evaluation translation (('me gusta el pan con queso',) / Quesoyuq tanta gustan) : ('hiaaqpas ehirayu<END>',)\n",
      "-------------------------------------------\n",
      "Epoch 6\n",
      "Iteration 0 : 1.0718828439712524\n",
      "Español: y por ultimo dice que el pueblo de dios “escapara, todo el que se halle escrito en el libro ”.\n",
      "quechua Translation: ichaqa chaywanpas chay tiempopim llaqtamasikikuna librasqa kanqaku. libropi qillqasqa sutiyuqkunam lliw librakunqaku ’, nispa (dan.\n",
      "quechua Prediction: bchaqa ‘hay an aq hhaynraempopi  klamtan ninicunapklbrasqankaraa u \n",
      "Evaluation translation (('me gusta el pan con queso',) / Quesoyuq tanta gustan) : ('hiaa lliapaku<END>',)\n",
      "-------------------------------------------\n",
      "Iteration 400 : 1.1411497592926025\n",
      "Español: cinco cuestiones dignas de analisis, publicado tambien en el 2010.\n",
      "quechua Translation: chaymi iñiyninkupi allinta takyanankupaq servichikuwaqchik 2010 watapi lloqsimuq el origen de la vida.\n",
      "quechua Prediction: chaymi 1siqnin una kslin a raryarankupaq kañviqhikunar hukkk009 watapi klaqsisun rllktvnasake lawkadan\n",
      "Evaluation translation (('me gusta el pan con queso',) / Quesoyuq tanta gustan) : ('hiaia llipapaku<END>',)\n",
      "-------------------------------------------\n",
      "Iteration 800 : 1.0835322141647339\n",
      "Español: estas palabras demuestran que dios si escucha las oraciones, pero sobre todo las de las personas que obedecen sus mandamientos.\n",
      "quechua Translation: chaywanmi cuentata qokunchik mañakusqanchikta jehova dios uyarisqanmanta, astawanraqmi kamachisqanta kasukuqninkunapataqa.\n",
      "quechua Prediction: chaymanmi ahentasa qasunahiktianakuspanchik a qehova diospsnarinqancanta  cswawan aq i kayachikqanka yasqkun incunatisa  .\n",
      "Evaluation translation (('me gusta el pan con queso',) / Quesoyuq tanta gustan) : ('hiaispaq hiallipaku<END>',)\n",
      "-------------------------------------------\n",
      "Iteration 1200 : 0.9845073223114014\n",
      "Español: tanto pedro como los demas discipulos estaban seguros de que jesus vivia y dirigia la predicacion.\n",
      "quechua Translation: pedrowan jesuspa wakin qatiqninkunaqa manama iskayrayarqakuchu jesuspa kawsarimusqanmantaqa nitaq diosmanta willakuy apakunanpaq pay nanachikusqanmantapas.\n",
      "quechua Prediction: cadropan aesusqa matin hawiqninkunata aana   kskay ayaniaku hu kehuspa kamsanicusqantanta.a.aisaq kiosmanta yillakuntktuqunankaq (ackaicaphakuyqankanta.as.\n",
      "Evaluation translation (('me gusta el pan con queso',) / Quesoyuq tanta gustan) : ('hiaia llaapaku<END>',)\n",
      "-------------------------------------------\n",
      "Iteration 1600 : 1.0859640836715698\n",
      "Español: para mi no tiene precio ver como se le ilumina el rostro al hablar de lo que siente por jehova ”.\n",
      "quechua Translation: anchatama kusikuni jehova dios kuyasqanmanta kusisqallaña rimaptin ”, nispa.\n",
      "quechua Prediction: crcha am nrayisuya kesova dios nayasqantanta wayisqanlana kumasainmk, nispa.\n",
      "Evaluation translation (('me gusta el pan con queso',) / Quesoyuq tanta gustan) : ('hiaia llaku hukkunapt hiaru<END>',)\n",
      "-------------------------------------------\n",
      "Iteration 2000 : 1.0318849086761475\n",
      "Español: dijo: “como el cuerpo sin espiritu esta muerto, asi tambien la fe sin obras esta muerta ”.\n",
      "quechua Translation: nirqataqmi: “cuerponchikpas mana samayninchik kaptinqa wañusqam kachkan, chaynam iñiyninchikpas wañusqa kachkan allin kaqkunata mana ruwaptinchikqa ”, nispa.\n",
      "quechua Prediction: cirqamaqmi  “dhelponkhik a  aana aasantiythik daytinma karucqan kanhkan. ahaynat kmiqninkhik aq ”añurqankashkan.”llin kaskunata kana ”uwantinkhik a ”, nispa.\n",
      "Evaluation translation (('me gusta el pan con queso',) / Quesoyuq tanta gustan) : ('ielichka llaku lapachiku<END>',)\n",
      "-------------------------------------------\n",
      "Iteration 2400 : 1.1101222038269043\n",
      "Español: el simple hecho de saber que un ser amado se esta muriendo produce mucha angustia.\n",
      "quechua Translation: wañuy patanpiña ayllunchik tarikuptinqa llumpay llakisqam kanchik.\n",
      "quechua Prediction: cakukmaacrnai amklllunkhik iarikustinka mlampay tlaqipqan kanahak.\n",
      "Evaluation translation (('me gusta el pan con queso',) / Quesoyuq tanta gustan) : ('ilieqku<END>',)\n",
      "-------------------------------------------\n",
      "Epoch 7\n",
      "Iteration 0 : 1.0325483083724976\n",
      "Español: y por ultimo dice que el pueblo de dios “escapara, todo el que se halle escrito en el libro ”.\n",
      "quechua Translation: ichaqa chaywanpas chay tiempopim llaqtamasikikuna librasqa kanqaku. libropi qillqasqa sutiyuqkunam lliw librakunqaku ’, nispa (dan.\n",
      "quechua Prediction: bchaqa ‘haynan as hhay riempopi  klaqtapaninicunat’lbranqa kasaa u \n",
      "Evaluation translation (('me gusta el pan con queso',) / Quesoyuq tanta gustan) : ('hiaqku<END>',)\n",
      "-------------------------------------------\n",
      "Iteration 400 : 1.0883257389068604\n",
      "Español: cinco cuestiones dignas de analisis, publicado tambien en el 2010.\n",
      "quechua Translation: chaymi iñiyninkupi allinta takyanankupaq servichikuwaqchik 2010 watapi lloqsimuq el origen de la vida.\n",
      "quechua Prediction: chaymi ksiqnincuni kllin i yaryasancupaq hañviqhikunannhukuh009 watapi klaqsiruq kllktunanake la keden\n",
      "Evaluation translation (('me gusta el pan con queso',) / Quesoyuq tanta gustan) : ('hiaia lliapaku hukmannapaq huk hinaspa qa hinaspa ku<END>',)\n",
      "-------------------------------------------\n",
      "Iteration 800 : 1.056811809539795\n",
      "Español: estas palabras demuestran que dios si escucha las oraciones, pero sobre todo las de las personas que obedecen sus mandamientos.\n",
      "quechua Translation: chaywanmi cuentata qokunchik mañakusqanchikta jehova dios uyarisqanmanta, astawanraqmi kamachisqanta kasukuqninkunapataqa.\n",
      "quechua Prediction: chaymanpi khentaca ranusahik kanakunpanchikta mehova diospknarirqankanta  cswawan aq i kasachikqanca yasqkun inkunatasas .\n",
      "Evaluation translation (('me gusta el pan con queso',) / Quesoyuq tanta gustan) : ('eliespa su<END>',)\n",
      "-------------------------------------------\n",
      "Iteration 1200 : 0.9544321894645691\n",
      "Español: tanto pedro como los demas discipulos estaban seguros de que jesus vivia y dirigia la predicacion.\n",
      "quechua Translation: pedrowan jesuspa wakin qatiqninkunaqa manama iskayrayarqakuchu jesuspa kawsarimusqanmantaqa nitaq diosmanta willakuy apakunanpaq pay nanachikusqanmantapas.\n",
      "quechua Prediction: canro an aesusqa kañin kawiqninkunata kanam  askay ayanua u.hu kehuspa kamsakicunqantanta.a.kinaq kiospanta.willakustatayunankaq.(aykkicachikuyqantanta.as.\n",
      "Evaluation translation (('me gusta el pan con queso',) / Quesoyuq tanta gustan) : ('eeispa lliachkanpa qa hinaspa qa hirku<END>',)\n",
      "-------------------------------------------\n",
      "Iteration 1600 : 1.078245759010315\n",
      "Español: para mi no tiene precio ver como se le ilumina el rostro al hablar de lo que siente por jehova ”.\n",
      "quechua Translation: anchatama kusikuni jehova dios kuyasqanmanta kusisqallaña rimaptin ”, nispa.\n",
      "quechua Prediction: crchata  nrayisuya kesova diospkayarqantanta hayikqanlana kumayainph, nispa.\n",
      "Evaluation translation (('me gusta el pan con queso',) / Quesoyuq tanta gustan) : ('illichka ru<END>',)\n",
      "-------------------------------------------\n",
      "Iteration 2000 : 1.0190880298614502\n",
      "Español: dijo: “como el cuerpo sin espiritu esta muerto, asi tambien la fe sin obras esta muerta ”.\n",
      "quechua Translation: nirqataqmi: “cuerponchikpas mana samayninchik kaptinqa wañusqam kachkan, chaynam iñiyninchikpas wañusqa kachkan allin kaqkunata mana ruwaptinchikqa ”, nispa.\n",
      "quechua Prediction: cirqamaqmi  “dhenponkhik a  mana aasankiychik ”antinma kañukqan kanhkank chaymaqakciqninkhikmas ”añukqan”ashaan.”llin kankunata ”ana ”urantinkhik a ”, nispa.\n",
      "Evaluation translation (('me gusta el pan con queso',) / Quesoyuq tanta gustan) : ('hiaru hu harka llaku llaku llaku<END>',)\n",
      "-------------------------------------------\n",
      "Iteration 2400 : 1.0918537378311157\n",
      "Español: el simple hecho de saber que un ser amado se esta muriendo produce mucha angustia.\n",
      "quechua Translation: wañuy patanpiña ayllunchik tarikuptinqa llumpay llakisqam kanchik.\n",
      "quechua Prediction: cakukmkayanpi atkkllunkhik aanikuntinqa mlampay klamikqan kanahak.\n",
      "Evaluation translation (('me gusta el pan con queso',) / Quesoyuq tanta gustan) : ('hiarunapaq haan kallapaku<END>',)\n",
      "-------------------------------------------\n",
      "Epoch 8\n",
      "Iteration 0 : 1.0264010429382324\n",
      "Español: y por ultimo dice que el pueblo de dios “escapara, todo el que se halle escrito en el libro ”.\n",
      "quechua Translation: ichaqa chaywanpas chay tiempopim llaqtamasikikuna librasqa kanqaku. libropi qillqasqa sutiyuqkunam lliw librakunqaku ’, nispa (dan.\n",
      "quechua Prediction: cchaqa ‘hay an as ahaynpiempopi  klaqta  ninucunaphlbrakqa kasaa un\n",
      "Evaluation translation (('me gusta el pan con queso',) / Quesoyuq tanta gustan) : ('hiapaq huk achka llaqkuni hinaspa qa hinaspa qa hirku<END>',)\n",
      "-------------------------------------------\n",
      "Iteration 400 : 1.070991039276123\n",
      "Español: cinco cuestiones dignas de analisis, publicado tambien en el 2010.\n",
      "quechua Translation: chaymi iñiyninkupi allinta takyanankupaq servichikuwaqchik 2010 watapi lloqsimuq el origen de la vida.\n",
      "quechua Prediction: chaymi ksiqnin una knlinta waniarapkupaq keñviqaikuran hukk(009 watapi klaqsimuq kllptuoanale lawpiday\n",
      "Evaluation translation (('me gusta el pan con queso',) / Quesoyuq tanta gustan) : ('hiaiaq huernasqanku<END>',)\n",
      "-------------------------------------------\n",
      "Iteration 800 : 1.0228346586227417\n",
      "Español: estas palabras demuestran que dios si escucha las oraciones, pero sobre todo las de las personas que obedecen sus mandamientos.\n",
      "quechua Translation: chaywanmi cuentata qokunchik mañakusqanchikta jehova dios uyarisqanmanta, astawanraqmi kamachisqanta kasukuqninkunapataqa.\n",
      "quechua Prediction: chaymanpi ihentata ranunahik aanakuspanchikta mesova diosprnarisqancanta  cswawan aq i kayachiwqanka yasqkun inkunataqas  \n",
      "Evaluation translation (('me gusta el pan con queso',) / Quesoyuq tanta gustan) : ('hiapaq huerqaymitaspapas maa nillaku<END>',)\n",
      "-------------------------------------------\n",
      "Iteration 1200 : 0.9623029828071594\n",
      "Español: tanto pedro como los demas discipulos estaban seguros de que jesus vivia y dirigia la predicacion.\n",
      "quechua Translation: pedrowan jesuspa wakin qatiqninkunaqa manama iskayrayarqakuchu jesuspa kawsarimusqanmantaqa nitaq diosmanta willakuy apakunanpaq pay nanachikusqanmantapas.\n",
      "quechua Prediction: canro an aehusqa kañin kawiqninkunata jana   amkay ayksuaku hu kehuspa mamsanimunqanmanta.a.minaq kiosmanta yillakuntktacanankaq.kackaicachisunpankanta.as.\n",
      "Evaluation translation (('me gusta el pan con queso',) / Quesoyuq tanta gustan) : ('elio riasqay a llatehku<END>',)\n",
      "-------------------------------------------\n",
      "Iteration 1600 : 1.05033540725708\n",
      "Español: para mi no tiene precio ver como se le ilumina el rostro al hablar de lo que siente por jehova ”.\n",
      "quechua Translation: anchatama kusikuni jehova dios kuyasqanmanta kusisqallaña rimaptin ”, nispa.\n",
      "quechua Prediction: clchata   nasisuna kehova dios kayawqantanta wayisqanlaña kumarain k, nispa.\n",
      "Evaluation translation (('me gusta el pan con queso',) / Quesoyuq tanta gustan) : ('hiapaq huerqaymitan hirenasqay kachkanpa qa.<END>',)\n",
      "-------------------------------------------\n",
      "Iteration 2000 : 0.9979482293128967\n",
      "Español: dijo: “como el cuerpo sin espiritu esta muerto, asi tambien la fe sin obras esta muerta ”.\n",
      "quechua Translation: nirqataqmi: “cuerponchikpas mana samayninchik kaptinqa wañusqam kachkan, chaynam iñiyninchikpas wañusqa kachkan allin kaqkunata mana ruwaptinchikqa ”, nispa.\n",
      "quechua Prediction: cirqamaqmi  “cherponmhik is aana aasanaaykhik kawtinma miñuqqan kanhkan. chaymat kmiyninkhik aq hañucqankanhaan.”llin kaskunata ”ana kurasain.hak a.”, nispa.\n",
      "Evaluation translation (('me gusta el pan con queso',) / Quesoyuq tanta gustan) : ('illichkanpa qa pallapa llaku<END>',)\n",
      "-------------------------------------------\n",
      "Iteration 2400 : 1.0580612421035767\n",
      "Español: el simple hecho de saber que un ser amado se esta muriendo produce mucha angustia.\n",
      "quechua Translation: wañuy patanpiña ayllunchik tarikuptinqa llumpay llakisqam kanchik.\n",
      "quechua Prediction: cakukmkicanpi a klalunkhik karikuntinka plampay mlakikqan kanahak.\n",
      "Evaluation translation (('me gusta el pan con queso',) / Quesoyuq tanta gustan) : ('hia llaallpan kayqa hiraypi ru<END>',)\n",
      "-------------------------------------------\n",
      "Epoch 9\n",
      "Iteration 0 : 0.9980581998825073\n",
      "Español: y por ultimo dice que el pueblo de dios “escapara, todo el que se halle escrito en el libro ”.\n",
      "quechua Translation: ichaqa chaywanpas chay tiempopim llaqtamasikikuna librasqa kanqaku. libropi qillqasqa sutiyuqkunam lliw librakunqaku ’, nispa (dan.\n",
      "quechua Prediction: cchaqa ‘haynan as khaynpiempopi  klamtananinicunathlbroyqa kanaa u \n",
      "Evaluation translation (('me gusta el pan con queso',) / Quesoyuq tanta gustan) : ('hiapaq huernaspa qa hirku anananku<END>',)\n",
      "-------------------------------------------\n"
     ]
    }
   ],
   "source": [
    "transformer.train()\n",
    "\n",
    "transformer.to(device)\n",
    "total_loss = 0\n",
    "num_epochs = 20\n",
    "\n",
    "for epoch in range(num_epochs):\n",
    "    print(f\"Epoch {epoch}\")\n",
    "    iterator = iter(train_loader)\n",
    "    for batch_num, batch in enumerate(iterator):\n",
    "        transformer.train()\n",
    "        eng_batch, kn_batch = batch\n",
    "        encoder_self_attention_mask, decoder_self_attention_mask, decoder_cross_attention_mask = create_masks(eng_batch, kn_batch)\n",
    "        optim.zero_grad()\n",
    "        kn_predictions = transformer(eng_batch,\n",
    "                                     kn_batch,\n",
    "                                     encoder_self_attention_mask.to(device),\n",
    "                                     decoder_self_attention_mask.to(device),\n",
    "                                     decoder_cross_attention_mask.to(device),\n",
    "                                     enc_start_token=False,\n",
    "                                     enc_end_token=False,\n",
    "                                     dec_start_token=True,\n",
    "                                     dec_end_token=True)\n",
    "        labels = transformer.decoder.sentence_embedding.batch_tokenize(kn_batch, start_token=False, end_token=True)\n",
    "        loss = criterian(\n",
    "            kn_predictions.view(-1, kn_vocab_size).to(device),\n",
    "            labels.view(-1).to(device)\n",
    "        ).to(device)\n",
    "        valid_indicies = torch.where(labels.view(-1) == quechua_to_index[PADDING_TOKEN], False, True)\n",
    "        loss = loss.sum() / valid_indicies.sum()\n",
    "        loss.backward()\n",
    "        optim.step()\n",
    "        #train_losses.append(loss.item())\n",
    "        if batch_num % 400 == 0:\n",
    "            print(f\"Iteration {batch_num} : {loss.item()}\")\n",
    "            print(f\"Español: {eng_batch[0]}\")\n",
    "            print(f\"quechua Translation: {kn_batch[0]}\")\n",
    "            kn_sentence_predicted = torch.argmax(kn_predictions[0], axis=1)\n",
    "            predicted_sentence = \"\"\n",
    "            for idx in kn_sentence_predicted:\n",
    "              if idx == quechua_to_index[END_TOKEN]:\n",
    "                break\n",
    "              # print(idx.item())\n",
    "\n",
    "              predicted_sentence += index_to_quechua[idx.item()]\n",
    "\n",
    "              # if idx.item() in index_to_quechua:\n",
    "              #   predicted_sentence += index_to_quechua[idx.item()]\n",
    "              # else:\n",
    "              #   # You can choose to ignore the unknown token or replace it with a special token\n",
    "              #   predicted_sentence += \"<UNK>\" # Replace with unknown token placeholder\n",
    "              #   # Alternatively, you could skip this token:\n",
    "              #   # pass\n",
    "\n",
    "            print(f\"quechua Prediction: {predicted_sentence}\")\n",
    "\n",
    "            transformer.eval()\n",
    "            kn_sentence = (\"\",)\n",
    "            spa_sentence = (\"me gusta el pan con queso\",)\n",
    "            for word_counter in range(max_sequence_length):\n",
    "                encoder_self_attention_mask, decoder_self_attention_mask, decoder_cross_attention_mask= create_masks(spa_sentence, kn_sentence)\n",
    "                predictions = transformer(spa_sentence,\n",
    "                                          kn_sentence,\n",
    "                                          encoder_self_attention_mask.to(device),\n",
    "                                          decoder_self_attention_mask.to(device),\n",
    "                                          decoder_cross_attention_mask.to(device),\n",
    "                                          enc_start_token=False,\n",
    "                                          enc_end_token=False,\n",
    "                                          dec_start_token=True,\n",
    "                                          dec_end_token=False)\n",
    "                next_token_prob_distribution = predictions[0][word_counter] # not actual probs\n",
    "                next_token_index = torch.argmax(next_token_prob_distribution).item()\n",
    "                next_token = index_to_quechua[next_token_index]\n",
    "                kn_sentence = (kn_sentence[0] + next_token, )\n",
    "                if next_token == END_TOKEN:\n",
    "                  break\n",
    "\n",
    "            print(f\"Evaluation translation ({spa_sentence} / Quesoyuq tanta gustan) : {kn_sentence}\")\n",
    "            print(\"-------------------------------------------\")"
   ]
  },
  {
   "cell_type": "code",
   "execution_count": null,
   "metadata": {
    "id": "UyQuoaIyPoiq"
   },
   "outputs": [],
   "source": [
    "# Method 1: Save only the model state dict (recommended for most cases)\n",
    "torch.save(transformer.state_dict(), 'model_state3.pth')\n",
    "\n",
    "# Method 2: Save the entire model\n",
    "torch.save(transformer, 'entire_model3.pth')\n"
   ]
  },
  {
   "cell_type": "code",
   "execution_count": null,
   "metadata": {
    "colab": {
     "base_uri": "https://localhost:8080/"
    },
    "id": "cL2p3M0_kS8k",
    "outputId": "7d3599b4-a3a9-44a5-e5e9-a467ea126354"
   },
   "outputs": [
    {
     "name": "stdout",
     "output_type": "stream",
     "text": [
      "odict_keys(['encoder.sentence_embedding.embedding.weight', 'encoder.layers.0.attention.qkv_layer.weight', 'encoder.layers.0.attention.qkv_layer.bias', 'encoder.layers.0.attention.linear_layer.weight', 'encoder.layers.0.attention.linear_layer.bias', 'encoder.layers.0.norm1.gamma', 'encoder.layers.0.norm1.beta', 'encoder.layers.0.ffn.linear1.weight', 'encoder.layers.0.ffn.linear1.bias', 'encoder.layers.0.ffn.linear2.weight', 'encoder.layers.0.ffn.linear2.bias', 'encoder.layers.0.norm2.gamma', 'encoder.layers.0.norm2.beta', 'decoder.sentence_embedding.embedding.weight', 'decoder.layers.0.self_attention.qkv_layer.weight', 'decoder.layers.0.self_attention.qkv_layer.bias', 'decoder.layers.0.self_attention.linear_layer.weight', 'decoder.layers.0.self_attention.linear_layer.bias', 'decoder.layers.0.layer_norm1.gamma', 'decoder.layers.0.layer_norm1.beta', 'decoder.layers.0.encoder_decoder_attention.kv_layer.weight', 'decoder.layers.0.encoder_decoder_attention.kv_layer.bias', 'decoder.layers.0.encoder_decoder_attention.q_layer.weight', 'decoder.layers.0.encoder_decoder_attention.q_layer.bias', 'decoder.layers.0.encoder_decoder_attention.linear_layer.weight', 'decoder.layers.0.encoder_decoder_attention.linear_layer.bias', 'decoder.layers.0.layer_norm2.gamma', 'decoder.layers.0.layer_norm2.beta', 'decoder.layers.0.ffn.linear1.weight', 'decoder.layers.0.ffn.linear1.bias', 'decoder.layers.0.ffn.linear2.weight', 'decoder.layers.0.ffn.linear2.bias', 'decoder.layers.0.layer_norm3.gamma', 'decoder.layers.0.layer_norm3.beta', 'linear.weight', 'linear.bias'])\n"
     ]
    }
   ],
   "source": [
    "print(transformer.state_dict().keys())"
   ]
  },
  {
   "cell_type": "code",
   "execution_count": null,
   "metadata": {
    "id": "zGAWoVTAPrgJ"
   },
   "outputs": [],
   "source": [
    "transformer.eval()\n",
    "def translate(eng_sentence):\n",
    "  eng_sentence = (eng_sentence,)\n",
    "  kn_sentence = (\"\",)\n",
    "  for word_counter in range(max_sequence_length):\n",
    "    encoder_self_attention_mask, decoder_self_attention_mask, decoder_cross_attention_mask= create_masks(eng_sentence, kn_sentence)\n",
    "    predictions = transformer(eng_sentence,\n",
    "                              kn_sentence,\n",
    "                              encoder_self_attention_mask.to(device),\n",
    "                              decoder_self_attention_mask.to(device),\n",
    "                              decoder_cross_attention_mask.to(device),\n",
    "                              enc_start_token=False,\n",
    "                              enc_end_token=False,\n",
    "                              dec_start_token=True,\n",
    "                              dec_end_token=False)\n",
    "    next_token_prob_distribution = predictions[0][word_counter]\n",
    "    next_token_index = torch.argmax(next_token_prob_distribution).item()\n",
    "    next_token = index_to_quechua[next_token_index]\n",
    "    kn_sentence = (kn_sentence[0] + next_token, )\n",
    "    if next_token == END_TOKEN:\n",
    "      break\n",
    "  return kn_sentence[0]"
   ]
  },
  {
   "cell_type": "code",
   "execution_count": null,
   "metadata": {
    "colab": {
     "base_uri": "https://localhost:8080/"
    },
    "id": "TGkVQoLGjwD_",
    "outputId": "365578de-97f3-41ec-aed6-79eeda9ff3b8"
   },
   "outputs": [
    {
     "data": {
      "text/plain": [
       "Transformer(\n",
       "  (encoder): Encoder(\n",
       "    (sentence_embedding): SentenceEmbedding(\n",
       "      (embedding): Embedding(99, 512)\n",
       "      (position_encoder): PositionalEncoding()\n",
       "      (dropout): Dropout(p=0.1, inplace=False)\n",
       "    )\n",
       "    (layers): SequentialEncoder(\n",
       "      (0): EncoderLayer(\n",
       "        (attention): MultiHeadAttention(\n",
       "          (qkv_layer): Linear(in_features=512, out_features=1536, bias=True)\n",
       "          (linear_layer): Linear(in_features=512, out_features=512, bias=True)\n",
       "        )\n",
       "        (norm1): LayerNormalization()\n",
       "        (dropout1): Dropout(p=0.1, inplace=False)\n",
       "        (ffn): PositionwiseFeedForward(\n",
       "          (linear1): Linear(in_features=512, out_features=2048, bias=True)\n",
       "          (linear2): Linear(in_features=2048, out_features=512, bias=True)\n",
       "          (relu): ReLU()\n",
       "          (dropout): Dropout(p=0.1, inplace=False)\n",
       "        )\n",
       "        (norm2): LayerNormalization()\n",
       "        (dropout2): Dropout(p=0.1, inplace=False)\n",
       "      )\n",
       "    )\n",
       "  )\n",
       "  (decoder): Decoder(\n",
       "    (sentence_embedding): SentenceEmbedding(\n",
       "      (embedding): Embedding(99, 512)\n",
       "      (position_encoder): PositionalEncoding()\n",
       "      (dropout): Dropout(p=0.1, inplace=False)\n",
       "    )\n",
       "    (layers): SequentialDecoder(\n",
       "      (0): DecoderLayer(\n",
       "        (self_attention): MultiHeadAttention(\n",
       "          (qkv_layer): Linear(in_features=512, out_features=1536, bias=True)\n",
       "          (linear_layer): Linear(in_features=512, out_features=512, bias=True)\n",
       "        )\n",
       "        (layer_norm1): LayerNormalization()\n",
       "        (dropout1): Dropout(p=0.1, inplace=False)\n",
       "        (encoder_decoder_attention): MultiHeadCrossAttention(\n",
       "          (kv_layer): Linear(in_features=512, out_features=1024, bias=True)\n",
       "          (q_layer): Linear(in_features=512, out_features=512, bias=True)\n",
       "          (linear_layer): Linear(in_features=512, out_features=512, bias=True)\n",
       "        )\n",
       "        (layer_norm2): LayerNormalization()\n",
       "        (dropout2): Dropout(p=0.1, inplace=False)\n",
       "        (ffn): PositionwiseFeedForward(\n",
       "          (linear1): Linear(in_features=512, out_features=2048, bias=True)\n",
       "          (linear2): Linear(in_features=2048, out_features=512, bias=True)\n",
       "          (relu): ReLU()\n",
       "          (dropout): Dropout(p=0.1, inplace=False)\n",
       "        )\n",
       "        (layer_norm3): LayerNormalization()\n",
       "        (dropout3): Dropout(p=0.1, inplace=False)\n",
       "      )\n",
       "    )\n",
       "  )\n",
       "  (linear): Linear(in_features=512, out_features=59558, bias=True)\n",
       ")"
      ]
     },
     "execution_count": 56,
     "metadata": {},
     "output_type": "execute_result"
    }
   ],
   "source": [
    "transformer"
   ]
  },
  {
   "cell_type": "code",
   "execution_count": null,
   "metadata": {
    "colab": {
     "base_uri": "https://localhost:8080/"
    },
    "id": "EC7l0uBcLhJx",
    "outputId": "5f78b994-ff5f-4e93-be8a-494fcf71d3a3"
   },
   "outputs": [
    {
     "name": "stdout",
     "output_type": "stream",
     "text": [
      "kaytam willakunapaq<END>\n"
     ]
    }
   ],
   "source": [
    "translation = translate(\"quiero volar contigo\")\n",
    "print(translation)"
   ]
  },
  {
   "cell_type": "code",
   "execution_count": null,
   "metadata": {
    "id": "GAJ11qPh9Dwd"
   },
   "outputs": [],
   "source": []
  }
 ],
 "metadata": {
  "accelerator": "GPU",
  "colab": {
   "gpuType": "A100",
   "machine_shape": "hm",
   "provenance": []
  },
  "kernelspec": {
   "display_name": "translatepy",
   "language": "python",
   "name": "python3"
  },
  "language_info": {
   "codemirror_mode": {
    "name": "ipython",
    "version": 3
   },
   "file_extension": ".py",
   "mimetype": "text/x-python",
   "name": "python",
   "nbconvert_exporter": "python",
   "pygments_lexer": "ipython3",
   "version": "3.11.8"
  }
 },
 "nbformat": 4,
 "nbformat_minor": 0
}
