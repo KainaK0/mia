{
 "cells": [
  {
   "cell_type": "code",
   "execution_count": 1,
   "metadata": {},
   "outputs": [],
   "source": [
    "import torch\n",
    "\n",
    "# 1. Basic GPU memory clear\n",
    "torch.cuda.empty_cache()\n",
    "\n",
    "# 2. More complete cleanup\n",
    "def cleanup():\n",
    "    # Clear GPU cache\n",
    "    torch.cuda.empty_cache()\n",
    "    \n",
    "    # Delete model and variables\n",
    "    del model\n",
    "    del optimizer\n",
    "    del train_loader\n",
    "    del criterion\n",
    "    \n",
    "    # Force garbage collection\n",
    "    import gc\n",
    "    gc.collect()\n",
    "\n",
    "# 3. Check GPU memory usage\n",
    "def print_gpu_memory():\n",
    "    print(f\"Allocated: {torch.cuda.memory_allocated()/1e9:.2f}GB\")\n",
    "    print(f\"Cached: {torch.cuda.memory_reserved()/1e9:.2f}GB\")\n",
    "\n",
    "# 4. Complete cleanup function with memory info\n",
    "def cleanup_with_info():\n",
    "    print(\"Before cleanup:\")\n",
    "    print_gpu_memory()\n",
    "    \n",
    "    # Clear cache\n",
    "    torch.cuda.empty_cache()\n",
    "    \n",
    "    # Delete variables\n",
    "    for var in dir():\n",
    "        if var[0] != '_':\n",
    "            del globals()[var]\n",
    "    \n",
    "    # Garbage collection\n",
    "    gc.collect()\n",
    "    \n",
    "    print(\"\\nAfter cleanup:\")\n",
    "    print_gpu_memory()\n",
    "\n",
    "# 5. Reset GPU\n",
    "def reset_gpu():\n",
    "    torch.cuda.empty_cache()\n",
    "    torch.cuda.reset_peak_memory_stats()\n",
    "    torch.cuda.reset_accumulated_memory_stats()"
   ]
  },
  {
   "cell_type": "code",
   "execution_count": 2,
   "metadata": {},
   "outputs": [
    {
     "name": "stdout",
     "output_type": "stream",
     "text": [
      "Training completed\n",
      "Allocated: 0.00GB\n",
      "Cached: 0.00GB\n"
     ]
    },
    {
     "ename": "UnboundLocalError",
     "evalue": "local variable 'model' referenced before assignment",
     "output_type": "error",
     "traceback": [
      "\u001b[1;31m---------------------------------------------------------------------------\u001b[0m",
      "\u001b[1;31mUnboundLocalError\u001b[0m                         Traceback (most recent call last)",
      "Cell \u001b[1;32mIn[2], line 6\u001b[0m\n\u001b[0;32m      3\u001b[0m print_gpu_memory()  \u001b[38;5;66;03m# Check memory usage\u001b[39;00m\n\u001b[0;32m      5\u001b[0m \u001b[38;5;66;03m# Cleanup\u001b[39;00m\n\u001b[1;32m----> 6\u001b[0m \u001b[43mcleanup\u001b[49m\u001b[43m(\u001b[49m\u001b[43m)\u001b[49m  \u001b[38;5;66;03m# or cleanup_with_info()\u001b[39;00m\n\u001b[0;32m      8\u001b[0m \u001b[38;5;66;03m# Verify memory is cleared\u001b[39;00m\n\u001b[0;32m      9\u001b[0m print_gpu_memory()\n",
      "Cell \u001b[1;32mIn[1], line 12\u001b[0m, in \u001b[0;36mcleanup\u001b[1;34m()\u001b[0m\n\u001b[0;32m      9\u001b[0m torch\u001b[38;5;241m.\u001b[39mcuda\u001b[38;5;241m.\u001b[39mempty_cache()\n\u001b[0;32m     11\u001b[0m \u001b[38;5;66;03m# Delete model and variables\u001b[39;00m\n\u001b[1;32m---> 12\u001b[0m \u001b[38;5;28;01mdel\u001b[39;00m model\n\u001b[0;32m     13\u001b[0m \u001b[38;5;28;01mdel\u001b[39;00m optimizer\n\u001b[0;32m     14\u001b[0m \u001b[38;5;28;01mdel\u001b[39;00m train_loader\n",
      "\u001b[1;31mUnboundLocalError\u001b[0m: local variable 'model' referenced before assignment"
     ]
    }
   ],
   "source": [
    "# After training\n",
    "print(\"Training completed\")\n",
    "print_gpu_memory()  # Check memory usage\n",
    "\n",
    "# Cleanup\n",
    "cleanup()  # or cleanup_with_info()\n",
    "\n",
    "# Verify memory is cleared\n",
    "print_gpu_memory()\n",
    "\n",
    "# If you need to reset device\n",
    "device = torch.device('cuda' if torch.cuda.is_available() else 'cpu')\n",
    "torch.cuda.empty_cache()"
   ]
  }
 ],
 "metadata": {
  "kernelspec": {
   "display_name": "ferpy",
   "language": "python",
   "name": "python3"
  },
  "language_info": {
   "codemirror_mode": {
    "name": "ipython",
    "version": 3
   },
   "file_extension": ".py",
   "mimetype": "text/x-python",
   "name": "python",
   "nbconvert_exporter": "python",
   "pygments_lexer": "ipython3",
   "version": "3.10.11"
  }
 },
 "nbformat": 4,
 "nbformat_minor": 2
}
