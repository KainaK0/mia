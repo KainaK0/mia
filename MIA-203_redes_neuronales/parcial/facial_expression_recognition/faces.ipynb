{
 "cells": [
  {
   "cell_type": "code",
   "execution_count": 3,
   "metadata": {},
   "outputs": [
    {
     "name": "stdout",
     "output_type": "stream",
     "text": [
      "Path to dataset files: C:\\Users\\kainak0\\.cache\\kagglehub\\datasets\\shahzadabbas\\expression-in-the-wild-expw-dataset\\versions\\1\n"
     ]
    }
   ],
   "source": [
    "import kagglehub\n",
    "\n",
    "# Download latest version\n",
    "path_huge = kagglehub.dataset_download(\"shahzadabbas/expression-in-the-wild-expw-dataset\")\n",
    "\n",
    "print(\"Path to dataset files:\", path_huge)"
   ]
  },
  {
   "cell_type": "code",
   "execution_count": null,
   "metadata": {},
   "outputs": [
    {
     "name": "stdout",
     "output_type": "stream",
     "text": [
      "Downloading from https://www.kaggle.com/api/v1/datasets/download/jonathanoheix/face-expression-recognition-dataset?dataset_version_number=1...\n"
     ]
    },
    {
     "name": "stderr",
     "output_type": "stream",
     "text": [
      " 95%|█████████▍| 114M/121M [00:08<00:00, 12.7MB/s] "
     ]
    }
   ],
   "source": [
    "import kagglehub\n",
    "\n",
    "# Download latest version\n",
    "path_small = kagglehub.dataset_download(\"jonathanoheix/face-expression-recognition-dataset\")\n",
    "\n",
    "print(\"Path to dataset files:\", path_small)"
   ]
  }
 ],
 "metadata": {
  "kernelspec": {
   "display_name": "ferpy",
   "language": "python",
   "name": "python3"
  },
  "language_info": {
   "codemirror_mode": {
    "name": "ipython",
    "version": 3
   },
   "file_extension": ".py",
   "mimetype": "text/x-python",
   "name": "python",
   "nbconvert_exporter": "python",
   "pygments_lexer": "ipython3",
   "version": "3.10.11"
  }
 },
 "nbformat": 4,
 "nbformat_minor": 2
}
